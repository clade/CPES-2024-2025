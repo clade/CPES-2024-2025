{
 "cells": [
  {
   "cell_type": "markdown",
   "id": "b4f15c55",
   "metadata": {},
   "source": [
    "# Fonctions\n",
    "\n",
    "## Principes\n",
    "\n",
    "Utilisation d'une fonctions : \n",
    "* On passe zéro, un ou plusieurs arguments\n",
    "* La fonction effectue une tâche\n",
    "* La fonction renvoie quelque chose ou rien"
   ]
  },
  {
   "cell_type": "code",
   "execution_count": 1,
   "id": "f4bdb959",
   "metadata": {},
   "outputs": [
    {
     "data": {
      "text/plain": [
       "3"
      ]
     },
     "execution_count": 1,
     "metadata": {},
     "output_type": "execute_result"
    }
   ],
   "source": [
    "l = [1, 4, 5]\n",
    "len(l)"
   ]
  },
  {
   "cell_type": "code",
   "execution_count": 2,
   "id": "bc475322",
   "metadata": {},
   "outputs": [
    {
     "data": {
      "text/plain": [
       "3"
      ]
     },
     "execution_count": 2,
     "metadata": {},
     "output_type": "execute_result"
    }
   ],
   "source": [
    "l.__len__()"
   ]
  },
  {
   "cell_type": "code",
   "execution_count": 3,
   "id": "a2d974f4",
   "metadata": {},
   "outputs": [],
   "source": [
    "l.append(6)"
   ]
  },
  {
   "cell_type": "code",
   "execution_count": 4,
   "id": "0fdd041d",
   "metadata": {},
   "outputs": [
    {
     "ename": "NameError",
     "evalue": "name 'append' is not defined",
     "output_type": "error",
     "traceback": [
      "\u001b[0;31m---------------------------------------------------------------------------\u001b[0m",
      "\u001b[0;31mNameError\u001b[0m                                 Traceback (most recent call last)",
      "Cell \u001b[0;32mIn[4], line 1\u001b[0m\n\u001b[0;32m----> 1\u001b[0m \u001b[43mappend\u001b[49m(l, \u001b[38;5;241m6\u001b[39m)\n",
      "\u001b[0;31mNameError\u001b[0m: name 'append' is not defined"
     ]
    }
   ],
   "source": [
    "append(l, 6)"
   ]
  },
  {
   "cell_type": "markdown",
   "id": "674e7ca1",
   "metadata": {},
   "source": [
    "## Définition"
   ]
  },
  {
   "cell_type": "code",
   "execution_count": 5,
   "id": "fa9c3ea2",
   "metadata": {},
   "outputs": [
    {
     "data": {
      "text/plain": [
       "9"
      ]
     },
     "execution_count": 5,
     "metadata": {},
     "output_type": "execute_result"
    }
   ],
   "source": [
    "def carre(x):\n",
    "    return x**2\n",
    "\n",
    "carre(3)"
   ]
  },
  {
   "cell_type": "code",
   "execution_count": 6,
   "id": "b38f624c",
   "metadata": {},
   "outputs": [
    {
     "name": "stdout",
     "output_type": "stream",
     "text": [
      "Bonjour\n"
     ]
    }
   ],
   "source": [
    "def hello():\n",
    "    print('Bonjour')\n",
    "    \n",
    "hello()"
   ]
  },
  {
   "cell_type": "code",
   "execution_count": 8,
   "id": "03bc8ca7",
   "metadata": {},
   "outputs": [
    {
     "name": "stdout",
     "output_type": "stream",
     "text": [
      "Bonjour\n",
      "None\n"
     ]
    }
   ],
   "source": [
    "a = hello()\n",
    "print(a)"
   ]
  },
  {
   "cell_type": "code",
   "execution_count": 9,
   "id": "ea745e5a",
   "metadata": {},
   "outputs": [
    {
     "ename": "TypeError",
     "evalue": "unsupported operand type(s) for *: 'int' and 'NoneType'",
     "output_type": "error",
     "traceback": [
      "\u001b[0;31m---------------------------------------------------------------------------\u001b[0m",
      "\u001b[0;31mTypeError\u001b[0m                                 Traceback (most recent call last)",
      "Cell \u001b[0;32mIn[9], line 5\u001b[0m\n\u001b[1;32m      2\u001b[0m     resultat \u001b[38;5;241m=\u001b[39m x\u001b[38;5;241m*\u001b[39my\n\u001b[1;32m      4\u001b[0m a \u001b[38;5;241m=\u001b[39m produit(\u001b[38;5;241m2\u001b[39m, \u001b[38;5;241m5\u001b[39m)\n\u001b[0;32m----> 5\u001b[0m \u001b[38;5;28mprint\u001b[39m(\u001b[38;5;241;43m2\u001b[39;49m\u001b[38;5;241;43m*\u001b[39;49m\u001b[43ma\u001b[49m)\n",
      "\u001b[0;31mTypeError\u001b[0m: unsupported operand type(s) for *: 'int' and 'NoneType'"
     ]
    }
   ],
   "source": [
    "def produit(x, y):\n",
    "    resultat = x*y\n",
    "\n",
    "a = produit(2, 5)\n",
    "print(2*a)"
   ]
  },
  {
   "cell_type": "code",
   "execution_count": 11,
   "id": "16313077",
   "metadata": {},
   "outputs": [
    {
     "name": "stdout",
     "output_type": "stream",
     "text": [
      "20\n"
     ]
    }
   ],
   "source": [
    "def produit(x, y):\n",
    "    resultat = x*y\n",
    "    return resultat\n",
    "\n",
    "a = produit(2, 5)\n",
    "print(2*a)"
   ]
  },
  {
   "cell_type": "code",
   "execution_count": null,
   "id": "1e07563f",
   "metadata": {},
   "outputs": [],
   "source": []
  },
  {
   "cell_type": "markdown",
   "id": "16eeb149",
   "metadata": {},
   "source": [
    "## Passage d’arguments"
   ]
  },
  {
   "cell_type": "code",
   "execution_count": 12,
   "id": "786a3ad7",
   "metadata": {},
   "outputs": [
    {
     "data": {
      "text/plain": [
       "'BonjourBonjour'"
      ]
     },
     "execution_count": 12,
     "metadata": {},
     "output_type": "execute_result"
    }
   ],
   "source": [
    "produit(2, \"Bonjour\")"
   ]
  },
  {
   "cell_type": "code",
   "execution_count": 13,
   "id": "cc624da9",
   "metadata": {},
   "outputs": [
    {
     "data": {
      "text/plain": [
       "18.4"
      ]
     },
     "execution_count": 13,
     "metadata": {},
     "output_type": "execute_result"
    }
   ],
   "source": [
    "produit(2.3, 8)"
   ]
  },
  {
   "cell_type": "code",
   "execution_count": 44,
   "id": "fa40107e",
   "metadata": {
    "scrolled": true
   },
   "outputs": [
    {
     "ename": "TypeError",
     "evalue": "produit() takes 2 positional arguments but 3 were given",
     "output_type": "error",
     "traceback": [
      "\u001b[0;31m---------------------------------------------------------------------------\u001b[0m",
      "\u001b[0;31mTypeError\u001b[0m                                 Traceback (most recent call last)",
      "Cell \u001b[0;32mIn[44], line 1\u001b[0m\n\u001b[0;32m----> 1\u001b[0m \u001b[43mproduit\u001b[49m\u001b[43m(\u001b[49m\u001b[38;5;241;43m1\u001b[39;49m\u001b[43m,\u001b[49m\u001b[43m \u001b[49m\u001b[38;5;241;43m3\u001b[39;49m\u001b[43m,\u001b[49m\u001b[43m \u001b[49m\u001b[38;5;241;43m6\u001b[39;49m\u001b[43m)\u001b[49m\n",
      "\u001b[0;31mTypeError\u001b[0m: produit() takes 2 positional arguments but 3 were given"
     ]
    }
   ],
   "source": [
    "produit(1, 3, 6)"
   ]
  },
  {
   "cell_type": "code",
   "execution_count": 45,
   "id": "cbd8a59d",
   "metadata": {},
   "outputs": [
    {
     "ename": "TypeError",
     "evalue": "produit() missing 1 required positional argument: 'y'",
     "output_type": "error",
     "traceback": [
      "\u001b[0;31m---------------------------------------------------------------------------\u001b[0m",
      "\u001b[0;31mTypeError\u001b[0m                                 Traceback (most recent call last)",
      "Cell \u001b[0;32mIn[45], line 1\u001b[0m\n\u001b[0;32m----> 1\u001b[0m \u001b[43mproduit\u001b[49m\u001b[43m(\u001b[49m\u001b[38;5;241;43m1\u001b[39;49m\u001b[43m)\u001b[49m\n",
      "\u001b[0;31mTypeError\u001b[0m: produit() missing 1 required positional argument: 'y'"
     ]
    }
   ],
   "source": [
    "produit(1)"
   ]
  },
  {
   "cell_type": "markdown",
   "id": "359017ce",
   "metadata": {},
   "source": [
    "## Renvoi de résultats\n",
    "Affectation multiple"
   ]
  },
  {
   "cell_type": "code",
   "execution_count": 21,
   "id": "5b22d974",
   "metadata": {},
   "outputs": [
    {
     "name": "stdout",
     "output_type": "stream",
     "text": [
      "16 64\n"
     ]
    }
   ],
   "source": [
    "def carre_cube(x):\n",
    "    return x**2, x**3\n",
    "\n",
    "a, b = carre_cube(4)\n",
    "print(a, b)"
   ]
  },
  {
   "cell_type": "code",
   "execution_count": 24,
   "id": "997d9125",
   "metadata": {},
   "outputs": [
    {
     "data": {
      "text/plain": [
       "True"
      ]
     },
     "execution_count": 24,
     "metadata": {},
     "output_type": "execute_result"
    }
   ],
   "source": [
    "def est_pair(n):\n",
    "    if n%2==0:\n",
    "        return True\n",
    "    return False\n",
    "    \n",
    "est_pair(10)"
   ]
  },
  {
   "cell_type": "markdown",
   "id": "3b4152df",
   "metadata": {},
   "source": [
    "## Arguments optionnels"
   ]
  },
  {
   "cell_type": "code",
   "execution_count": 31,
   "id": "64523f99",
   "metadata": {},
   "outputs": [
    {
     "name": "stdout",
     "output_type": "stream",
     "text": [
      "Bonjour\n",
      "Bonjour\n",
      "Bonjour\n",
      "Bonjour\n",
      "Bonjour\n",
      "Bonjour\n",
      "Hallo\n",
      "Hallo\n"
     ]
    }
   ],
   "source": [
    "hello_msg = {'fr':'Bonjour', 'en':'Hello', 'de':'Hallo'}\n",
    "\n",
    "def hello(n=1, lang=\"fr\"):\n",
    "    for i in range(n):\n",
    "        print(hello_msg[lang])\n",
    "    \n",
    "hello()\n",
    "hello(5)\n",
    "hello(2, 'de')"
   ]
  },
  {
   "cell_type": "code",
   "execution_count": 38,
   "id": "9ed2de17",
   "metadata": {},
   "outputs": [
    {
     "data": {
      "text/plain": [
       "84"
      ]
     },
     "execution_count": 38,
     "metadata": {},
     "output_type": "execute_result"
    }
   ],
   "source": [
    "def f(a, b, c=2, d=5):\n",
    "    return ((a*b +c)*d)\n",
    "\n",
    "f(2, 5)\n",
    "f(2, 5, 6)\n",
    "f(2, 5, 2, 7)"
   ]
  },
  {
   "cell_type": "code",
   "execution_count": null,
   "id": "c6f6837a",
   "metadata": {},
   "outputs": [],
   "source": []
  },
  {
   "cell_type": "markdown",
   "id": "af925334",
   "metadata": {},
   "source": [
    "## Arguments positionnels et arguments par mot-clé"
   ]
  },
  {
   "cell_type": "code",
   "execution_count": 41,
   "id": "ac6d9bab",
   "metadata": {},
   "outputs": [
    {
     "data": {
      "text/plain": [
       "0"
      ]
     },
     "execution_count": 41,
     "metadata": {},
     "output_type": "execute_result"
    }
   ],
   "source": [
    "f(2, 5, d=0)"
   ]
  },
  {
   "cell_type": "code",
   "execution_count": 42,
   "id": "bb601cbb",
   "metadata": {
    "scrolled": true
   },
   "outputs": [
    {
     "ename": "TypeError",
     "evalue": "f() got an unexpected keyword argument 'e'",
     "output_type": "error",
     "traceback": [
      "\u001b[0;31m---------------------------------------------------------------------------\u001b[0m",
      "\u001b[0;31mTypeError\u001b[0m                                 Traceback (most recent call last)",
      "Cell \u001b[0;32mIn[42], line 1\u001b[0m\n\u001b[0;32m----> 1\u001b[0m \u001b[43mf\u001b[49m\u001b[43m(\u001b[49m\u001b[38;5;241;43m2\u001b[39;49m\u001b[43m,\u001b[49m\u001b[43m \u001b[49m\u001b[38;5;241;43m5\u001b[39;49m\u001b[43m,\u001b[49m\u001b[43m \u001b[49m\u001b[43md\u001b[49m\u001b[38;5;241;43m=\u001b[39;49m\u001b[38;5;241;43m0\u001b[39;49m\u001b[43m,\u001b[49m\u001b[43m \u001b[49m\u001b[43me\u001b[49m\u001b[38;5;241;43m=\u001b[39;49m\u001b[38;5;241;43m4\u001b[39;49m\u001b[43m)\u001b[49m\n",
      "\u001b[0;31mTypeError\u001b[0m: f() got an unexpected keyword argument 'e'"
     ]
    }
   ],
   "source": [
    "f(2, 5, d=0, e=4)"
   ]
  },
  {
   "cell_type": "code",
   "execution_count": 43,
   "id": "6c936983",
   "metadata": {},
   "outputs": [
    {
     "data": {
      "text/plain": [
       "24"
      ]
     },
     "execution_count": 43,
     "metadata": {},
     "output_type": "execute_result"
    }
   ],
   "source": [
    "f(a=2, b=5, d=2)"
   ]
  },
  {
   "cell_type": "code",
   "execution_count": 46,
   "id": "60a5c4c6",
   "metadata": {},
   "outputs": [
    {
     "data": {
      "text/plain": [
       "14"
      ]
     },
     "execution_count": 46,
     "metadata": {},
     "output_type": "execute_result"
    }
   ],
   "source": [
    "f(b=5, d=2, a=1)"
   ]
  },
  {
   "cell_type": "code",
   "execution_count": 47,
   "id": "b95d86b0",
   "metadata": {},
   "outputs": [
    {
     "name": "stdout",
     "output_type": "stream",
     "text": [
      "Hallo\n"
     ]
    }
   ],
   "source": [
    "hello(lang='de')"
   ]
  },
  {
   "cell_type": "code",
   "execution_count": 52,
   "id": "9d9dbf86",
   "metadata": {},
   "outputs": [],
   "source": [
    "d = {\"a\":2}\n",
    "e = d.get(\"b\", 0)"
   ]
  },
  {
   "cell_type": "code",
   "execution_count": 56,
   "id": "89676347",
   "metadata": {},
   "outputs": [
    {
     "name": "stdout",
     "output_type": "stream",
     "text": [
      "Bonjour---Bonjour---"
     ]
    }
   ],
   "source": [
    "print('Bonjour', end=\"---\")\n",
    "print('Bonjour', end=\"---\")"
   ]
  },
  {
   "cell_type": "markdown",
   "id": "4347df29",
   "metadata": {},
   "source": [
    "## Variables locales et variables globales\n",
    "\n",
    "http://www.pythontutor.com"
   ]
  },
  {
   "cell_type": "code",
   "execution_count": null,
   "id": "83e1108d",
   "metadata": {},
   "outputs": [],
   "source": [
    "# Définition d'une fonction carre().\n",
    "def carre(x):\n",
    "    y = x**2\n",
    "    return y\n",
    "# Programme principal.\n",
    "var = 5\n",
    "resultat = carre(var)\n",
    "print(resultat)"
   ]
  },
  {
   "cell_type": "code",
   "execution_count": 58,
   "id": "c8e16ae3",
   "metadata": {},
   "outputs": [
    {
     "data": {
      "text/plain": [
       "8"
      ]
     },
     "execution_count": 58,
     "metadata": {},
     "output_type": "execute_result"
    }
   ],
   "source": [
    "def f(x, y):\n",
    "    return x**y\n",
    "\n",
    "x = 3\n",
    "y = 2\n",
    "f(y, x)"
   ]
  },
  {
   "cell_type": "markdown",
   "id": "46d275b6",
   "metadata": {},
   "source": [
    "## Principe DRY\n",
    "Don’t Repeat Yourself"
   ]
  },
  {
   "cell_type": "code",
   "execution_count": 69,
   "id": "74dee9d4",
   "metadata": {},
   "outputs": [
    {
     "name": "stdout",
     "output_type": "stream",
     "text": [
      "54.449999999999996\n"
     ]
    }
   ],
   "source": [
    "def conversion_vers_TTC(prix):\n",
    "    return prix*1.21\n",
    "\n",
    "prix_HT = 45\n",
    "print(conversion_vers_TTC(prix_HT))"
   ]
  },
  {
   "cell_type": "code",
   "execution_count": 70,
   "id": "57916d1b",
   "metadata": {},
   "outputs": [
    {
     "name": "stdout",
     "output_type": "stream",
     "text": [
      "84.7\n"
     ]
    }
   ],
   "source": [
    "prix_HT = 70\n",
    "print(conversion_vers_TTC(prix_HT))"
   ]
  },
  {
   "cell_type": "code",
   "execution_count": 71,
   "id": "94adecee",
   "metadata": {},
   "outputs": [
    {
     "name": "stdout",
     "output_type": "stream",
     "text": [
      "43.56\n"
     ]
    }
   ],
   "source": [
    "prix_HT = 36\n",
    "print(conversion_vers_TTC(prix_HT))"
   ]
  },
  {
   "cell_type": "code",
   "execution_count": null,
   "id": "9d47c28a",
   "metadata": {},
   "outputs": [],
   "source": []
  }
 ],
 "metadata": {
  "kernelspec": {
   "display_name": "Odeon 3.10",
   "language": "python",
   "name": "odeon310"
  },
  "language_info": {
   "codemirror_mode": {
    "name": "ipython",
    "version": 3
   },
   "file_extension": ".py",
   "mimetype": "text/x-python",
   "name": "python",
   "nbconvert_exporter": "python",
   "pygments_lexer": "ipython3",
   "version": "3.10.12"
  },
  "varInspector": {
   "cols": {
    "lenName": 16,
    "lenType": 16,
    "lenVar": 40
   },
   "kernels_config": {
    "python": {
     "delete_cmd_postfix": "",
     "delete_cmd_prefix": "del ",
     "library": "var_list.py",
     "varRefreshCmd": "print(var_dic_list())"
    },
    "r": {
     "delete_cmd_postfix": ") ",
     "delete_cmd_prefix": "rm(",
     "library": "var_list.r",
     "varRefreshCmd": "cat(var_dic_list()) "
    }
   },
   "types_to_exclude": [
    "module",
    "function",
    "builtin_function_or_method",
    "instance",
    "_Feature"
   ],
   "window_display": false
  }
 },
 "nbformat": 4,
 "nbformat_minor": 5
}
