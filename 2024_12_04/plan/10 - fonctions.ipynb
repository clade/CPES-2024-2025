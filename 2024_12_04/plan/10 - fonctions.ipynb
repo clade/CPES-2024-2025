{
 "cells": [
  {
   "cell_type": "markdown",
   "id": "b4f15c55",
   "metadata": {},
   "source": [
    "# Fonctions\n",
    "\n",
    "## Principes\n",
    "\n",
    "Utilisation d'une fonctions : \n",
    "* On passe zéro, un ou plusieurs arguments\n",
    "* La fonction effectue une tâche\n",
    "* La fonction renvoie quelque chose ou rien"
   ]
  },
  {
   "cell_type": "code",
   "execution_count": null,
   "id": "f4bdb959",
   "metadata": {},
   "outputs": [],
   "source": []
  },
  {
   "cell_type": "markdown",
   "id": "674e7ca1",
   "metadata": {},
   "source": [
    "## Définition"
   ]
  },
  {
   "cell_type": "code",
   "execution_count": null,
   "id": "fa9c3ea2",
   "metadata": {},
   "outputs": [],
   "source": []
  },
  {
   "cell_type": "code",
   "execution_count": null,
   "id": "b38f624c",
   "metadata": {},
   "outputs": [],
   "source": []
  },
  {
   "cell_type": "markdown",
   "id": "16eeb149",
   "metadata": {},
   "source": [
    "## Passage d’arguments"
   ]
  },
  {
   "cell_type": "code",
   "execution_count": null,
   "id": "786a3ad7",
   "metadata": {},
   "outputs": [],
   "source": []
  },
  {
   "cell_type": "code",
   "execution_count": null,
   "id": "cc624da9",
   "metadata": {},
   "outputs": [],
   "source": []
  },
  {
   "cell_type": "markdown",
   "id": "359017ce",
   "metadata": {},
   "source": [
    "## Renvoi de résultats"
   ]
  },
  {
   "cell_type": "code",
   "execution_count": null,
   "id": "5b22d974",
   "metadata": {},
   "outputs": [],
   "source": []
  },
  {
   "cell_type": "markdown",
   "id": "3b4152df",
   "metadata": {},
   "source": [
    "## Arguments optionnels"
   ]
  },
  {
   "cell_type": "code",
   "execution_count": null,
   "id": "64523f99",
   "metadata": {},
   "outputs": [],
   "source": []
  },
  {
   "cell_type": "code",
   "execution_count": null,
   "id": "9ed2de17",
   "metadata": {},
   "outputs": [],
   "source": []
  },
  {
   "cell_type": "markdown",
   "id": "af925334",
   "metadata": {},
   "source": [
    "## Arguments positionnels et arguments par mot-clé"
   ]
  },
  {
   "cell_type": "code",
   "execution_count": null,
   "id": "ac6d9bab",
   "metadata": {},
   "outputs": [],
   "source": []
  },
  {
   "cell_type": "markdown",
   "id": "4347df29",
   "metadata": {},
   "source": [
    "## Variables locales et variables globales\n",
    "\n",
    "http://www.pythontutor.com"
   ]
  },
  {
   "cell_type": "code",
   "execution_count": null,
   "id": "83e1108d",
   "metadata": {},
   "outputs": [],
   "source": [
    "# Définition d'une fonction carre().\n",
    "def carre(x):\n",
    "    y = x**2\n",
    "    return y\n",
    "# Programme principal.\n",
    "var = 5\n",
    "resultat = carre(var)\n",
    "print(resultat)"
   ]
  },
  {
   "cell_type": "code",
   "execution_count": null,
   "id": "c8e16ae3",
   "metadata": {},
   "outputs": [],
   "source": []
  },
  {
   "cell_type": "markdown",
   "id": "46d275b6",
   "metadata": {},
   "source": [
    "## Principe DRY"
   ]
  },
  {
   "cell_type": "code",
   "execution_count": null,
   "id": "74dee9d4",
   "metadata": {},
   "outputs": [],
   "source": []
  }
 ],
 "metadata": {
  "kernelspec": {
   "display_name": "Odeon 3.10",
   "language": "python",
   "name": "odeon310"
  },
  "language_info": {
   "codemirror_mode": {
    "name": "ipython",
    "version": 3
   },
   "file_extension": ".py",
   "mimetype": "text/x-python",
   "name": "python",
   "nbconvert_exporter": "python",
   "pygments_lexer": "ipython3",
   "version": "3.10.12"
  },
  "varInspector": {
   "cols": {
    "lenName": 16,
    "lenType": 16,
    "lenVar": 40
   },
   "kernels_config": {
    "python": {
     "delete_cmd_postfix": "",
     "delete_cmd_prefix": "del ",
     "library": "var_list.py",
     "varRefreshCmd": "print(var_dic_list())"
    },
    "r": {
     "delete_cmd_postfix": ") ",
     "delete_cmd_prefix": "rm(",
     "library": "var_list.r",
     "varRefreshCmd": "cat(var_dic_list()) "
    }
   },
   "types_to_exclude": [
    "module",
    "function",
    "builtin_function_or_method",
    "instance",
    "_Feature"
   ],
   "window_display": false
  }
 },
 "nbformat": 4,
 "nbformat_minor": 5
}
