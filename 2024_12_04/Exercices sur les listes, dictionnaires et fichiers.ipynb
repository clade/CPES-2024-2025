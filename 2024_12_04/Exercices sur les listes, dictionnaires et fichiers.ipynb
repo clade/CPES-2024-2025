{
 "cells": [
  {
   "cell_type": "markdown",
   "id": "d3e1be94",
   "metadata": {},
   "source": [
    "# Manipulation de listes\n",
    "\n",
    "1. Créer une liste nomée ``nombres`` contenant les entiers de 0 à 9 inclus\n",
    "\n",
    "2. Créer une liste nomée ``racines_nombres`` contenant la racine carré des éléments de ``nombres``\n",
    "\n",
    "3. Créer une liste nomée ``nombres_pairs`` contenant tous les nombres pairs de la listes ``nombres``\n",
    "\n",
    "4. Vérifier que l'on a bien $y=x^2$ en prenant a fur et à mesure $y$ dans ``nombres`` et $x$ dans ``racines_nombres``"
   ]
  },
  {
   "cell_type": "code",
   "execution_count": 1,
   "id": "ac548597",
   "metadata": {},
   "outputs": [
    {
     "name": "stdout",
     "output_type": "stream",
     "text": [
      "[0, 2, 4, 6, 8]\n",
      "True\n",
      "True\n",
      "True\n",
      "True\n",
      "True\n",
      "True\n",
      "True\n",
      "True\n",
      "True\n",
      "True\n"
     ]
    }
   ],
   "source": [
    "from math import sqrt, isclose\n",
    "nombres = [0, 1, 2, 3, 4, 5, 6, 7, 8, 9]\n",
    "nombres = list(range(10))\n",
    "\n",
    "racines_nombres = [sqrt(i) for i in nombres]\n",
    "racines_nombres\n",
    "\n",
    "nombres_pairs = []\n",
    "for i in nombres:\n",
    "    if i%2==0:\n",
    "        nombres_pairs.append(i)\n",
    "        \n",
    "print(nombres_pairs)\n",
    "\n",
    "for i in range(len(nombres)):\n",
    "    if isclose(nombres[i], racines_nombres[i]**2):\n",
    "        print(True)\n",
    "    else:\n",
    "        print(False)"
   ]
  },
  {
   "cell_type": "markdown",
   "id": "bf83c877",
   "metadata": {},
   "source": [
    "# Annuaire\n",
    "\n",
    "Nous allons créer un petit dictionnaire qui contient des informations sur un étudiant. \n",
    "\n",
    "1. Créer un dictionnaire ``etudiant`` contenant les clés et valeurs suivantes :\n",
    "   - 'nom': 'Jean Dupont'\n",
    "   - 'âge': 20\n",
    "   - 'filière': 'Informatique'\n",
    "\n",
    "2. Modifier l'age pour qu'il soit égal à 21\n",
    "\n",
    "3. Afficher le genre de l'étudiant si le dictionnaire possède une telle clé sinon afficher un message inquant que l'on ne connait pas son genre."
   ]
  },
  {
   "cell_type": "code",
   "execution_count": 2,
   "id": "f20adefc",
   "metadata": {},
   "outputs": [
    {
     "name": "stdout",
     "output_type": "stream",
     "text": [
      "Pas de clé genre\n"
     ]
    },
    {
     "data": {
      "text/plain": [
       "'Genre non défini'"
      ]
     },
     "execution_count": 2,
     "metadata": {},
     "output_type": "execute_result"
    }
   ],
   "source": [
    "etudiant = {'nom':'Jean Dupont', 'age':20, 'filiere':'Informatique'}\n",
    "\n",
    "etudiant['age'] = 21\n",
    "\n",
    "def avec_cle_genre(etudiant):\n",
    "    for key in etudiant:\n",
    "        if key=='genre':\n",
    "            return True\n",
    "    return False\n",
    "\n",
    "avec_cle_genre(etudiant)\n",
    "\n",
    "if 'genre' in etudiant:\n",
    "    print(etudiant['genre'])\n",
    "else:\n",
    "    print('Pas de clé genre')\n",
    "    \n",
    "etudiant.get('genre', 'Genre non défini')\n"
   ]
  },
  {
   "cell_type": "markdown",
   "id": "f2645f15",
   "metadata": {},
   "source": [
    "# Moyennes des notes\n",
    "Soit le dictionnaire suivant donnant les notes d’un étudiant. Calculez la moyenne de ses notes de deux manières différentes. Calculez à nouveau la moyenne sans la note de biologie.\n",
    "\n",
    "\n"
   ]
  },
  {
   "cell_type": "code",
   "execution_count": 3,
   "id": "e6328e28",
   "metadata": {
    "tags": [
     "keep"
    ]
   },
   "outputs": [],
   "source": [
    "dico_notes = {\n",
    "\"math\": 14, \"programmation\": 12,\n",
    "\"anglais\": 16, \"biologie\": 10,\n",
    "\"sport\": 19\n",
    "}"
   ]
  },
  {
   "cell_type": "code",
   "execution_count": 4,
   "id": "17941975",
   "metadata": {},
   "outputs": [
    {
     "name": "stdout",
     "output_type": "stream",
     "text": [
      "14.2\n"
     ]
    }
   ],
   "source": [
    "liste_notes = list(dico_notes.values())\n",
    "moyenne = sum(liste_notes)/len(liste_notes)\n",
    "print(moyenne)"
   ]
  },
  {
   "cell_type": "code",
   "execution_count": 5,
   "id": "8a2649a7",
   "metadata": {},
   "outputs": [
    {
     "name": "stdout",
     "output_type": "stream",
     "text": [
      "15.25\n"
     ]
    }
   ],
   "source": [
    "liste_notes = []\n",
    "for key, val in dico_notes.items():\n",
    "    if key!=\"biologie\":\n",
    "        liste_notes.append(val)\n",
    "moyenne = sum(liste_notes)/len(liste_notes)\n",
    "print(moyenne)\n"
   ]
  },
  {
   "cell_type": "markdown",
   "id": "34e10a31",
   "metadata": {},
   "source": [
    "# Volume d'un cône\n",
    "\n",
    "1. Ecrire une fonction qui renvoie le volume d'un cône de rayon $r$ et hauteur $h$.\n",
    "2. Ecrire une fonction qui renvoie le volume d'un tronc de cône de rayon $r_1$ et $r_2$. \n",
    "3. Ecrire une seule fonction pour laquelle le tronc de cône est par défaut un cône (i.e. $r_2=0$)\n",
    "\n",
    "On rappelle quel le volume d'un cône est donné par $\\frac{1}{3} h \\pi r^2$ et celui d'un tronc de cône par $\\frac{1}{3} h \\pi (r_1^2 - r_2^2)$"
   ]
  },
  {
   "cell_type": "code",
   "execution_count": 6,
   "id": "58f12d2c",
   "metadata": {},
   "outputs": [
    {
     "data": {
      "text/plain": [
       "83.77580409572782"
      ]
     },
     "execution_count": 6,
     "metadata": {},
     "output_type": "execute_result"
    }
   ],
   "source": [
    "from math import pi\n",
    "\n",
    "def volume_cone(h, r):\n",
    "    return h*pi*r**2/3\n",
    "\n",
    "volume_cone(2, 1)\n",
    "\n",
    "def volume_tronc_cone(h, r_1, r_2=0):\n",
    "    return h*pi*(r_1**2 - r_2**2)/3\n",
    "\n",
    "volume_tronc_cone(10, 3, 1)"
   ]
  },
  {
   "cell_type": "code",
   "execution_count": null,
   "id": "2d9c23b5",
   "metadata": {},
   "outputs": [],
   "source": []
  },
  {
   "cell_type": "markdown",
   "id": "ed56ce55",
   "metadata": {},
   "source": [
    "# Lancé de dés\n",
    "\n",
    "1. Ecrire une fonction ``lancer_un_dé`` qui prend un argument $n$ et renvoie une liste de $n$ nombres correspondants à $n$ lancés sucessifs. On utilisera la fonction ``randint`` du module ``random``\n",
    "\n",
    "2. Ecrire une fonction ``lancer_deux_dés`` qui prend un argument $n$ et renvoie une liste de $n$ nombres correspondants à la somme de $n$ lancés sucessifs de deux dés.\n",
    "\n",
    "3. En prendant $n=100000$, estimer la probabilité d'obtenir 2, 3, .., 12.\n",
    "\n",
    "4. Ecrire une fonction ``lancer_plusieurs_dés`` qui prend deux argument $n$  et $p$ et renvoie une liste de $n$ nombres correspondants à la somme de $n$ lancés sucessifs de $p$ dés.\n",
    "\n",
    "\n"
   ]
  },
  {
   "cell_type": "code",
   "execution_count": 7,
   "id": "34484d24",
   "metadata": {},
   "outputs": [
    {
     "name": "stdout",
     "output_type": "stream",
     "text": [
      "Probabilité  2 : 0.027\n",
      "Probabilité  3 : 0.057\n",
      "Probabilité  4 : 0.082\n",
      "Probabilité  5 : 0.112\n",
      "Probabilité  6 : 0.139\n",
      "Probabilité  7 : 0.167\n",
      "Probabilité  8 : 0.140\n",
      "Probabilité  9 : 0.110\n",
      "Probabilité 10 : 0.083\n",
      "Probabilité 11 : 0.055\n",
      "Probabilité 12 : 0.029\n"
     ]
    }
   ],
   "source": [
    "from random import randint\n",
    "\n",
    "def lancer_un_de(n):\n",
    "    return [randint(1, 6) for _ in range(n)]\n",
    "\n",
    "def lancer_deux_de(n):\n",
    "    return [randint(1, 6)+randint(1, 6) for _ in range(n)]\n",
    "\n",
    "N = 100000\n",
    "test = lancer_deux_de(N)\n",
    "\n",
    "for val in range(2, 13):\n",
    "    c = test.count(val)\n",
    "    print(f'Probabilité {val:2d} : {c/N:.3f}')"
   ]
  },
  {
   "cell_type": "markdown",
   "id": "1873746a",
   "metadata": {},
   "source": [
    "# Combien La Fontaine a t-il utilisé de mots différents dans ses fables ?\n",
    "\n",
    "Télécharger le fichier suivant : https://www.gutenberg.org/cache/epub/56327/pg56327.txt\n",
    "\n",
    "1. Ouvrir le fichier et charger son contenu dans une seule chaîne de caractère et la convertir en minuscule\n",
    "\n",
    "2. Remplacer dans cette chaîne toutes les ponctuations par des espaces. La liste des ponctuations est donnée par : ``?,.;:!\\'\\\"-[]()/«»``\n",
    "\n",
    "3. Parcourir les mots de la chaîne. Quel mot est le plus long ? \n",
    "\n",
    "4. Combien de fois le mot ``loup`` est il utilisé ?\n",
    "\n",
    "5. Combien y a-t-il de mots différents ? Quels sont les mots utilisés exactement 25 fois? Pour répondre à ces deux questions, on va créer un dictionnaire dont les clés sont les mots et les valeurs le nombre de fois où ce mot est présent. \n",
    "\n",
    "6. Ecrire une fonction qui prend comme argument un mot et renvoie, suivant la circonstance, un message du type : ``Le mot \"renard\" est utilisé 100 fois.`` ou ``Le mot \"ordinateur\" n'est jamais utilisé.``\n",
    "\n",
    "Pour cet exercices on utilisera les fonctions/méthodes suivantes. ``s`` est une chaine de caractère\n",
    "- ``s.lower()`` \n",
    "- ``s.replace(a, b)``\n",
    "- ``s.split()``\n",
    "- ``s.strip()``"
   ]
  },
  {
   "cell_type": "code",
   "execution_count": 8,
   "id": "a9bf15fc",
   "metadata": {},
   "outputs": [],
   "source": [
    "ponctuation_list = '?,.;:!\\'\\\"-[]()/«»'"
   ]
  },
  {
   "cell_type": "code",
   "execution_count": 9,
   "id": "15cc35e5",
   "metadata": {},
   "outputs": [
    {
     "name": "stdout",
     "output_type": "stream",
     "text": [
      "17\n"
     ]
    }
   ],
   "source": [
    "# Question 1\n",
    "with open('pg56327.txt', 'r') as f:\n",
    "    data = f.read()\n",
    "    \n",
    "data = data.lower()\n",
    "\n",
    "# Question 2\n",
    "for ponctuation in ponctuation_list:\n",
    "    data = data.replace(ponctuation, ' ')\n",
    "    \n",
    "#print(data[:1000])\n",
    "liste_mots = data.split()\n",
    "longueur_mots = [len(mot) for mot in liste_mots]\n",
    "print(max(longueur_mots))"
   ]
  },
  {
   "cell_type": "code",
   "execution_count": 10,
   "id": "46092bb0",
   "metadata": {},
   "outputs": [
    {
     "name": "stdout",
     "output_type": "stream",
     "text": [
      "batrachomyomachie\n"
     ]
    }
   ],
   "source": [
    "# Question 3\n",
    "maximum = -1\n",
    "mot_le_plus_long = \"\"\n",
    "for mot in liste_mots:\n",
    "    if len(mot)>maximum:\n",
    "        maximum = len(mot)\n",
    "        mot_le_plus_long = mot\n",
    "print(mot_le_plus_long)"
   ]
  },
  {
   "cell_type": "code",
   "execution_count": 11,
   "id": "bf3acfdf",
   "metadata": {},
   "outputs": [
    {
     "data": {
      "text/plain": [
       "27367"
      ]
     },
     "execution_count": 11,
     "metadata": {},
     "output_type": "execute_result"
    }
   ],
   "source": [
    "longueur_mots.index(17)"
   ]
  },
  {
   "cell_type": "code",
   "execution_count": 12,
   "id": "1f4d0448",
   "metadata": {},
   "outputs": [
    {
     "data": {
      "text/plain": [
       "'batrachomyomachie'"
      ]
     },
     "execution_count": 12,
     "metadata": {},
     "output_type": "execute_result"
    }
   ],
   "source": [
    "liste_mots[longueur_mots.index(17)]"
   ]
  },
  {
   "cell_type": "code",
   "execution_count": 13,
   "id": "f959732e",
   "metadata": {},
   "outputs": [
    {
     "data": {
      "text/plain": [
       "115"
      ]
     },
     "execution_count": 13,
     "metadata": {},
     "output_type": "execute_result"
    }
   ],
   "source": [
    "# Question 4\n",
    "\n",
    "liste_mots.count('loup')"
   ]
  },
  {
   "cell_type": "code",
   "execution_count": 14,
   "id": "f3e4f2cc",
   "metadata": {},
   "outputs": [],
   "source": [
    "dictionnaire_nombre_mots = {}\n",
    "for mot in liste_mots:\n",
    "    dictionnaire_nombre_mots[mot] = dictionnaire_nombre_mots.get(mot, 0) + 1\n"
   ]
  },
  {
   "cell_type": "code",
   "execution_count": 15,
   "id": "a95d0774",
   "metadata": {},
   "outputs": [
    {
     "data": {
      "text/plain": [
       "10499"
      ]
     },
     "execution_count": 15,
     "metadata": {},
     "output_type": "execute_result"
    }
   ],
   "source": [
    "nb_mots_differents = len(dictionnaire_nombre_mots)\n",
    "nb_mots_differents"
   ]
  },
  {
   "cell_type": "code",
   "execution_count": 16,
   "id": "b122dd38",
   "metadata": {},
   "outputs": [
    {
     "name": "stdout",
     "output_type": "stream",
     "text": [
      "gloire\n",
      "ait\n",
      "sera\n",
      "quelle\n",
      "sommes\n",
      "état\n",
      "tes\n",
      "corbeau\n",
      "queue\n",
      "nul\n",
      "soins\n",
      "nez\n"
     ]
    }
   ],
   "source": [
    "for mot, nb in dictionnaire_nombre_mots.items():\n",
    "    if nb==25:\n",
    "        print(mot)"
   ]
  },
  {
   "cell_type": "code",
   "execution_count": 17,
   "id": "46fa31e9",
   "metadata": {},
   "outputs": [
    {
     "name": "stdout",
     "output_type": "stream",
     "text": [
      "Le mot \"renard\" est utilisé 100 fois.\n",
      "Le mot \"ordinateur\" n'est jamais utilisé\n"
     ]
    }
   ],
   "source": [
    "def fonction(mot):\n",
    "    if mot in dictionnaire_nombre_mots:\n",
    "        return f'Le mot \"{mot}\" est utilisé {dictionnaire_nombre_mots[mot]} fois.'\n",
    "    return f'Le mot \"{mot}\" n\\'est jamais utilisé'\n",
    "\n",
    "print(fonction('renard'))\n",
    "print(fonction('ordinateur'))"
   ]
  },
  {
   "cell_type": "code",
   "execution_count": null,
   "id": "44a03cb4",
   "metadata": {},
   "outputs": [],
   "source": []
  }
 ],
 "metadata": {
  "celltoolbar": "Tags",
  "kernelspec": {
   "display_name": "Odeon 3.10",
   "language": "python",
   "name": "odeon310"
  },
  "language_info": {
   "codemirror_mode": {
    "name": "ipython",
    "version": 3
   },
   "file_extension": ".py",
   "mimetype": "text/x-python",
   "name": "python",
   "nbconvert_exporter": "python",
   "pygments_lexer": "ipython3",
   "version": "3.10.12"
  },
  "varInspector": {
   "cols": {
    "lenName": 16,
    "lenType": 16,
    "lenVar": 40
   },
   "kernels_config": {
    "python": {
     "delete_cmd_postfix": "",
     "delete_cmd_prefix": "del ",
     "library": "var_list.py",
     "varRefreshCmd": "print(var_dic_list())"
    },
    "r": {
     "delete_cmd_postfix": ") ",
     "delete_cmd_prefix": "rm(",
     "library": "var_list.r",
     "varRefreshCmd": "cat(var_dic_list()) "
    }
   },
   "types_to_exclude": [
    "module",
    "function",
    "builtin_function_or_method",
    "instance",
    "_Feature"
   ],
   "window_display": false
  }
 },
 "nbformat": 4,
 "nbformat_minor": 5
}
