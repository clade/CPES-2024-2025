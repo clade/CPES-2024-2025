{
 "cells": [
  {
   "cell_type": "markdown",
   "id": "31c2064b",
   "metadata": {},
   "source": [
    "# Définition et création d'un variable"
   ]
  },
  {
   "cell_type": "code",
   "execution_count": null,
   "id": "865a7cee",
   "metadata": {},
   "outputs": [],
   "source": [
    "x = 2.1\n",
    "x"
   ]
  },
  {
   "cell_type": "code",
   "execution_count": null,
   "id": "86607f5c",
   "metadata": {},
   "outputs": [],
   "source": [
    "s = \"Bonjour\"\n",
    "s"
   ]
  },
  {
   "cell_type": "code",
   "execution_count": null,
   "id": "a61f464f",
   "metadata": {},
   "outputs": [],
   "source": [
    "nom_variable = \"Bonjour\""
   ]
  },
  {
   "cell_type": "markdown",
   "id": "e56f4d0f",
   "metadata": {},
   "source": [
    "# Les types de variables / objets\n",
    "* Définition\n",
    "\n"
   ]
  },
  {
   "cell_type": "code",
   "execution_count": null,
   "id": "8e350bb4",
   "metadata": {},
   "outputs": [],
   "source": [
    "x = 2.\n",
    "x"
   ]
  },
  {
   "cell_type": "code",
   "execution_count": null,
   "id": "c0c8c54c",
   "metadata": {},
   "outputs": [],
   "source": [
    "x = True\n",
    "x"
   ]
  },
  {
   "cell_type": "code",
   "execution_count": null,
   "id": "eba82942",
   "metadata": {},
   "outputs": [],
   "source": [
    "False"
   ]
  },
  {
   "cell_type": "markdown",
   "id": "aa43b8e2",
   "metadata": {},
   "source": [
    "# Nommage des variables\n",
    "* noms autorisés\n",
    "* noms interdits ou a éviter : print, range, for, from, True, ....\n",
    "* casse"
   ]
  },
  {
   "cell_type": "code",
   "execution_count": null,
   "id": "a31549e6",
   "metadata": {},
   "outputs": [],
   "source": [
    "# lettres a-z, et A-Z, \n",
    "# pas d'espace\n",
    "# le _\n",
    "# chiffres mais pas en première position\n",
    "# certains noms interdits (mots clés Python, )\n",
    "var4 = 8"
   ]
  },
  {
   "cell_type": "code",
   "execution_count": 1,
   "id": "1d404751",
   "metadata": {},
   "outputs": [
    {
     "name": "stdout",
     "output_type": "stream",
     "text": [
      "4\n",
      "5\n"
     ]
    }
   ],
   "source": [
    "largeur = 4\n",
    "Largeur = 5\n",
    "print(largeur)\n",
    "print(Largeur)"
   ]
  },
  {
   "cell_type": "code",
   "execution_count": 2,
   "id": "f68e228a",
   "metadata": {},
   "outputs": [
    {
     "ename": "NameError",
     "evalue": "name 'LARGEUR' is not defined",
     "output_type": "error",
     "traceback": [
      "\u001b[0;31m---------------------------------------------------------------------------\u001b[0m",
      "\u001b[0;31mNameError\u001b[0m                                 Traceback (most recent call last)",
      "Cell \u001b[0;32mIn[2], line 1\u001b[0m\n\u001b[0;32m----> 1\u001b[0m \u001b[38;5;28mprint\u001b[39m(\u001b[43mLARGEUR\u001b[49m)\n",
      "\u001b[0;31mNameError\u001b[0m: name 'LARGEUR' is not defined"
     ]
    }
   ],
   "source": [
    "print(LARGEUR)"
   ]
  },
  {
   "cell_type": "code",
   "execution_count": 3,
   "id": "87c911f6",
   "metadata": {},
   "outputs": [],
   "source": [
    "largeur_table = 3"
   ]
  },
  {
   "cell_type": "code",
   "execution_count": 4,
   "id": "dc71e8f6",
   "metadata": {},
   "outputs": [
    {
     "name": "stdout",
     "output_type": "stream",
     "text": [
      "2\n"
     ]
    }
   ],
   "source": [
    "_ = 2\n",
    "print(_)"
   ]
  },
  {
   "cell_type": "code",
   "execution_count": 5,
   "id": "f7ea4f57",
   "metadata": {},
   "outputs": [
    {
     "data": {
      "text/plain": [
       "3"
      ]
     },
     "execution_count": 5,
     "metadata": {},
     "output_type": "execute_result"
    }
   ],
   "source": [
    "largeur_table"
   ]
  },
  {
   "cell_type": "markdown",
   "id": "72d0d9e0",
   "metadata": {},
   "source": [
    "# Écriture scientifique\n",
    "* Symbol e\n",
    "* Séparation des groupes de chiffres avec un _"
   ]
  },
  {
   "cell_type": "code",
   "execution_count": 15,
   "id": "8b1763dc",
   "metadata": {},
   "outputs": [
    {
     "name": "stdout",
     "output_type": "stream",
     "text": [
      "3e+21\n"
     ]
    }
   ],
   "source": [
    "c = 3e21\n",
    "z = 1 + 1j\n",
    "print(c)"
   ]
  },
  {
   "cell_type": "code",
   "execution_count": 7,
   "id": "2cfca026",
   "metadata": {},
   "outputs": [],
   "source": [
    "z = 1J"
   ]
  },
  {
   "cell_type": "code",
   "execution_count": 13,
   "id": "3dcd9e90",
   "metadata": {},
   "outputs": [
    {
     "data": {
      "text/plain": [
       "299792458"
      ]
     },
     "execution_count": 13,
     "metadata": {},
     "output_type": "execute_result"
    }
   ],
   "source": [
    "c = 299_792_458\n",
    "c"
   ]
  },
  {
   "cell_type": "code",
   "execution_count": 14,
   "id": "1d8235f9",
   "metadata": {},
   "outputs": [
    {
     "data": {
      "text/plain": [
       "True"
      ]
     },
     "execution_count": 14,
     "metadata": {},
     "output_type": "execute_result"
    }
   ],
   "source": [
    "299_792_458 == 299792458"
   ]
  },
  {
   "cell_type": "markdown",
   "id": "d9e0d8c4",
   "metadata": {},
   "source": [
    "# Opérations\n",
    "* Sur les types numériques\n",
    "* sur les chaînes de caractères\n",
    "* Opérations illicites\n"
   ]
  },
  {
   "cell_type": "code",
   "execution_count": 22,
   "id": "89f4ca02",
   "metadata": {},
   "outputs": [
    {
     "data": {
      "text/plain": [
       "0.8836293856408268"
      ]
     },
     "execution_count": 22,
     "metadata": {},
     "output_type": "execute_result"
    }
   ],
   "source": [
    "# +, *, /, -\n",
    "# // Division euclidienne\n",
    "# % modulo\n",
    "# **\n",
    "from math import pi\n",
    "13.45 % (2*pi)"
   ]
  },
  {
   "cell_type": "code",
   "execution_count": 24,
   "id": "1514e0b4",
   "metadata": {},
   "outputs": [
    {
     "name": "stdout",
     "output_type": "stream",
     "text": [
      "52\n"
     ]
    }
   ],
   "source": [
    "x = 23\n",
    "# x = x + 3\n",
    "x += 3\n",
    "x *=2\n",
    "print(x)"
   ]
  },
  {
   "cell_type": "code",
   "execution_count": 26,
   "id": "f0be970d",
   "metadata": {},
   "outputs": [
    {
     "data": {
      "text/plain": [
       "'bonjour tout le monde'"
      ]
     },
     "execution_count": 26,
     "metadata": {},
     "output_type": "execute_result"
    }
   ],
   "source": [
    "var1 = \"bonjour \"\n",
    "var2 = \"tout le monde\"\n",
    "var1 + var2"
   ]
  },
  {
   "cell_type": "code",
   "execution_count": 28,
   "id": "86dbfc1d",
   "metadata": {},
   "outputs": [
    {
     "data": {
      "text/plain": [
       "'bonjour bonjour bonjour '"
      ]
     },
     "execution_count": 28,
     "metadata": {},
     "output_type": "execute_result"
    }
   ],
   "source": [
    "var1 * 3"
   ]
  },
  {
   "cell_type": "code",
   "execution_count": 29,
   "id": "5c2f7575",
   "metadata": {},
   "outputs": [
    {
     "data": {
      "text/plain": [
       "'var1var1var1'"
      ]
     },
     "execution_count": 29,
     "metadata": {},
     "output_type": "execute_result"
    }
   ],
   "source": [
    "'var1' * 3"
   ]
  },
  {
   "cell_type": "code",
   "execution_count": 36,
   "id": "896a4bc3",
   "metadata": {},
   "outputs": [
    {
     "ename": "TypeError",
     "evalue": "can only concatenate str (not \"int\") to str",
     "output_type": "error",
     "traceback": [
      "\u001b[0;31m---------------------------------------------------------------------------\u001b[0m",
      "\u001b[0;31mTypeError\u001b[0m                                 Traceback (most recent call last)",
      "Cell \u001b[0;32mIn[36], line 1\u001b[0m\n\u001b[0;32m----> 1\u001b[0m \u001b[43mvar1\u001b[49m\u001b[43m \u001b[49m\u001b[38;5;241;43m+\u001b[39;49m\u001b[43m \u001b[49m\u001b[38;5;241;43m2\u001b[39;49m\n",
      "\u001b[0;31mTypeError\u001b[0m: can only concatenate str (not \"int\") to str"
     ]
    }
   ],
   "source": [
    "var1 + 2"
   ]
  },
  {
   "cell_type": "code",
   "execution_count": 34,
   "id": "1cefa272",
   "metadata": {},
   "outputs": [
    {
     "ename": "TypeError",
     "evalue": "'<' not supported between instances of 'complex' and 'int'",
     "output_type": "error",
     "traceback": [
      "\u001b[0;31m---------------------------------------------------------------------------\u001b[0m",
      "\u001b[0;31mTypeError\u001b[0m                                 Traceback (most recent call last)",
      "Cell \u001b[0;32mIn[34], line 1\u001b[0m\n\u001b[0;32m----> 1\u001b[0m \u001b[38;5;241;43m1\u001b[39;49m\u001b[43mJ\u001b[49m\u001b[43m \u001b[49m\u001b[38;5;241;43m<\u001b[39;49m\u001b[43m \u001b[49m\u001b[38;5;241;43m1\u001b[39;49m\n",
      "\u001b[0;31mTypeError\u001b[0m: '<' not supported between instances of 'complex' and 'int'"
     ]
    }
   ],
   "source": [
    "1J < 1"
   ]
  },
  {
   "cell_type": "markdown",
   "id": "cb70467a",
   "metadata": {},
   "source": [
    "# La fonction type()"
   ]
  },
  {
   "cell_type": "code",
   "execution_count": 38,
   "id": "b6e6786e",
   "metadata": {},
   "outputs": [
    {
     "name": "stdout",
     "output_type": "stream",
     "text": [
      "<class 'str'>\n"
     ]
    }
   ],
   "source": [
    "print(type(var1))"
   ]
  },
  {
   "cell_type": "code",
   "execution_count": 39,
   "id": "50f28cb7",
   "metadata": {},
   "outputs": [
    {
     "data": {
      "text/plain": [
       "int"
      ]
     },
     "execution_count": 39,
     "metadata": {},
     "output_type": "execute_result"
    }
   ],
   "source": [
    "type(x)"
   ]
  },
  {
   "cell_type": "code",
   "execution_count": 42,
   "id": "5d54a0a5",
   "metadata": {},
   "outputs": [
    {
     "data": {
      "text/plain": [
       "True"
      ]
     },
     "execution_count": 42,
     "metadata": {},
     "output_type": "execute_result"
    }
   ],
   "source": [
    "type(z)==complex"
   ]
  },
  {
   "cell_type": "code",
   "execution_count": 43,
   "id": "24531670",
   "metadata": {},
   "outputs": [
    {
     "data": {
      "text/plain": [
       "str"
      ]
     },
     "execution_count": 43,
     "metadata": {},
     "output_type": "execute_result"
    }
   ],
   "source": [
    "type(\"Bonjour\")"
   ]
  },
  {
   "cell_type": "code",
   "execution_count": 48,
   "id": "7a1e3169",
   "metadata": {},
   "outputs": [
    {
     "name": "stdout",
     "output_type": "stream",
     "text": [
      "2\n"
     ]
    },
    {
     "data": {
      "text/plain": [
       "2"
      ]
     },
     "execution_count": 48,
     "metadata": {},
     "output_type": "execute_result"
    }
   ],
   "source": [
    "x = 3\n",
    "print(1 + 1)\n",
    "b = 2\n",
    "1 + 1\n"
   ]
  },
  {
   "cell_type": "code",
   "execution_count": 49,
   "id": "171588c7",
   "metadata": {},
   "outputs": [
    {
     "data": {
      "text/plain": [
       "'Bonjour'"
      ]
     },
     "execution_count": 49,
     "metadata": {},
     "output_type": "execute_result"
    }
   ],
   "source": [
    "s = \"Bonjour\"\n",
    "s"
   ]
  },
  {
   "cell_type": "code",
   "execution_count": 50,
   "id": "b10c2d48",
   "metadata": {},
   "outputs": [
    {
     "name": "stdout",
     "output_type": "stream",
     "text": [
      "Bonjour\n"
     ]
    }
   ],
   "source": [
    "print(s)"
   ]
  },
  {
   "cell_type": "code",
   "execution_count": 51,
   "id": "cd760e6c",
   "metadata": {},
   "outputs": [
    {
     "data": {
      "text/plain": [
       "'2.0'"
      ]
     },
     "execution_count": 51,
     "metadata": {},
     "output_type": "execute_result"
    }
   ],
   "source": [
    "s = '2.0'\n",
    "s"
   ]
  },
  {
   "cell_type": "code",
   "execution_count": 52,
   "id": "d6fd9f53",
   "metadata": {},
   "outputs": [
    {
     "data": {
      "text/plain": [
       "2.0"
      ]
     },
     "execution_count": 52,
     "metadata": {},
     "output_type": "execute_result"
    }
   ],
   "source": [
    "x = 2.0\n",
    "x"
   ]
  },
  {
   "cell_type": "code",
   "execution_count": null,
   "id": "192bd6bc",
   "metadata": {},
   "outputs": [],
   "source": []
  },
  {
   "cell_type": "code",
   "execution_count": null,
   "id": "af6c5d9a",
   "metadata": {},
   "outputs": [],
   "source": []
  },
  {
   "cell_type": "markdown",
   "id": "437b2c42",
   "metadata": {},
   "source": [
    "# Conversion \n",
    "* Création d'un nouvel objet à partir d'un objet d'un autre type\n",
    "\n"
   ]
  },
  {
   "cell_type": "code",
   "execution_count": 54,
   "id": "2e293dea",
   "metadata": {},
   "outputs": [
    {
     "name": "stdout",
     "output_type": "stream",
     "text": [
      "1\n"
     ]
    },
    {
     "data": {
      "text/plain": [
       "int"
      ]
     },
     "execution_count": 54,
     "metadata": {},
     "output_type": "execute_result"
    }
   ],
   "source": [
    "x = int(1.0)\n",
    "print(x)\n",
    "type(x)"
   ]
  },
  {
   "cell_type": "code",
   "execution_count": 55,
   "id": "718ec604",
   "metadata": {},
   "outputs": [
    {
     "data": {
      "text/plain": [
       "34"
      ]
     },
     "execution_count": 55,
     "metadata": {},
     "output_type": "execute_result"
    }
   ],
   "source": [
    "int(\"34\")"
   ]
  },
  {
   "cell_type": "code",
   "execution_count": 56,
   "id": "6c3381c2",
   "metadata": {},
   "outputs": [
    {
     "ename": "TypeError",
     "evalue": "int() argument must be a string, a bytes-like object or a real number, not 'complex'",
     "output_type": "error",
     "traceback": [
      "\u001b[0;31m---------------------------------------------------------------------------\u001b[0m",
      "\u001b[0;31mTypeError\u001b[0m                                 Traceback (most recent call last)",
      "Cell \u001b[0;32mIn[56], line 1\u001b[0m\n\u001b[0;32m----> 1\u001b[0m \u001b[38;5;28;43mint\u001b[39;49m\u001b[43m(\u001b[49m\u001b[43mz\u001b[49m\u001b[43m)\u001b[49m\n",
      "\u001b[0;31mTypeError\u001b[0m: int() argument must be a string, a bytes-like object or a real number, not 'complex'"
     ]
    }
   ],
   "source": [
    "int(z)"
   ]
  },
  {
   "cell_type": "code",
   "execution_count": 58,
   "id": "b1e2336f",
   "metadata": {},
   "outputs": [
    {
     "data": {
      "text/plain": [
       "3.0"
      ]
     },
     "execution_count": 58,
     "metadata": {},
     "output_type": "execute_result"
    }
   ],
   "source": [
    "float(\"3\")"
   ]
  },
  {
   "cell_type": "code",
   "execution_count": 59,
   "id": "eb1057f9",
   "metadata": {},
   "outputs": [
    {
     "ename": "ValueError",
     "evalue": "could not convert string to float: 'bonjour'",
     "output_type": "error",
     "traceback": [
      "\u001b[0;31m---------------------------------------------------------------------------\u001b[0m",
      "\u001b[0;31mValueError\u001b[0m                                Traceback (most recent call last)",
      "Cell \u001b[0;32mIn[59], line 1\u001b[0m\n\u001b[0;32m----> 1\u001b[0m \u001b[38;5;28;43mfloat\u001b[39;49m\u001b[43m(\u001b[49m\u001b[38;5;124;43m\"\u001b[39;49m\u001b[38;5;124;43mbonjour\u001b[39;49m\u001b[38;5;124;43m\"\u001b[39;49m\u001b[43m)\u001b[49m\n",
      "\u001b[0;31mValueError\u001b[0m: could not convert string to float: 'bonjour'"
     ]
    }
   ],
   "source": [
    "float(\"bonjour\")"
   ]
  },
  {
   "cell_type": "code",
   "execution_count": 60,
   "id": "1ecf87a0",
   "metadata": {},
   "outputs": [
    {
     "data": {
      "text/plain": [
       "(2+0j)"
      ]
     },
     "execution_count": 60,
     "metadata": {},
     "output_type": "execute_result"
    }
   ],
   "source": [
    "complex(2)"
   ]
  },
  {
   "cell_type": "code",
   "execution_count": 62,
   "id": "9cdb5f05",
   "metadata": {},
   "outputs": [],
   "source": [
    "s = str(z) + ' bonjour'"
   ]
  },
  {
   "cell_type": "code",
   "execution_count": 63,
   "id": "e0e33f8e",
   "metadata": {},
   "outputs": [
    {
     "name": "stdout",
     "output_type": "stream",
     "text": [
      "(1+1j) bonjour\n"
     ]
    }
   ],
   "source": [
    "print(s)"
   ]
  },
  {
   "cell_type": "code",
   "execution_count": null,
   "id": "48cf4f6c",
   "metadata": {},
   "outputs": [],
   "source": []
  },
  {
   "cell_type": "code",
   "execution_count": null,
   "id": "78b53028",
   "metadata": {},
   "outputs": [],
   "source": []
  },
  {
   "cell_type": "code",
   "execution_count": null,
   "id": "72d7d8c1",
   "metadata": {},
   "outputs": [],
   "source": []
  },
  {
   "cell_type": "markdown",
   "id": "a4142288",
   "metadata": {},
   "source": [
    "# Note sur le vocabulaire et la syntaxe\n",
    "* Variable\n",
    "* Objet\n",
    "* Fonction\n",
    "* Arguments"
   ]
  },
  {
   "cell_type": "code",
   "execution_count": null,
   "id": "1d459a9d",
   "metadata": {},
   "outputs": [],
   "source": []
  },
  {
   "cell_type": "markdown",
   "id": "b50da50e",
   "metadata": {},
   "source": [
    "# Exercices\n",
    "\n",
    "## Prédire le résultat : opérations¶\n",
    "\n",
    "Essayez de prédire le résultat de chacune des instructions suivantes, puis vérifiez-le dans l'interpréteur Python :\n",
    "\n",
    "*    (1+2)**3\n",
    "*    \"Da\" * 4\n",
    "*    \"Da\" + 3\n",
    "*    (\"Pa\"+\"La\") * 2\n",
    "*    (\"Da\"*4) / 2\n",
    "*    5 / 2\n",
    "*    5 // 2\n",
    "*    5 % 2"
   ]
  },
  {
   "cell_type": "code",
   "execution_count": 69,
   "id": "0ef3efe5",
   "metadata": {},
   "outputs": [
    {
     "data": {
      "text/plain": [
       "'DaDa'"
      ]
     },
     "execution_count": 69,
     "metadata": {},
     "output_type": "execute_result"
    }
   ],
   "source": [
    "\"Da\"* (4 // 2)"
   ]
  },
  {
   "cell_type": "markdown",
   "id": "e0d206ed",
   "metadata": {},
   "source": [
    "## Prédire le résultat : opérations et conversions de types¶\n",
    "\n",
    "Essayez de prédire le résultat de chacune des instructions suivantes, puis vérifiez-le dans l'interpréteur Python :\n",
    "\n",
    "*    str(4) * int(\"3\")\n",
    "*    int(\"3\") + float(\"3.2\")\n",
    "*    str(3) * float(\"3.2\")\n",
    "*    str(3/4) * 2"
   ]
  },
  {
   "cell_type": "code",
   "execution_count": 74,
   "id": "8039e28f",
   "metadata": {},
   "outputs": [
    {
     "data": {
      "text/plain": [
       "'333'"
      ]
     },
     "execution_count": 74,
     "metadata": {},
     "output_type": "execute_result"
    }
   ],
   "source": [
    "str(4) * int(\"3\")\n",
    "# '4' * 3\n",
    "int(\"3\") + float(\"3.2\")\n",
    "str(3) * int(float(\"3.2\"))"
   ]
  },
  {
   "cell_type": "code",
   "execution_count": 75,
   "id": "78b0629c",
   "metadata": {},
   "outputs": [
    {
     "data": {
      "text/plain": [
       "'0.750.75'"
      ]
     },
     "execution_count": 75,
     "metadata": {},
     "output_type": "execute_result"
    }
   ],
   "source": [
    "str(3/4) * 2"
   ]
  },
  {
   "cell_type": "code",
   "execution_count": null,
   "id": "686bf59e",
   "metadata": {},
   "outputs": [],
   "source": []
  }
 ],
 "metadata": {
  "kernelspec": {
   "display_name": "Odeon 3.10",
   "language": "python",
   "name": "odeon310"
  },
  "language_info": {
   "codemirror_mode": {
    "name": "ipython",
    "version": 3
   },
   "file_extension": ".py",
   "mimetype": "text/x-python",
   "name": "python",
   "nbconvert_exporter": "python",
   "pygments_lexer": "ipython3",
   "version": "3.10.12"
  },
  "varInspector": {
   "cols": {
    "lenName": 16,
    "lenType": 16,
    "lenVar": 40
   },
   "kernels_config": {
    "python": {
     "delete_cmd_postfix": "",
     "delete_cmd_prefix": "del ",
     "library": "var_list.py",
     "varRefreshCmd": "print(var_dic_list())"
    },
    "r": {
     "delete_cmd_postfix": ") ",
     "delete_cmd_prefix": "rm(",
     "library": "var_list.r",
     "varRefreshCmd": "cat(var_dic_list()) "
    }
   },
   "types_to_exclude": [
    "module",
    "function",
    "builtin_function_or_method",
    "instance",
    "_Feature"
   ],
   "window_display": false
  }
 },
 "nbformat": 4,
 "nbformat_minor": 5
}
