{
 "cells": [
  {
   "cell_type": "markdown",
   "id": "49d6887e",
   "metadata": {},
   "source": [
    "# La fonction print()\n",
    "* Chaine de caractère\n",
    "* Argument 'end'\n",
    "* nombre\n",
    "* Utilisation de plusieurs arguments\n",
    "* Argument 'sep'\n"
   ]
  },
  {
   "cell_type": "code",
   "execution_count": 1,
   "id": "89337d85",
   "metadata": {},
   "outputs": [
    {
     "name": "stdout",
     "output_type": "stream",
     "text": [
      "Bonjour\n"
     ]
    }
   ],
   "source": [
    "print('Bonjour')"
   ]
  },
  {
   "cell_type": "code",
   "execution_count": 3,
   "id": "1db163cb",
   "metadata": {},
   "outputs": [
    {
     "name": "stdout",
     "output_type": "stream",
     "text": [
      "BonjourHello\n"
     ]
    }
   ],
   "source": [
    "print('Bonjour', end=\"\")\n",
    "print('Hello')"
   ]
  },
  {
   "cell_type": "code",
   "execution_count": 4,
   "id": "256ca341",
   "metadata": {},
   "outputs": [
    {
     "name": "stdout",
     "output_type": "stream",
     "text": [
      "Bonjour Hello\n"
     ]
    }
   ],
   "source": [
    "print('Bonjour', end=\" \")\n",
    "print('Hello')"
   ]
  },
  {
   "cell_type": "code",
   "execution_count": 7,
   "id": "4f3146c8",
   "metadata": {},
   "outputs": [
    {
     "data": {
      "text/plain": [
       "2"
      ]
     },
     "execution_count": 7,
     "metadata": {},
     "output_type": "execute_result"
    }
   ],
   "source": [
    "s = \"\"\"\n",
    "\n",
    "\"\"\"\n",
    "len(s)"
   ]
  },
  {
   "cell_type": "code",
   "execution_count": 8,
   "id": "cbb54914",
   "metadata": {},
   "outputs": [
    {
     "name": "stdout",
     "output_type": "stream",
     "text": [
      "Bonjour\n",
      "\n",
      "Hello\n"
     ]
    }
   ],
   "source": [
    "print('Bonjour', end=s)\n",
    "print('Hello')"
   ]
  },
  {
   "cell_type": "code",
   "execution_count": 9,
   "id": "1ae3eb37",
   "metadata": {},
   "outputs": [
    {
     "data": {
      "text/plain": [
       "2"
      ]
     },
     "execution_count": 9,
     "metadata": {},
     "output_type": "execute_result"
    }
   ],
   "source": [
    "s = \"\\n\\n\"\n",
    "len(s)"
   ]
  },
  {
   "cell_type": "code",
   "execution_count": null,
   "id": "7477da2e",
   "metadata": {},
   "outputs": [],
   "source": []
  },
  {
   "cell_type": "code",
   "execution_count": null,
   "id": "39900262",
   "metadata": {},
   "outputs": [],
   "source": []
  },
  {
   "cell_type": "code",
   "execution_count": 6,
   "id": "a0119579",
   "metadata": {},
   "outputs": [
    {
     "name": "stdout",
     "output_type": "stream",
     "text": [
      "3.141592653589793\n",
      "3.141592653589793\n"
     ]
    }
   ],
   "source": [
    "from math import pi\n",
    "print(pi)\n",
    "print(str(pi))"
   ]
  },
  {
   "cell_type": "code",
   "execution_count": 10,
   "id": "be7fe278",
   "metadata": {},
   "outputs": [
    {
     "name": "stdout",
     "output_type": "stream",
     "text": [
      "Bonjour Hello\n"
     ]
    }
   ],
   "source": [
    "print(\"Bonjour\", \"Hello\")"
   ]
  },
  {
   "cell_type": "code",
   "execution_count": 11,
   "id": "9eb2d18d",
   "metadata": {},
   "outputs": [
    {
     "name": "stdout",
     "output_type": "stream",
     "text": [
      "Bonjour            Hello\n"
     ]
    }
   ],
   "source": [
    "print(\"Bonjour\", \"Hello\", sep='            ')"
   ]
  },
  {
   "cell_type": "code",
   "execution_count": null,
   "id": "93740a3a",
   "metadata": {},
   "outputs": [],
   "source": []
  },
  {
   "cell_type": "markdown",
   "id": "1c4cd916",
   "metadata": {},
   "source": [
    "# Écriture formatée et f-strings\n",
    "* Définitions\n",
    "L'écriture formatée est un mécanisme permettant d'afficher des variables avec un format précis\n",
    "\n",
    "* Prise en main des f-strings\n",
    "\n",
    "* Spécification de format\n",
    "    - float\n",
    "    - decimal integer\n",
    "    - Alignement (<, >, ^)\n",
    "    "
   ]
  },
  {
   "cell_type": "code",
   "execution_count": 13,
   "id": "5317b356",
   "metadata": {},
   "outputs": [
    {
     "name": "stdout",
     "output_type": "stream",
     "text": [
      "prenom : Jean\n",
      "   age : 25\n"
     ]
    }
   ],
   "source": [
    "print('prenom : Jean')\n",
    "print('   age : 25')"
   ]
  },
  {
   "cell_type": "code",
   "execution_count": 14,
   "id": "709d4524",
   "metadata": {},
   "outputs": [
    {
     "data": {
      "text/plain": [
       "'Bonjour'"
      ]
     },
     "execution_count": 14,
     "metadata": {},
     "output_type": "execute_result"
    }
   ],
   "source": [
    "s = \"Bonjour\"\n",
    "s"
   ]
  },
  {
   "cell_type": "code",
   "execution_count": 31,
   "id": "56aff49d",
   "metadata": {},
   "outputs": [
    {
     "name": "stdout",
     "output_type": "stream",
     "text": [
      "Bonjour Jean! Tu as 25 ans. Dans trois ans tu auras 28 ans. Bonjour Jean! Tu as 25 ans. Dans trois ans tu auras 28 ans. Bonjour Jean! Tu as 25 ans. Dans trois ans tu auras 28 ans. Bonjour Jean! Tu as 25 ans. Dans trois ans tu auras 28 ans. Bonjour Jean! Tu as 25 ans. Dans trois ans tu auras 28 ans. Bonjour Jean! Tu as 25 ans. Dans trois ans tu auras 28 ans. Bonjour Jean! Tu as 25 ans. Dans trois ans tu auras 28 ans. Bonjour Jean! Tu as 25 ans. Dans trois ans tu auras 28 ans. Bonjour Jean! Tu as 25 ans. Dans trois ans tu auras 28 ans. Bonjour Jean! Tu as 25 ans. Dans trois ans tu auras 28 ans. \n"
     ]
    }
   ],
   "source": [
    "nom = \"Jean\"\n",
    "age = 25\n",
    "s = f\"Bonjour {nom}! Tu as {age} ans. Dans trois ans tu auras {age+3} ans. \" * 10 \n",
    "print(s)"
   ]
  },
  {
   "cell_type": "code",
   "execution_count": 30,
   "id": "40d84d50",
   "metadata": {},
   "outputs": [
    {
     "data": {
      "text/plain": [
       "'Bonjour Jean! Tu as 25 ans.'"
      ]
     },
     "execution_count": 30,
     "metadata": {},
     "output_type": "execute_result"
    }
   ],
   "source": [
    "s = \"Bonjour {nom}! Tu as {age} ans.\".format(nom=nom, age=age)\n",
    "s"
   ]
  },
  {
   "cell_type": "code",
   "execution_count": 22,
   "id": "4d5ef927",
   "metadata": {},
   "outputs": [
    {
     "name": "stdout",
     "output_type": "stream",
     "text": [
      "Bonjour Jean ! Tu as 25 ans.\n"
     ]
    }
   ],
   "source": [
    "print('Bonjour', nom, '! Tu as', age, 'ans.')"
   ]
  },
  {
   "cell_type": "code",
   "execution_count": 27,
   "id": "45645ebb",
   "metadata": {},
   "outputs": [],
   "source": [
    "#\"Bonjour \" + str(nom) + str('! Tu as ' + str(age) + ' ans.')"
   ]
  },
  {
   "cell_type": "code",
   "execution_count": 35,
   "id": "845a0328",
   "metadata": {},
   "outputs": [
    {
     "data": {
      "text/plain": [
       "'La valeur de pi est 3.14 .'"
      ]
     },
     "execution_count": 35,
     "metadata": {},
     "output_type": "execute_result"
    }
   ],
   "source": [
    "f\"La valeur de pi est {pi:.2f} .\""
   ]
  },
  {
   "cell_type": "code",
   "execution_count": 37,
   "id": "f9ccca88",
   "metadata": {},
   "outputs": [
    {
     "data": {
      "text/plain": [
       "'La valeur de pi est 56.00 .'"
      ]
     },
     "execution_count": 37,
     "metadata": {},
     "output_type": "execute_result"
    }
   ],
   "source": [
    "x = 56\n",
    "f\"La valeur de pi est {x:.2f} .\""
   ]
  },
  {
   "cell_type": "code",
   "execution_count": 42,
   "id": "2637b363",
   "metadata": {},
   "outputs": [
    {
     "data": {
      "text/plain": [
       "'La valeur de 56 en binaire est 111000.'"
      ]
     },
     "execution_count": 42,
     "metadata": {},
     "output_type": "execute_result"
    }
   ],
   "source": [
    "x = 56\n",
    "f\"La valeur de {x} en binaire est {x:b}.\""
   ]
  },
  {
   "cell_type": "code",
   "execution_count": 45,
   "id": "8611391a",
   "metadata": {},
   "outputs": [
    {
     "name": "stdout",
     "output_type": "stream",
     "text": [
      "Le nombre est     45\n",
      "Le nombre est      3\n",
      "Le nombre est    167\n"
     ]
    }
   ],
   "source": [
    "x1 = 45\n",
    "x2 = 3\n",
    "x3 = 167\n",
    "print(f\"Le nombre est {x1:>6d}\")\n",
    "print(f\"Le nombre est {x2:>6d}\")\n",
    "print(f\"Le nombre est {x3:>6d}\")"
   ]
  },
  {
   "cell_type": "code",
   "execution_count": 47,
   "id": "51ce5dc5",
   "metadata": {},
   "outputs": [
    {
     "name": "stdout",
     "output_type": "stream",
     "text": [
      "Le nombre est --45--\n",
      "Le nombre est --3---\n",
      "Le nombre est -167--\n"
     ]
    }
   ],
   "source": [
    "print(f\"Le nombre est {x1:-^6d}\")\n",
    "print(f\"Le nombre est {x2:-^6d}\")\n",
    "print(f\"Le nombre est {x3:-^6d}\")"
   ]
  },
  {
   "cell_type": "code",
   "execution_count": 49,
   "id": "cbde3b65",
   "metadata": {},
   "outputs": [
    {
     "data": {
      "text/plain": [
       "'25-09-2024'"
      ]
     },
     "execution_count": 49,
     "metadata": {},
     "output_type": "execute_result"
    }
   ],
   "source": [
    "jour = 25\n",
    "mois = 9\n",
    "annee = 2024\n",
    "f\"{jour:0>2d}-{mois:0>2d}-{annee}\""
   ]
  },
  {
   "cell_type": "code",
   "execution_count": null,
   "id": "c8d6432e",
   "metadata": {},
   "outputs": [],
   "source": []
  },
  {
   "cell_type": "code",
   "execution_count": null,
   "id": "bd8d8fea",
   "metadata": {},
   "outputs": [],
   "source": []
  },
  {
   "cell_type": "code",
   "execution_count": null,
   "id": "cbbbc6a2",
   "metadata": {},
   "outputs": [],
   "source": []
  },
  {
   "cell_type": "markdown",
   "id": "13e565c5",
   "metadata": {},
   "source": [
    "# Autres détails sur les f-strings\n",
    "* Afficher des accolades"
   ]
  },
  {
   "cell_type": "code",
   "execution_count": 50,
   "id": "4fddbefe",
   "metadata": {},
   "outputs": [
    {
     "data": {
      "text/plain": [
       "'56 {x}'"
      ]
     },
     "execution_count": 50,
     "metadata": {},
     "output_type": "execute_result"
    }
   ],
   "source": [
    "f\"{x} {{x}}\""
   ]
  },
  {
   "cell_type": "markdown",
   "id": "3070f8f6",
   "metadata": {},
   "source": [
    "# Expressions dans les f-strings\n",
    "\n"
   ]
  },
  {
   "cell_type": "code",
   "execution_count": 52,
   "id": "80e55a4e",
   "metadata": {},
   "outputs": [
    {
     "data": {
      "text/plain": [
       "'34.75'"
      ]
     },
     "execution_count": 52,
     "metadata": {},
     "output_type": "execute_result"
    }
   ],
   "source": [
    "f\"{34+3/4}\""
   ]
  },
  {
   "cell_type": "markdown",
   "id": "d8b5a4c9",
   "metadata": {},
   "source": [
    "# Écriture scientifique"
   ]
  },
  {
   "cell_type": "code",
   "execution_count": 61,
   "id": "27a56385",
   "metadata": {},
   "outputs": [
    {
     "data": {
      "text/plain": [
       "'La vitesse de la lumière est       2.998e+08 m/s.'"
      ]
     },
     "execution_count": 61,
     "metadata": {},
     "output_type": "execute_result"
    }
   ],
   "source": [
    "c = 299_792_458\n",
    "\n",
    "f\"La vitesse de la lumière est {c:>15.3e} m/s.\""
   ]
  },
  {
   "cell_type": "markdown",
   "id": "0548f6e2",
   "metadata": {},
   "source": [
    "# Exercices\n",
    "\n",
    "##  Écriture formatée\n",
    "\n",
    "En utilisant l'écriture formatée, affichez en une seule ligne les variables a, b et c dont les valeurs sont respectivement la chaîne de caractères \"salut\", le nombre entier 102 et le float 10.318. La variable c sera affichée avec deux décimales.\n",
    "\n",
    "## Fractions\n",
    "\n",
    "Utilisez l'opérateur modulo (%) et l'opérateur division entière (//) pour simplifier des fractions, connaissant leur numérateur et leur dénominateur, et afficher le résultat avec des f-strings.\n",
    "\n",
    "Par exemple : ``7/3 = 2 + 1/3``"
   ]
  },
  {
   "cell_type": "code",
   "execution_count": null,
   "id": "787035c6",
   "metadata": {},
   "outputs": [],
   "source": [
    "https://github.com/clade/CPES-2024-2025"
   ]
  },
  {
   "cell_type": "code",
   "execution_count": null,
   "id": "f610b81e",
   "metadata": {},
   "outputs": [],
   "source": []
  }
 ],
 "metadata": {
  "kernelspec": {
   "display_name": "Odeon 3.10",
   "language": "python",
   "name": "odeon310"
  },
  "language_info": {
   "codemirror_mode": {
    "name": "ipython",
    "version": 3
   },
   "file_extension": ".py",
   "mimetype": "text/x-python",
   "name": "python",
   "nbconvert_exporter": "python",
   "pygments_lexer": "ipython3",
   "version": "3.10.12"
  },
  "varInspector": {
   "cols": {
    "lenName": 16,
    "lenType": 16,
    "lenVar": 40
   },
   "kernels_config": {
    "python": {
     "delete_cmd_postfix": "",
     "delete_cmd_prefix": "del ",
     "library": "var_list.py",
     "varRefreshCmd": "print(var_dic_list())"
    },
    "r": {
     "delete_cmd_postfix": ") ",
     "delete_cmd_prefix": "rm(",
     "library": "var_list.r",
     "varRefreshCmd": "cat(var_dic_list()) "
    }
   },
   "types_to_exclude": [
    "module",
    "function",
    "builtin_function_or_method",
    "instance",
    "_Feature"
   ],
   "window_display": false
  }
 },
 "nbformat": 4,
 "nbformat_minor": 5
}
