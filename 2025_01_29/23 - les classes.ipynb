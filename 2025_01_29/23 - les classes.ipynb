{
 "cells": [
  {
   "cell_type": "markdown",
   "id": "1325dbf2",
   "metadata": {},
   "source": [
    "# Définition\n",
    "\n",
    "Une classe définit des **objets**, qui sont des **instances** (des représentants) de cette **classe**. Dans ce chapitre, on utilisera\n",
    "les mots objet ou instance pour désigner la même chose. Les objets peuvent posséder des **attributs** (variables associées\n",
    "aux objets) et des **méthodes** (qui sont des fonctions associées aux objets et qui peuvent agir sur ces derniers, ou encore\n",
    "les utiliser).\n",
    "\n",
    "Exemples : "
   ]
  },
  {
   "cell_type": "code",
   "execution_count": 3,
   "id": "e0efcb39",
   "metadata": {},
   "outputs": [
    {
     "data": {
      "text/plain": [
       "4.0"
      ]
     },
     "execution_count": 3,
     "metadata": {},
     "output_type": "execute_result"
    }
   ],
   "source": [
    "z = 1 + 4J\n",
    "z.real\n",
    "z.imag"
   ]
  },
  {
   "cell_type": "code",
   "execution_count": 4,
   "id": "c22ca4a0",
   "metadata": {},
   "outputs": [
    {
     "data": {
      "text/plain": [
       "'BONJOUR'"
      ]
     },
     "execution_count": 4,
     "metadata": {},
     "output_type": "execute_result"
    }
   ],
   "source": [
    "s = 'bonjour'\n",
    "s.upper()"
   ]
  },
  {
   "cell_type": "code",
   "execution_count": 8,
   "id": "bdb5c778",
   "metadata": {},
   "outputs": [
    {
     "data": {
      "text/plain": [
       "str"
      ]
     },
     "execution_count": 8,
     "metadata": {},
     "output_type": "execute_result"
    }
   ],
   "source": [
    "type(s)"
   ]
  },
  {
   "cell_type": "code",
   "execution_count": 9,
   "id": "b9878066",
   "metadata": {},
   "outputs": [
    {
     "data": {
      "text/plain": [
       "True"
      ]
     },
     "execution_count": 9,
     "metadata": {},
     "output_type": "execute_result"
    }
   ],
   "source": [
    "isinstance(s, str)"
   ]
  },
  {
   "cell_type": "markdown",
   "id": "c8ae9c1d",
   "metadata": {},
   "source": [
    "# Construction d'une classe\n",
    "\n"
   ]
  },
  {
   "cell_type": "code",
   "execution_count": 16,
   "id": "330accd4",
   "metadata": {},
   "outputs": [],
   "source": [
    "class Citron:\n",
    "    pass\n",
    "\n",
    "citron1 = Citron()\n",
    "citron2 = Citron()"
   ]
  },
  {
   "cell_type": "code",
   "execution_count": 17,
   "id": "d33d90b4",
   "metadata": {},
   "outputs": [
    {
     "data": {
      "text/plain": [
       "True"
      ]
     },
     "execution_count": 17,
     "metadata": {},
     "output_type": "execute_result"
    }
   ],
   "source": [
    "isinstance(citron1, Citron)"
   ]
  },
  {
   "cell_type": "code",
   "execution_count": 18,
   "id": "a2c0c94f",
   "metadata": {},
   "outputs": [
    {
     "name": "stdout",
     "output_type": "stream",
     "text": [
      "<__main__.Citron object at 0x778c655de680>\n"
     ]
    }
   ],
   "source": [
    "print(citron1)"
   ]
  },
  {
   "cell_type": "code",
   "execution_count": 19,
   "id": "91058b13",
   "metadata": {},
   "outputs": [
    {
     "name": "stdout",
     "output_type": "stream",
     "text": [
      "<__main__.Citron object at 0x778c655dfe80>\n"
     ]
    }
   ],
   "source": [
    "print(citron2)"
   ]
  },
  {
   "cell_type": "markdown",
   "id": "3e45c5bd",
   "metadata": {},
   "source": [
    "* Ajouter des attributs"
   ]
  },
  {
   "cell_type": "code",
   "execution_count": 21,
   "id": "b9db6584",
   "metadata": {},
   "outputs": [],
   "source": [
    "citron1.couleur = 'jaune'\n",
    "citron1.masse = 0.134\n"
   ]
  },
  {
   "cell_type": "code",
   "execution_count": 22,
   "id": "b13d0c52",
   "metadata": {},
   "outputs": [
    {
     "data": {
      "text/plain": [
       "'jaune'"
      ]
     },
     "execution_count": 22,
     "metadata": {},
     "output_type": "execute_result"
    }
   ],
   "source": [
    "citron1.couleur"
   ]
  },
  {
   "cell_type": "code",
   "execution_count": null,
   "id": "b578a802",
   "metadata": {},
   "outputs": [],
   "source": []
  },
  {
   "cell_type": "markdown",
   "id": "0f8aeef3",
   "metadata": {},
   "source": [
    "* Utilisation de ``dir`` pour connaitre les attributs d'un objet"
   ]
  },
  {
   "cell_type": "code",
   "execution_count": 23,
   "id": "550c46a8",
   "metadata": {},
   "outputs": [
    {
     "data": {
      "text/plain": [
       "['__class__',\n",
       " '__delattr__',\n",
       " '__dict__',\n",
       " '__dir__',\n",
       " '__doc__',\n",
       " '__eq__',\n",
       " '__format__',\n",
       " '__ge__',\n",
       " '__getattribute__',\n",
       " '__gt__',\n",
       " '__hash__',\n",
       " '__init__',\n",
       " '__init_subclass__',\n",
       " '__le__',\n",
       " '__lt__',\n",
       " '__module__',\n",
       " '__ne__',\n",
       " '__new__',\n",
       " '__reduce__',\n",
       " '__reduce_ex__',\n",
       " '__repr__',\n",
       " '__setattr__',\n",
       " '__sizeof__',\n",
       " '__str__',\n",
       " '__subclasshook__',\n",
       " '__weakref__',\n",
       " 'couleur',\n",
       " 'masse']"
      ]
     },
     "execution_count": 23,
     "metadata": {},
     "output_type": "execute_result"
    }
   ],
   "source": [
    "dir(citron1)"
   ]
  },
  {
   "cell_type": "code",
   "execution_count": 24,
   "id": "5f7f828d",
   "metadata": {},
   "outputs": [
    {
     "data": {
      "text/plain": [
       "{'couleur': 'jaune', 'masse': 0.134}"
      ]
     },
     "execution_count": 24,
     "metadata": {},
     "output_type": "execute_result"
    }
   ],
   "source": [
    "citron1.__dict__"
   ]
  },
  {
   "cell_type": "code",
   "execution_count": 25,
   "id": "2c0da932",
   "metadata": {},
   "outputs": [
    {
     "data": {
      "text/plain": [
       "{}"
      ]
     },
     "execution_count": 25,
     "metadata": {},
     "output_type": "execute_result"
    }
   ],
   "source": [
    "citron2.__dict__"
   ]
  },
  {
   "cell_type": "code",
   "execution_count": 27,
   "id": "553606f2",
   "metadata": {},
   "outputs": [],
   "source": [
    "l = []\n",
    "#dir(l)"
   ]
  },
  {
   "cell_type": "code",
   "execution_count": null,
   "id": "0f62d529",
   "metadata": {},
   "outputs": [],
   "source": []
  },
  {
   "cell_type": "markdown",
   "id": "da08ebc7",
   "metadata": {},
   "source": [
    "## Attributs d'instance / attributs de classe"
   ]
  },
  {
   "cell_type": "code",
   "execution_count": 30,
   "id": "8710f800",
   "metadata": {},
   "outputs": [
    {
     "data": {
      "text/plain": [
       "'JAUNE'"
      ]
     },
     "execution_count": 30,
     "metadata": {},
     "output_type": "execute_result"
    }
   ],
   "source": [
    "class Citron:\n",
    "    couleur = \"JAUNE\"\n",
    "    \n",
    "Citron.couleur"
   ]
  },
  {
   "cell_type": "code",
   "execution_count": 31,
   "id": "640dbd61",
   "metadata": {},
   "outputs": [
    {
     "data": {
      "text/plain": [
       "'JAUNE'"
      ]
     },
     "execution_count": 31,
     "metadata": {},
     "output_type": "execute_result"
    }
   ],
   "source": [
    "citron1 = Citron()\n",
    "citron1.couleur"
   ]
  },
  {
   "cell_type": "code",
   "execution_count": 33,
   "id": "5ff409ff",
   "metadata": {},
   "outputs": [
    {
     "data": {
      "text/plain": [
       "{}"
      ]
     },
     "execution_count": 33,
     "metadata": {},
     "output_type": "execute_result"
    }
   ],
   "source": [
    "citron1.__dict__"
   ]
  },
  {
   "cell_type": "code",
   "execution_count": 37,
   "id": "1a87b4d6",
   "metadata": {},
   "outputs": [],
   "source": [
    "citron1.couleur = 'vert'\n",
    "citron1.masse = 0.245"
   ]
  },
  {
   "cell_type": "code",
   "execution_count": 35,
   "id": "6c73ac14",
   "metadata": {},
   "outputs": [
    {
     "data": {
      "text/plain": [
       "'vert'"
      ]
     },
     "execution_count": 35,
     "metadata": {},
     "output_type": "execute_result"
    }
   ],
   "source": [
    "citron1.couleur"
   ]
  },
  {
   "cell_type": "code",
   "execution_count": 36,
   "id": "f25d7d73",
   "metadata": {},
   "outputs": [
    {
     "data": {
      "text/plain": [
       "{'couleur': 'vert'}"
      ]
     },
     "execution_count": 36,
     "metadata": {},
     "output_type": "execute_result"
    }
   ],
   "source": [
    "citron1.__dict__"
   ]
  },
  {
   "cell_type": "code",
   "execution_count": 40,
   "id": "4d56146f",
   "metadata": {},
   "outputs": [
    {
     "name": "stdout",
     "output_type": "stream",
     "text": [
      "La masse du citron est de 0.245 kg.\n"
     ]
    }
   ],
   "source": [
    "def affiche_masse(citron):\n",
    "    masse = citron.masse\n",
    "    print(f\"La masse du citron est de {masse} kg.\")\n",
    "    \n",
    "    \n",
    "def affiche_masse(citron):\n",
    "    print(f\"La masse du citron est de {citron.masse} kg.\")\n",
    "    \n",
    "affiche_masse(citron1)"
   ]
  },
  {
   "cell_type": "code",
   "execution_count": null,
   "id": "79b22247",
   "metadata": {},
   "outputs": [],
   "source": []
  },
  {
   "cell_type": "code",
   "execution_count": null,
   "id": "9af92266",
   "metadata": {},
   "outputs": [],
   "source": []
  },
  {
   "cell_type": "markdown",
   "id": "be468c20",
   "metadata": {},
   "source": [
    "## Méthodes"
   ]
  },
  {
   "cell_type": "code",
   "execution_count": 59,
   "id": "e8d39286",
   "metadata": {},
   "outputs": [
    {
     "data": {
      "text/plain": [
       "<function __main__.Citron.affiche_masse(self)>"
      ]
     },
     "execution_count": 59,
     "metadata": {},
     "output_type": "execute_result"
    }
   ],
   "source": [
    "class Citron:\n",
    "    couleur = \"JAUNE\"\n",
    "\n",
    "    def affiche_masse(self):\n",
    "        print(f\"La masse du citron est de {self.masse} kg.\")\n",
    "\n",
    "    def affiche_plusieurs_fois_masse(self, n):\n",
    "        for i in range(n):\n",
    "            print(f\"La masse du citron est de {self.masse} kg.\")\n",
    "\n",
    "        \n",
    "    def coucou(self):\n",
    "        print('COUCOU')\n",
    "\n",
    "Citron.affiche_masse"
   ]
  },
  {
   "cell_type": "code",
   "execution_count": 60,
   "id": "d500cabf",
   "metadata": {},
   "outputs": [],
   "source": [
    "citron1 = Citron()\n",
    "citron1.masse = 0.156\n",
    "\n",
    "# Citron.affiche_masse(citron1) # Fonction"
   ]
  },
  {
   "cell_type": "code",
   "execution_count": 66,
   "id": "f4c3fa2e",
   "metadata": {},
   "outputs": [
    {
     "name": "stdout",
     "output_type": "stream",
     "text": [
      "La masse du citron est de 0.156 kg.\n",
      "La masse du citron est de 0.156 kg.\n",
      "La masse du citron est de 0.156 kg.\n",
      "La masse du citron est de 0.156 kg.\n",
      "La masse du citron est de 0.156 kg.\n"
     ]
    }
   ],
   "source": [
    "citron1.affiche_masse() # Méthode\n",
    "\n",
    "citron1.affiche_plusieurs_fois_masse(4) # Méthode"
   ]
  },
  {
   "cell_type": "code",
   "execution_count": 62,
   "id": "63d241bc",
   "metadata": {},
   "outputs": [
    {
     "name": "stdout",
     "output_type": "stream",
     "text": [
      "COUCOU\n"
     ]
    }
   ],
   "source": [
    "citron1.coucou()"
   ]
  },
  {
   "cell_type": "markdown",
   "id": "a578ef9c",
   "metadata": {},
   "source": [
    "## Initialisation d'un objet"
   ]
  },
  {
   "cell_type": "code",
   "execution_count": 71,
   "id": "58af378f",
   "metadata": {},
   "outputs": [
    {
     "name": "stdout",
     "output_type": "stream",
     "text": [
      "La masse du citron est de 0.145 kg.\n"
     ]
    }
   ],
   "source": [
    "class Citron:\n",
    "    couleur = \"JAUNE\"\n",
    "\n",
    "    def __init__(self, mass):\n",
    "        self.masse = mass\n",
    "    \n",
    "    def affiche_masse(self):\n",
    "        print(f\"La masse du citron est de {self.masse} kg.\")\n",
    "\n",
    "citron1 = Citron(0.145) # citron1.__init__(0.145)\n",
    "citron1.affiche_masse()"
   ]
  },
  {
   "cell_type": "code",
   "execution_count": null,
   "id": "f001ed83",
   "metadata": {},
   "outputs": [],
   "source": []
  },
  {
   "cell_type": "markdown",
   "id": "7a6350be",
   "metadata": {},
   "source": [
    "# Exercice\n",
    "\n",
    "* Créer une classe ``Rectangle`` que l'on initialisera avec : \n",
    "  * longueur\n",
    "  * largeur\n",
    "  * couleur\n",
    "\n",
    "* Ajouter une méthode ``calcule_surface`` qui renvoie la surface\n",
    "* Ajouter un méthode  ``calcule_perimetre`` qui renvoie le périmètre"
   ]
  },
  {
   "cell_type": "code",
   "execution_count": 76,
   "id": "dcb0edd7",
   "metadata": {},
   "outputs": [
    {
     "data": {
      "text/plain": [
       "20"
      ]
     },
     "execution_count": 76,
     "metadata": {},
     "output_type": "execute_result"
    }
   ],
   "source": [
    "class Rectangle:\n",
    "    def __init__(self, largeur, longueur, couleur):\n",
    "        self.largeur = largeur\n",
    "        self.longueur = longueur\n",
    "        self.couleur = couleur\n",
    "        \n",
    "    def calcule_surface(self):\n",
    "        return self.largeur*self.longueur\n",
    "\n",
    "    def calcule_perimetre(self):\n",
    "        return 2*(self.largeur + self.longueur)\n",
    "\n",
    "    \n",
    "rect1 = Rectangle(4, 6, 'bleu')\n",
    "rect1.largeur * rect1.longueur\n",
    "\n",
    "rect1.calcule_surface()\n",
    "rect1.calcule_perimetre()"
   ]
  },
  {
   "cell_type": "code",
   "execution_count": null,
   "id": "d67d86f2",
   "metadata": {},
   "outputs": [],
   "source": []
  },
  {
   "cell_type": "code",
   "execution_count": null,
   "id": "597e3232",
   "metadata": {},
   "outputs": [],
   "source": []
  },
  {
   "cell_type": "markdown",
   "id": "f1c3dacd",
   "metadata": {},
   "source": [
    "* Créer un objet ``Disque`` que l'on initialisera avec un rayon et une couleur. On lui donnera les mêmes méthodes que ``Rectangle``"
   ]
  },
  {
   "cell_type": "code",
   "execution_count": 77,
   "id": "5f7f00f6",
   "metadata": {},
   "outputs": [
    {
     "data": {
      "text/plain": [
       "12.566370614359172"
      ]
     },
     "execution_count": 77,
     "metadata": {},
     "output_type": "execute_result"
    }
   ],
   "source": [
    "from math import pi\n",
    "\n",
    "class Disque:\n",
    "    def __init__(self, rayon, couleur):\n",
    "        self.rayon = rayon\n",
    "        self.couleur = couleur\n",
    "        \n",
    "    def calcule_surface(self):\n",
    "        return pi*self.rayon**2\n",
    "    \n",
    "    def calcule_perimetre(self):\n",
    "        return 2*pi*self.rayon\n",
    "    \n",
    "disque = Disque(2, 'jaune')\n",
    "disque.calcule_perimetre()"
   ]
  },
  {
   "cell_type": "code",
   "execution_count": 78,
   "id": "2064a24a",
   "metadata": {},
   "outputs": [],
   "source": [
    "figure_geometrique = Rectangle(4, 5, 'vert')\n"
   ]
  },
  {
   "cell_type": "code",
   "execution_count": 79,
   "id": "249c6cc8",
   "metadata": {},
   "outputs": [
    {
     "data": {
      "text/plain": [
       "20"
      ]
     },
     "execution_count": 79,
     "metadata": {},
     "output_type": "execute_result"
    }
   ],
   "source": [
    "figure_geometrique.calcule_surface()"
   ]
  },
  {
   "cell_type": "code",
   "execution_count": 81,
   "id": "2e91f4a5",
   "metadata": {},
   "outputs": [
    {
     "name": "stdout",
     "output_type": "stream",
     "text": [
      "La surface est 20 m².\n"
     ]
    }
   ],
   "source": [
    "def affiche_surface(figure):\n",
    "    print(f'La surface est {figure.calcule_surface()} m².')\n",
    "affiche_surface(figure_geometrique)"
   ]
  },
  {
   "cell_type": "code",
   "execution_count": 83,
   "id": "cc400c36",
   "metadata": {},
   "outputs": [
    {
     "name": "stdout",
     "output_type": "stream",
     "text": [
      "<__main__.Rectangle object at 0x778c5f548fa0>\n"
     ]
    }
   ],
   "source": [
    "print(figure_geometrique)"
   ]
  },
  {
   "cell_type": "code",
   "execution_count": null,
   "id": "b952a4f4",
   "metadata": {},
   "outputs": [],
   "source": []
  }
 ],
 "metadata": {
  "kernelspec": {
   "display_name": "Odeon 3.10",
   "language": "python",
   "name": "odeon310"
  },
  "language_info": {
   "codemirror_mode": {
    "name": "ipython",
    "version": 3
   },
   "file_extension": ".py",
   "mimetype": "text/x-python",
   "name": "python",
   "nbconvert_exporter": "python",
   "pygments_lexer": "ipython3",
   "version": "3.10.12"
  },
  "varInspector": {
   "cols": {
    "lenName": 16,
    "lenType": 16,
    "lenVar": 40
   },
   "kernels_config": {
    "python": {
     "delete_cmd_postfix": "",
     "delete_cmd_prefix": "del ",
     "library": "var_list.py",
     "varRefreshCmd": "print(var_dic_list())"
    },
    "r": {
     "delete_cmd_postfix": ") ",
     "delete_cmd_prefix": "rm(",
     "library": "var_list.r",
     "varRefreshCmd": "cat(var_dic_list()) "
    }
   },
   "types_to_exclude": [
    "module",
    "function",
    "builtin_function_or_method",
    "instance",
    "_Feature"
   ],
   "window_display": false
  }
 },
 "nbformat": 4,
 "nbformat_minor": 5
}
