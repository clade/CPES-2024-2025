{
 "cells": [
  {
   "cell_type": "markdown",
   "id": "f2b78b49",
   "metadata": {},
   "source": [
    "# Boucles"
   ]
  },
  {
   "cell_type": "markdown",
   "id": "6e93adfd",
   "metadata": {},
   "source": [
    "## Boucles simples\n",
    "\n",
    "1. Afficher la racine carré de tous les entiers entre 2 et 10 inclus. La fonction racine carré (``sqrt`` pour square root) doit être importée depuis le module ``math`` à l'aide de la commande suivante :"
   ]
  },
  {
   "cell_type": "code",
   "execution_count": null,
   "id": "22215eda",
   "metadata": {
    "tags": [
     "keep"
    ]
   },
   "outputs": [],
   "source": [
    "from math import sqrt"
   ]
  },
  {
   "cell_type": "code",
   "execution_count": null,
   "id": "6e2f7d40",
   "metadata": {},
   "outputs": [],
   "source": [
    "for i in range(1, 11):\n",
    "    print(sqrt(i))"
   ]
  },
  {
   "cell_type": "markdown",
   "id": "61b987ad",
   "metadata": {},
   "source": [
    "2. Afficher tous les nombres entre 1 et 99 qui sont des multiples de 5, mais pas des multiples de 3. Notons que le reste de la division euclidienne de $a$ par $b$ s'obtient avec l'operateur modulo ``%``."
   ]
  },
  {
   "cell_type": "code",
   "execution_count": null,
   "id": "ac419bd9",
   "metadata": {},
   "outputs": [],
   "source": [
    "for i in range(100):\n",
    "    if (i%5==0) and (i%3!=0):\n",
    "        print(i)"
   ]
  },
  {
   "cell_type": "markdown",
   "id": "ff55b19b",
   "metadata": {},
   "source": [
    "## Somme d'une série\n",
    "\n",
    "1. Calculer:\n",
    "\n",
    "$$ \\sum_{k=1}^{k=n} \\frac{1}{k}$$\n",
    "\n",
    "pour n = 20.\n",
    "\n",
    "2. Cette somme diverge. Calculer la plus grande valeur de $n$ pour laquelle cette somme est inférieure à 10. "
   ]
  },
  {
   "cell_type": "code",
   "execution_count": null,
   "id": "6a65f6db",
   "metadata": {},
   "outputs": [],
   "source": [
    "resultat = 0\n",
    "for k in range(1, 21):\n",
    "    resultat = resultat + 1/k\n",
    "print(resultat)"
   ]
  },
  {
   "cell_type": "code",
   "execution_count": null,
   "id": "34a1ec9f",
   "metadata": {},
   "outputs": [],
   "source": [
    "resultat = 0\n",
    "k = 0\n",
    "while resultat< 10:\n",
    "    k += 1\n",
    "    resultat = resultat + 1/k\n",
    "    \n",
    "print(k, resultat)"
   ]
  },
  {
   "cell_type": "markdown",
   "id": "a24de3c6",
   "metadata": {},
   "source": [
    "## Suite de Syracuse"
   ]
  },
  {
   "cell_type": "markdown",
   "id": "a4754f45",
   "metadata": {},
   "source": [
    "La suite de Syracuse d'un nombtre entre $N>0$ est définie par récurrence de la manière suivante : \n",
    "\n",
    "- $u_0 = N$\n",
    "- et pour tout entier naturel $n$ : $u_{n+1} =  \\begin{cases}\n",
    "  \\dfrac{u_n}{2}& \\mbox{si } u_n \\mbox{ est pair,}\\\\\n",
    "   3u_n + 1 & \\mbox{si } u_n \\mbox{ est impair.}\n",
    " \\end{cases}$\n",
    " \n",
    "1. Calculer et afficher les 25 premiers termes de la suite pour $N=15$\n",
    " \n",
    "2. La conjecture de Syracuse affirme que la suite atteint toujours 1. Combien d'itérations faut-il pour atteindre 1 avec $N=27$ ? \n",
    "\n",
    "Ce nombre d'itération pour atteindre 1 est le durée du vol. \n",
    "\n",
    "3. Quels sont les nombres $N<1000$ pour lesquels la durée du vol est supérieure à N ?\n"
   ]
  },
  {
   "cell_type": "code",
   "execution_count": null,
   "id": "cd4a2231",
   "metadata": {},
   "outputs": [],
   "source": [
    "u = 15\n",
    "for i in range(25):\n",
    "    if u%2==0:\n",
    "        u = u//2\n",
    "    else:\n",
    "        u = 3*u + 1\n",
    "    print(u)"
   ]
  },
  {
   "cell_type": "code",
   "execution_count": null,
   "id": "9c53ecde",
   "metadata": {},
   "outputs": [],
   "source": [
    "u = 27\n",
    "indice = 0\n",
    "while u!=1:\n",
    "    if u%2==0:\n",
    "        u = u//2\n",
    "    else:\n",
    "        u = 3*u + 1\n",
    "    indice += 1\n",
    "print(indice)"
   ]
  },
  {
   "cell_type": "code",
   "execution_count": null,
   "id": "046dcdad",
   "metadata": {},
   "outputs": [],
   "source": [
    "for N in range(1, 1001):\n",
    "    u = N\n",
    "    indice = 0\n",
    "    while u!=1:\n",
    "        if u%2==0:\n",
    "            u = u//2\n",
    "        else:\n",
    "            u = 3*u + 1\n",
    "        indice += 1\n",
    "    if indice > N:\n",
    "        print(N, indice)"
   ]
  },
  {
   "cell_type": "code",
   "execution_count": null,
   "id": "194a1926",
   "metadata": {},
   "outputs": [],
   "source": []
  },
  {
   "cell_type": "markdown",
   "id": "f11105dd",
   "metadata": {},
   "source": [
    "## Parcours d'une liste\n",
    "\n",
    "On considère la liste suivante : "
   ]
  },
  {
   "cell_type": "code",
   "execution_count": null,
   "id": "ff338c19",
   "metadata": {
    "tags": [
     "keep"
    ]
   },
   "outputs": [],
   "source": [
    "ma_liste = [1.3, 3.6, 6.8, 4.1, 4.8, 2.6, 9.8]"
   ]
  },
  {
   "cell_type": "markdown",
   "id": "8cfd040d",
   "metadata": {},
   "source": [
    "1. Afficher le carré de tous les élements de la liste\n",
    "2. Afficher tous les élements de la liste supérieur à 4.\n",
    "3. Créer une nouvelle liste contenant la racine carré de tous les éléments de la liste initiale."
   ]
  },
  {
   "cell_type": "code",
   "execution_count": null,
   "id": "a15bb7e1",
   "metadata": {},
   "outputs": [],
   "source": [
    "for item in ma_liste : \n",
    "    print(item**2)"
   ]
  },
  {
   "cell_type": "code",
   "execution_count": null,
   "id": "881b1bb8",
   "metadata": {},
   "outputs": [],
   "source": [
    "for item in ma_liste : \n",
    "    if item>4:\n",
    "        print(item)"
   ]
  },
  {
   "cell_type": "code",
   "execution_count": null,
   "id": "de4c2c56",
   "metadata": {},
   "outputs": [],
   "source": [
    "liste_des_racines_carres = []\n",
    "for item in ma_liste:\n",
    "    liste_des_racines_carres.append(math.sqrt(item))\n",
    "    \n",
    "liste_des_racines_carres"
   ]
  },
  {
   "cell_type": "code",
   "execution_count": null,
   "id": "42d03690",
   "metadata": {},
   "outputs": [],
   "source": []
  },
  {
   "cell_type": "code",
   "execution_count": null,
   "id": "6bd61290",
   "metadata": {},
   "outputs": [],
   "source": []
  },
  {
   "cell_type": "markdown",
   "id": "e1e4ab3d",
   "metadata": {},
   "source": [
    "## Parcours de deux listes\n",
    "\n",
    "Voici deux listes : des prénoms et des ages."
   ]
  },
  {
   "cell_type": "code",
   "execution_count": null,
   "id": "cb1cc9f1",
   "metadata": {
    "tags": [
     "keep"
    ]
   },
   "outputs": [],
   "source": [
    "liste_prenoms = [\"Louise\", \"Ambre\", \"Alba\", \"Gabriel\", \"Raphaël\", \"Léo\"]\n",
    "liste_ages = [4, 3, 2, 7, 2, 10]"
   ]
  },
  {
   "cell_type": "markdown",
   "id": "522dca5f",
   "metadata": {},
   "source": [
    "1. Comment vérifier que les deux listes ont la même taille ?\n",
    "2. Afficher à la suite les prenoms et l'age (par exemple ``Louise : 4``)\n",
    "3. Parcourir la liste et afficher uniquement le prénom des enfants qui ont 2 ans.\n"
   ]
  },
  {
   "cell_type": "code",
   "execution_count": null,
   "id": "ebbe5e35",
   "metadata": {},
   "outputs": [],
   "source": [
    "print(len(liste_prenoms)==len(liste_ages))\n",
    "\n",
    "for i in range(len(liste_ages)):\n",
    "    prenom = liste_prenoms[i]\n",
    "    age = liste_ages[i]\n",
    "    print(prenom, ':', age)\n",
    "    \n",
    "    "
   ]
  },
  {
   "cell_type": "code",
   "execution_count": null,
   "id": "dcaad3c8",
   "metadata": {},
   "outputs": [],
   "source": [
    "    \n",
    "for i in range(len(liste_ages)):\n",
    "    prenom = liste_prenoms[i]\n",
    "    age = liste_ages[i]\n",
    "    if age==2:\n",
    "        print(prenom, ':', age)\n"
   ]
  },
  {
   "cell_type": "markdown",
   "id": "4cc50906",
   "metadata": {},
   "source": [
    "\n",
    "On modifie les données, et on crée maintenant une liste dont chaque élément est une liste contenant le prénom et l'age. "
   ]
  },
  {
   "cell_type": "code",
   "execution_count": null,
   "id": "907565b2",
   "metadata": {
    "tags": [
     "keep"
    ]
   },
   "outputs": [],
   "source": [
    "liste_prenoms_et_ages = [\n",
    " ['Louise', 4],\n",
    " ['Ambre', 3],\n",
    " ['Alba', 6],\n",
    " ['Gabriel', 7],\n",
    " ['Raphaël', 2],\n",
    " ['Léo', 10]]"
   ]
  },
  {
   "cell_type": "code",
   "execution_count": null,
   "id": "6924deda",
   "metadata": {},
   "outputs": [],
   "source": []
  },
  {
   "cell_type": "markdown",
   "id": "5ee7be1f",
   "metadata": {},
   "source": [
    "4. Que vaut ``liste_prenoms_et_ages[1][0]`` ? Comment extraire l'age de Gabriel ?\n",
    "5. Reprendre les questions 2 et 3 avec cette nouvelle liste. "
   ]
  },
  {
   "cell_type": "code",
   "execution_count": null,
   "id": "1f1dd581",
   "metadata": {},
   "outputs": [],
   "source": [
    "for i in range(len(liste_prenoms_et_ages)):\n",
    "    prenom = liste_prenoms_et_ages[i][0]\n",
    "    age = liste_prenoms_et_ages[i][1]\n",
    "    print(prenom, ':', age)\n",
    "    "
   ]
  },
  {
   "cell_type": "code",
   "execution_count": null,
   "id": "0af432b0",
   "metadata": {},
   "outputs": [],
   "source": []
  }
 ],
 "metadata": {
  "celltoolbar": "Tags",
  "kernelspec": {
   "display_name": "Python 3",
   "language": "python",
   "name": "python3"
  },
  "language_info": {
   "codemirror_mode": {
    "name": "ipython",
    "version": 3
   },
   "file_extension": ".py",
   "mimetype": "text/x-python",
   "name": "python",
   "nbconvert_exporter": "python",
   "pygments_lexer": "ipython3",
   "version": "3.8.8"
  },
  "varInspector": {
   "cols": {
    "lenName": 16,
    "lenType": 16,
    "lenVar": 40
   },
   "kernels_config": {
    "python": {
     "delete_cmd_postfix": "",
     "delete_cmd_prefix": "del ",
     "library": "var_list.py",
     "varRefreshCmd": "print(var_dic_list())"
    },
    "r": {
     "delete_cmd_postfix": ") ",
     "delete_cmd_prefix": "rm(",
     "library": "var_list.r",
     "varRefreshCmd": "cat(var_dic_list()) "
    }
   },
   "types_to_exclude": [
    "module",
    "function",
    "builtin_function_or_method",
    "instance",
    "_Feature"
   ],
   "window_display": false
  }
 },
 "nbformat": 4,
 "nbformat_minor": 5
}
