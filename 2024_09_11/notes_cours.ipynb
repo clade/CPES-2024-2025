{
 "cells": [
  {
   "cell_type": "markdown",
   "id": "603a6ad9",
   "metadata": {},
   "source": [
    "# Rappel de cours\n",
    "\n",
    "## Utiliser un notebook\n",
    "\n",
    "## Les variables\n"
   ]
  },
  {
   "cell_type": "code",
   "execution_count": null,
   "id": "818f8afb",
   "metadata": {},
   "outputs": [],
   "source": []
  },
  {
   "cell_type": "markdown",
   "id": "96559aa6",
   "metadata": {},
   "source": [
    "## Les nombres\n",
    "\n",
    "- Entiers, virgules flottantes\n",
    "- Opérations \n",
    "- la librairie math"
   ]
  },
  {
   "cell_type": "code",
   "execution_count": null,
   "id": "6e34968e",
   "metadata": {},
   "outputs": [],
   "source": []
  },
  {
   "cell_type": "markdown",
   "id": "693d4335",
   "metadata": {},
   "source": [
    "## Les chaînes de caractères"
   ]
  },
  {
   "cell_type": "code",
   "execution_count": null,
   "id": "0f35eecc",
   "metadata": {},
   "outputs": [],
   "source": []
  },
  {
   "cell_type": "markdown",
   "id": "5f041d25",
   "metadata": {},
   "source": [
    "## Les listes\n",
    "\n",
    "- création\n",
    "- modification \n",
    "- indexage / Tranchage"
   ]
  },
  {
   "cell_type": "code",
   "execution_count": null,
   "id": "70d12f1c",
   "metadata": {},
   "outputs": [],
   "source": []
  },
  {
   "cell_type": "markdown",
   "id": "56da70a8",
   "metadata": {},
   "source": [
    "## Les alternatives"
   ]
  },
  {
   "cell_type": "code",
   "execution_count": null,
   "id": "aa9ed593",
   "metadata": {},
   "outputs": [],
   "source": []
  },
  {
   "cell_type": "markdown",
   "id": "b3030d3e",
   "metadata": {},
   "source": [
    "## Les boucles"
   ]
  },
  {
   "cell_type": "code",
   "execution_count": null,
   "id": "ce15384b",
   "metadata": {},
   "outputs": [],
   "source": []
  },
  {
   "cell_type": "markdown",
   "id": "63456223",
   "metadata": {},
   "source": [
    "## Les fonctions"
   ]
  },
  {
   "cell_type": "code",
   "execution_count": null,
   "id": "be41f596",
   "metadata": {},
   "outputs": [],
   "source": []
  }
 ],
 "metadata": {
  "kernelspec": {
   "display_name": "Python 3",
   "language": "python",
   "name": "python3"
  },
  "language_info": {
   "codemirror_mode": {
    "name": "ipython",
    "version": 3
   },
   "file_extension": ".py",
   "mimetype": "text/x-python",
   "name": "python",
   "nbconvert_exporter": "python",
   "pygments_lexer": "ipython3",
   "version": "3.8.8"
  },
  "varInspector": {
   "cols": {
    "lenName": 16,
    "lenType": 16,
    "lenVar": 40
   },
   "kernels_config": {
    "python": {
     "delete_cmd_postfix": "",
     "delete_cmd_prefix": "del ",
     "library": "var_list.py",
     "varRefreshCmd": "print(var_dic_list())"
    },
    "r": {
     "delete_cmd_postfix": ") ",
     "delete_cmd_prefix": "rm(",
     "library": "var_list.r",
     "varRefreshCmd": "cat(var_dic_list()) "
    }
   },
   "types_to_exclude": [
    "module",
    "function",
    "builtin_function_or_method",
    "instance",
    "_Feature"
   ],
   "window_display": false
  }
 },
 "nbformat": 4,
 "nbformat_minor": 5
}
