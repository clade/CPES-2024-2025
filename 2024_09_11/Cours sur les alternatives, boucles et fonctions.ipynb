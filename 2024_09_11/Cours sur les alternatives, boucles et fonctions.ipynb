{
 "cells": [
  {
   "cell_type": "markdown",
   "id": "234f359c",
   "metadata": {},
   "source": [
    "# Alternatives\n",
    "\n",
    "Pour effectuer une action en fonction d'une condition\n",
    "\n",
    "Exemple : \n",
    "* afficher si un nombre est pair ? \n",
    "* Calculer la valeur absolue."
   ]
  },
  {
   "cell_type": "code",
   "execution_count": 13,
   "id": "4f23d6d6",
   "metadata": {},
   "outputs": [
    {
     "ename": "IndentationError",
     "evalue": "unexpected indent (<ipython-input-13-5bf2b52e47bc>, line 5)",
     "output_type": "error",
     "traceback": [
      "\u001b[0;36m  File \u001b[0;32m\"<ipython-input-13-5bf2b52e47bc>\"\u001b[0;36m, line \u001b[0;32m5\u001b[0m\n\u001b[0;31m    print('Je repète : le nombre est pair')\u001b[0m\n\u001b[0m    ^\u001b[0m\n\u001b[0;31mIndentationError\u001b[0m\u001b[0;31m:\u001b[0m unexpected indent\n"
     ]
    }
   ],
   "source": [
    "n = 27\n",
    "\n",
    "if n%2==0:\n",
    "    print('Le nombre est pair')\n",
    "    print('Je repète : le nombre est pair')\n",
    "else:\n",
    "    print('Le nombre est impair')\n",
    "print('Le repète : je nombre est impair')\n"
   ]
  },
  {
   "cell_type": "code",
   "execution_count": 47,
   "id": "b1570db0",
   "metadata": {},
   "outputs": [
    {
     "name": "stdout",
     "output_type": "stream",
     "text": [
      "A\n"
     ]
    }
   ],
   "source": [
    "n = 26\n",
    "\n",
    "if n%2==0:\n",
    "    print('A')\n",
    "elif n>10:\n",
    "    print('B')\n",
    "elif n<2:\n",
    "    print('D')\n",
    "else:\n",
    "    print('C')\n",
    "    "
   ]
  },
  {
   "cell_type": "code",
   "execution_count": 39,
   "id": "a1f99ef6",
   "metadata": {},
   "outputs": [
    {
     "name": "stdout",
     "output_type": "stream",
     "text": [
      "B\n",
      "26\n",
      "34\n"
     ]
    }
   ],
   "source": [
    "n = 27\n",
    "if n%2==0:\n",
    "    m = n + 3\n",
    "    print('A')\n",
    "    p = n*2\n",
    "else:\n",
    "    m = n - 1\n",
    "    print('B')\n",
    "    p = n+7\n",
    "    \n",
    "    \n",
    "print(m)\n",
    "print(p)\n"
   ]
  },
  {
   "cell_type": "code",
   "execution_count": 40,
   "id": "5cd9c1fa",
   "metadata": {},
   "outputs": [
    {
     "name": "stdout",
     "output_type": "stream",
     "text": [
      "1.4\n"
     ]
    }
   ],
   "source": [
    "x = -1.4\n",
    "\n",
    "if x>=0:\n",
    "    y = x\n",
    "else:\n",
    "    y = -x\n",
    "    \n",
    "print(y)"
   ]
  },
  {
   "cell_type": "code",
   "execution_count": null,
   "id": "70adce4f",
   "metadata": {},
   "outputs": [],
   "source": []
  },
  {
   "cell_type": "code",
   "execution_count": null,
   "id": "001fdc7a",
   "metadata": {},
   "outputs": [],
   "source": []
  },
  {
   "cell_type": "markdown",
   "id": "99290db4",
   "metadata": {},
   "source": [
    "## Bloc d'instructions"
   ]
  },
  {
   "cell_type": "code",
   "execution_count": null,
   "id": "df47b578",
   "metadata": {},
   "outputs": [],
   "source": []
  },
  {
   "cell_type": "markdown",
   "id": "c81de4b9",
   "metadata": {},
   "source": [
    "# Boucles While\n",
    "\n",
    "## Exemple"
   ]
  },
  {
   "cell_type": "code",
   "execution_count": 51,
   "id": "4e91c70e",
   "metadata": {},
   "outputs": [
    {
     "name": "stdout",
     "output_type": "stream",
     "text": [
      "25\n",
      "5\n"
     ]
    }
   ],
   "source": [
    "x = 5\n",
    "z = x**2\n",
    "x = 3\n",
    "y = x + 2\n",
    "\n",
    "print(z)\n",
    "print(y)\n"
   ]
  },
  {
   "cell_type": "code",
   "execution_count": 55,
   "id": "48bb8d26",
   "metadata": {},
   "outputs": [
    {
     "name": "stdout",
     "output_type": "stream",
     "text": [
      "3\n",
      "9\n"
     ]
    }
   ],
   "source": [
    "x = 3\n",
    "print(x)\n",
    "x = x**2\n",
    "print(x)\n"
   ]
  },
  {
   "cell_type": "code",
   "execution_count": 63,
   "id": "e696248d",
   "metadata": {},
   "outputs": [
    {
     "name": "stdout",
     "output_type": "stream",
     "text": [
      "1\n",
      "4\n",
      "9\n",
      "16\n"
     ]
    }
   ],
   "source": [
    "i = 0\n",
    "\n",
    "while i<4:\n",
    "    i = i + 1\n",
    "    print(i**2)\n"
   ]
  },
  {
   "cell_type": "code",
   "execution_count": null,
   "id": "2031cbb2",
   "metadata": {},
   "outputs": [],
   "source": [
    "\n",
    "\n",
    "\n",
    "\n",
    "\n",
    "\n",
    "\n",
    "\n",
    "\n",
    "\n",
    "\n",
    "\n",
    "\n",
    "\n",
    "\n",
    "\n",
    "\n",
    "\n",
    "\n",
    "\n",
    "\n"
   ]
  },
  {
   "cell_type": "markdown",
   "id": "052fab85",
   "metadata": {},
   "source": [
    "## Calcul des éléments d’une suite\n",
    "\n",
    "$$ u_0 = 0$$\n",
    "$$ u_{n} = f(u_{n-1}) $$\n",
    "\n",
    "Par exemple : $f(x) = 1/(1+x)$"
   ]
  },
  {
   "cell_type": "code",
   "execution_count": 80,
   "id": "157ed054",
   "metadata": {},
   "outputs": [
    {
     "name": "stdout",
     "output_type": "stream",
     "text": [
      "Valeur limite de la suite : 0.6180339887482037\n"
     ]
    }
   ],
   "source": [
    "n = 100\n",
    "epsilon = 0.00000000001\n",
    "\n",
    "u = 0\n",
    "u_prec = u\n",
    "u = 1/1+u\n",
    "i = 1\n",
    "while (i<n) and abs(u-u_prec)>epsilon:\n",
    "    u_prec = u\n",
    "    u = 1/(1+u)\n",
    "    i = i + 1\n",
    "\n",
    "print('Valeur limite de la suite :', u)"
   ]
  },
  {
   "cell_type": "code",
   "execution_count": 87,
   "id": "abd8d954",
   "metadata": {},
   "outputs": [
    {
     "name": "stdout",
     "output_type": "stream",
     "text": [
      "0.6180327868852459\n",
      "[0, 1.0, 0.5, 0.6666666666666666, 0.6000000000000001, 0.625, 0.6153846153846154, 0.6190476190476191, 0.6176470588235294, 0.6181818181818182, 0.6179775280898876, 0.6180555555555556, 0.6180257510729613, 0.6180371352785146, 0.6180327868852459]\n"
     ]
    }
   ],
   "source": [
    "n = 15\n",
    "epsilon = 0.00000000001\n",
    "\n",
    "u = 0\n",
    "i = 0\n",
    "liste_u = [u]\n",
    "u = 1/(1+u)\n",
    "liste_u.append(u)\n",
    "while (len(liste_u)<n) and abs(liste_u[-1] - liste_u[-2])>epsilon:\n",
    "    u = 1/(1+u)\n",
    "    liste_u.append(u)\n",
    "\n",
    "print(u)\n",
    "print(liste_u)"
   ]
  },
  {
   "cell_type": "markdown",
   "id": "8413056c",
   "metadata": {},
   "source": [
    "## Calcul d'une somme\n",
    "\n",
    "Par exemple : \n",
    "$$ \\sum_{k=0}^{k=n} \\left(\\frac{1}{2}\\right)^k $$"
   ]
  },
  {
   "cell_type": "code",
   "execution_count": 91,
   "id": "40d598db",
   "metadata": {},
   "outputs": [
    {
     "name": "stdout",
     "output_type": "stream",
     "text": [
      "1.998046875\n"
     ]
    }
   ],
   "source": [
    "n = 10\n",
    "i = 0\n",
    "somme = 0\n",
    "while i<n:\n",
    "    somme += 1/2**i\n",
    "    i += 1\n",
    "print(somme)"
   ]
  },
  {
   "cell_type": "markdown",
   "id": "7bf238f6",
   "metadata": {},
   "source": [
    "## Imbrication d'une boucle et d'une alternative\n",
    "\n"
   ]
  },
  {
   "cell_type": "code",
   "execution_count": 95,
   "id": "06059ab3",
   "metadata": {},
   "outputs": [
    {
     "name": "stdout",
     "output_type": "stream",
     "text": [
      "0 est un nombre pair\n",
      "0 est un multiple de 3\n",
      "2 est un nombre pair\n",
      "3 est un multiple de 3\n",
      "4 est un nombre pair\n",
      "6 est un nombre pair\n",
      "6 est un multiple de 3\n",
      "8 est un nombre pair\n",
      "9 est un multiple de 3\n"
     ]
    }
   ],
   "source": [
    "n = 10\n",
    "i = 0\n",
    "while i<n:\n",
    "    if i%2==0:\n",
    "        print(i, 'est un nombre pair')\n",
    "    if i%3==0:\n",
    "        print(i, 'est un multiple de 3')\n",
    "    i += 1"
   ]
  },
  {
   "cell_type": "markdown",
   "id": "2f89834d",
   "metadata": {},
   "source": [
    "## Imbrication de deux boucles\n",
    "\n",
    "Afficher les tables de multiplication"
   ]
  },
  {
   "cell_type": "code",
   "execution_count": 102,
   "id": "9c4b7bac",
   "metadata": {},
   "outputs": [
    {
     "name": "stdout",
     "output_type": "stream",
     "text": [
      "1 x 1 = 1\n",
      "1 x 2 = 2\n",
      "1 x 3 = 3\n",
      "1 x 4 = 4\n",
      "1 x 5 = 5\n",
      "2 x 2 = 4\n",
      "2 x 3 = 6\n",
      "2 x 4 = 8\n",
      "2 x 5 = 10\n",
      "3 x 3 = 9\n",
      "3 x 4 = 12\n",
      "3 x 5 = 15\n",
      "4 x 4 = 16\n",
      "4 x 5 = 20\n",
      "5 x 5 = 25\n"
     ]
    }
   ],
   "source": [
    "n = 5\n",
    "i = 0\n",
    "\n",
    "while i<5:\n",
    "    i = i + 1\n",
    "    j = i - 1\n",
    "    while j<n:\n",
    "        j = j + 1\n",
    "        print(i, 'x', j, '=', i*j)"
   ]
  },
  {
   "cell_type": "code",
   "execution_count": null,
   "id": "412e525b",
   "metadata": {},
   "outputs": [],
   "source": []
  },
  {
   "cell_type": "code",
   "execution_count": null,
   "id": "dca24288",
   "metadata": {},
   "outputs": [],
   "source": []
  },
  {
   "cell_type": "code",
   "execution_count": null,
   "id": "3c562873",
   "metadata": {},
   "outputs": [],
   "source": []
  },
  {
   "cell_type": "code",
   "execution_count": null,
   "id": "c272dd94",
   "metadata": {},
   "outputs": [],
   "source": []
  },
  {
   "cell_type": "code",
   "execution_count": null,
   "id": "42402908",
   "metadata": {},
   "outputs": [],
   "source": []
  },
  {
   "cell_type": "markdown",
   "id": "c49da942",
   "metadata": {},
   "source": [
    "## Boucles for\n",
    "\n",
    "* Parcourir automatiquement une liste\n",
    "* range\n",
    "* Boucle imbriquée"
   ]
  },
  {
   "cell_type": "code",
   "execution_count": 105,
   "id": "4ee9f5cd",
   "metadata": {},
   "outputs": [
    {
     "name": "stdout",
     "output_type": "stream",
     "text": [
      "1\n",
      "4\n",
      "8\n",
      "2\n"
     ]
    }
   ],
   "source": [
    "liste = [1, 4, 8, 2]\n",
    "for i in liste:\n",
    "    print(i)"
   ]
  },
  {
   "cell_type": "code",
   "execution_count": 106,
   "id": "c45ad4fa",
   "metadata": {},
   "outputs": [
    {
     "name": "stdout",
     "output_type": "stream",
     "text": [
      "Janvier\n",
      "Février\n",
      "Mars\n"
     ]
    }
   ],
   "source": [
    " \n",
    "liste = ['Janvier', 'Février', 'Mars']\n",
    "for mois in liste:\n",
    "    print(mois)"
   ]
  },
  {
   "cell_type": "code",
   "execution_count": 107,
   "id": "69099958",
   "metadata": {},
   "outputs": [
    {
     "name": "stdout",
     "output_type": "stream",
     "text": [
      "0\n",
      "1\n",
      "2\n",
      "3\n",
      "4\n",
      "5\n",
      "6\n",
      "7\n",
      "8\n",
      "9\n"
     ]
    }
   ],
   "source": [
    "for i in range(10):\n",
    "    print(i)"
   ]
  },
  {
   "cell_type": "code",
   "execution_count": 108,
   "id": "985274e1",
   "metadata": {},
   "outputs": [
    {
     "name": "stdout",
     "output_type": "stream",
     "text": [
      "0 1\n",
      "1 5\n",
      "2 7\n",
      "3 8\n"
     ]
    }
   ],
   "source": [
    "liste = [1, 5, 7, 8]\n",
    "for i in range(len(liste)):\n",
    "    print(i, liste[i])"
   ]
  },
  {
   "cell_type": "code",
   "execution_count": null,
   "id": "8f0637a3",
   "metadata": {},
   "outputs": [],
   "source": []
  },
  {
   "cell_type": "code",
   "execution_count": null,
   "id": "5a688f1a",
   "metadata": {},
   "outputs": [],
   "source": []
  },
  {
   "cell_type": "markdown",
   "id": "8e3501bf",
   "metadata": {},
   "source": [
    "# Les fonctions\n",
    "\n",
    "* Utiliser des fonctions \n",
    "* Créer sa propre fonction\n",
    "* ATTENTION : return vs print "
   ]
  },
  {
   "cell_type": "code",
   "execution_count": 111,
   "id": "787e5a3e",
   "metadata": {},
   "outputs": [
    {
     "name": "stdout",
     "output_type": "stream",
     "text": [
      "x = 4\n"
     ]
    }
   ],
   "source": [
    "l = [1, 4]\n",
    "len(l)\n",
    "from math import sqrt\n",
    "\n",
    "sqrt(2)\n",
    "x = 4\n",
    "print('x =', x)"
   ]
  },
  {
   "cell_type": "code",
   "execution_count": 125,
   "id": "6fb121cf",
   "metadata": {},
   "outputs": [
    {
     "name": "stdout",
     "output_type": "stream",
     "text": [
      "0.2612038749637414\n",
      "1.0\n",
      "0.3333333333333333\n",
      "0.4641016151377546\n",
      "0.4232804094368826\n",
      "0.4345558695374489\n",
      "0.43132878378140665\n",
      "0.4322431766370506\n",
      "0.4319833439618515\n",
      "0.4320571179291897\n",
      "0.43203616656213883\n"
     ]
    }
   ],
   "source": [
    "a = 2\n",
    "\n",
    "def f(x):\n",
    "    resultat = 1/(1+a*sqrt(x))\n",
    "    return resultat\n",
    "\n",
    "y = f(2)\n",
    "print(y)\n",
    "\n",
    "u = 0\n",
    "for i in range(10):\n",
    "    u = f(u)\n",
    "    print(u)"
   ]
  },
  {
   "cell_type": "code",
   "execution_count": 130,
   "id": "f1ee0a23",
   "metadata": {},
   "outputs": [
    {
     "name": "stdout",
     "output_type": "stream",
     "text": [
      "0.1111111111111111\n"
     ]
    }
   ],
   "source": [
    "a = 2\n",
    "\n",
    "def f(x):\n",
    "    resultat = 1/(1+a*sqrt(x))\n",
    "    return resultat\n",
    "\n",
    "y = f(1)\n",
    "print(y**2)"
   ]
  },
  {
   "cell_type": "code",
   "execution_count": 132,
   "id": "afe3a54f",
   "metadata": {},
   "outputs": [
    {
     "data": {
      "text/plain": [
       "10"
      ]
     },
     "execution_count": 132,
     "metadata": {},
     "output_type": "execute_result"
    }
   ],
   "source": [
    "def f(n):\n",
    "    if n%2==0:\n",
    "        return n**2\n",
    "    else:\n",
    "        return n + 5\n",
    "    \n",
    "f(4)\n",
    "f(5)"
   ]
  },
  {
   "cell_type": "code",
   "execution_count": 133,
   "id": "65367e30",
   "metadata": {},
   "outputs": [
    {
     "data": {
      "text/plain": [
       "13"
      ]
     },
     "execution_count": 133,
     "metadata": {},
     "output_type": "execute_result"
    }
   ],
   "source": [
    "def f(x, y):\n",
    "    return x**2 + 3*y\n",
    "\n",
    "f(1, 4)"
   ]
  },
  {
   "cell_type": "code",
   "execution_count": 2,
   "id": "3947780f",
   "metadata": {},
   "outputs": [
    {
     "name": "stdout",
     "output_type": "stream",
     "text": [
      "2.414213562373095\n"
     ]
    }
   ],
   "source": [
    "from math import sqrt\n",
    "\n",
    "y = sqrt(2) + 1\n",
    "y"
   ]
  },
  {
   "cell_type": "code",
   "execution_count": 6,
   "id": "478944ba",
   "metadata": {},
   "outputs": [],
   "source": [
    "def ma_fonction(x):\n",
    "    return 1/(1+x) \n",
    "    \n",
    "\n",
    "y = ma_fonction(1) "
   ]
  },
  {
   "cell_type": "code",
   "execution_count": null,
   "id": "dc8eef17",
   "metadata": {},
   "outputs": [],
   "source": []
  },
  {
   "cell_type": "code",
   "execution_count": null,
   "id": "fd912cda",
   "metadata": {},
   "outputs": [],
   "source": []
  },
  {
   "cell_type": "code",
   "execution_count": null,
   "id": "abbe676f",
   "metadata": {},
   "outputs": [],
   "source": []
  },
  {
   "cell_type": "code",
   "execution_count": null,
   "id": "ff150fd4",
   "metadata": {},
   "outputs": [],
   "source": []
  },
  {
   "cell_type": "code",
   "execution_count": null,
   "id": "275088f0",
   "metadata": {},
   "outputs": [],
   "source": []
  },
  {
   "cell_type": "code",
   "execution_count": null,
   "id": "eaa59af5",
   "metadata": {},
   "outputs": [],
   "source": []
  },
  {
   "cell_type": "code",
   "execution_count": null,
   "id": "1d759e54",
   "metadata": {},
   "outputs": [],
   "source": []
  }
 ],
 "metadata": {
  "kernelspec": {
   "display_name": "Python 3",
   "language": "python",
   "name": "python3"
  },
  "language_info": {
   "codemirror_mode": {
    "name": "ipython",
    "version": 3
   },
   "file_extension": ".py",
   "mimetype": "text/x-python",
   "name": "python",
   "nbconvert_exporter": "python",
   "pygments_lexer": "ipython3",
   "version": "3.8.8"
  },
  "varInspector": {
   "cols": {
    "lenName": 16,
    "lenType": 16,
    "lenVar": 40
   },
   "kernels_config": {
    "python": {
     "delete_cmd_postfix": "",
     "delete_cmd_prefix": "del ",
     "library": "var_list.py",
     "varRefreshCmd": "print(var_dic_list())"
    },
    "r": {
     "delete_cmd_postfix": ") ",
     "delete_cmd_prefix": "rm(",
     "library": "var_list.r",
     "varRefreshCmd": "cat(var_dic_list()) "
    }
   },
   "types_to_exclude": [
    "module",
    "function",
    "builtin_function_or_method",
    "instance",
    "_Feature"
   ],
   "window_display": false
  }
 },
 "nbformat": 4,
 "nbformat_minor": 5
}
