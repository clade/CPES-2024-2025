{
 "cells": [
  {
   "cell_type": "markdown",
   "id": "31f3eee4",
   "metadata": {},
   "source": [
    "# Chaînes de caractères et listes\n",
    "\n",
    "Les chaînes de caractères peuvent être considérées comme des listes. Cependant elle ne sont pas modifiables. "
   ]
  },
  {
   "cell_type": "code",
   "execution_count": 8,
   "id": "dc8cb170",
   "metadata": {},
   "outputs": [
    {
     "name": "stdout",
     "output_type": "stream",
     "text": [
      "g\n",
      "i\n",
      "r\n",
      "a\n",
      "f\n",
      "e\n",
      " \n",
      "t\n",
      "i\n",
      "g\n",
      "r\n",
      "e\n"
     ]
    }
   ],
   "source": [
    "s = \"girafe tigre\"\n",
    "\n",
    "s[2:7:2]\n",
    "\n",
    "for c in s:\n",
    "    print(c)"
   ]
  },
  {
   "cell_type": "code",
   "execution_count": 9,
   "id": "687e1477",
   "metadata": {},
   "outputs": [
    {
     "data": {
      "text/plain": [
       "[56, 4, 5, 6]"
      ]
     },
     "execution_count": 9,
     "metadata": {},
     "output_type": "execute_result"
    }
   ],
   "source": [
    "l = [1, 4, 5]\n",
    "l.append(6)\n",
    "l[0] = 56\n",
    "l"
   ]
  },
  {
   "cell_type": "code",
   "execution_count": 10,
   "id": "e2a51254",
   "metadata": {},
   "outputs": [
    {
     "ename": "AttributeError",
     "evalue": "'str' object has no attribute 'append'",
     "output_type": "error",
     "traceback": [
      "\u001b[0;31m---------------------------------------------------------------------------\u001b[0m",
      "\u001b[0;31mAttributeError\u001b[0m                            Traceback (most recent call last)",
      "Cell \u001b[0;32mIn[10], line 2\u001b[0m\n\u001b[1;32m      1\u001b[0m s \u001b[38;5;241m=\u001b[39m \u001b[38;5;124m\"\u001b[39m\u001b[38;5;124m145\u001b[39m\u001b[38;5;124m\"\u001b[39m\n\u001b[0;32m----> 2\u001b[0m \u001b[43ms\u001b[49m\u001b[38;5;241;43m.\u001b[39;49m\u001b[43mappend\u001b[49m(\u001b[38;5;124m'\u001b[39m\u001b[38;5;124m6\u001b[39m\u001b[38;5;124m'\u001b[39m)\n\u001b[1;32m      3\u001b[0m s[\u001b[38;5;241m0\u001b[39m] \u001b[38;5;241m=\u001b[39m \u001b[38;5;124m'\u001b[39m\u001b[38;5;124m5\u001b[39m\u001b[38;5;124m'\u001b[39m\n\u001b[1;32m      4\u001b[0m s\n",
      "\u001b[0;31mAttributeError\u001b[0m: 'str' object has no attribute 'append'"
     ]
    }
   ],
   "source": [
    "s = \"145\"\n",
    "s.append('6')\n",
    "s[0] = '5'\n",
    "s"
   ]
  },
  {
   "cell_type": "markdown",
   "id": "36b8af80",
   "metadata": {},
   "source": [
    "# Caractères spéciaux\n",
    "\n",
    "* `\\n`\n",
    "* `\\t`\n",
    "* Le `\\` est aussi utilisé pour les guillemets\n",
    "\n",
    "Utilisation de `print`"
   ]
  },
  {
   "cell_type": "code",
   "execution_count": 18,
   "id": "91624434",
   "metadata": {},
   "outputs": [
    {
     "data": {
      "text/plain": [
       "3"
      ]
     },
     "execution_count": 18,
     "metadata": {},
     "output_type": "execute_result"
    }
   ],
   "source": [
    "s = \"a\\tb\"\n",
    "len(s)"
   ]
  },
  {
   "cell_type": "code",
   "execution_count": 19,
   "id": "a852f3f4",
   "metadata": {},
   "outputs": [
    {
     "data": {
      "text/plain": [
       "'a\\tb'"
      ]
     },
     "execution_count": 19,
     "metadata": {},
     "output_type": "execute_result"
    }
   ],
   "source": [
    "s"
   ]
  },
  {
   "cell_type": "code",
   "execution_count": 20,
   "id": "458d58c1",
   "metadata": {},
   "outputs": [
    {
     "name": "stdout",
     "output_type": "stream",
     "text": [
      "a\tb\n"
     ]
    }
   ],
   "source": [
    "print(s)"
   ]
  },
  {
   "cell_type": "code",
   "execution_count": 17,
   "id": "7e13080b",
   "metadata": {},
   "outputs": [
    {
     "name": "stdout",
     "output_type": "stream",
     "text": [
      "a\\\n"
     ]
    }
   ],
   "source": [
    "s = \"a\\\\\"\n",
    "print(s)"
   ]
  },
  {
   "cell_type": "code",
   "execution_count": 21,
   "id": "2f934f6e",
   "metadata": {},
   "outputs": [
    {
     "data": {
      "text/plain": [
       "\"Aujourd'hui\""
      ]
     },
     "execution_count": 21,
     "metadata": {},
     "output_type": "execute_result"
    }
   ],
   "source": [
    "'Aujourd\\'hui'"
   ]
  },
  {
   "cell_type": "code",
   "execution_count": null,
   "id": "a513ad5e",
   "metadata": {},
   "outputs": [],
   "source": []
  },
  {
   "cell_type": "markdown",
   "id": "b15a4811",
   "metadata": {},
   "source": [
    "# Préfixe de chaîne de caractères\n",
    "\n",
    "* f-string\n",
    "* raw string\n"
   ]
  },
  {
   "cell_type": "code",
   "execution_count": 24,
   "id": "c1ac34db",
   "metadata": {},
   "outputs": [
    {
     "data": {
      "text/plain": [
       "'Bonjour Pierre!'"
      ]
     },
     "execution_count": 24,
     "metadata": {},
     "output_type": "execute_result"
    }
   ],
   "source": [
    "nom = \"Pierre\"\n",
    "f\"Bonjour {nom}!\""
   ]
  },
  {
   "cell_type": "code",
   "execution_count": 25,
   "id": "ff86b14a",
   "metadata": {},
   "outputs": [
    {
     "data": {
      "text/plain": [
       "4"
      ]
     },
     "execution_count": 25,
     "metadata": {},
     "output_type": "execute_result"
    }
   ],
   "source": [
    "s = r\"a\\nb\"\n",
    "len(s)"
   ]
  },
  {
   "cell_type": "code",
   "execution_count": 26,
   "id": "c25be4c5",
   "metadata": {},
   "outputs": [
    {
     "data": {
      "text/plain": [
       "'a\\\\nb'"
      ]
     },
     "execution_count": 26,
     "metadata": {},
     "output_type": "execute_result"
    }
   ],
   "source": [
    "s"
   ]
  },
  {
   "cell_type": "code",
   "execution_count": 27,
   "id": "27d04b6f",
   "metadata": {},
   "outputs": [
    {
     "name": "stdout",
     "output_type": "stream",
     "text": [
      "a\\nb\n"
     ]
    }
   ],
   "source": [
    "print(s)"
   ]
  },
  {
   "cell_type": "markdown",
   "id": "bda3bd4d",
   "metadata": {},
   "source": [
    "# Méthodes associées aux chaînes de caractères\n",
    "\n",
    "* upper\n",
    "* lower\n",
    "* capitalize\n",
    "* split\n",
    "* find\n",
    "* replace\n",
    "* count\n",
    "* startswith, endswith\n",
    "* strip"
   ]
  },
  {
   "cell_type": "code",
   "execution_count": 29,
   "id": "fb263678",
   "metadata": {},
   "outputs": [
    {
     "data": {
      "text/plain": [
       "'bonjour'"
      ]
     },
     "execution_count": 29,
     "metadata": {},
     "output_type": "execute_result"
    }
   ],
   "source": [
    "s = \"Bonjour\"\n",
    "s.lower()"
   ]
  },
  {
   "cell_type": "code",
   "execution_count": 30,
   "id": "3cf5dcc6",
   "metadata": {},
   "outputs": [
    {
     "data": {
      "text/plain": [
       "False"
      ]
     },
     "execution_count": 30,
     "metadata": {},
     "output_type": "execute_result"
    }
   ],
   "source": [
    "s1 = 'Bonjour'\n",
    "s2 = 'bonjour'\n",
    "\n",
    "s1==s2"
   ]
  },
  {
   "cell_type": "code",
   "execution_count": 31,
   "id": "becfcb36",
   "metadata": {},
   "outputs": [
    {
     "data": {
      "text/plain": [
       "True"
      ]
     },
     "execution_count": 31,
     "metadata": {},
     "output_type": "execute_result"
    }
   ],
   "source": [
    "s1.lower()==s2.lower()"
   ]
  },
  {
   "cell_type": "code",
   "execution_count": 33,
   "id": "59aa04f2",
   "metadata": {},
   "outputs": [
    {
     "data": {
      "text/plain": [
       "'Bonjour et au revoir'"
      ]
     },
     "execution_count": 33,
     "metadata": {},
     "output_type": "execute_result"
    }
   ],
   "source": [
    "\"bonjour et au revoir\".capitalize()"
   ]
  },
  {
   "cell_type": "code",
   "execution_count": 34,
   "id": "dbb52d84",
   "metadata": {},
   "outputs": [
    {
     "data": {
      "text/plain": [
       "'Bonjour Et Au Revoir'"
      ]
     },
     "execution_count": 34,
     "metadata": {},
     "output_type": "execute_result"
    }
   ],
   "source": [
    "\"bonjour et au revoir\".title()"
   ]
  },
  {
   "cell_type": "code",
   "execution_count": 35,
   "id": "d079179d",
   "metadata": {},
   "outputs": [
    {
     "data": {
      "text/plain": [
       "['bonjour', 'et', 'au', 'revoir']"
      ]
     },
     "execution_count": 35,
     "metadata": {},
     "output_type": "execute_result"
    }
   ],
   "source": [
    "s = \"bonjour et au revoir\"\n",
    "s.split()"
   ]
  },
  {
   "cell_type": "code",
   "execution_count": 44,
   "id": "f7db648d",
   "metadata": {},
   "outputs": [
    {
     "data": {
      "text/plain": [
       "8"
      ]
     },
     "execution_count": 44,
     "metadata": {},
     "output_type": "execute_result"
    }
   ],
   "source": [
    "s.find('et')"
   ]
  },
  {
   "cell_type": "code",
   "execution_count": 37,
   "id": "951260d1",
   "metadata": {},
   "outputs": [
    {
     "data": {
      "text/plain": [
       "'bonjour and au revoir'"
      ]
     },
     "execution_count": 37,
     "metadata": {},
     "output_type": "execute_result"
    }
   ],
   "source": [
    "s.replace('et', 'and')"
   ]
  },
  {
   "cell_type": "code",
   "execution_count": 38,
   "id": "ec465f50",
   "metadata": {},
   "outputs": [
    {
     "data": {
      "text/plain": [
       "2"
      ]
     },
     "execution_count": 38,
     "metadata": {},
     "output_type": "execute_result"
    }
   ],
   "source": [
    "s.count('e')"
   ]
  },
  {
   "cell_type": "code",
   "execution_count": 40,
   "id": "66253297",
   "metadata": {},
   "outputs": [
    {
     "data": {
      "text/plain": [
       "True"
      ]
     },
     "execution_count": 40,
     "metadata": {},
     "output_type": "execute_result"
    }
   ],
   "source": [
    "s.startswith('bonj')"
   ]
  },
  {
   "cell_type": "code",
   "execution_count": 42,
   "id": "6381a048",
   "metadata": {},
   "outputs": [
    {
     "name": "stdout",
     "output_type": "stream",
     "text": [
      "\n",
      "   Bonjour    \n",
      "Bonjour\n"
     ]
    }
   ],
   "source": [
    "a='\\n   Bonjour    '\n",
    "print(a)\n",
    "print(a.strip())\n"
   ]
  },
  {
   "cell_type": "code",
   "execution_count": null,
   "id": "29499823",
   "metadata": {},
   "outputs": [],
   "source": []
  },
  {
   "cell_type": "markdown",
   "id": "54cff6f0",
   "metadata": {},
   "source": [
    "# Test d’appartenance"
   ]
  },
  {
   "cell_type": "code",
   "execution_count": 45,
   "id": "a955dced",
   "metadata": {},
   "outputs": [
    {
     "name": "stdout",
     "output_type": "stream",
     "text": [
      "bonjour et au revoir\n"
     ]
    }
   ],
   "source": [
    "s = \"bonjour et au revoir\"\n",
    "\n",
    "if 'et' in s:\n",
    "    print(s)"
   ]
  },
  {
   "cell_type": "code",
   "execution_count": null,
   "id": "8a4c1421",
   "metadata": {},
   "outputs": [],
   "source": []
  },
  {
   "cell_type": "markdown",
   "id": "1ff0b625",
   "metadata": {},
   "source": [
    "# Conversion d’une liste de chaînes de caractères en une chaîne de caractères"
   ]
  },
  {
   "cell_type": "code",
   "execution_count": 46,
   "id": "7fc77423",
   "metadata": {},
   "outputs": [
    {
     "data": {
      "text/plain": [
       "'lapin, chien, chat'"
      ]
     },
     "execution_count": 46,
     "metadata": {},
     "output_type": "execute_result"
    }
   ],
   "source": [
    "l = [\"lapin\", \"chien\", 'chat']\n",
    "\n",
    "', '.join(l)"
   ]
  },
  {
   "cell_type": "code",
   "execution_count": 49,
   "id": "845b659a",
   "metadata": {},
   "outputs": [
    {
     "name": "stdout",
     "output_type": "stream",
     "text": [
      "lapin\n",
      "chien\n",
      "chat\n"
     ]
    }
   ],
   "source": [
    "print('\\n'.join(l))"
   ]
  },
  {
   "cell_type": "markdown",
   "id": "20e2fa5f",
   "metadata": {},
   "source": [
    "# Method chaining"
   ]
  },
  {
   "cell_type": "code",
   "execution_count": 51,
   "id": "7428954b",
   "metadata": {},
   "outputs": [
    {
     "data": {
      "text/plain": [
       "True"
      ]
     },
     "execution_count": 51,
     "metadata": {},
     "output_type": "execute_result"
    }
   ],
   "source": [
    "s = \"Bonjour et au revoir\"\n",
    "\n",
    "s.lower().startswith('bonjour')"
   ]
  },
  {
   "cell_type": "code",
   "execution_count": 52,
   "id": "3798de2a",
   "metadata": {},
   "outputs": [
    {
     "data": {
      "text/plain": [
       "'Hello and au revoir'"
      ]
     },
     "execution_count": 52,
     "metadata": {},
     "output_type": "execute_result"
    }
   ],
   "source": [
    "s = \"Bonjour et au revoir\"\n",
    "s.replace('et', 'and').replace('Bonjour', 'Hello')"
   ]
  },
  {
   "cell_type": "code",
   "execution_count": 53,
   "id": "358b143b",
   "metadata": {},
   "outputs": [
    {
     "ename": "AttributeError",
     "evalue": "'NoneType' object has no attribute 'append'",
     "output_type": "error",
     "traceback": [
      "\u001b[0;31m---------------------------------------------------------------------------\u001b[0m",
      "\u001b[0;31mAttributeError\u001b[0m                            Traceback (most recent call last)",
      "Cell \u001b[0;32mIn[53], line 2\u001b[0m\n\u001b[1;32m      1\u001b[0m l \u001b[38;5;241m=\u001b[39m [\u001b[38;5;241m1\u001b[39m, \u001b[38;5;241m2\u001b[39m]\n\u001b[0;32m----> 2\u001b[0m \u001b[43ml\u001b[49m\u001b[38;5;241;43m.\u001b[39;49m\u001b[43mappend\u001b[49m\u001b[43m(\u001b[49m\u001b[38;5;241;43m3\u001b[39;49m\u001b[43m)\u001b[49m\u001b[38;5;241;43m.\u001b[39;49m\u001b[43mappend\u001b[49m(\u001b[38;5;241m5\u001b[39m)\n",
      "\u001b[0;31mAttributeError\u001b[0m: 'NoneType' object has no attribute 'append'"
     ]
    }
   ],
   "source": [
    "l = [1, 2]\n",
    "l.append(3).append(5)"
   ]
  },
  {
   "cell_type": "code",
   "execution_count": null,
   "id": "996ac32b",
   "metadata": {},
   "outputs": [],
   "source": []
  },
  {
   "cell_type": "markdown",
   "id": "81983d24",
   "metadata": {},
   "source": [
    "# Exercice\n",
    "\n",
    "\n",
    "Le fichier notes.csv (https://python.sdv.u-paris.fr/data-files/notes.csv) contient des noms d’étudiant ainsi que leurs notes dans différentes matières. Chaque donnée est séparée par une virgule. On trouve dans l’ordre le nom de l’étudiant, la note en géographie, la note en sport, la note en anglais.\n",
    "\n",
    "Créez un programme qui lit chaque ligne du fichier et construit une liste de dictionnaire du style [{\"nom\": \"Jason\",\n",
    "\"geo\": 17, \"sport\": 3, \"anglais\": 1}, ...]. \n",
    "\n",
    "Réalisez ensuite une boucle sur cette liste de dictionnaires, et aﬀichez le nom de l’étudiant, sa note en sport et sa note en anglais. Aﬀichez ensuite la moyenne des notes de sport et de géographie pour tous les étudiants"
   ]
  },
  {
   "cell_type": "code",
   "execution_count": 5,
   "id": "52345aca",
   "metadata": {},
   "outputs": [
    {
     "name": "stdout",
     "output_type": "stream",
     "text": [
      "['Jason,17,3,1\\n', 'William,9,18,15\\n', 'Susan,3,8,10\\n', 'Joseph,2,11,20\\n', 'Jeff,20,9,12\\n', 'Richard,15,1,0\\n', 'Patricia,16,4,17\\n', 'Donna,7,15,4\\n', 'Laura,10,0,3\\n', 'Anthony,18,16,18\\n', 'Margaret,18,13,9\\n', 'Mark,5,15,4\\n', 'Kevin,17,9,18\\n', 'Elizabeth,6,9,0\\n', 'Mary,8,2,10\\n', 'Lisa,3,2,14\\n', 'Sarah,14,17,15\\n', 'Betty,3,7,3\\n', 'Michael,18,14,0\\n', 'Robert,6,5,7\\n']\n"
     ]
    }
   ],
   "source": [
    "#!wget https://python.sdv.u-paris.fr/data-files/notes.csv -P /tmp\n",
    "with open('/tmp/notes.csv') as f:\n",
    "    print(f.readlines())"
   ]
  },
  {
   "cell_type": "code",
   "execution_count": null,
   "id": "e8f45fc5",
   "metadata": {},
   "outputs": [],
   "source": []
  }
 ],
 "metadata": {
  "kernelspec": {
   "display_name": "Odeon 3.10",
   "language": "python",
   "name": "odeon310"
  },
  "language_info": {
   "codemirror_mode": {
    "name": "ipython",
    "version": 3
   },
   "file_extension": ".py",
   "mimetype": "text/x-python",
   "name": "python",
   "nbconvert_exporter": "python",
   "pygments_lexer": "ipython3",
   "version": "3.10.12"
  },
  "varInspector": {
   "cols": {
    "lenName": 16,
    "lenType": 16,
    "lenVar": 40
   },
   "kernels_config": {
    "python": {
     "delete_cmd_postfix": "",
     "delete_cmd_prefix": "del ",
     "library": "var_list.py",
     "varRefreshCmd": "print(var_dic_list())"
    },
    "r": {
     "delete_cmd_postfix": ") ",
     "delete_cmd_prefix": "rm(",
     "library": "var_list.r",
     "varRefreshCmd": "cat(var_dic_list()) "
    }
   },
   "types_to_exclude": [
    "module",
    "function",
    "builtin_function_or_method",
    "instance",
    "_Feature"
   ],
   "window_display": false
  }
 },
 "nbformat": 4,
 "nbformat_minor": 5
}
