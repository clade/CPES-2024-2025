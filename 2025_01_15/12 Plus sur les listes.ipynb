{
 "cells": [
  {
   "cell_type": "markdown",
   "id": "88190191",
   "metadata": {},
   "source": [
    "# Méthodes et fonctions associées aux listes\n",
    "\n",
    "* .append()\n",
    "* insert()\n",
    "* del\n",
    "* .remove()\n",
    "* .sort()\n",
    "* sorted()\n",
    "* .reverse()\n",
    "* .count()\n",
    "\n",
    "Attention, plusieurs méthodes ne renvoie pas une nouvelle liste : elle modifie la liste et renvoie None\n",
    "\n"
   ]
  },
  {
   "cell_type": "code",
   "execution_count": 3,
   "id": "0658b61c",
   "metadata": {},
   "outputs": [],
   "source": [
    "l = [1, 3, 4]\n",
    "l.append(5)"
   ]
  },
  {
   "cell_type": "code",
   "execution_count": 4,
   "id": "0ba2ac04",
   "metadata": {},
   "outputs": [
    {
     "name": "stdout",
     "output_type": "stream",
     "text": [
      "[1, 3, 4, 5]\n"
     ]
    }
   ],
   "source": [
    "print(l)"
   ]
  },
  {
   "cell_type": "code",
   "execution_count": 5,
   "id": "8f646883",
   "metadata": {},
   "outputs": [
    {
     "data": {
      "text/plain": [
       "[1, 3, 5, 4]"
      ]
     },
     "execution_count": 5,
     "metadata": {},
     "output_type": "execute_result"
    }
   ],
   "source": [
    "l = [1, 3, 4]\n",
    "l.insert(2, 5)\n",
    "l"
   ]
  },
  {
   "cell_type": "code",
   "execution_count": 6,
   "id": "54377592",
   "metadata": {},
   "outputs": [
    {
     "data": {
      "text/plain": [
       "[1, 4]"
      ]
     },
     "execution_count": 6,
     "metadata": {},
     "output_type": "execute_result"
    }
   ],
   "source": [
    "l = [1, 3, 4]\n",
    "del l[1]\n",
    "l"
   ]
  },
  {
   "cell_type": "code",
   "execution_count": 7,
   "id": "a4180330",
   "metadata": {},
   "outputs": [
    {
     "data": {
      "text/plain": [
       "4"
      ]
     },
     "execution_count": 7,
     "metadata": {},
     "output_type": "execute_result"
    }
   ],
   "source": [
    "l = [1, 3, 4]\n",
    "l.pop()"
   ]
  },
  {
   "cell_type": "code",
   "execution_count": 8,
   "id": "44fd0146",
   "metadata": {},
   "outputs": [
    {
     "name": "stdout",
     "output_type": "stream",
     "text": [
      "[1, 3]\n"
     ]
    }
   ],
   "source": [
    "print(l)"
   ]
  },
  {
   "cell_type": "code",
   "execution_count": 14,
   "id": "9519d2c2",
   "metadata": {},
   "outputs": [
    {
     "data": {
      "text/plain": [
       "['lapin', 'chat', 'chien']"
      ]
     },
     "execution_count": 14,
     "metadata": {},
     "output_type": "execute_result"
    }
   ],
   "source": [
    "l = [\"lapin\", \"chien\", 'chat', 'chien']\n",
    "l.remove('chien')\n",
    "l"
   ]
  },
  {
   "cell_type": "code",
   "execution_count": 17,
   "id": "5f8bcfa1",
   "metadata": {},
   "outputs": [
    {
     "data": {
      "text/plain": [
       "['lapin', 'chat']"
      ]
     },
     "execution_count": 17,
     "metadata": {},
     "output_type": "execute_result"
    }
   ],
   "source": [
    "l = [\"lapin\", \"chien\", 'chat', 'chien']\n",
    "\n",
    "mot = \"chien\"\n",
    "while mot in l:\n",
    "    l.remove(mot)\n",
    "l"
   ]
  },
  {
   "cell_type": "code",
   "execution_count": null,
   "id": "0e3ce64e",
   "metadata": {},
   "outputs": [],
   "source": []
  },
  {
   "cell_type": "code",
   "execution_count": 20,
   "id": "95613246",
   "metadata": {},
   "outputs": [
    {
     "data": {
      "text/plain": [
       "['lapin', 'chien', 'chat']"
      ]
     },
     "execution_count": 20,
     "metadata": {},
     "output_type": "execute_result"
    }
   ],
   "source": [
    "l = [\"lapin\", \"chien\", 'chat']\n",
    "l.sort(reverse=True)\n",
    "l"
   ]
  },
  {
   "cell_type": "code",
   "execution_count": 23,
   "id": "2c70ecac",
   "metadata": {},
   "outputs": [
    {
     "data": {
      "text/plain": [
       "['chat', 'lapin', 'chien']"
      ]
     },
     "execution_count": 23,
     "metadata": {},
     "output_type": "execute_result"
    }
   ],
   "source": [
    "l = [\"lapin\", \"chien\", 'chat']\n",
    "\n",
    "l.sort(key=len)\n",
    "l"
   ]
  },
  {
   "cell_type": "code",
   "execution_count": 24,
   "id": "705587da",
   "metadata": {},
   "outputs": [
    {
     "data": {
      "text/plain": [
       "['chat', 'chien', 'lapin']"
      ]
     },
     "execution_count": 24,
     "metadata": {},
     "output_type": "execute_result"
    }
   ],
   "source": [
    "l = [\"lapin\", \"chien\", 'chat']\n",
    "\n",
    "sorted(l)"
   ]
  },
  {
   "cell_type": "code",
   "execution_count": 26,
   "id": "4c2dfa5d",
   "metadata": {},
   "outputs": [
    {
     "data": {
      "text/plain": [
       "['chat', 'chien', 'lapin']"
      ]
     },
     "execution_count": 26,
     "metadata": {},
     "output_type": "execute_result"
    }
   ],
   "source": [
    "l = [\"lapin\", \"chien\", 'chat']\n",
    "l.reverse()\n",
    "l"
   ]
  },
  {
   "cell_type": "code",
   "execution_count": 27,
   "id": "7115a5d7",
   "metadata": {},
   "outputs": [
    {
     "data": {
      "text/plain": [
       "['chat', 'chien', 'lapin']"
      ]
     },
     "execution_count": 27,
     "metadata": {},
     "output_type": "execute_result"
    }
   ],
   "source": [
    "l = [\"lapin\", \"chien\", 'chat']\n",
    "l[::-1]"
   ]
  },
  {
   "cell_type": "code",
   "execution_count": null,
   "id": "30996da4",
   "metadata": {},
   "outputs": [],
   "source": []
  },
  {
   "cell_type": "code",
   "execution_count": 28,
   "id": "e7be56d5",
   "metadata": {},
   "outputs": [
    {
     "data": {
      "text/plain": [
       "2"
      ]
     },
     "execution_count": 28,
     "metadata": {},
     "output_type": "execute_result"
    }
   ],
   "source": [
    "l = [1, 4, 5, 2, 5, 3, 6, 7]\n",
    "l.count(5)"
   ]
  },
  {
   "cell_type": "markdown",
   "id": "e87e77da",
   "metadata": {},
   "source": [
    "# Construction d’une liste par itération\n",
    "\n"
   ]
  },
  {
   "cell_type": "code",
   "execution_count": null,
   "id": "7ac11d21",
   "metadata": {},
   "outputs": [],
   "source": [
    "output_liste = []\n",
    "for xxx in yyy:\n",
    "    output_liste.append(zzz)"
   ]
  },
  {
   "cell_type": "code",
   "execution_count": 31,
   "id": "9548cb38",
   "metadata": {},
   "outputs": [
    {
     "data": {
      "text/plain": [
       "['B', 'o', 'n', 'j', 'o', 'u', 'r']"
      ]
     },
     "execution_count": 31,
     "metadata": {},
     "output_type": "execute_result"
    }
   ],
   "source": [
    "s = 'Bonjour'\n",
    "list(s)"
   ]
  },
  {
   "cell_type": "code",
   "execution_count": null,
   "id": "60ed7b57",
   "metadata": {},
   "outputs": [],
   "source": []
  },
  {
   "cell_type": "code",
   "execution_count": null,
   "id": "8e41b86a",
   "metadata": {},
   "outputs": [],
   "source": []
  },
  {
   "cell_type": "markdown",
   "id": "ba5bb26d",
   "metadata": {},
   "source": [
    "# Test d’appartenance"
   ]
  },
  {
   "cell_type": "code",
   "execution_count": 32,
   "id": "0a9f16f4",
   "metadata": {},
   "outputs": [
    {
     "data": {
      "text/plain": [
       "True"
      ]
     },
     "execution_count": 32,
     "metadata": {},
     "output_type": "execute_result"
    }
   ],
   "source": [
    "l = [\"lapin\", \"chien\", 'chat']\n",
    "'chien' in l"
   ]
  },
  {
   "cell_type": "markdown",
   "id": "1d609e28",
   "metadata": {},
   "source": [
    "# Fonction zip()"
   ]
  },
  {
   "cell_type": "code",
   "execution_count": 33,
   "id": "3b5de210",
   "metadata": {},
   "outputs": [
    {
     "name": "stdout",
     "output_type": "stream",
     "text": [
      "('poulain', 'alezan')\n",
      "('renard', 'roux')\n",
      "('python', 'vert')\n"
     ]
    }
   ],
   "source": [
    "animaux = [\"poulain\", \"renard\", \"python\"]\n",
    "couleurs = [\"alezan\", \"roux\", \"vert\"]\n",
    "\n",
    "for element in zip(animaux, couleurs):\n",
    "    print(element)"
   ]
  },
  {
   "cell_type": "code",
   "execution_count": 36,
   "id": "26aad6c9",
   "metadata": {},
   "outputs": [
    {
     "ename": "ValueError",
     "evalue": "too many values to unpack (expected 2)",
     "output_type": "error",
     "traceback": [
      "\u001b[0;31m---------------------------------------------------------------------------\u001b[0m",
      "\u001b[0;31mValueError\u001b[0m                                Traceback (most recent call last)",
      "Cell \u001b[0;32mIn[36], line 1\u001b[0m\n\u001b[0;32m----> 1\u001b[0m \u001b[38;5;28;01mfor\u001b[39;00m animal, couleur \u001b[38;5;129;01min\u001b[39;00m animaux, couleurs:\n\u001b[1;32m      2\u001b[0m     \u001b[38;5;28mprint\u001b[39m(\u001b[38;5;124mf\u001b[39m\u001b[38;5;124m\"\u001b[39m\u001b[38;5;124mle \u001b[39m\u001b[38;5;132;01m{\u001b[39;00manimal\u001b[38;5;132;01m}\u001b[39;00m\u001b[38;5;124m est \u001b[39m\u001b[38;5;132;01m{\u001b[39;00mcouleur\u001b[38;5;132;01m}\u001b[39;00m\u001b[38;5;124m.\u001b[39m\u001b[38;5;124m\"\u001b[39m)\n",
      "\u001b[0;31mValueError\u001b[0m: too many values to unpack (expected 2)"
     ]
    }
   ],
   "source": [
    "for animal, couleur in animaux, couleurs:\n",
    "    print(f\"le {animal} est {couleur}.\")"
   ]
  },
  {
   "cell_type": "code",
   "execution_count": null,
   "id": "a75027e4",
   "metadata": {},
   "outputs": [],
   "source": []
  },
  {
   "cell_type": "code",
   "execution_count": null,
   "id": "7928a276",
   "metadata": {},
   "outputs": [],
   "source": []
  },
  {
   "cell_type": "code",
   "execution_count": null,
   "id": "13b0d2a9",
   "metadata": {},
   "outputs": [],
   "source": []
  },
  {
   "cell_type": "markdown",
   "id": "b45d67a6",
   "metadata": {},
   "source": [
    "# Copie de listes"
   ]
  },
  {
   "cell_type": "code",
   "execution_count": 2,
   "id": "6dcce7e1",
   "metadata": {},
   "outputs": [
    {
     "data": {
      "text/plain": [
       "[1, 2]"
      ]
     },
     "execution_count": 2,
     "metadata": {},
     "output_type": "execute_result"
    }
   ],
   "source": []
  },
  {
   "cell_type": "markdown",
   "id": "7ac4b8da",
   "metadata": {},
   "source": [
    "# Initialisation d’une liste de listes"
   ]
  },
  {
   "cell_type": "code",
   "execution_count": 37,
   "id": "91b9036f",
   "metadata": {},
   "outputs": [
    {
     "data": {
      "text/plain": [
       "[[1, 2], ['Bonjour', 'Hello']]"
      ]
     },
     "execution_count": 37,
     "metadata": {},
     "output_type": "execute_result"
    }
   ],
   "source": [
    "l = [[1, 2], ['Bonjour', 'Hello']]\n",
    "l"
   ]
  },
  {
   "cell_type": "markdown",
   "id": "6e43d593",
   "metadata": {},
   "source": [
    "# Liste de compréhension"
   ]
  },
  {
   "cell_type": "code",
   "execution_count": 38,
   "id": "36ac31b9",
   "metadata": {},
   "outputs": [
    {
     "data": {
      "text/plain": [
       "['POULAIN', 'RENARD', 'PYTHON']"
      ]
     },
     "execution_count": 38,
     "metadata": {},
     "output_type": "execute_result"
    }
   ],
   "source": [
    "animaux = [\"poulain\", \"renard\", \"python\"]\n",
    "\n",
    "animaux_en_majuscule = []\n",
    "for animal in animaux:\n",
    "    animaux_en_majuscule.append(animal.upper())\n",
    "    \n",
    "animaux_en_majuscule"
   ]
  },
  {
   "cell_type": "code",
   "execution_count": 40,
   "id": "a32e1468",
   "metadata": {},
   "outputs": [
    {
     "name": "stdout",
     "output_type": "stream",
     "text": [
      "['POULAIN', 'RENARD', 'PYTHON']\n"
     ]
    }
   ],
   "source": [
    "print([animal.upper() for animal in animaux])"
   ]
  },
  {
   "cell_type": "code",
   "execution_count": 42,
   "id": "f74abe6f",
   "metadata": {},
   "outputs": [
    {
     "name": "stdout",
     "output_type": "stream",
     "text": [
      "['p', 'o', 'u', 'l', 'a', 'i', 'n', 'r', 'e', 'n', 'a', 'r', 'd', 'p', 'y', 't', 'h', 'o', 'n']\n"
     ]
    }
   ],
   "source": [
    "print([c for animal in animaux for c in animal])"
   ]
  },
  {
   "cell_type": "code",
   "execution_count": 44,
   "id": "cdcf4f9c",
   "metadata": {},
   "outputs": [
    {
     "name": "stdout",
     "output_type": "stream",
     "text": [
      "['POULAIN', 'PYTHON']\n"
     ]
    }
   ],
   "source": [
    "print([animal.upper() for animal in animaux if animal.lower().startswith('p')])"
   ]
  },
  {
   "cell_type": "code",
   "execution_count": null,
   "id": "6d4798f9",
   "metadata": {},
   "outputs": [],
   "source": []
  }
 ],
 "metadata": {
  "kernelspec": {
   "display_name": "Odeon 3.10",
   "language": "python",
   "name": "odeon310"
  },
  "language_info": {
   "codemirror_mode": {
    "name": "ipython",
    "version": 3
   },
   "file_extension": ".py",
   "mimetype": "text/x-python",
   "name": "python",
   "nbconvert_exporter": "python",
   "pygments_lexer": "ipython3",
   "version": "3.10.12"
  },
  "varInspector": {
   "cols": {
    "lenName": 16,
    "lenType": 16,
    "lenVar": 40
   },
   "kernels_config": {
    "python": {
     "delete_cmd_postfix": "",
     "delete_cmd_prefix": "del ",
     "library": "var_list.py",
     "varRefreshCmd": "print(var_dic_list())"
    },
    "r": {
     "delete_cmd_postfix": ") ",
     "delete_cmd_prefix": "rm(",
     "library": "var_list.r",
     "varRefreshCmd": "cat(var_dic_list()) "
    }
   },
   "types_to_exclude": [
    "module",
    "function",
    "builtin_function_or_method",
    "instance",
    "_Feature"
   ],
   "window_display": false
  }
 },
 "nbformat": 4,
 "nbformat_minor": 5
}
