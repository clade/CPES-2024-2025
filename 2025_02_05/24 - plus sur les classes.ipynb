{
 "cells": [
  {
   "cell_type": "markdown",
   "id": "98395251",
   "metadata": {},
   "source": [
    "# Polymorphisme \n",
    "\n",
    "En programmation, le **polymorphisme** est la capacité d’une fonction (ou méthode) à se comporter différemment en\n",
    "fonction de l’objet qui lui est passé. Une fonction donnée peut donc avoir plusieurs définitions.\n",
    "\n",
    "\n",
    "La **redéfinition** des opérateurs est la capacité à redéfinir le comportement d’un opérateur en fonction des opérandes\n",
    "utilisées (on rappelle dans l’expression 1 + 1, + est l’opérateur d’addition et les deux 1 sont les opérandes)."
   ]
  },
  {
   "cell_type": "code",
   "execution_count": 3,
   "id": "0ccb0957",
   "metadata": {},
   "outputs": [
    {
     "data": {
      "text/plain": [
       "3"
      ]
     },
     "execution_count": 3,
     "metadata": {},
     "output_type": "execute_result"
    }
   ],
   "source": [
    "1+2"
   ]
  },
  {
   "cell_type": "code",
   "execution_count": 4,
   "id": "c003139d",
   "metadata": {},
   "outputs": [
    {
     "data": {
      "text/plain": [
       "'Debut Fin'"
      ]
     },
     "execution_count": 4,
     "metadata": {},
     "output_type": "execute_result"
    }
   ],
   "source": [
    "\"Debut\" + \" \" + \"Fin\""
   ]
  },
  {
   "cell_type": "code",
   "execution_count": 6,
   "id": "ca06b488",
   "metadata": {},
   "outputs": [
    {
     "name": "stdout",
     "output_type": "stream",
     "text": [
      "Je suis dans la méthode __add__\n"
     ]
    }
   ],
   "source": [
    "class Test:\n",
    "    def __add__(self, other):\n",
    "        print('Je suis dans la méthode __add__')\n",
    "\n",
    "t1 = Test()\n",
    "t2 = Test()\n",
    "\n",
    "t1 + t2\n",
    "# t1.__add__(t2)\n"
   ]
  },
  {
   "cell_type": "code",
   "execution_count": 7,
   "id": "3ae035c1",
   "metadata": {},
   "outputs": [
    {
     "data": {
      "text/plain": [
       "'BonjourHello'"
      ]
     },
     "execution_count": 7,
     "metadata": {},
     "output_type": "execute_result"
    }
   ],
   "source": [
    "s1 = \"Bonjour\"\n",
    "s2 = \"Hello\"\n",
    "\n",
    "s1.__add__(s2)"
   ]
  },
  {
   "cell_type": "code",
   "execution_count": 9,
   "id": "fb7306cd",
   "metadata": {},
   "outputs": [
    {
     "name": "stdout",
     "output_type": "stream",
     "text": [
      "Je suis dans la méthode __add__\n"
     ]
    }
   ],
   "source": [
    "def plus(a, b):\n",
    "    return a.__add__(b)\n",
    "\n",
    "plus(t1, t2)"
   ]
  },
  {
   "cell_type": "markdown",
   "id": "b58ee86a",
   "metadata": {},
   "source": [
    "Exemple : écrire une fonction ``surface`` qui renvoie la surface d'une figure geométrique (rectangle, disque, ...)"
   ]
  },
  {
   "cell_type": "code",
   "execution_count": null,
   "id": "d36c8ac4",
   "metadata": {},
   "outputs": [],
   "source": []
  },
  {
   "cell_type": "markdown",
   "id": "47f4789b",
   "metadata": {},
   "source": [
    "Polymorphisme en Python : **méthodes spéciales** / **dunders** / **méthodes magiques** . Ce dont des méthode qui commencent et terminent par 2 __ .\n",
    "\n",
    "* ``__init__``\n",
    "* ``__str__``\n",
    "* ``__repr__``\n",
    "* ``__add__``, ``__mul__``, ``__sub__``, ``__truediv__``, ..."
   ]
  },
  {
   "cell_type": "code",
   "execution_count": 40,
   "id": "782a94d7",
   "metadata": {},
   "outputs": [
    {
     "data": {
      "text/plain": [
       "30"
      ]
     },
     "execution_count": 40,
     "metadata": {},
     "output_type": "execute_result"
    }
   ],
   "source": [
    "class Rectangle:\n",
    "    def __init__(self, largeur, longueur, couleur):\n",
    "        self.largeur = largeur\n",
    "        self.longueur = longueur\n",
    "        self.couleur = couleur\n",
    "        \n",
    "    def calcule_surface(self):\n",
    "        return self.largeur*self.longueur\n",
    "\n",
    "    def calcule_perimetre(self):\n",
    "        return 2*(self.largeur + self.longueur)\n",
    "    \n",
    "    def __str__(self):\n",
    "        return f\"Je suis un rectangle de largeur {self.largeur}, de longueur {self.longueur} et de couleur {self.couleur}\"\n",
    "    \n",
    "    def __repr__(self):\n",
    "        return f'Rectangle({self.largeur!r}, {self.longueur!r}, {self.couleur!r})'\n",
    "    \n",
    "rect = Rectangle(5, 6, 'bleu')\n",
    "rect.calcule_surface()"
   ]
  },
  {
   "cell_type": "code",
   "execution_count": 41,
   "id": "d1a2428c",
   "metadata": {},
   "outputs": [
    {
     "name": "stdout",
     "output_type": "stream",
     "text": [
      "Je suis un rectangle de largeur 5, de longueur 6 et de couleur bleu\n"
     ]
    }
   ],
   "source": [
    "print(rect)"
   ]
  },
  {
   "cell_type": "code",
   "execution_count": 42,
   "id": "d7c83ec5",
   "metadata": {},
   "outputs": [
    {
     "data": {
      "text/plain": [
       "'Je suis un rectangle de largeur 5, de longueur 6 et de couleur bleu'"
      ]
     },
     "execution_count": 42,
     "metadata": {},
     "output_type": "execute_result"
    }
   ],
   "source": [
    "str(rect)"
   ]
  },
  {
   "cell_type": "code",
   "execution_count": 43,
   "id": "cebbfff6",
   "metadata": {
    "scrolled": true
   },
   "outputs": [
    {
     "data": {
      "text/plain": [
       "Rectangle(5, 6, 'bleu')"
      ]
     },
     "execution_count": 43,
     "metadata": {},
     "output_type": "execute_result"
    }
   ],
   "source": [
    "rect"
   ]
  },
  {
   "cell_type": "code",
   "execution_count": 44,
   "id": "5b461d95",
   "metadata": {},
   "outputs": [
    {
     "data": {
      "text/plain": [
       "\"Rectangle(5, 6, 'bleu')\""
      ]
     },
     "execution_count": 44,
     "metadata": {},
     "output_type": "execute_result"
    }
   ],
   "source": [
    "rect.__repr__()"
   ]
  },
  {
   "cell_type": "code",
   "execution_count": 35,
   "id": "0e05c370",
   "metadata": {},
   "outputs": [
    {
     "ename": "NameError",
     "evalue": "name 'bleu' is not defined",
     "output_type": "error",
     "traceback": [
      "\u001b[0;31m---------------------------------------------------------------------------\u001b[0m",
      "\u001b[0;31mNameError\u001b[0m                                 Traceback (most recent call last)",
      "Cell \u001b[0;32mIn[35], line 1\u001b[0m\n\u001b[0;32m----> 1\u001b[0m Rectangle(\u001b[38;5;241m5\u001b[39m, \u001b[38;5;241m6\u001b[39m, \u001b[43mbleu\u001b[49m)\n",
      "\u001b[0;31mNameError\u001b[0m: name 'bleu' is not defined"
     ]
    }
   ],
   "source": [
    "Rectangle(5, 6, bleu)"
   ]
  },
  {
   "cell_type": "code",
   "execution_count": 45,
   "id": "a726c755",
   "metadata": {},
   "outputs": [
    {
     "name": "stdout",
     "output_type": "stream",
     "text": [
      "Rectangle(5, 6, 'bleu')\n"
     ]
    }
   ],
   "source": [
    "class Rectangle:\n",
    "    def __init__(self, largeur, longueur, couleur):\n",
    "        self.largeur = largeur\n",
    "        self.longueur = longueur\n",
    "        self.couleur = couleur\n",
    "        \n",
    "    def calcule_surface(self):\n",
    "        return self.largeur*self.longueur\n",
    "\n",
    "    def calcule_perimetre(self):\n",
    "        return 2*(self.largeur + self.longueur)\n",
    "        \n",
    "    def __repr__(self):\n",
    "        return f'Rectangle({self.largeur!r}, {self.longueur!r}, {self.couleur!r})'\n",
    "    \n",
    "rect = Rectangle(5, 6, 'bleu')\n",
    "rect.calcule_surface()\n",
    "\n",
    "print(rect)"
   ]
  },
  {
   "cell_type": "code",
   "execution_count": null,
   "id": "0d5b1d3f",
   "metadata": {},
   "outputs": [],
   "source": []
  },
  {
   "cell_type": "code",
   "execution_count": null,
   "id": "a156bf62",
   "metadata": {},
   "outputs": [],
   "source": []
  },
  {
   "cell_type": "markdown",
   "id": "51477ba4",
   "metadata": {},
   "source": [
    "## Différence entre ``__repr__`` et ``__str__``"
   ]
  },
  {
   "cell_type": "code",
   "execution_count": 19,
   "id": "cab15e5c",
   "metadata": {},
   "outputs": [
    {
     "name": "stdout",
     "output_type": "stream",
     "text": [
      "Bonjour\n"
     ]
    }
   ],
   "source": [
    "s = \"Bonjour\"\n",
    "print(s)"
   ]
  },
  {
   "cell_type": "code",
   "execution_count": 20,
   "id": "cc13ee54",
   "metadata": {},
   "outputs": [
    {
     "data": {
      "text/plain": [
       "'Bonjour'"
      ]
     },
     "execution_count": 20,
     "metadata": {},
     "output_type": "execute_result"
    }
   ],
   "source": [
    "s"
   ]
  },
  {
   "cell_type": "code",
   "execution_count": 24,
   "id": "7728937d",
   "metadata": {},
   "outputs": [
    {
     "data": {
      "text/plain": [
       "'Aujourd\\'hui, il a dit \"Bonjour\"'"
      ]
     },
     "execution_count": 24,
     "metadata": {},
     "output_type": "execute_result"
    }
   ],
   "source": [
    "s = \"Aujourd'hui, il a dit \\\"Bonjour\\\"\"\n",
    "s"
   ]
  },
  {
   "cell_type": "code",
   "execution_count": 25,
   "id": "7e1e2db2",
   "metadata": {},
   "outputs": [
    {
     "name": "stdout",
     "output_type": "stream",
     "text": [
      "Aujourd'hui, il a dit \"Bonjour\"\n"
     ]
    }
   ],
   "source": [
    "print(s)"
   ]
  },
  {
   "cell_type": "code",
   "execution_count": 53,
   "id": "a44c83b5",
   "metadata": {},
   "outputs": [
    {
     "name": "stdout",
     "output_type": "stream",
     "text": [
      "[0 1 2 3 4]\n",
      "array([0, 1, 2, 3, 4])\n"
     ]
    }
   ],
   "source": [
    "import numpy as np\n",
    "\n",
    "a = np.arange(5)\n",
    "print(str(a))\n",
    "print(repr(a))"
   ]
  },
  {
   "cell_type": "markdown",
   "id": "721ce66f",
   "metadata": {},
   "source": [
    "# Héritage\n",
    "\n",
    "En programmation, l’héritage est la capacité d’une classe d’hériter des propriétés d’une classe pré-existante. On parle\n",
    "de classe mère et de classe fille. En Python, l’héritage peut être multiple lorsqu’une classe fille hérite de plusieurs classes\n",
    "mères.\n",
    "\n",
    "* Héritage des méthodes et des attributs de classe"
   ]
  },
  {
   "cell_type": "code",
   "execution_count": 85,
   "id": "72c8539c",
   "metadata": {},
   "outputs": [
    {
     "name": "stdout",
     "output_type": "stream",
     "text": [
      "Je suis rouge\n"
     ]
    }
   ],
   "source": [
    "class FigureGeometrique:\n",
    "    def affiche_couleur(self):\n",
    "        print(f'Je suis {self.couleur}')\n",
    "    \n",
    "\n",
    "class Rectangle(FigureGeometrique):\n",
    "    def __init__(self, largeur, longueur, couleur):\n",
    "        self.largeur = largeur\n",
    "        self.longueur = longueur\n",
    "        self.couleur = couleur\n",
    "        \n",
    "    def calcule_surface(self):\n",
    "        return self.largeur*self.longueur\n",
    "\n",
    "    def calcule_perimetre(self):\n",
    "        return 2*(self.largeur + self.longueur)\n",
    "    \n",
    "\n",
    "    \n",
    "class Disque(FigureGeometrique):\n",
    "    def __init__(self, rayon, couleur):\n",
    "        self.rayon = rayon\n",
    "        self.couleur = couleur\n",
    "        \n",
    "    def calcule_surface(self):\n",
    "        return pi*self.rayon**2\n",
    "    \n",
    "    def calcule_perimetre(self):\n",
    "        return 2*pi*self.rayon\n",
    "    \n",
    "        \n",
    "fig1 = Disque(3, 'rouge')\n",
    "fig1.affiche_couleur()"
   ]
  },
  {
   "cell_type": "code",
   "execution_count": null,
   "id": "6bae6c8f",
   "metadata": {},
   "outputs": [],
   "source": [
    "class Mere:\n",
    "    pass\n",
    "\n",
    "class Fille1(Mere):\n",
    "    pass\n",
    "\n",
    "class Fille2(Mere):\n",
    "    pass"
   ]
  },
  {
   "cell_type": "code",
   "execution_count": null,
   "id": "53563a4e",
   "metadata": {},
   "outputs": [],
   "source": []
  },
  {
   "cell_type": "code",
   "execution_count": null,
   "id": "f25013a6",
   "metadata": {},
   "outputs": [],
   "source": []
  },
  {
   "cell_type": "markdown",
   "id": "ac23ce10",
   "metadata": {},
   "source": [
    "## Ordre de résolution des noms\n",
    "\n"
   ]
  },
  {
   "cell_type": "code",
   "execution_count": null,
   "id": "547cfac7",
   "metadata": {},
   "outputs": [],
   "source": []
  },
  {
   "cell_type": "code",
   "execution_count": null,
   "id": "ab3cf23b",
   "metadata": {},
   "outputs": [],
   "source": []
  },
  {
   "cell_type": "markdown",
   "id": "fc3825b8",
   "metadata": {},
   "source": [
    "## Un exemple concret d’héritage"
   ]
  },
  {
   "cell_type": "code",
   "execution_count": 1,
   "id": "81c5e190",
   "metadata": {},
   "outputs": [],
   "source": [
    "class Fruit:\n",
    "    def __init__(self, taille=None, masse=None, saveur=None, forme=None):\n",
    "        print(\"(2) Je suis dans le constructeur de la classe Fruit\")\n",
    "        self.taille = taille\n",
    "        self.masse = masse\n",
    "        self.saveur = saveur\n",
    "        self.forme = forme\n",
    "        print(\"Je viens de créer self.taille, self.masse, self.saveur \"\n",
    "        \"et self.forme\")\n",
    "    def affiche_conseil(self, type_fruit, conseil):\n",
    "        print(\"(2) Je suis dans la méthode .affiche_conseil() de la \"\n",
    "            \"classe Fruit\\n\")\n",
    "        return (f\"Instance {type_fruit}\\n\"\n",
    "            f\"taille: {self.taille}, masse: {self.masse}\\n\"\n",
    "            f\"saveur: {self.saveur}, forme: {self.forme}\\n\"\n",
    "            f\"conseil: {conseil}\\n\")\n",
    "    \n",
    "class Citron(Fruit):\n",
    "    def __init__(self, taille=None, masse=None, saveur=None, forme=None):\n",
    "        print(\"(1) Je rentre dans le constructeur de Citron, et je vais \"\n",
    "            \"appeler\\n\"\n",
    "            \"le constructeur de la classe mère Fruit !\")\n",
    "        Fruit.__init__(self, taille, masse, saveur, forme)\n",
    "        print(\"(3) J'ai fini dans le constructeur de Citron, \"\n",
    "            \"les attributs sont :\\n\"\n",
    "            f\"self.taille: {self.taille}, self.masse: {self.masse}\\n\"\n",
    "            f\"self.saveur: {self.saveur}, self.forme: {self.forme}\\n\")\n",
    "    def __str__(self):\n",
    "        print(\"(1) Je rentre dans la méthode .__str__() de la classe Citron\")\n",
    "        print(\"Je vais lancer la méthode .affiche_conseil() héritée de la classe Fruit\")\n",
    "        return self.affiche_conseil(\"Citron\", \"Bon en tarte :-p !\")"
   ]
  },
  {
   "cell_type": "code",
   "execution_count": 2,
   "id": "0a647160",
   "metadata": {},
   "outputs": [
    {
     "name": "stdout",
     "output_type": "stream",
     "text": [
      "(1) Je rentre dans le constructeur de Citron, et je vais appeler\n",
      "le constructeur de la classe mère Fruit !\n",
      "(2) Je suis dans le constructeur de la classe Fruit\n",
      "Je viens de créer self.taille, self.masse, self.saveur et self.forme\n",
      "(3) J'ai fini dans le constructeur de Citron, les attributs sont :\n",
      "self.taille: petite, self.masse: 50\n",
      "self.saveur: acide, self.forme: ellipsoïde\n",
      "\n"
     ]
    }
   ],
   "source": [
    "citron1 = Citron(taille=\"petite\", saveur=\"acide\", forme=\"ellipsoïde\", masse=50)"
   ]
  },
  {
   "cell_type": "code",
   "execution_count": null,
   "id": "ba97ba07",
   "metadata": {},
   "outputs": [],
   "source": [
    "class Kaki(Fruit):\n",
    "    def __init__(self, taille=None, masse=None, saveur=None, forme=None):\n",
    "        Fruit.__init__(self, taille, masse, saveur, forme)\n",
    "    def __str__(self):\n",
    "        return self.affiche_conseil(self, \"Kaki\", \"Bon à manger cru, miam !\")\n",
    "\n",
    "class Orange(Fruit):\n",
    "    def __init__(self, taille=None, masse=None, saveur=None, forme=None):\n",
    "        Fruit.__init__(self, taille, masse, saveur, forme)\n",
    "    def __str__(self):\n",
    "        return self.affiche_conseil(self, \"Orange\", \"Trop bon en jus !\")"
   ]
  },
  {
   "cell_type": "code",
   "execution_count": null,
   "id": "85ea81d9",
   "metadata": {},
   "outputs": [],
   "source": []
  },
  {
   "cell_type": "markdown",
   "id": "cb8411fc",
   "metadata": {},
   "source": [
    "## Composition\n",
    "\n",
    "La composition désigne le fait qu’une classe peut contenir des instances provenant d’autres classes. On parle parfois de classe *Composite* contenant des instances d’une classe *Component* (qu’on pourrait traduire par élément)."
   ]
  },
  {
   "cell_type": "code",
   "execution_count": null,
   "id": "cfdd26c6",
   "metadata": {},
   "outputs": [],
   "source": [
    "class Pannier:\n",
    "    def __init__(self):\n",
    "        self.contenu = []\n",
    "        \n",
    "    def ajoute_fruit(self, fruit):\n",
    "        self.contenu.append(fruit)"
   ]
  },
  {
   "cell_type": "markdown",
   "id": "327b9fc2",
   "metadata": {},
   "source": [
    "# Exercices\n",
    "\n",
    "## Vecteurs\n",
    "\n",
    "Créer une classe ``Vecteur3D`` qui aura comme attribut ``x``, ``y``, ``z``. Définir les méthode ``__repr__``, ``__str__``. Définir l'addition, la soustraction de deux vecteur, ainsi que la multiplication ou la division par un scalaire. Définir une méthode qui renvoit la norme. "
   ]
  },
  {
   "cell_type": "code",
   "execution_count": 79,
   "id": "42651c19",
   "metadata": {},
   "outputs": [
    {
     "name": "stdout",
     "output_type": "stream",
     "text": [
      "(2 4 5)\n"
     ]
    },
    {
     "data": {
      "text/plain": [
       "10.198039027185569"
      ]
     },
     "execution_count": 79,
     "metadata": {},
     "output_type": "execute_result"
    }
   ],
   "source": [
    "from math import sqrt\n",
    "class Vecteur3D:\n",
    "    def __init__(self, x, y, z):\n",
    "        self.x = x\n",
    "        self.y = y\n",
    "        self.z = z\n",
    "        \n",
    "    def __repr__(self):\n",
    "        return f\"Vecteur3D({self.x!r}, {self.y!r}, {self.z!r})\"\n",
    "    \n",
    "    def __str__(self):\n",
    "        return f\"({self.x!r} {self.y!r} {self.z!r})\"\n",
    "    \n",
    "    def norme(self):\n",
    "        return sqrt(self.x**2 + self.y**2 + self.z**2)\n",
    "    \n",
    "    def __add__(self, other):\n",
    "        return Vecteur3D(self.x + other.x, self.y + other.y, self.z + other.z)\n",
    "\n",
    "    def __sub__(self, other):\n",
    "        return Vecteur3D(self.x - other.x, self.y - other.y, self.z - other.z)\n",
    "\n",
    "    def __mul__(self, other):\n",
    "        return Vecteur3D(self.x *other, self.y*other, self.z*other)\n",
    "\n",
    "    def __rmul__(self, other):\n",
    "        return Vecteur3D(self.x *other, self.y*other, self.z*other)\n",
    "    \n",
    "    def __pow__(self, other):\n",
    "        if other==2:\n",
    "            return self.x**2 + self.y**2 + self.z**2\n",
    "        return NotImplemented\n",
    "    \n",
    "    def __abs__(self):\n",
    "        return self.norme()\n",
    "    \n",
    "vect1 = Vecteur3D(2, 4, 5)\n",
    "vect2 = Vecteur3D(6, 2, 8)\n",
    "print(vect1)\n",
    "vect1 - vect2\n",
    "vect1*2\n",
    "vect2.norme()"
   ]
  },
  {
   "cell_type": "code",
   "execution_count": 80,
   "id": "feb280a1",
   "metadata": {},
   "outputs": [
    {
     "data": {
      "text/plain": [
       "6.708203932499369"
      ]
     },
     "execution_count": 80,
     "metadata": {},
     "output_type": "execute_result"
    }
   ],
   "source": [
    "sqrt(vect1**2)"
   ]
  },
  {
   "cell_type": "code",
   "execution_count": 81,
   "id": "cf041581",
   "metadata": {},
   "outputs": [
    {
     "data": {
      "text/plain": [
       "6.708203932499369"
      ]
     },
     "execution_count": 81,
     "metadata": {},
     "output_type": "execute_result"
    }
   ],
   "source": [
    "abs(vect1)"
   ]
  },
  {
   "cell_type": "code",
   "execution_count": 71,
   "id": "7d5ccaca",
   "metadata": {},
   "outputs": [
    {
     "data": {
      "text/plain": [
       "Vecteur3D(4, 8, 10)"
      ]
     },
     "execution_count": 71,
     "metadata": {},
     "output_type": "execute_result"
    }
   ],
   "source": [
    "2*vect1 # vect1.__rmul__(2) parce que 2.__mul__(vect1) ne fonctionne pas"
   ]
  },
  {
   "cell_type": "code",
   "execution_count": null,
   "id": "171fb403",
   "metadata": {},
   "outputs": [],
   "source": []
  },
  {
   "cell_type": "code",
   "execution_count": 72,
   "id": "0c182f69",
   "metadata": {},
   "outputs": [
    {
     "data": {
      "text/plain": [
       "Vecteur3D(8, 6, 13)"
      ]
     },
     "execution_count": 72,
     "metadata": {},
     "output_type": "execute_result"
    }
   ],
   "source": [
    "def addidion(vect1, vect2):\n",
    "    return Vecteur3D(vect1.x + vect2.x, vect1.y + vect2.y, vect1.z + vect2.z)\n",
    "\n",
    "addidion(vect1, vect2)"
   ]
  },
  {
   "cell_type": "code",
   "execution_count": null,
   "id": "f6d703d0",
   "metadata": {},
   "outputs": [],
   "source": []
  },
  {
   "cell_type": "markdown",
   "id": "c4ade322",
   "metadata": {},
   "source": [
    "## Bibliographie\n",
    "\n",
    "\n",
    "Un livre est décrit par son titre, auteur et année de publication (pour faire les choses simplements). Écrire une classe ``Livre`` qui enregistre ces informations. Ecrire la méthode ``__repr__`` et ``__str__``.\n",
    "\n",
    "Une bibliographe est une liste de livre. Écrire la classe ``Bibliographie`` qui enregistre une liste de livre (on stockera la liste de livre sous forme d'une liste qui sera un attribut de la bibliographie).\n",
    "\n",
    "L'objectif final est de pouvoir faire ceci : \n",
    "\n",
    "    livre1 = Livre(\"A very nice book\", \"F. Dupont\", 2014)\n",
    "    livre2 = Livre(\"A very smart book\", \"A. Einstein\", 1923)\n",
    "    livre3 = Livre(\"A very stupid comic\", \"D. Duck\", 1937)\n",
    "\n",
    "    bibliographie = Bibliographie([book1, book2, book3])\n",
    "\n",
    "Maintenant que tout est fait sous forme d'objet, on peut imaginer écrire plusieurs méthode : \n",
    "\n",
    "* Écrire une méthode ``filter_by_year`` qui fait une nouvelle bibliographie ne contenant que les livres d'une année donée.\n",
    "* Écrire une méthode ``to_html`` qui formate correctement la bibliographie. La méthode de la classe Bibliographie devra appeler une méthode pour chaque Livre.\n",
    "\n",
    "Et en HTML:\n",
    "\n",
    "    <table>\n",
    "        <thead>\n",
    "            <tr> <th>Auteur</th><th>Titre</th><th>Année</th></tr>\n",
    "        </thead>\n",
    "        <tbody>\n",
    "           <tr><td>F. Dupont</td><td>2014</td><td>A very nice book</td></tr>\n",
    "           <tr><td>A. Einstein</td><td>1923</td><td>A very smart book</td></tr>\n",
    "           <tr><td>D. Duck</td><td>1937</td><td>A very stupid comic</td></tr>\n",
    "        </tbody>\n",
    "    </table>\n",
    "\n",
    "Remarque : si un objet possède une méthode ``_repr_html_``, alors le jupyter notebook utilsera automatiquement la représentation en HTML. Rajouter cette méthode (qui appelera to_html)."
   ]
  },
  {
   "cell_type": "code",
   "execution_count": 9,
   "id": "ffafd1bd",
   "metadata": {},
   "outputs": [],
   "source": [
    "class Livre():\n",
    "    def __init__(self, titre, auteur, annee):\n",
    "        self.titre = titre\n",
    "        self.auteur = auteur\n",
    "        self.annee = annee\n",
    "    \n",
    "    def __repr__(self):\n",
    "        return f\"Livre({self.titre!r}, {self.auteur!r}, {self.annee!r})\"\n",
    "\n",
    "    def __str__(self):\n",
    "        return f\"{self.titre}({self.auteur}, {self.annee})\"\n",
    "    \n",
    "    def to_html_table_line(self):\n",
    "        return f\"<tr><td>{self.auteur}</td><td>{self.titre}</td><td>{self.annee}</td></tr>\"\n",
    "    \n",
    "    \n",
    "\n",
    "\n",
    "\n",
    "class Bibliographie():\n",
    "    def __init__(self, liste_des_livres):\n",
    "        self._liste_livres = liste_des_livres\n",
    "        \n",
    "    def __getitem__(self, key):\n",
    "        return self._liste_livres[key]\n",
    "        \n",
    "    def __repr__(self):\n",
    "        return f\"Bibliographie({self._liste_livres!r})\"\n",
    "\n",
    "    def __str__(self):\n",
    "        out = []\n",
    "        out.append(f\"{'Titre':<40} | {'Auteur':<20} | {'Année':>6}\")\n",
    "        out.append('-'*len(out[0]))\n",
    "        for livre in self._liste_livres:\n",
    "            out.append(f\"{livre.titre:<40} | {livre.auteur:<20} | {livre.annee:>6}\")\n",
    "        return '\\n'.join(out)\n",
    "\n",
    "    \n",
    "    def to_html_table(self):\n",
    "        content = '\\n'.join([livre.to_html_table_line() for livre in self._liste_livres])\n",
    "        table = f\"\"\"<table>\n",
    "<thead>\n",
    "<tr><th>Auteur</th><th>Titre</th><th>Année</th></tr>\n",
    "</thead>\n",
    "<tbody>\n",
    "{content}\n",
    "</tbody>\n",
    "</table>\"\"\"\n",
    "        return table\n",
    "    \n",
    "    _repr_html_ = to_html_table"
   ]
  },
  {
   "cell_type": "code",
   "execution_count": 10,
   "id": "5c160970",
   "metadata": {},
   "outputs": [
    {
     "name": "stdout",
     "output_type": "stream",
     "text": [
      "Titre                                    | Auteur               |  Année\n",
      "------------------------------------------------------------------------\n",
      "A very nice book                         | F. Dupont            |   2014\n",
      "A very smart book                        | A. Einstein          |   1923\n",
      "A very stupid comic                      | D. Duck              |   1937\n"
     ]
    }
   ],
   "source": [
    "livre1 = Livre(\"A very nice book\", \"F. Dupont\", 2014)\n",
    "livre2 = Livre(\"A very smart book\", \"A. Einstein\", 1923)\n",
    "livre3 = Livre(\"A very stupid comic\", \"D. Duck\", 1937)\n",
    "\n",
    "bibliographie = Bibliographie([livre1, livre2, livre3])\n",
    "print(bibliographie)"
   ]
  },
  {
   "cell_type": "code",
   "execution_count": 11,
   "id": "4bfb0e37",
   "metadata": {},
   "outputs": [
    {
     "data": {
      "text/html": [
       "<table>\n",
       "<thead>\n",
       "<tr><th>Auteur</th><th>Titre</th><th>Année</th></tr>\n",
       "</thead>\n",
       "<tbody>\n",
       "<tr><td>F. Dupont</td><td>A very nice book</td><td>2014</td></tr>\n",
       "<tr><td>A. Einstein</td><td>A very smart book</td><td>1923</td></tr>\n",
       "<tr><td>D. Duck</td><td>A very stupid comic</td><td>1937</td></tr>\n",
       "</tbody>\n",
       "</table>"
      ],
      "text/plain": [
       "Bibliographie([Livre('A very nice book', 'F. Dupont', 2014), Livre('A very smart book', 'A. Einstein', 1923), Livre('A very stupid comic', 'D. Duck', 1937)])"
      ]
     },
     "execution_count": 11,
     "metadata": {},
     "output_type": "execute_result"
    }
   ],
   "source": [
    "bibliographie"
   ]
  },
  {
   "cell_type": "code",
   "execution_count": null,
   "id": "3d3056e7",
   "metadata": {},
   "outputs": [],
   "source": []
  }
 ],
 "metadata": {
  "kernelspec": {
   "display_name": "Odeon 3.10",
   "language": "python",
   "name": "odeon310"
  },
  "language_info": {
   "codemirror_mode": {
    "name": "ipython",
    "version": 3
   },
   "file_extension": ".py",
   "mimetype": "text/x-python",
   "name": "python",
   "nbconvert_exporter": "python",
   "pygments_lexer": "ipython3",
   "version": "3.10.12"
  },
  "varInspector": {
   "cols": {
    "lenName": 16,
    "lenType": 16,
    "lenVar": 40
   },
   "kernels_config": {
    "python": {
     "delete_cmd_postfix": "",
     "delete_cmd_prefix": "del ",
     "library": "var_list.py",
     "varRefreshCmd": "print(var_dic_list())"
    },
    "r": {
     "delete_cmd_postfix": ") ",
     "delete_cmd_prefix": "rm(",
     "library": "var_list.r",
     "varRefreshCmd": "cat(var_dic_list()) "
    }
   },
   "types_to_exclude": [
    "module",
    "function",
    "builtin_function_or_method",
    "instance",
    "_Feature"
   ],
   "window_display": false
  }
 },
 "nbformat": 4,
 "nbformat_minor": 5
}
