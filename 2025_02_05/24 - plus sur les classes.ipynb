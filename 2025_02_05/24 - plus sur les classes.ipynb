{
 "cells": [
  {
   "cell_type": "markdown",
   "id": "98395251",
   "metadata": {},
   "source": [
    "# Polymorphisme \n",
    "\n",
    "En programmation, le **polymorphisme** est la capacité d’une fonction (ou méthode) à se comporter différemment en\n",
    "fonction de l’objet qui lui est passé. Une fonction donnée peut donc avoir plusieurs définitions.\n",
    "\n",
    "\n",
    "La **redéfinition** des opérateurs est la capacité à redéfinir le comportement d’un opérateur en fonction des opérandes\n",
    "utilisées (on rappelle dans l’expression 1 + 1, + est l’opérateur d’addition et les deux 1 sont les opérandes)."
   ]
  },
  {
   "cell_type": "code",
   "execution_count": null,
   "id": "0ccb0957",
   "metadata": {},
   "outputs": [],
   "source": []
  },
  {
   "cell_type": "code",
   "execution_count": null,
   "id": "3ae035c1",
   "metadata": {},
   "outputs": [],
   "source": []
  },
  {
   "cell_type": "markdown",
   "id": "b58ee86a",
   "metadata": {},
   "source": [
    "Exemple : écrire une fonction ``surface`` qui renvoie la surface d'une figure geométrique (rectangle, disque, ...)"
   ]
  },
  {
   "cell_type": "code",
   "execution_count": null,
   "id": "d36c8ac4",
   "metadata": {},
   "outputs": [],
   "source": []
  },
  {
   "cell_type": "markdown",
   "id": "47f4789b",
   "metadata": {},
   "source": [
    "Polymorphisme en Python : **méthodes spéciales** / **dunders** / **méthodes magiques** . Ce dont des méthode qui commencent et terminent par 2 __ .\n",
    "\n",
    "* ``__init__``\n",
    "* ``__str__``\n",
    "* ``__repr__``\n",
    "* ``__add__``, ``__mul__``, ``__sub__``, ``__truediv__``, ..."
   ]
  },
  {
   "cell_type": "markdown",
   "id": "c68330e1",
   "metadata": {},
   "source": [
    "## Différence entre ``__repr__`` et ``__str__``"
   ]
  },
  {
   "cell_type": "code",
   "execution_count": null,
   "id": "cab15e5c",
   "metadata": {},
   "outputs": [],
   "source": []
  },
  {
   "cell_type": "code",
   "execution_count": null,
   "id": "f48fcf39",
   "metadata": {},
   "outputs": [],
   "source": []
  },
  {
   "cell_type": "code",
   "execution_count": null,
   "id": "b12cf2fe",
   "metadata": {},
   "outputs": [],
   "source": []
  },
  {
   "cell_type": "markdown",
   "id": "721ce66f",
   "metadata": {},
   "source": [
    "# Héritage\n",
    "\n",
    "En programmation, l’héritage est la capacité d’une classe d’hériter des propriétés d’une classe pré-existante. On parle\n",
    "de classe mère et de classe fille. En Python, l’héritage peut être multiple lorsqu’une classe fille hérite de plusieurs classes\n",
    "mères.\n",
    "\n",
    "* Héritage des méthodes et des attributs de classe"
   ]
  },
  {
   "cell_type": "code",
   "execution_count": null,
   "id": "72c8539c",
   "metadata": {},
   "outputs": [],
   "source": []
  },
  {
   "cell_type": "markdown",
   "id": "ac23ce10",
   "metadata": {},
   "source": [
    "## Ordre de résolution des noms\n",
    "\n"
   ]
  },
  {
   "cell_type": "code",
   "execution_count": null,
   "id": "547cfac7",
   "metadata": {},
   "outputs": [],
   "source": []
  },
  {
   "cell_type": "code",
   "execution_count": null,
   "id": "ab3cf23b",
   "metadata": {},
   "outputs": [],
   "source": []
  },
  {
   "cell_type": "markdown",
   "id": "53dc29b2",
   "metadata": {},
   "source": [
    "## Un exemple concret d’héritage"
   ]
  },
  {
   "cell_type": "code",
   "execution_count": 1,
   "id": "d57ad25c",
   "metadata": {},
   "outputs": [],
   "source": [
    "class Fruit:\n",
    "    def __init__(self, taille=None, masse=None, saveur=None, forme=None):\n",
    "        print(\"(2) Je suis dans le constructeur de la classe Fruit\")\n",
    "        self.taille = taille\n",
    "        self.masse = masse\n",
    "        self.saveur = saveur\n",
    "        self.forme = forme\n",
    "        print(\"Je viens de créer self.taille, self.masse, self.saveur \"\n",
    "        \"et self.forme\")\n",
    "    def affiche_conseil(self, type_fruit, conseil):\n",
    "        print(\"(2) Je suis dans la méthode .affiche_conseil() de la \"\n",
    "            \"classe Fruit\\n\")\n",
    "        return (f\"Instance {type_fruit}\\n\"\n",
    "            f\"taille: {self.taille}, masse: {self.masse}\\n\"\n",
    "            f\"saveur: {self.saveur}, forme: {self.forme}\\n\"\n",
    "            f\"conseil: {conseil}\\n\")\n",
    "class Citron(Fruit):\n",
    "    def __init__(self, taille=None, masse=None, saveur=None, forme=None):\n",
    "        print(\"(1) Je rentre dans le constructeur de Citron, et je vais \"\n",
    "            \"appeler\\n\"\n",
    "            \"le constructeur de la classe mère Fruit !\")\n",
    "        Fruit.__init__(self, taille, masse, saveur, forme)\n",
    "        print(\"(3) J'ai fini dans le constructeur de Citron, \"\n",
    "            \"les attributs sont :\\n\"\n",
    "            f\"self.taille: {self.taille}, self.masse: {self.masse}\\n\"\n",
    "            f\"self.saveur: {self.saveur}, self.forme: {self.forme}\\n\")\n",
    "    def __str__(self):\n",
    "        print(\"(1) Je rentre dans la méthode .__str__() de la classe Citron\")\n",
    "        print(\"Je vais lancer la méthode .affiche_conseil() héritée de la classe Fruit\")\n",
    "        return self.affiche_conseil(\"Citron\", \"Bon en tarte :-p !\")"
   ]
  },
  {
   "cell_type": "code",
   "execution_count": 2,
   "id": "436ebaa4",
   "metadata": {},
   "outputs": [
    {
     "name": "stdout",
     "output_type": "stream",
     "text": [
      "(1) Je rentre dans le constructeur de Citron, et je vais appeler\n",
      "le constructeur de la classe mère Fruit !\n",
      "(2) Je suis dans le constructeur de la classe Fruit\n",
      "Je viens de créer self.taille, self.masse, self.saveur et self.forme\n",
      "(3) J'ai fini dans le constructeur de Citron, les attributs sont :\n",
      "self.taille: petite, self.masse: 50\n",
      "self.saveur: acide, self.forme: ellipsoïde\n",
      "\n"
     ]
    }
   ],
   "source": [
    "citron1 = Citron(taille=\"petite\", saveur=\"acide\", forme=\"ellipsoïde\", masse=50)"
   ]
  },
  {
   "cell_type": "code",
   "execution_count": null,
   "id": "a4e082fa",
   "metadata": {},
   "outputs": [],
   "source": [
    "class Kaki(Fruit):\n",
    "    def __init__(self, taille=None, masse=None, saveur=None, forme=None):\n",
    "        Fruit.__init__(self, taille, masse, saveur, forme)\n",
    "    def __str__(self):\n",
    "        return self.affiche_conseil(self, \"Kaki\", \"Bon à manger cru, miam !\")\n",
    "\n",
    "class Orange(Fruit):\n",
    "    def __init__(self, taille=None, masse=None, saveur=None, forme=None):\n",
    "        Fruit.__init__(self, taille, masse, saveur, forme)\n",
    "    def __str__(self):\n",
    "        return self.affiche_conseil(self, \"Orange\", \"Trop bon en jus !\")"
   ]
  },
  {
   "cell_type": "code",
   "execution_count": null,
   "id": "235f1523",
   "metadata": {},
   "outputs": [],
   "source": []
  },
  {
   "cell_type": "markdown",
   "id": "b6244c8b",
   "metadata": {},
   "source": [
    "## Composition\n",
    "\n",
    "La composition désigne le fait qu’une classe peut contenir des instances provenant d’autres classes. On parle parfois de classe *Composite* contenant des instances d’une classe *Component* (qu’on pourrait traduire par élément)."
   ]
  },
  {
   "cell_type": "code",
   "execution_count": null,
   "id": "4d910372",
   "metadata": {},
   "outputs": [],
   "source": []
  },
  {
   "cell_type": "markdown",
   "id": "327b9fc2",
   "metadata": {},
   "source": [
    "# Exercices\n",
    "\n",
    "## Vecteurs\n",
    "\n",
    "Créer une classe ``Vecteur3D`` qui aura comme attribut ``x``, ``y``, ``z``. Définir les méthode ``__repr__``, ``__str__``. Définir l'addition, la soustraction de deux vecteur, ainsi que la multiplication ou la division par un scalaire. Définir une méthode qui renvoit la norme. "
   ]
  },
  {
   "cell_type": "code",
   "execution_count": null,
   "id": "eba8e786",
   "metadata": {},
   "outputs": [],
   "source": []
  },
  {
   "cell_type": "markdown",
   "id": "c4ade322",
   "metadata": {},
   "source": [
    "## Bibliographie\n",
    "\n",
    "\n",
    "Un livre est décrit par son titre, auteur et année de publication (pour faire les choses simplements). Écrire une classe ``Livre`` qui enregistre ces informations. Ecrire la méthode ``__repr__`` et ``__str__``.\n",
    "\n",
    "Une bibliographe est une liste de livre. Écrire la classe ``Bibliographie`` qui enregistre une liste de livre (on stockera la liste de livre sous forme d'une liste qui sera un attribut de la bibliographie).\n",
    "\n",
    "L'objectif final est de pouvoir faire ceci :: \n",
    "\n",
    "    livre1 = Livre(\"A very nice book\", \"F. Dupont\", 2014)\n",
    "    livre2 = Livre(\"A very smart book\", \"A. Einstein\", 1923)\n",
    "    livre3 = Livre(\"A very stupid comic\", \"D. Duck\", 1937)\n",
    "\n",
    "    bibliographie = Bibliographie([book1, book2, book3])\n",
    "\n",
    "Maintenant que tout est fait sous forme d'objet, on peut imaginer écrire plusieurs méthode : \n",
    "\n",
    "* Écrire une méthode ``filter_by_year`` qui fait une nouvelle bibliographie ne contenant que les livres d'une année donée.\n",
    "* Écrire une méthode ``to_html`` qui formate correctement la bibliographie. La méthode de la classe Bibliographie devra appeler une méthode pour chaque Livre.\n",
    "\n",
    "Et en HTML:\n",
    "\n",
    "    <table>\n",
    "        <thead>\n",
    "            <tr> <th>Auteur</th><th>Titre</th><th>Année</th></tr>\n",
    "        </thead>\n",
    "        <tbody>\n",
    "           <tr><td>F. Dupont</td><td>2014</td><td>A very nice book</td></tr>\n",
    "           <tr><td>A. Einstein</td><td>1923</td><td>A very smart book</td></tr>\n",
    "           <tr><td>D. Duck</td><td>1937</td><td>A very stupid comic</td></tr>\n",
    "        </tbody>\n",
    "    </table>\n",
    "\n",
    "Remarque : si un objet possède une méthode ``_repr_html_``, alors le jupyter notebook utilsera automatiquement la représentation en HTML. Rajouter cette méthode (qui appelera to_html)."
   ]
  },
  {
   "cell_type": "code",
   "execution_count": null,
   "id": "ffafd1bd",
   "metadata": {},
   "outputs": [],
   "source": []
  }
 ],
 "metadata": {
  "kernelspec": {
   "display_name": "Odeon 3.10",
   "language": "python",
   "name": "odeon310"
  },
  "language_info": {
   "codemirror_mode": {
    "name": "ipython",
    "version": 3
   },
   "file_extension": ".py",
   "mimetype": "text/x-python",
   "name": "python",
   "nbconvert_exporter": "python",
   "pygments_lexer": "ipython3",
   "version": "3.10.12"
  },
  "varInspector": {
   "cols": {
    "lenName": 16,
    "lenType": 16,
    "lenVar": 40
   },
   "kernels_config": {
    "python": {
     "delete_cmd_postfix": "",
     "delete_cmd_prefix": "del ",
     "library": "var_list.py",
     "varRefreshCmd": "print(var_dic_list())"
    },
    "r": {
     "delete_cmd_postfix": ") ",
     "delete_cmd_prefix": "rm(",
     "library": "var_list.r",
     "varRefreshCmd": "cat(var_dic_list()) "
    }
   },
   "types_to_exclude": [
    "module",
    "function",
    "builtin_function_or_method",
    "instance",
    "_Feature"
   ],
   "window_display": false
  }
 },
 "nbformat": 4,
 "nbformat_minor": 5
}
