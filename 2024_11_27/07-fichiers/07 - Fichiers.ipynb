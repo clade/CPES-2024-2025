{
 "cells": [
  {
   "cell_type": "markdown",
   "id": "2a63b279",
   "metadata": {},
   "source": [
    "# Lecture dans un fichier\n",
    "\n",
    "Fichier texte simple. Ils sont lisibles avec Notepad, visual studio, TextEdit (Mac OS), gedit (linux), ...\n",
    "Ce n'est pas un fichier Word\n",
    "\n",
    "Créons un fichier contenant 4 lignes: \n",
    "- girafe\n",
    "- tigre\n",
    "- singe\n",
    "- souris\n",
    "\n",
    "## Méthode .readlines()"
   ]
  },
  {
   "cell_type": "code",
   "execution_count": 1,
   "id": "9232f592",
   "metadata": {},
   "outputs": [
    {
     "name": "stdout",
     "output_type": "stream",
     "text": [
      "['girafe\\n', 'tigre\\n', 'singe\\n', 'souris']\n"
     ]
    }
   ],
   "source": [
    "f = open('animaux.txt', 'r')\n",
    "print(f.readlines())\n",
    "f.close()"
   ]
  },
  {
   "cell_type": "code",
   "execution_count": 3,
   "id": "98d52fcd",
   "metadata": {},
   "outputs": [
    {
     "name": "stdout",
     "output_type": "stream",
     "text": [
      "['girafe\\n', 'tigre\\n', 'singe\\n', 'souris']\n"
     ]
    }
   ],
   "source": [
    "with open('animaux.txt', 'r') as f:\n",
    "    print(f.readlines())"
   ]
  },
  {
   "cell_type": "code",
   "execution_count": 5,
   "id": "fbec6c38",
   "metadata": {},
   "outputs": [
    {
     "name": "stdout",
     "output_type": "stream",
     "text": [
      "girafe\n",
      "tigre\n",
      "singe\n",
      "souris\n"
     ]
    }
   ],
   "source": [
    "with open('animaux.txt', 'r') as f:\n",
    "    for line in f.readlines():\n",
    "        print(line.strip())\n",
    "        \n",
    "        "
   ]
  },
  {
   "cell_type": "code",
   "execution_count": null,
   "id": "ea26f7e3",
   "metadata": {},
   "outputs": [],
   "source": []
  },
  {
   "cell_type": "markdown",
   "id": "59d5e440",
   "metadata": {},
   "source": [
    "## Méthode .read()"
   ]
  },
  {
   "cell_type": "code",
   "execution_count": 1,
   "id": "ca717b15",
   "metadata": {},
   "outputs": [
    {
     "data": {
      "text/plain": [
       "'girafe\\ntigre\\nsinge\\nsouris\\nmouton'"
      ]
     },
     "execution_count": 1,
     "metadata": {},
     "output_type": "execute_result"
    }
   ],
   "source": [
    "with open('animaux.txt', 'r') as f:\n",
    "    s = f.read()\n",
    "    \n",
    "s"
   ]
  },
  {
   "cell_type": "markdown",
   "id": "d0ebac7d",
   "metadata": {},
   "source": [
    "## Méthode .readline()"
   ]
  },
  {
   "cell_type": "code",
   "execution_count": 10,
   "id": "39f70ca1",
   "metadata": {},
   "outputs": [
    {
     "name": "stdout",
     "output_type": "stream",
     "text": [
      "girafe\n",
      "\n",
      "tigre\n",
      "\n",
      "singe\n",
      "\n",
      "souris\n",
      "\n",
      "\n"
     ]
    }
   ],
   "source": [
    "with open('animaux.txt', 'r') as f:\n",
    "    print(f.readline())\n",
    "    print(f.readline())\n",
    "    print(f.readline())\n",
    "    print(f.readline())\n",
    "    print(f.readline())\n",
    "    print(f.readline())"
   ]
  },
  {
   "cell_type": "markdown",
   "id": "2c1b73fc",
   "metadata": {},
   "source": [
    "# Écriture dans un fichier"
   ]
  },
  {
   "cell_type": "code",
   "execution_count": 5,
   "id": "affa9654",
   "metadata": {},
   "outputs": [],
   "source": [
    "with open('nouveau_fichier.txt', 'w') as f:\n",
    "    f.write('Hello')\n",
    "    \n",
    "with open('nouveau_fichier.txt', 'a') as f:\n",
    "    f.write(' ')\n",
    "    f.write('Bonjour')"
   ]
  },
  {
   "cell_type": "code",
   "execution_count": 13,
   "id": "e4f54475",
   "metadata": {},
   "outputs": [],
   "source": [
    "with open('nouveau_fichier.txt', 'w') as f:\n",
    "    for i in range(20):\n",
    "        for j in range(i, 20):\n",
    "            f.write(f'{i:2d} x {j:2d} = {i*j:4d}\\n')"
   ]
  },
  {
   "cell_type": "code",
   "execution_count": null,
   "id": "a3eb4aab",
   "metadata": {},
   "outputs": [],
   "source": []
  },
  {
   "cell_type": "markdown",
   "id": "18ee525d",
   "metadata": {},
   "source": [
    "# Ouverture de deux fichiers"
   ]
  },
  {
   "cell_type": "code",
   "execution_count": 10,
   "id": "8f764f7f",
   "metadata": {},
   "outputs": [],
   "source": [
    "with open('animaux.txt', 'r') as f, open('animaux2.txt', 'w') as f2:\n",
    "    for ligne in f.readlines():\n",
    "        f2.write(f'* {ligne}')"
   ]
  },
  {
   "cell_type": "markdown",
   "id": "75899e77",
   "metadata": {},
   "source": [
    "# Conversion des données"
   ]
  },
  {
   "cell_type": "code",
   "execution_count": 23,
   "id": "ff1b12d2",
   "metadata": {},
   "outputs": [],
   "source": [
    "with open('nouveau_fichier_bis.txt', 'w') as f:\n",
    "    for i in range(20):\n",
    "        f.write(f'{i}\\n')"
   ]
  },
  {
   "cell_type": "code",
   "execution_count": 20,
   "id": "e783c3ec",
   "metadata": {},
   "outputs": [
    {
     "name": "stdout",
     "output_type": "stream",
     "text": [
      "0\n",
      "5\n",
      "10\n",
      "15\n",
      "20\n",
      "25\n",
      "30\n",
      "35\n",
      "40\n",
      "45\n",
      "50\n",
      "55\n",
      "60\n",
      "65\n",
      "70\n",
      "75\n",
      "80\n",
      "85\n",
      "90\n",
      "95\n"
     ]
    }
   ],
   "source": [
    "with open('nouveau_fichier.txt', 'r') as f:\n",
    "    for ligne in f:\n",
    "        nombre = int(ligne)\n",
    "        print(nombre*5)"
   ]
  },
  {
   "cell_type": "code",
   "execution_count": 22,
   "id": "9a3245c7",
   "metadata": {},
   "outputs": [
    {
     "name": "stdout",
     "output_type": "stream",
     "text": [
      "Quel est votre age ?25\n",
      "1999\n"
     ]
    }
   ],
   "source": [
    "age = int(input('Quel est votre age ?'))\n",
    "annee_naissance = 2024 - age\n",
    "print(annee_naissance)\n"
   ]
  },
  {
   "cell_type": "markdown",
   "id": "5bfb2eaa",
   "metadata": {},
   "source": [
    "# Exercices\n",
    "\n",
    "## Écrire dans un fichier les nombres premiers  inférieur à 100\n",
    "\n",
    "## Notes \n",
    "\n",
    "Les fichiers notes.txt (https://python.sdv.u-paris.fr/data-files/notes.txt) contient les notes obtenues par des étudiants pour le cours de Python. Chaque ligne du fichier ne contient qu’une note. Créez un script Python qui lit chaque ligne de ce fichier, extrait les notes sous forme de float et les stocke dans une\n",
    "liste.\n",
    "\n",
    "Terminez le script en calculant et aﬀichant la moyenne des notes avec deux décimales.\n",
    "\n",
    "Le script réécrira ensuite les notes dans le fichier notes2.txt avec une note par ligne suivie de « recalé » si la note est inférieure à 10 et « admis » si la note est supérieure ou égale à 10. Toutes les notes seront écrites avec une décimale.\n",
    "À titre d’exemple, voici les trois premières lignes attendues pour le fichier notes2.txt :\n",
    "<code>\n",
    "13.5 admis\n",
    "17.0 admis\n",
    "9.5 recalé\n",
    "</code>"
   ]
  },
  {
   "cell_type": "code",
   "execution_count": null,
   "id": "72e854d9",
   "metadata": {},
   "outputs": [],
   "source": []
  }
 ],
 "metadata": {
  "kernelspec": {
   "display_name": "Odeon 3.10",
   "language": "python",
   "name": "odeon310"
  },
  "language_info": {
   "codemirror_mode": {
    "name": "ipython",
    "version": 3
   },
   "file_extension": ".py",
   "mimetype": "text/x-python",
   "name": "python",
   "nbconvert_exporter": "python",
   "pygments_lexer": "ipython3",
   "version": "3.10.12"
  },
  "varInspector": {
   "cols": {
    "lenName": 16,
    "lenType": 16,
    "lenVar": 40
   },
   "kernels_config": {
    "python": {
     "delete_cmd_postfix": "",
     "delete_cmd_prefix": "del ",
     "library": "var_list.py",
     "varRefreshCmd": "print(var_dic_list())"
    },
    "r": {
     "delete_cmd_postfix": ") ",
     "delete_cmd_prefix": "rm(",
     "library": "var_list.r",
     "varRefreshCmd": "cat(var_dic_list()) "
    }
   },
   "types_to_exclude": [
    "module",
    "function",
    "builtin_function_or_method",
    "instance",
    "_Feature"
   ],
   "window_display": false
  }
 },
 "nbformat": 4,
 "nbformat_minor": 5
}
