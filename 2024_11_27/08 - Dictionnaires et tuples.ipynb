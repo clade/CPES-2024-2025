{
 "cells": [
  {
   "cell_type": "markdown",
   "id": "755da918",
   "metadata": {},
   "source": [
    "# Dictionnaires\n",
    "\n",
    "Un dictionnaire contient une collection d’objets Python auxquels on accède à l’aide d’une clé de correspondance\n",
    "plutôt qu’un indice. Ainsi, il ne s’agit pas d’objets séquentiels comme les listes, mais plutôt d’objets dits de correspondance (mapping objects en anglais) ou tableaux associatifs.\n",
    "\n",
    "## Création / rajout d'un élement"
   ]
  },
  {
   "cell_type": "code",
   "execution_count": 17,
   "id": "dd7db5e7",
   "metadata": {},
   "outputs": [
    {
     "name": "stdout",
     "output_type": "stream",
     "text": [
      "{'nom': 'girafe', 'taille': 5.0, 'poids': 1100}\n"
     ]
    }
   ],
   "source": [
    "animal = {}\n",
    "animal[\"nom\"] = \"girafe\"\n",
    "animal['taille'] = 5.0\n",
    "animal['poids'] = 1100\n",
    "\n",
    "print(animal)"
   ]
  },
  {
   "cell_type": "code",
   "execution_count": 14,
   "id": "4ef5c408",
   "metadata": {},
   "outputs": [
    {
     "data": {
      "text/plain": [
       "{'nom': 'elephant', 'taille': 4.0}"
      ]
     },
     "execution_count": 14,
     "metadata": {},
     "output_type": "execute_result"
    }
   ],
   "source": [
    "animal2 = {\"nom\":\"elephant\", \n",
    "           \"taille\":3.0, \n",
    "           \"poids\":5000\n",
    "          }\n",
    "animal2['taille'] = 4.0\n",
    "del animal2['poids']\n",
    "animal2"
   ]
  },
  {
   "cell_type": "code",
   "execution_count": 10,
   "id": "5d029bf3",
   "metadata": {},
   "outputs": [
    {
     "data": {
      "text/plain": [
       "{'Bonjour': 0, 'Hello': 1}"
      ]
     },
     "execution_count": 10,
     "metadata": {},
     "output_type": "execute_result"
    }
   ],
   "source": [
    "{cle:val for val, cle in enumerate(['Bonjour', 'Hello'])}"
   ]
  },
  {
   "cell_type": "code",
   "execution_count": 15,
   "id": "32ea678b",
   "metadata": {},
   "outputs": [
    {
     "data": {
      "text/plain": [
       "2"
      ]
     },
     "execution_count": 15,
     "metadata": {},
     "output_type": "execute_result"
    }
   ],
   "source": [
    "len(animal)"
   ]
  },
  {
   "cell_type": "markdown",
   "id": "03a467d9",
   "metadata": {},
   "source": [
    "## Parcours d'un dictionnaire\n",
    "\n",
    "* Méthode .keys()\n",
    "* Méthode .values()\n",
    "* Méthode .items()\n"
   ]
  },
  {
   "cell_type": "code",
   "execution_count": 22,
   "id": "169158e3",
   "metadata": {},
   "outputs": [
    {
     "name": "stdout",
     "output_type": "stream",
     "text": [
      "nom girafe\n",
      "taille 5.0\n",
      "poids 1100\n"
     ]
    }
   ],
   "source": [
    "for cle in animal:\n",
    "    print(cle, animal[cle])"
   ]
  },
  {
   "cell_type": "code",
   "execution_count": 20,
   "id": "87f57134",
   "metadata": {},
   "outputs": [
    {
     "name": "stdout",
     "output_type": "stream",
     "text": [
      "girafe\n",
      "5.0\n",
      "1100\n"
     ]
    }
   ],
   "source": [
    "for val in animal.values():\n",
    "    print(val)"
   ]
  },
  {
   "cell_type": "code",
   "execution_count": 21,
   "id": "bf065f98",
   "metadata": {},
   "outputs": [
    {
     "name": "stdout",
     "output_type": "stream",
     "text": [
      "nom girafe\n",
      "taille 5.0\n",
      "poids 1100\n"
     ]
    }
   ],
   "source": [
    "for cle, val in animal.items():\n",
    "    print(cle, val)"
   ]
  },
  {
   "cell_type": "code",
   "execution_count": null,
   "id": "3d7c3ac6",
   "metadata": {},
   "outputs": [],
   "source": []
  },
  {
   "cell_type": "markdown",
   "id": "39d7d373",
   "metadata": {},
   "source": [
    "## Existence d’une clé ou d’une valeur\n",
    "\n",
    "* key in dict"
   ]
  },
  {
   "cell_type": "code",
   "execution_count": 26,
   "id": "65357794",
   "metadata": {},
   "outputs": [],
   "source": [
    "if 'poids' in animal2.keys():\n",
    "    print(animal2['poids'])"
   ]
  },
  {
   "cell_type": "markdown",
   "id": "9660ff53",
   "metadata": {},
   "source": [
    "## Méthode .get()"
   ]
  },
  {
   "cell_type": "code",
   "execution_count": 31,
   "id": "abf23a96",
   "metadata": {},
   "outputs": [
    {
     "name": "stdout",
     "output_type": "stream",
     "text": [
      "None\n"
     ]
    }
   ],
   "source": [
    "print(animal2.get('poids'))"
   ]
  },
  {
   "cell_type": "code",
   "execution_count": 33,
   "id": "8352ded6",
   "metadata": {},
   "outputs": [
    {
     "data": {
      "text/plain": [
       "0"
      ]
     },
     "execution_count": 33,
     "metadata": {},
     "output_type": "execute_result"
    }
   ],
   "source": [
    "animal2.get('population', 0)"
   ]
  },
  {
   "cell_type": "code",
   "execution_count": null,
   "id": "53faf26e",
   "metadata": {},
   "outputs": [],
   "source": []
  },
  {
   "cell_type": "markdown",
   "id": "bbf6252c",
   "metadata": {},
   "source": [
    "## Liste de dictionnaire"
   ]
  },
  {
   "cell_type": "code",
   "execution_count": 35,
   "id": "adcf50ba",
   "metadata": {},
   "outputs": [],
   "source": [
    "animal1 = {'nom': 'girafe', 'taille': 5.0, 'poids': 1100}\n",
    "animal2 = {\"nom\":\"elephant\", \n",
    "           \"taille\":3.0, \n",
    "           \"poids\":5000\n",
    "          }"
   ]
  },
  {
   "cell_type": "code",
   "execution_count": 36,
   "id": "42b75aaf",
   "metadata": {},
   "outputs": [
    {
     "data": {
      "text/plain": [
       "[{'nom': 'girafe', 'taille': 5.0, 'poids': 1100},\n",
       " {'nom': 'elephant', 'taille': 3.0, 'poids': 5000}]"
      ]
     },
     "execution_count": 36,
     "metadata": {},
     "output_type": "execute_result"
    }
   ],
   "source": [
    "animaux = [animal1, animal2]\n",
    "\n",
    "animaux"
   ]
  },
  {
   "cell_type": "code",
   "execution_count": 43,
   "id": "d92c9306",
   "metadata": {},
   "outputs": [
    {
     "name": "stdout",
     "output_type": "stream",
     "text": [
      "La taille de girafe est 5.0.\n",
      "La taille de elephant est 3.0.\n"
     ]
    }
   ],
   "source": [
    "for animal in animaux:\n",
    "    print(f'La taille de {animal[\"nom\"]} est {animal[\"taille\"]}.')"
   ]
  },
  {
   "cell_type": "markdown",
   "id": "1791fe27",
   "metadata": {},
   "source": [
    "# Tuple (n-uplets)\n",
    "\n",
    "Les tuples (« n-uplets » en français) sont des objets séquentiels correspondant aux listes, mais ils sont toutefois\n",
    "non modifiables. On dit aussi qu’ils sont immuables. Vous verrez ci-dessous que nous les avons déjà croisés à plusieurs reprises !\n",
    "\n",
    "## Création et manipulation"
   ]
  },
  {
   "cell_type": "code",
   "execution_count": 49,
   "id": "51665477",
   "metadata": {},
   "outputs": [
    {
     "data": {
      "text/plain": [
       "tuple"
      ]
     },
     "execution_count": 49,
     "metadata": {},
     "output_type": "execute_result"
    }
   ],
   "source": [
    "tuple1 = 1, 3.14, 5, \"Bonjour\"\n",
    "type(tuple1)"
   ]
  },
  {
   "cell_type": "code",
   "execution_count": 58,
   "id": "423d1409",
   "metadata": {},
   "outputs": [
    {
     "name": "stdout",
     "output_type": "stream",
     "text": [
      "<class 'tuple'>\n"
     ]
    }
   ],
   "source": [
    "tuple2 = (3,)\n",
    "print(type(tuple2))"
   ]
  },
  {
   "cell_type": "code",
   "execution_count": 60,
   "id": "3a5df91a",
   "metadata": {},
   "outputs": [
    {
     "data": {
      "text/plain": [
       "tuple"
      ]
     },
     "execution_count": 60,
     "metadata": {},
     "output_type": "execute_result"
    }
   ],
   "source": [
    "type(())"
   ]
  },
  {
   "cell_type": "code",
   "execution_count": 47,
   "id": "d71a9f17",
   "metadata": {},
   "outputs": [
    {
     "data": {
      "text/plain": [
       "5"
      ]
     },
     "execution_count": 47,
     "metadata": {},
     "output_type": "execute_result"
    }
   ],
   "source": [
    "tuple1[2]"
   ]
  },
  {
   "cell_type": "code",
   "execution_count": 48,
   "id": "cdd66e96",
   "metadata": {},
   "outputs": [
    {
     "ename": "TypeError",
     "evalue": "'tuple' object does not support item assignment",
     "output_type": "error",
     "traceback": [
      "\u001b[0;31m---------------------------------------------------------------------------\u001b[0m",
      "\u001b[0;31mTypeError\u001b[0m                                 Traceback (most recent call last)",
      "Cell \u001b[0;32mIn[48], line 1\u001b[0m\n\u001b[0;32m----> 1\u001b[0m tuple1[\u001b[38;5;241m2\u001b[39m] \u001b[38;5;241m=\u001b[39m \u001b[38;5;241m6\u001b[39m\n",
      "\u001b[0;31mTypeError\u001b[0m: 'tuple' object does not support item assignment"
     ]
    }
   ],
   "source": [
    "tuple1[2] = 6"
   ]
  },
  {
   "cell_type": "code",
   "execution_count": 52,
   "id": "e1d507a3",
   "metadata": {},
   "outputs": [
    {
     "data": {
      "text/plain": [
       "(1, 3.14, 5, 'Bonjour', 1, 3.14, 5, 'Bonjour')"
      ]
     },
     "execution_count": 52,
     "metadata": {},
     "output_type": "execute_result"
    }
   ],
   "source": [
    "tuple1  * 2"
   ]
  },
  {
   "cell_type": "code",
   "execution_count": 55,
   "id": "b25112f6",
   "metadata": {},
   "outputs": [
    {
     "data": {
      "text/plain": [
       "(0, 1, 2, 3, 4, 5, 6, 7, 8, 9)"
      ]
     },
     "execution_count": 55,
     "metadata": {},
     "output_type": "execute_result"
    }
   ],
   "source": [
    "tuple(range(10))"
   ]
  },
  {
   "cell_type": "markdown",
   "id": "0093a98f",
   "metadata": {},
   "source": [
    "## Affectation multiple"
   ]
  },
  {
   "cell_type": "code",
   "execution_count": 53,
   "id": "fdff90fc",
   "metadata": {},
   "outputs": [
    {
     "name": "stdout",
     "output_type": "stream",
     "text": [
      "3\n"
     ]
    }
   ],
   "source": [
    "tuple1 = (3, 7)\n",
    "x, y = tuple1\n",
    "print(x)"
   ]
  },
  {
   "cell_type": "code",
   "execution_count": 54,
   "id": "6af69d42",
   "metadata": {},
   "outputs": [
    {
     "name": "stdout",
     "output_type": "stream",
     "text": [
      "3\n"
     ]
    }
   ],
   "source": [
    "x, y = 3, 7\n",
    "print(x)"
   ]
  },
  {
   "cell_type": "code",
   "execution_count": null,
   "id": "efbaf5e3",
   "metadata": {},
   "outputs": [],
   "source": []
  },
  {
   "cell_type": "markdown",
   "id": "8e9b0e07",
   "metadata": {},
   "source": [
    "## Tuple implicite \n",
    "\n",
    "* Enumerate\n",
    "* Fonction à plusieurs variables : ``divmod()``"
   ]
  },
  {
   "cell_type": "code",
   "execution_count": 63,
   "id": "0c563a7f",
   "metadata": {},
   "outputs": [
    {
     "name": "stdout",
     "output_type": "stream",
     "text": [
      "(0, 'Bonjour')\n",
      "(1, 'hello')\n"
     ]
    }
   ],
   "source": [
    "for t in enumerate([\"Bonjour\", \"hello\"]):\n",
    "    print(t)"
   ]
  },
  {
   "cell_type": "code",
   "execution_count": 65,
   "id": "0232d5ee",
   "metadata": {},
   "outputs": [
    {
     "data": {
      "text/plain": [
       "5"
      ]
     },
     "execution_count": 65,
     "metadata": {},
     "output_type": "execute_result"
    }
   ],
   "source": [
    "q, r = divmod(29, 5)\n",
    "q"
   ]
  },
  {
   "cell_type": "code",
   "execution_count": null,
   "id": "5745ceab",
   "metadata": {},
   "outputs": [],
   "source": []
  },
  {
   "cell_type": "markdown",
   "id": "e73f79bb",
   "metadata": {},
   "source": [
    "# Exercices\n",
    "\n",
    "## Prédire la sortie \n",
    "\n",
    "Soit les deux lignes de code suivantes :\n",
    "<code>\n",
    "dico = {\"nom\": \"Joe\", \"age\": 24, \"taille\": 181}\n",
    "var = \"nom\"\n",
    "</code>\n",
    "\n",
    "Prédisez le comportement de chaque instruction ci-dessous, sans les recopier dans un script ni dans l’interpréteur\n",
    "Python :\n",
    "* print(dico[\"age\"])\n",
    "* print(dico[var])\n",
    "* print(dico[24])\n",
    "* print(dico[\"var\"])\n",
    "* print(dico[\"taille\"])\n",
    "\n",
    "Lorsqu’une instruction produit une erreur, identifiez pourquoi. Vérifiez ensuite vos prédictions en recopiant les instructions dans l’interpréteur Python."
   ]
  },
  {
   "cell_type": "code",
   "execution_count": null,
   "id": "2b45f965",
   "metadata": {},
   "outputs": [],
   "source": []
  },
  {
   "cell_type": "markdown",
   "id": "c593df82",
   "metadata": {},
   "source": [
    "## Boucles sur plusieurs élements\n",
    "\n",
    "À partir de la liste de tuples suivante :\n",
    "\n",
    "[(\"chien\", 3), (\"chat\", 4), (\"souris\", 16)]\n",
    "\n",
    "aﬀichez chaque animal et son nombre en utilisant qu’une seule boucle for. Attention, pour cet exercice, il est interdit\n",
    "d’utiliser l’indiçage des listes."
   ]
  },
  {
   "cell_type": "code",
   "execution_count": 68,
   "id": "e49c6a84",
   "metadata": {},
   "outputs": [
    {
     "name": "stdout",
     "output_type": "stream",
     "text": [
      "Le nombre de chien est 3.\n",
      "Le nombre de chat est 4.\n",
      "Le nombre de souris est 16.\n"
     ]
    }
   ],
   "source": [
    "liste = [(\"chien\", 3), (\"chat\", 4), (\"souris\", 16)]\n",
    "\n",
    "for nom, nombre in liste:\n",
    "    print(f\"Le nombre de {nom} est {nombre}.\")"
   ]
  },
  {
   "cell_type": "markdown",
   "id": "a72b200b",
   "metadata": {},
   "source": [
    "## Moyennes des notes\n",
    "Soit le dictionnaire suivant donnant les notes d’un étudiant. Calculez la moyenne de ses notes de deux manières différentes. Calculez à nouveau la moyenne sans la note de biologie.\n",
    "\n"
   ]
  },
  {
   "cell_type": "code",
   "execution_count": 69,
   "id": "e207a473",
   "metadata": {},
   "outputs": [],
   "source": [
    "dico_notes = {\n",
    "\"math\": 14, \"programmation\": 12,\n",
    "\"anglais\": 16, \"biologie\": 10,\n",
    "\"sport\": 19\n",
    "}"
   ]
  },
  {
   "cell_type": "code",
   "execution_count": 72,
   "id": "f9a4b4ad",
   "metadata": {},
   "outputs": [
    {
     "data": {
      "text/plain": [
       "14.2"
      ]
     },
     "execution_count": 72,
     "metadata": {},
     "output_type": "execute_result"
    }
   ],
   "source": [
    "somme = 0\n",
    "for note in dico_notes.values():\n",
    "    somme += note\n",
    "moyenne = somme/len(dico_notes)\n",
    "moyenne"
   ]
  },
  {
   "cell_type": "code",
   "execution_count": 74,
   "id": "425cb037",
   "metadata": {},
   "outputs": [
    {
     "data": {
      "text/plain": [
       "14.2"
      ]
     },
     "execution_count": 74,
     "metadata": {},
     "output_type": "execute_result"
    }
   ],
   "source": [
    "liste_notes = list(dico_notes.values())\n",
    "sum(liste_notes)/len(liste_notes)"
   ]
  },
  {
   "cell_type": "code",
   "execution_count": 75,
   "id": "12f5b34c",
   "metadata": {},
   "outputs": [
    {
     "data": {
      "text/plain": [
       "15.25"
      ]
     },
     "execution_count": 75,
     "metadata": {},
     "output_type": "execute_result"
    }
   ],
   "source": [
    "liste_notes_sans_bio = []\n",
    "for cle, val in dico_notes.items():\n",
    "    if cle!='biologie':\n",
    "        liste_notes_sans_bio.append(val)\n",
    "        \n",
    "sum(liste_notes_sans_bio)/len(liste_notes_sans_bio)"
   ]
  },
  {
   "cell_type": "code",
   "execution_count": null,
   "id": "2b07bee8",
   "metadata": {},
   "outputs": [],
   "source": []
  }
 ],
 "metadata": {
  "kernelspec": {
   "display_name": "Odeon 3.10",
   "language": "python",
   "name": "odeon310"
  },
  "language_info": {
   "codemirror_mode": {
    "name": "ipython",
    "version": 3
   },
   "file_extension": ".py",
   "mimetype": "text/x-python",
   "name": "python",
   "nbconvert_exporter": "python",
   "pygments_lexer": "ipython3",
   "version": "3.10.12"
  },
  "varInspector": {
   "cols": {
    "lenName": 16,
    "lenType": 16,
    "lenVar": 40
   },
   "kernels_config": {
    "python": {
     "delete_cmd_postfix": "",
     "delete_cmd_prefix": "del ",
     "library": "var_list.py",
     "varRefreshCmd": "print(var_dic_list())"
    },
    "r": {
     "delete_cmd_postfix": ") ",
     "delete_cmd_prefix": "rm(",
     "library": "var_list.r",
     "varRefreshCmd": "cat(var_dic_list()) "
    }
   },
   "types_to_exclude": [
    "module",
    "function",
    "builtin_function_or_method",
    "instance",
    "_Feature"
   ],
   "window_display": false
  }
 },
 "nbformat": 4,
 "nbformat_minor": 5
}
