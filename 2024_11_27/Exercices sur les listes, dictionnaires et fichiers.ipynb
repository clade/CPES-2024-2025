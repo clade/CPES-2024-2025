{
 "cells": [
  {
   "cell_type": "markdown",
   "id": "d3e1be94",
   "metadata": {},
   "source": [
    "# Manipulation de listes\n",
    "\n",
    "1. Créer une liste nomée ``nombres`` contenant les entiers de 0 à 9 inclus\n",
    "\n",
    "2. Créer une liste nomée ``racines_nombres`` contenant la racine carré des éléments de ``nombres``\n",
    "\n",
    "3. Créer une liste nomée ``carres_nombres`` contenant tous les nombres pairs de la listes ``nombres``\n",
    "\n",
    "4. Vérifier que l'on a bien $y=x^2$ en prenant a fur et à mesure $y$ dans ``nombres`` et $x$ dans ``racines_nombres``"
   ]
  },
  {
   "cell_type": "code",
   "execution_count": null,
   "id": "ac548597",
   "metadata": {},
   "outputs": [],
   "source": []
  },
  {
   "cell_type": "markdown",
   "id": "bf83c877",
   "metadata": {},
   "source": [
    "# Annuaire\n",
    "\n",
    "Nous allons créer un petit dictionnaire qui contient des informations sur un étudiant. \n",
    "\n",
    "1. Créer un dictionnaire ``etudiant`` contenant les clés et valeurs suivantes :\n",
    "   - 'nom': 'Jean Dupont'\n",
    "   - 'âge': 20\n",
    "   - 'filière': 'Informatique'\n",
    "\n",
    "2. Modifier l'age pour qu'il soit égal à 21\n",
    "\n",
    "3. Afficher le genre de l'étudiant si le dictionnaire possède une telle clé sinon afficher un message inquant que l'on ne connait pas son genre."
   ]
  },
  {
   "cell_type": "code",
   "execution_count": null,
   "id": "f20adefc",
   "metadata": {},
   "outputs": [],
   "source": []
  },
  {
   "cell_type": "markdown",
   "id": "f2645f15",
   "metadata": {},
   "source": [
    "# Moyennes des notes\n",
    "Soit le dictionnaire suivant donnant les notes d’un étudiant. Calculez la moyenne de ses notes de deux manières différentes. Calculez à nouveau la moyenne sans la note de biologie.\n",
    "\n"
   ]
  },
  {
   "cell_type": "code",
   "execution_count": 2,
   "id": "e6328e28",
   "metadata": {
    "tags": [
     "keep"
    ]
   },
   "outputs": [],
   "source": [
    "dico_notes = {\n",
    "\"math\": 14, \"programmation\": 12,\n",
    "\"anglais\": 16, \"biologie\": 10,\n",
    "\"sport\": 19\n",
    "}"
   ]
  },
  {
   "cell_type": "code",
   "execution_count": null,
   "id": "17941975",
   "metadata": {},
   "outputs": [],
   "source": []
  },
  {
   "cell_type": "markdown",
   "id": "34e10a31",
   "metadata": {},
   "source": [
    "# Volume d'un cône\n",
    "\n",
    "1. Ecrire une fonction qui renvoie le volume d'un cône de rayon $r$ et hauteur $h$.\n",
    "2. Ecrire une fonction qui renvoie le volume d'un tronc de cône de rayon $r_1$ et $r_2$. \n",
    "3. Ecrire une seule fonction pour laquelle le tronc de cône est par défaut un cône (i.e. $r_2=0$)\n",
    "\n",
    "On rappelle quel le volume d'un cône est donné par $\\frac{1}{3} h \\pi r^2$ et celui d'un tronc de cône par $\\frac{1}{3} h \\pi (r_1^2 - r_2^2)$"
   ]
  },
  {
   "cell_type": "code",
   "execution_count": null,
   "id": "2d9c23b5",
   "metadata": {},
   "outputs": [],
   "source": []
  },
  {
   "cell_type": "markdown",
   "id": "ed56ce55",
   "metadata": {},
   "source": [
    "# Lancé de dés\n",
    "\n",
    "1. Ecrire une fonction ``lancer_un_dé`` qui prend un argument $n$ et renvoie une liste de $n$ nombres correspondants à $n$ lancés sucessifs. On utilisera la fonction ``randint`` du module ``random``\n",
    "\n",
    "2. Ecrire une fonction ``lancer_deux_dés`` qui prend un argument $n$ et renvoie une liste de $n$ nombres correspondants à la somme de $n$ lancés sucessifs de deux dés.\n",
    "\n",
    "3. En prendant $n=100000$, estimer la probabilité d'obtenir 2, 3, .., 12.\n",
    "\n",
    "4. Ecrire une fonction ``lancer_plusieurs_dés`` qui prend deux argument $n$  et $p$ et renvoie une liste de $n$ nombres correspondants à la somme de $n$ lancés sucessifs de $p$ dés.\n",
    "\n"
   ]
  },
  {
   "cell_type": "markdown",
   "id": "1873746a",
   "metadata": {},
   "source": [
    "# Combien La Fontaine a t-il utilisé de mots différents dans ses fables ?\n",
    "\n",
    "Télécharger le fichier suivant : https://www.gutenberg.org/cache/epub/56327/pg56327.txt\n",
    "\n",
    "1. Ouvrir le fichier et charger son contenu dans une seule chaîne de caractère et la convertir en minuscule\n",
    "\n",
    "2. Remplacer dans cette chaîne toutes les ponctuations par des espaces. La liste des ponctuations est donnée par : ``?,.;:!\\'\\\"-[]()/«»``\n",
    "\n",
    "3. Parcourir les mots de la chaîne. Quel mot est le plus long ? \n",
    "\n",
    "4. Combien de fois le mot ``loup`` est il utilisé ?\n",
    "\n",
    "5. Combien y a-t-il de mots différents ? Quels sont les mots utilisés exactement 25 fois? Pour répondre à ces deux questions, on va créer un dictionnaire dont les clés sont les mots et les valeurs le nombre de fois où ce mot est présent. \n",
    "\n",
    "6. Ecrire une fonction qui prend comme argument un mot et renvoie, suivant la circonstance, un message du type : ``Le mot \"renard\" est utilisé 100 fois.`` ou ``Le mot \"ordinateur\" n'est jamais utilisé.``\n",
    "\n",
    "Pour cet exercices on utilisera les fonctions/méthodes suivantes. ``s`` est une chaine de caractère\n",
    "- ``s.lower()`` \n",
    "- ``s.replace(a, b)``\n",
    "- ``s.split()``\n",
    "- ``s.strip()``"
   ]
  },
  {
   "cell_type": "code",
   "execution_count": 1,
   "id": "a9bf15fc",
   "metadata": {},
   "outputs": [],
   "source": [
    "ponctutation_list = '?,.;:!\\'\\\"-[]()/«»'"
   ]
  }
 ],
 "metadata": {
  "celltoolbar": "Tags",
  "kernelspec": {
   "display_name": "Odeon 3.10",
   "language": "python",
   "name": "odeon310"
  },
  "language_info": {
   "codemirror_mode": {
    "name": "ipython",
    "version": 3
   },
   "file_extension": ".py",
   "mimetype": "text/x-python",
   "name": "python",
   "nbconvert_exporter": "python",
   "pygments_lexer": "ipython3",
   "version": "3.10.12"
  },
  "varInspector": {
   "cols": {
    "lenName": 16,
    "lenType": 16,
    "lenVar": 40
   },
   "kernels_config": {
    "python": {
     "delete_cmd_postfix": "",
     "delete_cmd_prefix": "del ",
     "library": "var_list.py",
     "varRefreshCmd": "print(var_dic_list())"
    },
    "r": {
     "delete_cmd_postfix": ") ",
     "delete_cmd_prefix": "rm(",
     "library": "var_list.r",
     "varRefreshCmd": "cat(var_dic_list()) "
    }
   },
   "types_to_exclude": [
    "module",
    "function",
    "builtin_function_or_method",
    "instance",
    "_Feature"
   ],
   "window_display": false
  }
 },
 "nbformat": 4,
 "nbformat_minor": 5
}
