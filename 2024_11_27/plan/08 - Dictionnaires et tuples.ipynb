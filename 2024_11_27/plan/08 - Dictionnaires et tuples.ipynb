{
 "cells": [
  {
   "cell_type": "markdown",
   "id": "755da918",
   "metadata": {},
   "source": [
    "# Dictionnaires\n",
    "\n",
    "Un dictionnaire contient une collection d’objets Python auxquels on accède à l’aide d’une clé de correspondance\n",
    "plutôt qu’un indice. Ainsi, il ne s’agit pas d’objets séquentiels comme les listes, mais plutôt d’objets dits de correspondance (mapping objects en anglais) ou tableaux associatifs.\n",
    "\n",
    "## Création / rajout d'un élement"
   ]
  },
  {
   "cell_type": "code",
   "execution_count": null,
   "id": "dd7db5e7",
   "metadata": {},
   "outputs": [],
   "source": []
  },
  {
   "cell_type": "markdown",
   "id": "03a467d9",
   "metadata": {},
   "source": [
    "## Parcours d'un dictionnaire\n",
    "\n",
    "* Méthode .keys()\n",
    "* Méthode .values()\n",
    "* Méthode .items()\n"
   ]
  },
  {
   "cell_type": "code",
   "execution_count": null,
   "id": "169158e3",
   "metadata": {},
   "outputs": [],
   "source": []
  },
  {
   "cell_type": "markdown",
   "id": "39d7d373",
   "metadata": {},
   "source": [
    "## Existence d’une clé ou d’une valeur\n",
    "\n",
    "* key in dict"
   ]
  },
  {
   "cell_type": "code",
   "execution_count": null,
   "id": "65357794",
   "metadata": {},
   "outputs": [],
   "source": []
  },
  {
   "cell_type": "markdown",
   "id": "9660ff53",
   "metadata": {},
   "source": [
    "## Méthode .get()"
   ]
  },
  {
   "cell_type": "code",
   "execution_count": null,
   "id": "abf23a96",
   "metadata": {},
   "outputs": [],
   "source": []
  },
  {
   "cell_type": "markdown",
   "id": "bbf6252c",
   "metadata": {},
   "source": [
    "## Liste de dictionnaire"
   ]
  },
  {
   "cell_type": "code",
   "execution_count": null,
   "id": "adcf50ba",
   "metadata": {},
   "outputs": [],
   "source": []
  },
  {
   "cell_type": "markdown",
   "id": "1791fe27",
   "metadata": {},
   "source": [
    "# Tuple (n-uplets)\n",
    "\n",
    "Les tuples (« n-uplets » en français) sont des objets séquentiels correspondant aux listes, mais ils sont toutefois\n",
    "non modifiables. On dit aussi qu’ils sont immuables. Vous verrez ci-dessous que nous les avons déjà croisés à plusieurs reprises !\n",
    "\n",
    "## Création et manipulation"
   ]
  },
  {
   "cell_type": "code",
   "execution_count": null,
   "id": "51665477",
   "metadata": {},
   "outputs": [],
   "source": []
  },
  {
   "cell_type": "markdown",
   "id": "0093a98f",
   "metadata": {},
   "source": [
    "## Affectation multiple"
   ]
  },
  {
   "cell_type": "code",
   "execution_count": null,
   "id": "fdff90fc",
   "metadata": {},
   "outputs": [],
   "source": []
  },
  {
   "cell_type": "markdown",
   "id": "8e9b0e07",
   "metadata": {},
   "source": [
    "## Tuple implicite \n",
    "\n",
    "* Enumerate\n",
    "* Fonction à plusieurs variables : ``divmod()``"
   ]
  },
  {
   "cell_type": "code",
   "execution_count": null,
   "id": "0c563a7f",
   "metadata": {},
   "outputs": [],
   "source": []
  },
  {
   "cell_type": "code",
   "execution_count": null,
   "id": "0232d5ee",
   "metadata": {},
   "outputs": [],
   "source": []
  },
  {
   "cell_type": "code",
   "execution_count": null,
   "id": "5745ceab",
   "metadata": {},
   "outputs": [],
   "source": []
  },
  {
   "cell_type": "markdown",
   "id": "e73f79bb",
   "metadata": {},
   "source": [
    "# Exercices\n",
    "\n",
    "## Prédire la sortie \n",
    "\n",
    "Soit les deux lignes de code suivantes :\n",
    "<code>\n",
    "dico = {\"nom\": \"Joe\", \"age\": 24, \"taille\": 181}\n",
    "var = \"nom\"\n",
    "</code>\n",
    "\n",
    "Prédisez le comportement de chaque instruction ci-dessous, sans les recopier dans un script ni dans l’interpréteur\n",
    "Python :\n",
    "* print(dico[\"age\"])\n",
    "* print(dico[var])\n",
    "* print(dico[24])\n",
    "* print(dico[\"var\"])\n",
    "* print(dico[\"taille\"])\n",
    "\n",
    "Lorsqu’une instruction produit une erreur, identifiez pourquoi. Vérifiez ensuite vos prédictions en recopiant les instructions dans l’interpréteur Python."
   ]
  },
  {
   "cell_type": "code",
   "execution_count": null,
   "id": "2b45f965",
   "metadata": {},
   "outputs": [],
   "source": []
  },
  {
   "cell_type": "markdown",
   "id": "c593df82",
   "metadata": {},
   "source": [
    "## Boucles sur plusieurs élements\n",
    "\n",
    "À partir de la liste de tuples suivante :\n",
    "\n",
    "[(\"chien\", 3), (\"chat\", 4), (\"souris\", 16)]\n",
    "\n",
    "aﬀichez chaque animal et son nombre en utilisant qu’une seule boucle for. Attention, pour cet exercice, il est interdit\n",
    "d’utiliser l’indiçage des listes."
   ]
  },
  {
   "cell_type": "code",
   "execution_count": null,
   "id": "e49c6a84",
   "metadata": {},
   "outputs": [],
   "source": []
  },
  {
   "cell_type": "markdown",
   "id": "2dbe74d3",
   "metadata": {},
   "source": [
    "## Moyennes des notes\n",
    "Soit le dictionnaire suivant donnant les notes d’un étudiant. Calculez la moyenne de ses notes de deux manières différentes. Calculez à nouveau la moyenne sans la note de biologie.\n",
    "\n"
   ]
  },
  {
   "cell_type": "code",
   "execution_count": 2,
   "id": "bd095034",
   "metadata": {},
   "outputs": [],
   "source": [
    "dico_notes = {\n",
    "\"math\": 14, \"programmation\": 12,\n",
    "\"anglais\": 16, \"biologie\": 10,\n",
    "\"sport\": 19\n",
    "}"
   ]
  },
  {
   "cell_type": "code",
   "execution_count": null,
   "id": "e45957f8",
   "metadata": {},
   "outputs": [],
   "source": []
  }
 ],
 "metadata": {
  "kernelspec": {
   "display_name": "Odeon 3.10",
   "language": "python",
   "name": "odeon310"
  },
  "language_info": {
   "codemirror_mode": {
    "name": "ipython",
    "version": 3
   },
   "file_extension": ".py",
   "mimetype": "text/x-python",
   "name": "python",
   "nbconvert_exporter": "python",
   "pygments_lexer": "ipython3",
   "version": "3.10.12"
  },
  "varInspector": {
   "cols": {
    "lenName": 16,
    "lenType": 16,
    "lenVar": 40
   },
   "kernels_config": {
    "python": {
     "delete_cmd_postfix": "",
     "delete_cmd_prefix": "del ",
     "library": "var_list.py",
     "varRefreshCmd": "print(var_dic_list())"
    },
    "r": {
     "delete_cmd_postfix": ") ",
     "delete_cmd_prefix": "rm(",
     "library": "var_list.r",
     "varRefreshCmd": "cat(var_dic_list()) "
    }
   },
   "types_to_exclude": [
    "module",
    "function",
    "builtin_function_or_method",
    "instance",
    "_Feature"
   ],
   "window_display": false
  }
 },
 "nbformat": 4,
 "nbformat_minor": 5
}
