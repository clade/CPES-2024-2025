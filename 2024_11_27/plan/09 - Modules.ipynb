{
 "cells": [
  {
   "cell_type": "markdown",
   "id": "8e7090e0",
   "metadata": {},
   "source": [
    "# Mdules\n",
    "\n",
    "## Définition\n",
    "\n",
    "* Bibliothèque / librairies en anglais\n",
    "* Contient des fonctions (et parfois d'autres objets)"
   ]
  },
  {
   "cell_type": "markdown",
   "id": "636109b0",
   "metadata": {},
   "source": [
    "## Importation de modules\n",
    "\n",
    "* ``import module``\n",
    "* ``from module import fonction``\n",
    "* ``from module import *``\n",
    "* ``import module as alias``"
   ]
  },
  {
   "cell_type": "code",
   "execution_count": 1,
   "id": "1048fd95",
   "metadata": {},
   "outputs": [
    {
     "data": {
      "text/plain": [
       "6.123233995736766e-17"
      ]
     },
     "execution_count": 1,
     "metadata": {},
     "output_type": "execute_result"
    }
   ],
   "source": [
    "import math\n",
    "\n",
    "math.cos(math.pi/2)"
   ]
  },
  {
   "cell_type": "code",
   "execution_count": 2,
   "id": "bf8e95c1",
   "metadata": {},
   "outputs": [
    {
     "data": {
      "text/plain": [
       "6.123233995736766e-17"
      ]
     },
     "execution_count": 2,
     "metadata": {},
     "output_type": "execute_result"
    }
   ],
   "source": [
    "from math import cos, pi\n",
    "\n",
    "cos(pi/2)"
   ]
  },
  {
   "cell_type": "markdown",
   "id": "95151373",
   "metadata": {},
   "source": [
    "## Obtenir de l’aide sur les modules importés\n",
    "\n",
    "* help"
   ]
  },
  {
   "cell_type": "code",
   "execution_count": null,
   "id": "71240674",
   "metadata": {},
   "outputs": [],
   "source": []
  },
  {
   "cell_type": "markdown",
   "id": "cbfb4f5c",
   "metadata": {},
   "source": [
    "## Quelques modules courants\n",
    "https://docs.python.org/fr/3/py-modindex.html\n",
    "\n",
    "* math : fonctions et constantes mathématiques de base (sin, cos, exp, pi…).\n",
    "* sys : interaction avec l’interpréteur Python, notamment pour le passage d’arguments (voir plus bas).\n",
    "* pathlib : gestion des fichiers et des répertoires (voir plus bas).\n",
    "* random : génération de nombres aléatoires.\n",
    "* time : accès à l’heure de l’ordinateur et aux fonctions gérant le temps.\n",
    "* urllib : récupération de données sur internet depuis Python.\n"
   ]
  },
  {
   "cell_type": "code",
   "execution_count": null,
   "id": "bd3455cc",
   "metadata": {},
   "outputs": [],
   "source": []
  }
 ],
 "metadata": {
  "kernelspec": {
   "display_name": "Odeon 3.10",
   "language": "python",
   "name": "odeon310"
  },
  "language_info": {
   "codemirror_mode": {
    "name": "ipython",
    "version": 3
   },
   "file_extension": ".py",
   "mimetype": "text/x-python",
   "name": "python",
   "nbconvert_exporter": "python",
   "pygments_lexer": "ipython3",
   "version": "3.10.12"
  },
  "varInspector": {
   "cols": {
    "lenName": 16,
    "lenType": 16,
    "lenVar": 40
   },
   "kernels_config": {
    "python": {
     "delete_cmd_postfix": "",
     "delete_cmd_prefix": "del ",
     "library": "var_list.py",
     "varRefreshCmd": "print(var_dic_list())"
    },
    "r": {
     "delete_cmd_postfix": ") ",
     "delete_cmd_prefix": "rm(",
     "library": "var_list.r",
     "varRefreshCmd": "cat(var_dic_list()) "
    }
   },
   "types_to_exclude": [
    "module",
    "function",
    "builtin_function_or_method",
    "instance",
    "_Feature"
   ],
   "window_display": false
  }
 },
 "nbformat": 4,
 "nbformat_minor": 5
}
