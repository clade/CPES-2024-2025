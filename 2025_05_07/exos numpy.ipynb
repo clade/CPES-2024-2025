{
 "cells": [
  {
   "cell_type": "markdown",
   "id": "f0908cff",
   "metadata": {},
   "source": [
    "# Exercices\n",
    "\n",
    "L'objectif de ces exercices est de manipuler des tableaux. Il est interdit d'utiliser des boucles for. \n",
    "\n",
    "## Création d’un tableau\n",
    "\n",
    "Créer un tableau NumPy contenant les éléments suivants : [1, 2, 3, 4, 5]\n",
    "\n",
    "- Afficher la taille du tableau. \n",
    "- Afficher le type de données. \n",
    "- Créer le même tableau mais avec des nombres complexes"
   ]
  },
  {
   "cell_type": "code",
   "execution_count": 6,
   "id": "bde3f1d4",
   "metadata": {},
   "outputs": [
    {
     "name": "stdout",
     "output_type": "stream",
     "text": [
      "[1 2 3 4 5]\n"
     ]
    },
    {
     "data": {
      "text/plain": [
       "array([1.+0.j, 2.+0.j, 3.+0.j, 4.+0.j, 5.+0.j])"
      ]
     },
     "execution_count": 6,
     "metadata": {},
     "output_type": "execute_result"
    }
   ],
   "source": [
    "tableau = np.array([1, 2, 3, 4, 5])\n",
    "tableau = np.arange(1, 6)\n",
    "print(tableau)\n",
    "\n",
    "len(tableau)\n",
    "tableau.dtype\n",
    "\n",
    "tableau = np.array([1, 2, 3, 4, 5], dtype=complex)\n",
    "tableau"
   ]
  },
  {
   "cell_type": "markdown",
   "id": "5b982297",
   "metadata": {},
   "source": [
    "## Indexation\n",
    "\n",
    "On considère le tableau suivant : \n",
    "\n",
    "    arr = np.array([[10, 20, 30], [40, 50, 60]])\n",
    "    \n",
    "Afficher :\n",
    "\n",
    "- La première ligne\n",
    "\n",
    "- La deuxième colonne\n",
    "\n",
    "- L’élément 50"
   ]
  },
  {
   "cell_type": "code",
   "execution_count": 4,
   "id": "ff48f7ca",
   "metadata": {},
   "outputs": [
    {
     "name": "stdout",
     "output_type": "stream",
     "text": [
      "[[10 20 30]\n",
      " [40 50 60]]\n"
     ]
    },
    {
     "data": {
      "text/plain": [
       "array([10, 20, 30])"
      ]
     },
     "execution_count": 4,
     "metadata": {},
     "output_type": "execute_result"
    }
   ],
   "source": [
    "arr = np.array([[10, 20, 30], [40, 50, 60]])\n",
    "\n",
    "print(arr)\n",
    "\n",
    "arr[0, :]"
   ]
  },
  {
   "cell_type": "code",
   "execution_count": 7,
   "id": "6bce3324",
   "metadata": {},
   "outputs": [
    {
     "data": {
      "text/plain": [
       "array([[10, 20, 30]])"
      ]
     },
     "execution_count": 7,
     "metadata": {},
     "output_type": "execute_result"
    }
   ],
   "source": [
    "arr[: 1]"
   ]
  },
  {
   "cell_type": "code",
   "execution_count": 9,
   "id": "15078d5a",
   "metadata": {},
   "outputs": [
    {
     "data": {
      "text/plain": [
       "60"
      ]
     },
     "execution_count": 9,
     "metadata": {},
     "output_type": "execute_result"
    }
   ],
   "source": [
    "arr[1, 2]"
   ]
  },
  {
   "cell_type": "markdown",
   "id": "595d1f5e",
   "metadata": {},
   "source": [
    "## Filtres et masques\n",
    "\n",
    "On considère le tableau suivant :\n",
    "\n",
    "    arr = np.array([10, 25, 30, 5, 90])\n",
    "\n",
    "- Créer un nouveau tableau ne contenant que les éléments supérieurs à 20."
   ]
  },
  {
   "cell_type": "code",
   "execution_count": 11,
   "id": "b7ef9efe",
   "metadata": {},
   "outputs": [
    {
     "data": {
      "text/plain": [
       "array([25, 30, 90])"
      ]
     },
     "execution_count": 11,
     "metadata": {},
     "output_type": "execute_result"
    }
   ],
   "source": [
    "arr = np.array([10, 25, 30, 5, 90])\n",
    "arr[arr>20]"
   ]
  },
  {
   "cell_type": "markdown",
   "id": "2d6bea93",
   "metadata": {},
   "source": [
    "## Moyenne, somme, min, max\n",
    "\n",
    "Avec le tableau suivant : \n",
    "\n",
    "    arr = np.array([5, 10, 15, 20])\n",
    "    \n",
    "Calculer la moyenne, la somme des éléments, le minimum et la maximum"
   ]
  },
  {
   "cell_type": "code",
   "execution_count": 14,
   "id": "75e1e994",
   "metadata": {},
   "outputs": [
    {
     "name": "stdout",
     "output_type": "stream",
     "text": [
      "12.5\n",
      "50\n",
      "50\n",
      "5\n",
      "20\n"
     ]
    }
   ],
   "source": [
    "arr = np.array([5, 10, 15, 20])\n",
    "\n",
    "print(arr.mean())\n",
    "print(arr.sum())\n",
    "print(np.sum(arr))\n",
    "print(arr.min())\n",
    "print(arr.max())\n"
   ]
  },
  {
   "cell_type": "markdown",
   "id": "eef7831b",
   "metadata": {},
   "source": [
    "* Calculer la somme des entiers de 1 à n, pour n=351 en une ligne. \n",
    "* Calculer la somme de la racive carré des entiers de 1 à n, pour n=351 en une ligne. "
   ]
  },
  {
   "cell_type": "code",
   "execution_count": 17,
   "id": "1c8ea096",
   "metadata": {},
   "outputs": [
    {
     "name": "stdout",
     "output_type": "stream",
     "text": [
      "61776\n",
      "61776\n",
      "61776.0\n"
     ]
    }
   ],
   "source": [
    "n = 351\n",
    "print(np.arange(1, n+1).sum())\n",
    "print( np.sum(np.arange(1, n+1)) )\n",
    "print(n*(n+1)/2)\n",
    "\n"
   ]
  },
  {
   "cell_type": "code",
   "execution_count": 21,
   "id": "2c189e38",
   "metadata": {},
   "outputs": [
    {
     "data": {
      "text/plain": [
       "4393.150429650206"
      ]
     },
     "execution_count": 21,
     "metadata": {},
     "output_type": "execute_result"
    }
   ],
   "source": [
    "n = 351\n",
    "np.sum(np.sqrt(np.arange(1, n+1)))"
   ]
  },
  {
   "cell_type": "markdown",
   "id": "d7be8e64",
   "metadata": {},
   "source": [
    "Calculer l'intégrale de $e^{-x^2}$ entre 0 et 1 par la méthode des rectangles. On prendra $N=1000$ rectangles.\n",
    "\n",
    "* Créer un tableau $x_i = i l /N$ (où $l=1$ dans notre example)\n",
    "* Calculer le tableau $y_i = e^{-x_i^2}$. Tracer la fonction sur un graph. \n",
    "* Calculer $\\sum e^{-x_i^2} \\frac{l}{N}$\n"
   ]
  },
  {
   "cell_type": "markdown",
   "id": "f1d1c7ff",
   "metadata": {},
   "source": [
    "Créer une fonction qui renvoie l'intégrale entre $a$ et $b$ de $f$"
   ]
  },
  {
   "cell_type": "code",
   "execution_count": 26,
   "id": "8145f624",
   "metadata": {},
   "outputs": [
    {
     "data": {
      "text/plain": [
       "[<matplotlib.lines.Line2D at 0x7efadbe64a90>]"
      ]
     },
     "execution_count": 26,
     "metadata": {},
     "output_type": "execute_result"
    },
    {
     "data": {
      "image/png": "[encoded data removed]",
      "text/plain": [
       "<Figure size 640x480 with 1 Axes>"
      ]
     },
     "metadata": {},
     "output_type": "display_data"
    }
   ],
   "source": [
    "#[0, 0.001, 0.002, 0.003, ....] = [0, 1/1000, 2/1000, 3/1000, ... ] \n",
    "#                               = [0, 1, 2, 3, ...]/1000\n",
    "\n",
    "N = 1000\n",
    "x = np.arange(N)/N\n",
    "\n",
    "y = np.exp(-x**2)\n",
    "\n",
    "import matplotlib.pyplot as plt\n",
    "plt.plot(x, y)\n"
   ]
  },
  {
   "cell_type": "code",
   "execution_count": 27,
   "id": "45b605ad",
   "metadata": {},
   "outputs": [
    {
     "data": {
      "text/plain": [
       "0.7471401317785991"
      ]
     },
     "execution_count": 27,
     "metadata": {},
     "output_type": "execute_result"
    }
   ],
   "source": [
    "x = np.arange(N)/N\n",
    "y = np.exp(-x**2)\n",
    "\n",
    "np.sum(y)/N"
   ]
  },
  {
   "cell_type": "code",
   "execution_count": 29,
   "id": "9b0af126",
   "metadata": {},
   "outputs": [
    {
     "data": {
      "text/plain": [
       "0.7471401317785991"
      ]
     },
     "execution_count": 29,
     "metadata": {},
     "output_type": "execute_result"
    }
   ],
   "source": [
    "def f(x):\n",
    "    return np.exp(-x**2)\n",
    "\n",
    "a = 0\n",
    "b = 1\n",
    "N = 1000\n",
    "\n",
    "x = a + (b-a)/N * np.arange(N)\n",
    "y = f(x)\n",
    "intregrale = np.sum(y)*(b-a)/N\n",
    "intregrale"
   ]
  },
  {
   "cell_type": "code",
   "execution_count": 33,
   "id": "6517debd",
   "metadata": {},
   "outputs": [
    {
     "data": {
      "text/plain": [
       "0.4592769203313145"
      ]
     },
     "execution_count": 33,
     "metadata": {},
     "output_type": "execute_result"
    }
   ],
   "source": [
    "def calcule_integrale(f, a, b, N):\n",
    "    x = a + (b-a)/N * np.arange(N)\n",
    "    y = f(x)\n",
    "    integrale = np.sum(y)*(b-a)/N\n",
    "    return integrale\n",
    "\n",
    "calcule_integrale(np.sin, 0, 1, 1000)\n",
    "    "
   ]
  },
  {
   "cell_type": "code",
   "execution_count": 35,
   "id": "1ce18a56",
   "metadata": {},
   "outputs": [
    {
     "data": {
      "text/plain": [
       "0.45969769413186023"
      ]
     },
     "execution_count": 35,
     "metadata": {},
     "output_type": "execute_result"
    }
   ],
   "source": [
    "1-np.cos(1)"
   ]
  },
  {
   "cell_type": "markdown",
   "id": "fe140980",
   "metadata": {},
   "source": [
    "# Jour le plus chaud\n",
    "\n",
    "Le fichier temperature.dat (https://python.sdv.u-paris.fr/data-files/temperatures.dat) contient un relevé de quatre températures pour chaque jour de la semaine\n",
    "\n",
    "À l’aide du module NumPy, on souhaite déterminer quel est le jour de la semaine le plus chaud. Pour cela nous vous proposons les étapes suivantes :\n",
    "1. Récupérez le nom des jours de la semaine depuis le fichier et stockez-les dans une liste days.\n",
    "2. Récupérez les valeurs de températures depuis le fichier et stockez-les dans un array 2D. La fonction np.loadtxt et son argument usecols vous seront utiles.\n",
    "3. Parcourez chaque ligne de la matrice, calculez la température moyenne de chaque jour puis stockez-la dans une liste mean_temps.\n",
    "4. À l’aide des deux listes days et mean_temps, déterminez et affichez le jour le plus chaud.\n",
    "\n"
   ]
  },
  {
   "cell_type": "markdown",
   "id": "2cdde143",
   "metadata": {},
   "source": [
    "# Calcul de la moyenne sur un tableau 2D\n",
    "\n",
    "Un tableau numpy contient les notes d’une classe. Chaque ligne correspond à un élève et chaque colone à un examen."
   ]
  },
  {
   "cell_type": "code",
   "execution_count": 36,
   "id": "adcc5945",
   "metadata": {},
   "outputs": [],
   "source": [
    "import numpy as np\n",
    "\n",
    "N_eleves = 35\n",
    "N_examens = 3\n",
    "\n",
    "notes = np.random.rand(N_eleves, N_examens)*20"
   ]
  },
  {
   "cell_type": "markdown",
   "id": "58752a36",
   "metadata": {},
   "source": [
    "* Calculer la moyenne de chaque élève. Calculer la moyenne pour chaque examen.\n",
    "* Calculer la moyenne de chaque élève, sachant que les coeficients pour les 3 examens sont de 1, 3 et 2."
   ]
  },
  {
   "cell_type": "code",
   "execution_count": 43,
   "id": "205de5e2",
   "metadata": {},
   "outputs": [
    {
     "data": {
      "text/plain": [
       "array([[ 7.99015337,  2.20315651, 18.04428873],\n",
       "       [ 3.2943243 , 12.59925317,  3.30108986],\n",
       "       [ 9.26636459, 11.46862254, 11.38151766],\n",
       "       [18.89072141, 18.77973399,  7.12169985],\n",
       "       [ 9.7458631 ,  1.30277296, 10.68349112],\n",
       "       [ 6.47814944,  4.24446042, 16.36383407],\n",
       "       [ 3.60667636,  5.58110786, 19.99438447],\n",
       "       [18.70456045, 12.48399427, 11.890586  ],\n",
       "       [11.10359637, 12.35655439, 18.40763719],\n",
       "       [ 9.36659175, 16.03248715, 15.68847713],\n",
       "       [15.24391312, 13.37605111,  8.64255029],\n",
       "       [ 6.16716241,  9.6229677 , 19.63382531],\n",
       "       [15.47117612, 17.42214665, 12.08923687],\n",
       "       [ 9.42473395,  4.61966542, 10.90174641],\n",
       "       [12.31205845,  6.75882151,  0.34921549],\n",
       "       [ 0.05255151,  2.82937221, 13.61612886],\n",
       "       [10.62373868, 11.06311746, 10.45203411],\n",
       "       [19.4467789 ,  3.89544222,  4.6892614 ],\n",
       "       [ 8.44651276, 18.42214673,  8.86803652],\n",
       "       [ 4.21522236,  4.16242401, 13.08812124],\n",
       "       [12.04638057, 13.28833072,  7.39465953],\n",
       "       [13.3876088 ,  7.27315261,  5.59634972],\n",
       "       [15.28994454, 11.52309069, 10.05253042],\n",
       "       [ 1.4756528 , 15.64303529, 19.66629499],\n",
       "       [17.50826647, 12.96204121,  9.89573345],\n",
       "       [ 8.08198834,  5.60485511,  3.07941442],\n",
       "       [ 7.8336043 , 17.52265789,  4.85826814],\n",
       "       [ 0.28830997, 16.84314605,  8.77190949],\n",
       "       [18.26867082, 16.4620001 ,  1.28502227],\n",
       "       [ 4.57890965,  3.47629458, 15.02382133],\n",
       "       [ 7.61963525,  2.79339917,  1.35687629],\n",
       "       [ 5.67023818, 19.56255359,  9.28476261],\n",
       "       [ 5.72204532,  2.80687199,  1.97935884],\n",
       "       [ 5.35504649,  2.49789067,  7.83212809],\n",
       "       [18.7751067 ,  8.82216731,  7.74645806]])"
      ]
     },
     "execution_count": 43,
     "metadata": {},
     "output_type": "execute_result"
    }
   ],
   "source": [
    "notes"
   ]
  },
  {
   "cell_type": "code",
   "execution_count": 41,
   "id": "75488ea5",
   "metadata": {},
   "outputs": [
    {
     "data": {
      "text/plain": [
       "array([ 9.41253287,  6.39822244, 10.7055016 , 14.93071842,  7.24404239,\n",
       "        9.02881464,  9.72738956, 14.35971357, 13.95592931, 13.69585201,\n",
       "       12.42083817, 11.80798514, 14.99418654,  8.31538193,  6.47336515,\n",
       "        5.49935086, 10.71296342,  9.34382751, 11.912232  ,  7.15525587,\n",
       "       10.90979027,  8.75237038, 12.28852189, 12.26166102, 13.45534704,\n",
       "        5.58875262, 10.07151011,  8.63445517, 12.00523106,  7.69300852,\n",
       "        3.92330357, 11.50585146,  3.50275872,  5.22835508, 11.78124403])"
      ]
     },
     "execution_count": 41,
     "metadata": {},
     "output_type": "execute_result"
    }
   ],
   "source": [
    "notes.mean(axis=0)\n",
    "\n",
    "notes.mean(axis=1)\n"
   ]
  },
  {
   "cell_type": "code",
   "execution_count": 45,
   "id": "61fb5364",
   "metadata": {},
   "outputs": [
    {
     "data": {
      "text/plain": [
       "array([ 8.44803339,  7.94904392, 11.07254459, 14.91222051,  5.8368607 ,\n",
       "        8.65653314, 10.05646148, 13.32295254, 14.16475565, 14.80683458,\n",
       "       12.10952784, 12.38395269, 15.3193483 ,  7.51453717,  5.54782566,\n",
       "        5.96215431, 10.78619321,  6.75193806, 13.57483767,  7.14645615,\n",
       "       11.11678196,  7.73329434, 11.66071291, 14.62289144, 12.69764283,\n",
       "        5.17589708, 11.68635238, 11.39359452, 11.70411928,  7.50923934,\n",
       "        3.11893089, 13.82123736,  3.0168965 ,  4.75216245, 10.1224208 ])"
      ]
     },
     "execution_count": 45,
     "metadata": {},
     "output_type": "execute_result"
    }
   ],
   "source": [
    "(notes[:,0]*1 + notes[:,1]*3 + notes[:,2]*2)/6"
   ]
  },
  {
   "cell_type": "code",
   "execution_count": 48,
   "id": "e821e2ae",
   "metadata": {},
   "outputs": [
    {
     "data": {
      "text/plain": [
       "8.448033393112974"
      ]
     },
     "execution_count": 48,
     "metadata": {},
     "output_type": "execute_result"
    }
   ],
   "source": [
    "coeffs = np.array([1, 3, 2])\n",
    "\n",
    "np.sum(notes[0,:]*coeffs)/np.sum(coeffs)"
   ]
  },
  {
   "cell_type": "markdown",
   "id": "47e07c4f",
   "metadata": {},
   "source": [
    "# Tracer une fonction mathématique\n",
    "\n",
    "Objectif  : tracer la courbe de la fonction suivante :\n",
    "\n",
    "$$y = \\sin(x) + 0.5 \\cdot \\cos(2x)$$\n",
    "\n",
    "\n",
    "1. Créer l’axe des x  \n",
    "   Utilise `np.linspace` pour générer 100 points entre -5 et 5.\n",
    "\n",
    "2. Calculer les valeurs de y avec numpy \n",
    "\n",
    "3. Tracer la courbe\n",
    "\n",
    "4. Ajouter un titre au graphique.\n",
    "\n",
    "5. Ajouter les noms des axes x et y.\n",
    "\n",
    "6. Tracer aussi $\\sin(x)$ sur le même graphique, avec un style différent (par exemple en pointillés).\n",
    "\n",
    "7. Ajouter une grille pour améliorer la lisibilité.\n"
   ]
  },
  {
   "cell_type": "code",
   "execution_count": 56,
   "id": "35d105c4",
   "metadata": {},
   "outputs": [
    {
     "data": {
      "image/png": "[encoded data removed]",
      "text/plain": [
       "<Figure size 640x480 with 1 Axes>"
      ]
     },
     "metadata": {},
     "output_type": "display_data"
    }
   ],
   "source": [
    "x = np.linspace(-5, 5, 100)\n",
    "y = np.sin(x) + 0.5*np.cos(2*x)\n",
    "\n",
    "plt.plot(x, y)\n",
    "plt.title(r'graph de la fonction $ \\sin(x) + 0.5 \\cdot \\cos(2x)$')\n",
    "plt.xlabel('X')\n",
    "plt.ylabel('Y')\n",
    "\n",
    "y2 = np.sin(x)\n",
    "plt.plot(x, y2, ':')\n",
    "\n",
    "plt.grid()"
   ]
  },
  {
   "cell_type": "markdown",
   "id": "773141ad",
   "metadata": {},
   "source": [
    "# PIB des pays\n",
    "\n",
    "Nous avons téléchargé des fichiers contenant le PIB en fonction de l'année pour un pays donné. Ces fichiers sont en json. Pour les lire, on utilisera le code suivant : "
   ]
  },
  {
   "cell_type": "code",
   "execution_count": null,
   "id": "cfbd8715",
   "metadata": {},
   "outputs": [],
   "source": [
    "import json\n",
    "\n",
    "with open('data_FR.json') as f:\n",
    "    data = json.load(f)"
   ]
  },
  {
   "cell_type": "markdown",
   "id": "d6134ebd",
   "metadata": {},
   "source": [
    "1. Afficher la variable ``data``. Quel est son type de donnée ? Que contient ``data[1]`` ?\n",
    "\n",
    "2. A l'aide d'une boucle for, extraire deux liste, l'une contenant l'année et l'autre le PIB\n",
    "\n",
    "3. Tracer un graphique représentant l'évolution du PIB de la France. \n",
    "\n",
    "4. Regrouper dans une fonction le code pour extraire les donnée à partir du nom du fichier. \n",
    "\n",
    "5. Tracer sur un même graphique l'évolution du PIB de la France, l'Allemagne et les États-Unis (on utilisera l'option ``label`` et la fonction ``legend``)"
   ]
  },
  {
   "cell_type": "code",
   "execution_count": null,
   "id": "59d2fec5",
   "metadata": {},
   "outputs": [],
   "source": []
  }
 ],
 "metadata": {
  "kernelspec": {
   "display_name": "Odeon 3.10",
   "language": "python",
   "name": "odeon310"
  },
  "language_info": {
   "codemirror_mode": {
    "name": "ipython",
    "version": 3
   },
   "file_extension": ".py",
   "mimetype": "text/x-python",
   "name": "python",
   "nbconvert_exporter": "python",
   "pygments_lexer": "ipython3",
   "version": "3.10.12"
  },
  "varInspector": {
   "cols": {
    "lenName": 16,
    "lenType": 16,
    "lenVar": 40
   },
   "kernels_config": {
    "python": {
     "delete_cmd_postfix": "",
     "delete_cmd_prefix": "del ",
     "library": "var_list.py",
     "varRefreshCmd": "print(var_dic_list())"
    },
    "r": {
     "delete_cmd_postfix": ") ",
     "delete_cmd_prefix": "rm(",
     "library": "var_list.r",
     "varRefreshCmd": "cat(var_dic_list()) "
    }
   },
   "types_to_exclude": [
    "module",
    "function",
    "builtin_function_or_method",
    "instance",
    "_Feature"
   ],
   "window_display": false
  }
 },
 "nbformat": 4,
 "nbformat_minor": 5
}
