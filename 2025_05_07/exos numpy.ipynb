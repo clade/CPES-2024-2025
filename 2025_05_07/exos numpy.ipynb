{
 "cells": [
  {
   "cell_type": "markdown",
   "id": "25581d6f",
   "metadata": {},
   "source": [
    "# Exercices\n",
    "\n",
    "L'objectif de ces exercices est de manipuler des tableaux. Il est interdit d'utiliser des boucles for. \n",
    "\n",
    "## Création d’un tableau\n",
    "\n",
    "Créer un tableau NumPy contenant les éléments suivants : [1, 2, 3, 4, 5]\n",
    "\n",
    "- Afficher la taille du tableau. \n",
    "- Afficher le type de données. \n",
    "- Créer le même tableau mais avec des nombres complexes"
   ]
  },
  {
   "cell_type": "code",
   "execution_count": null,
   "id": "2dfbecea",
   "metadata": {},
   "outputs": [],
   "source": []
  },
  {
   "cell_type": "markdown",
   "id": "70fd31da",
   "metadata": {},
   "source": [
    "## Indexation\n",
    "\n",
    "On considère le tableau suivant : \n",
    "\n",
    "    arr = np.array([[10, 20, 30], [40, 50, 60]])\n",
    "    \n",
    "Afficher :\n",
    "\n",
    "- La première ligne\n",
    "\n",
    "- La deuxième colonne\n",
    "\n",
    "- L’élément 50"
   ]
  },
  {
   "cell_type": "code",
   "execution_count": null,
   "id": "c7a23d55",
   "metadata": {},
   "outputs": [],
   "source": []
  },
  {
   "cell_type": "markdown",
   "id": "846e4279",
   "metadata": {},
   "source": [
    "## Filtres et masques\n",
    "\n",
    "On considère le tableau suivant :\n",
    "\n",
    "    arr = np.array([10, 25, 30, 5, 90])\n",
    "\n",
    "- Créer un nouveau tableau ne contenant que les éléments supérieurs à 20."
   ]
  },
  {
   "cell_type": "code",
   "execution_count": null,
   "id": "a792cf4b",
   "metadata": {},
   "outputs": [],
   "source": []
  },
  {
   "cell_type": "markdown",
   "id": "2d6bea93",
   "metadata": {},
   "source": [
    "## Moyenne, somme, min, max\n",
    "\n",
    "Avec le tableau suivant : \n",
    "\n",
    "    arr = np.array([5, 10, 15, 20])\n",
    "    \n",
    "Calculer la moyenne, la somme des éléments, le minimum et la maximum"
   ]
  },
  {
   "cell_type": "code",
   "execution_count": null,
   "id": "ad184365",
   "metadata": {},
   "outputs": [],
   "source": []
  },
  {
   "cell_type": "markdown",
   "id": "fe140980",
   "metadata": {},
   "source": [
    "# Jour le plus chaud\n",
    "\n",
    "Le fichier temperature.dat (https://python.sdv.u-paris.fr/data-files/temperatures.dat) contient un relevé de quatre températures pour chaque jour de la semaine\n",
    "\n",
    "À l’aide du module NumPy, on souhaite déterminer quel est le jour de la semaine le plus chaud. Pour cela nous vous proposons les étapes suivantes :\n",
    "1. Récupérez le nom des jours de la semaine depuis le fichier et stockez-les dans une liste days.\n",
    "2. Récupérez les valeurs de températures depuis le fichier et stockez-les dans un array 2D. La fonction np.loadtxt et son argument usecols vous seront utiles.\n",
    "3. Parcourez chaque ligne de la matrice, calculez la température moyenne de chaque jour puis stockez-la dans une liste mean_temps.\n",
    "4. À l’aide des deux listes days et mean_temps, déterminez et affichez le jour le plus chaud.\n",
    "\n"
   ]
  },
  {
   "cell_type": "markdown",
   "id": "2cdde143",
   "metadata": {},
   "source": [
    "# Calcul de la moyenne sur un tableau 2D\n",
    "\n",
    "Un tableau numpy contient les notes d’une classe. Chaque ligne correspond à un élève et chaque colone à un examen."
   ]
  },
  {
   "cell_type": "code",
   "execution_count": null,
   "id": "adcc5945",
   "metadata": {},
   "outputs": [],
   "source": [
    "import numpy as np\n",
    "\n",
    "N_eleves = 35\n",
    "N_examens = 3\n",
    "\n",
    "notes = np.random.rand(N_eleves, N_examens)*20"
   ]
  },
  {
   "cell_type": "markdown",
   "id": "ab81ed7a",
   "metadata": {},
   "source": [
    "* Calculer la moyenne de chaque élève. Calculer la moyenne pour chaque examen.\n",
    "* Calculer la moyenne de chaque élève, sachant que les coeficients pour les 3 examens sont de 1, 3 et 2."
   ]
  },
  {
   "cell_type": "code",
   "execution_count": null,
   "id": "ae73e54b",
   "metadata": {},
   "outputs": [],
   "source": []
  },
  {
   "cell_type": "markdown",
   "id": "47e07c4f",
   "metadata": {},
   "source": [
    "# Tracer une fonction mathématique\n",
    "\n",
    "Objectif  : tracer la courbe de la fonction suivante :\n",
    "\n",
    "$$y = \\sin(x) + 0.5 \\cdot \\cos(2x)$$\n",
    "\n",
    "\n",
    "1. Créer l’axe des x  \n",
    "   Utilise `np.linspace` pour générer 100 points entre -5 et 5.\n",
    "\n",
    "2. Calculer les valeurs de y avec numpy \n",
    "\n",
    "3. Tracer la courbe\n",
    "\n",
    "4. Ajouter un titre au graphique.\n",
    "\n",
    "5. Ajouter les noms des axes x et y.\n",
    "\n",
    "6. Tracer aussi $\\sin(x)$ sur le même graphique, avec un style différent (par exemple en pointillés).\n",
    "\n",
    "7. Ajouter une grille pour améliorer la lisibilité.\n"
   ]
  },
  {
   "cell_type": "code",
   "execution_count": null,
   "id": "bb0a5080",
   "metadata": {},
   "outputs": [],
   "source": []
  },
  {
   "cell_type": "markdown",
   "id": "773141ad",
   "metadata": {},
   "source": [
    "# PIB des pays\n",
    "\n",
    "Nous avons téléchargé des fichiers contenant le PIB en fonction de l'année pour un pays donné. Ces fichiers sont en json. Pour les lire, on utilisera le code suivant : "
   ]
  },
  {
   "cell_type": "code",
   "execution_count": null,
   "id": "cfbd8715",
   "metadata": {},
   "outputs": [],
   "source": [
    "import json\n",
    "\n",
    "with open('data_FR.json') as f:\n",
    "    data = json.load(f)"
   ]
  },
  {
   "cell_type": "markdown",
   "id": "d6134ebd",
   "metadata": {},
   "source": [
    "1. Afficher la variable ``data``. Quel est son type de donnée ? Que contient ``data[1]`` ?\n",
    "\n",
    "2. A l'aide d'une boucle for, extraire deux liste, l'une contenant l'année et l'autre le PIB\n",
    "\n",
    "3. Tracer un graphique représentant l'évolution du PIB de la France. \n",
    "\n",
    "4. Regrouper dans une fonction le code pour extraire les donnée à partir du nom du fichier. \n",
    "\n",
    "5. Tracer sur un même graphique l'évolution du PIB de la France, l'Allemagne et les États-Unis (on utilisera l'option ``label`` et la fonction ``legend``)"
   ]
  },
  {
   "cell_type": "code",
   "execution_count": null,
   "id": "59d2fec5",
   "metadata": {},
   "outputs": [],
   "source": []
  }
 ],
 "metadata": {
  "kernelspec": {
   "display_name": "Odeon 3.10",
   "language": "python",
   "name": "odeon310"
  },
  "language_info": {
   "codemirror_mode": {
    "name": "ipython",
    "version": 3
   },
   "file_extension": ".py",
   "mimetype": "text/x-python",
   "name": "python",
   "nbconvert_exporter": "python",
   "pygments_lexer": "ipython3",
   "version": "3.10.12"
  },
  "varInspector": {
   "cols": {
    "lenName": 16,
    "lenType": 16,
    "lenVar": 40
   },
   "kernels_config": {
    "python": {
     "delete_cmd_postfix": "",
     "delete_cmd_prefix": "del ",
     "library": "var_list.py",
     "varRefreshCmd": "print(var_dic_list())"
    },
    "r": {
     "delete_cmd_postfix": ") ",
     "delete_cmd_prefix": "rm(",
     "library": "var_list.r",
     "varRefreshCmd": "cat(var_dic_list()) "
    }
   },
   "types_to_exclude": [
    "module",
    "function",
    "builtin_function_or_method",
    "instance",
    "_Feature"
   ],
   "window_display": false
  }
 },
 "nbformat": 4,
 "nbformat_minor": 5
}
