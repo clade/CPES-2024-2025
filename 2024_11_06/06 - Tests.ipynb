{
 "cells": [
  {
   "cell_type": "markdown",
   "id": "40a45960",
   "metadata": {},
   "source": [
    "# Définitions"
   ]
  },
  {
   "cell_type": "code",
   "execution_count": null,
   "id": "be1f617d",
   "metadata": {},
   "outputs": [],
   "source": []
  },
  {
   "cell_type": "markdown",
   "id": "f34596f2",
   "metadata": {},
   "source": [
    "# Tests à plusieurs cas"
   ]
  },
  {
   "cell_type": "code",
   "execution_count": null,
   "id": "0aca1ad1",
   "metadata": {},
   "outputs": [],
   "source": []
  },
  {
   "cell_type": "markdown",
   "id": "948b9ab2",
   "metadata": {},
   "source": [
    "# Importance de l’indentation"
   ]
  },
  {
   "cell_type": "code",
   "execution_count": null,
   "id": "d63252a1",
   "metadata": {},
   "outputs": [],
   "source": []
  },
  {
   "cell_type": "markdown",
   "id": "9e895612",
   "metadata": {},
   "source": [
    "# Tests multiples"
   ]
  },
  {
   "cell_type": "code",
   "execution_count": null,
   "id": "94f3bcb4",
   "metadata": {},
   "outputs": [],
   "source": []
  },
  {
   "cell_type": "markdown",
   "id": "304a8a05",
   "metadata": {},
   "source": [
    "# Instructions break et continue\n",
    "* Dans les boucles while et for"
   ]
  },
  {
   "cell_type": "code",
   "execution_count": 1,
   "id": "6fe76718",
   "metadata": {},
   "outputs": [
    {
     "name": "stdout",
     "output_type": "stream",
     "text": [
      "0\n",
      "1\n"
     ]
    }
   ],
   "source": [
    "for i in range(10):\n",
    "    if i > 1:\n",
    "        break\n",
    "    print(i)"
   ]
  },
  {
   "cell_type": "code",
   "execution_count": 3,
   "id": "9861d1ba",
   "metadata": {},
   "outputs": [
    {
     "name": "stdout",
     "output_type": "stream",
     "text": [
      "0\n",
      "2\n",
      "3\n",
      "4\n",
      "5\n",
      "6\n",
      "7\n",
      "8\n",
      "9\n"
     ]
    }
   ],
   "source": [
    "for i in range(10):\n",
    "    if i == 1:\n",
    "        continue\n",
    "    print(i)"
   ]
  },
  {
   "cell_type": "markdown",
   "id": "04137df4",
   "metadata": {},
   "source": [
    "# Tests de valeur sur des floats\n",
    "* math.isclose"
   ]
  },
  {
   "cell_type": "code",
   "execution_count": 5,
   "id": "7abe3787",
   "metadata": {},
   "outputs": [
    {
     "data": {
      "text/plain": [
       "False"
      ]
     },
     "execution_count": 5,
     "metadata": {},
     "output_type": "execute_result"
    }
   ],
   "source": [
    "(3 - 2.7) == 0.3"
   ]
  },
  {
   "cell_type": "code",
   "execution_count": 11,
   "id": "44de7d93",
   "metadata": {},
   "outputs": [
    {
     "data": {
      "text/plain": [
       "True"
      ]
     },
     "execution_count": 11,
     "metadata": {},
     "output_type": "execute_result"
    }
   ],
   "source": [
    "import math\n",
    "\n",
    "math.isclose(3 - 2.70001, 0.3, rel_tol=1E-3)"
   ]
  },
  {
   "cell_type": "code",
   "execution_count": 12,
   "id": "584fbf7d",
   "metadata": {},
   "outputs": [
    {
     "data": {
      "text/plain": [
       "True"
      ]
     },
     "execution_count": 12,
     "metadata": {},
     "output_type": "execute_result"
    }
   ],
   "source": [
    "a = 3 - 2.7\n",
    "b = 0.3\n",
    "\n",
    "abs(a - b)<0.001"
   ]
  },
  {
   "cell_type": "markdown",
   "id": "ba851e3a",
   "metadata": {},
   "source": [
    "## Détermination des nombres premiers\n",
    "\n",
    "Déterminer les nombres premiers inférieurs à 100"
   ]
  },
  {
   "cell_type": "code",
   "execution_count": null,
   "id": "72e2fee0",
   "metadata": {},
   "outputs": [],
   "source": []
  }
 ],
 "metadata": {
  "kernelspec": {
   "display_name": "Odeon 3.10",
   "language": "python",
   "name": "odeon310"
  },
  "language_info": {
   "codemirror_mode": {
    "name": "ipython",
    "version": 3
   },
   "file_extension": ".py",
   "mimetype": "text/x-python",
   "name": "python",
   "nbconvert_exporter": "python",
   "pygments_lexer": "ipython3",
   "version": "3.10.12"
  },
  "varInspector": {
   "cols": {
    "lenName": 16,
    "lenType": 16,
    "lenVar": 40
   },
   "kernels_config": {
    "python": {
     "delete_cmd_postfix": "",
     "delete_cmd_prefix": "del ",
     "library": "var_list.py",
     "varRefreshCmd": "print(var_dic_list())"
    },
    "r": {
     "delete_cmd_postfix": ") ",
     "delete_cmd_prefix": "rm(",
     "library": "var_list.r",
     "varRefreshCmd": "cat(var_dic_list()) "
    }
   },
   "types_to_exclude": [
    "module",
    "function",
    "builtin_function_or_method",
    "instance",
    "_Feature"
   ],
   "window_display": false
  }
 },
 "nbformat": 4,
 "nbformat_minor": 5
}
