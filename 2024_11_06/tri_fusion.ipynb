{
 "cells": [
  {
   "cell_type": "code",
   "execution_count": 5,
   "id": "c8f775d3",
   "metadata": {},
   "outputs": [],
   "source": [
    "def fusion(A, B):\n",
    "    C = []\n",
    "    i = 0\n",
    "    j = 0\n",
    "    while i<len(A) and j<len(B):\n",
    "        if A[i]<= B[j]:\n",
    "            C.append(A[i])\n",
    "            i = i + 1\n",
    "        else:\n",
    "            C.append(B[j])\n",
    "            j = j + 1\n",
    "    if i==len(A):\n",
    "        while j<len(B):\n",
    "            C.append(B[j])\n",
    "            j += 1\n",
    "    else :\n",
    "        while i<len(A):\n",
    "            C.append(A[i])\n",
    "            i += 1\n",
    "    return C"
   ]
  },
  {
   "cell_type": "code",
   "execution_count": 13,
   "id": "5c640cc7",
   "metadata": {},
   "outputs": [],
   "source": [
    "def fusion(A, B):\n",
    "    C = []\n",
    "    i = 0\n",
    "    j = 0\n",
    "    while i<len(A) or j<len(B):\n",
    "        if i==len(A):\n",
    "            C.append(B[j])\n",
    "            j += 1\n",
    "        elif j==len(B):\n",
    "            C.append(A[i])\n",
    "            i = i + 1            \n",
    "        elif A[i]<= B[j]:\n",
    "            C.append(A[i])\n",
    "            i = i + 1\n",
    "        else:\n",
    "            C.append(B[j])\n",
    "            j = j + 1\n",
    "    return C"
   ]
  },
  {
   "cell_type": "code",
   "execution_count": 14,
   "id": "55db9549",
   "metadata": {},
   "outputs": [
    {
     "data": {
      "text/plain": [
       "[1, 4, 5, 6, 9, 10]"
      ]
     },
     "execution_count": 14,
     "metadata": {},
     "output_type": "execute_result"
    }
   ],
   "source": [
    "A = [1, 6, 9, 10]\n",
    "B = [4, 5]\n",
    "fusion(B, A)"
   ]
  },
  {
   "cell_type": "code",
   "execution_count": 25,
   "id": "7879e492",
   "metadata": {},
   "outputs": [],
   "source": [
    "    \n",
    "def tri_fusion(T):\n",
    "    n = len(T)\n",
    "    if n <= 1:\n",
    "        return T\n",
    "    n_coupure = n // 2\n",
    "    Ta = T[:n_coupure] # debut du tableau\n",
    "    Tb = T[n_coupure:]# fin du tableau\n",
    "    Ta_trie = tri_fusion(Ta)\n",
    "    Tb_trie = tri_fusion(Tb)\n",
    "    return fusion(Ta_trie, Tb_trie)\n",
    "\n",
    "def tri_fusion(T):\n",
    "    n = len(T)\n",
    "    if n <= 1:\n",
    "        return T\n",
    "    return fusion(tri_fusion(T[:n//2]), tri_fusion(T[n//2:]), [])"
   ]
  },
  {
   "cell_type": "code",
   "execution_count": 26,
   "id": "1de643d9",
   "metadata": {},
   "outputs": [
    {
     "data": {
      "text/plain": [
       "[1, 2, 2, 5, 7, 8, 34]"
      ]
     },
     "execution_count": 26,
     "metadata": {},
     "output_type": "execute_result"
    }
   ],
   "source": [
    "tri_fusion([2, 5, 2, 7, 34, 8, 1])"
   ]
  },
  {
   "cell_type": "code",
   "execution_count": null,
   "id": "86c35daa",
   "metadata": {},
   "outputs": [],
   "source": []
  },
  {
   "cell_type": "code",
   "execution_count": 17,
   "id": "b59321b2",
   "metadata": {},
   "outputs": [],
   "source": [
    "def fusion(A, B, C):\n",
    "    if len(A)==0:\n",
    "        return C + B\n",
    "    if len(B)==0:\n",
    "        return C + A\n",
    "    if A[0] <= B[0]:\n",
    "        C.append(A[0])\n",
    "        return fusion(A[1:], B, C)\n",
    "    else:\n",
    "        C.append(B[0])\n",
    "        return fusion(A, B[1:], C)\n"
   ]
  },
  {
   "cell_type": "code",
   "execution_count": 19,
   "id": "0e4e3d86",
   "metadata": {},
   "outputs": [
    {
     "data": {
      "text/plain": [
       "[1, 4, 5, 6, 9, 10]"
      ]
     },
     "execution_count": 19,
     "metadata": {},
     "output_type": "execute_result"
    }
   ],
   "source": [
    "A = [1, 6, 9, 10]\n",
    "B = [4, 5]\n",
    "fusion(B, A, [])"
   ]
  },
  {
   "cell_type": "code",
   "execution_count": 22,
   "id": "a42e88e3",
   "metadata": {},
   "outputs": [],
   "source": [
    "def fusion(A, B, C):\n",
    "    while True:\n",
    "        if len(A)==0:\n",
    "            return C + B\n",
    "        if len(B)==0:\n",
    "            return C + A\n",
    "        if A[0] <= B[0]:\n",
    "            C.append(A.pop(0))\n",
    "        else:\n",
    "            C.append(B.pop(0))\n"
   ]
  },
  {
   "cell_type": "code",
   "execution_count": 23,
   "id": "5fa7590a",
   "metadata": {},
   "outputs": [
    {
     "data": {
      "text/plain": [
       "[1, 4, 5, 6, 9, 10]"
      ]
     },
     "execution_count": 23,
     "metadata": {},
     "output_type": "execute_result"
    }
   ],
   "source": [
    "A = [1, 6, 9, 10]\n",
    "B = [4, 5]\n",
    "fusion(B, A, [])"
   ]
  },
  {
   "cell_type": "code",
   "execution_count": null,
   "id": "725b15e2",
   "metadata": {},
   "outputs": [],
   "source": []
  }
 ],
 "metadata": {
  "kernelspec": {
   "display_name": "Odeon 3.10",
   "language": "python",
   "name": "odeon310"
  },
  "language_info": {
   "codemirror_mode": {
    "name": "ipython",
    "version": 3
   },
   "file_extension": ".py",
   "mimetype": "text/x-python",
   "name": "python",
   "nbconvert_exporter": "python",
   "pygments_lexer": "ipython3",
   "version": "3.10.12"
  },
  "varInspector": {
   "cols": {
    "lenName": 16,
    "lenType": 16,
    "lenVar": 40
   },
   "kernels_config": {
    "python": {
     "delete_cmd_postfix": "",
     "delete_cmd_prefix": "del ",
     "library": "var_list.py",
     "varRefreshCmd": "print(var_dic_list())"
    },
    "r": {
     "delete_cmd_postfix": ") ",
     "delete_cmd_prefix": "rm(",
     "library": "var_list.r",
     "varRefreshCmd": "cat(var_dic_list()) "
    }
   },
   "types_to_exclude": [
    "module",
    "function",
    "builtin_function_or_method",
    "instance",
    "_Feature"
   ],
   "window_display": false
  }
 },
 "nbformat": 4,
 "nbformat_minor": 5
}
