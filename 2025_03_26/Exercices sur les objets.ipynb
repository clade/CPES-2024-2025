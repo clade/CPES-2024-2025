{
 "cells": [
  {
   "cell_type": "markdown",
   "id": "2d81d9a2",
   "metadata": {},
   "source": [
    "## Temps\n",
    "\n",
    "1. Définir une classe Python ```Time``` pour enregistrer les heures, minutes et secondes. \n",
    "\n",
    "2. Créer la méthode ``__repr__`` et la méthode ``__str__``. Cette dernière méthode affichera l'heure sous la forme ``hh:mm:ss``. Attention, il faut écrire par exemple ``03:04:15`` et non ``3:4:15``\n",
    "\n",
    "3. Écrire une méthode pour donner la différence en seconde entre deux instants. "
   ]
  },
  {
   "cell_type": "code",
   "execution_count": 4,
   "id": "a1e92ba9",
   "metadata": {},
   "outputs": [],
   "source": [
    "class Time:\n",
    "    def __init__(self, heure, minute, seconde):\n",
    "        self.heure = heure\n",
    "        self.minute = minute\n",
    "        self.seconde = seconde\n",
    "    \n",
    "    def __repr__(self):\n",
    "        return f\"Time({self.heure!r}, {self.minute!r}, {self.seconde!r})\"\n",
    "    \n",
    "    def __str__(self):\n",
    "        return f\"{self.heure:02d}:{self.minute:02d}:{self.seconde:02d}\"\n",
    "\n",
    "    def to_seconds(self):\n",
    "        return self.seconde + 60*self.minute + 3600*self.heure\n",
    "    \n",
    "    def __sub__(self, other):\n",
    "        if not isinstance(other, Time):\n",
    "            return NotImplemented\n",
    "        \n",
    "        return self.to_seconds() - other.to_seconds()\n",
    "            \n",
    "            "
   ]
  },
  {
   "cell_type": "code",
   "execution_count": 5,
   "id": "a32e287b",
   "metadata": {},
   "outputs": [
    {
     "name": "stdout",
     "output_type": "stream",
     "text": [
      "03:14:15\n"
     ]
    },
    {
     "data": {
      "text/plain": [
       "Time(3, 14, 15)"
      ]
     },
     "execution_count": 5,
     "metadata": {},
     "output_type": "execute_result"
    }
   ],
   "source": [
    "print(Time(3, 14, 15))\n",
    "Time(3, 14, 15)"
   ]
  },
  {
   "cell_type": "code",
   "execution_count": 6,
   "id": "01cbd207",
   "metadata": {},
   "outputs": [
    {
     "data": {
      "text/plain": [
       "5340"
      ]
     },
     "execution_count": 6,
     "metadata": {},
     "output_type": "execute_result"
    }
   ],
   "source": [
    "Time(3, 14, 15) - Time(1, 45, 15)"
   ]
  },
  {
   "cell_type": "markdown",
   "id": "1e080321",
   "metadata": {},
   "source": [
    "## Carnet d'adresse\n",
    "\n",
    "1. Nous pouvons représenter les données sur une personne dans un programme par une classe Personne, contenant le nom de la personne, son prénom, son numéro de téléphone, et son email. Créer la classe ``Personne`` (avec le ``__init__``, le ``__repr__`` et le ``__str__``)\n",
    "\n",
    "Par exemple:\n",
    "\n",
    "<code>\n",
    "    >>> personne1 = Personne('Dupont', 'Jean', '0299792458', 'jean.dupont@tintin.fr')\n",
    "    >>> print(personne1)\n",
    "    Dupont, Jean -- Telephone:  0299792458 -- Email: \"jean.dupont@tintin.fr\"\n",
    "</code>"
   ]
  },
  {
   "cell_type": "markdown",
   "id": "5031947b",
   "metadata": {},
   "source": [
    "2. Un travailleur est une personne ayant un emploi. Dans un programme, un travailleur est naturellement représenté comme une classe Travailleur dérivée de la classe Personne, parce qu’un travailleur est une personne. La classe Travailleur étend la classe Personne avec des données supplémentaires, par exemple le nom de l’entreprise, le numéro de téléphone professionnel. Mettre à jour la méthode ``__str__``.\n",
    "\n",
    "3. Créer une classe ``CarnetAdresses`` avec ses méthodes ``__init__`` et  ``__repr__``.\n",
    "\n",
    "4. Créer une méthode ``ajouter_contact`` pour ajouter une personne et une méthode ``chercher_contact`` pour rechercher un contact par son nom. "
   ]
  },
  {
   "cell_type": "code",
   "execution_count": 20,
   "id": "0e9bb3ff",
   "metadata": {},
   "outputs": [
    {
     "name": "stdout",
     "output_type": "stream",
     "text": [
      "Dupont, Jean -- Telephone: 0299792458 -- Email: jean.dupont@tintin.fr\n"
     ]
    }
   ],
   "source": [
    "class Personne:\n",
    "    def __init__(self, nom, prenom, telephone, email):\n",
    "        self.nom = nom\n",
    "        self.prenom = prenom\n",
    "        self.telephone = telephone\n",
    "        self.email = email\n",
    "        \n",
    "    def __repr__(self):\n",
    "        return f'Personne({self.nom!r}, {self.prenom!r}, {self.telephone!r}, {self.email!r})'\n",
    "    \n",
    "    def __str__(self):\n",
    "        return f'{self.nom}, {self.prenom} -- Telephone: {self.telephone} -- Email: {self.email}'\n",
    "    \n",
    "personne1 = Personne('Dupont', 'Jean', '0299792458', 'jean.dupont@tintin.fr')\n",
    "print(personne1)"
   ]
  },
  {
   "cell_type": "code",
   "execution_count": 21,
   "id": "ee30abcc",
   "metadata": {},
   "outputs": [],
   "source": [
    "class Travailleur(Personne):\n",
    "    def __init__(self, nom, prenom, telephone, email, entreprise, tel_pro):\n",
    "        Personne.__init__(self, nom, prenom, telephone, email)\n",
    "        self.entreprise = entreprise\n",
    "        self.tel_pro = tel_pro    \n",
    "        \n",
    "    def __str__(self):\n",
    "        return f'{self.nom}, {self.prenom} -- Telephone: {self.telephone} -- Email: {self.email} -- Entreprise: {self.entreprise}'        "
   ]
  },
  {
   "cell_type": "code",
   "execution_count": 22,
   "id": "3cfe01e1",
   "metadata": {},
   "outputs": [
    {
     "name": "stdout",
     "output_type": "stream",
     "text": [
      "Dupont, Jean -- Telephone: 0299792458 -- Email: jean.dupont@tintin.fr -- Entreprise: Casterman\n"
     ]
    }
   ],
   "source": [
    "travailleur1 = Travailleur('Dupont', 'Jean', '0299792458', 'jean.dupont@tintin.fr', 'Casterman', '0137036205')\n",
    "print(travailleur1)"
   ]
  },
  {
   "cell_type": "code",
   "execution_count": 25,
   "id": "ca2f8bee",
   "metadata": {},
   "outputs": [
    {
     "data": {
      "text/plain": [
       "Personne('Dupont', 'Jean', '0299792458', 'jean.dupont@tintin.fr')"
      ]
     },
     "execution_count": 25,
     "metadata": {},
     "output_type": "execute_result"
    }
   ],
   "source": [
    "class CarnetAdresse:\n",
    "    def __init__(self, initial_list):\n",
    "        self._list = initial_list.copy()\n",
    "        \n",
    "    def __repr__(self):\n",
    "        return f\"CarnetAdresse({self._list!r})\"\n",
    "    \n",
    "    def ajoute_contat(self, contact):\n",
    "        self._list.append(contact)\n",
    "        \n",
    "    def chercher_contact(self, nom):\n",
    "        for personne in self._list:\n",
    "            if personne.nom.lower()==nom.lower():\n",
    "                return personne\n",
    "    \n",
    "    \n",
    "personne1 = Personne('Dupont', 'Jean', '0299792458', 'jean.dupont@tintin.fr')\n",
    "personne2 = Personne('Castafiore', 'Bianca', '0683468261', 'bianca.castafiore@tintin.fr')\n",
    "\n",
    "carnet = CarnetAdresse([personne1, personne2])\n",
    "carnet.chercher_contact('dupont')"
   ]
  },
  {
   "cell_type": "markdown",
   "id": "8b374e59",
   "metadata": {},
   "source": [
    "# Cryptage/decryptage\n",
    "\n",
    "On va créer un objet simple pour permetre le cryptage decryptage en utilisant la méthode par décalage (https://fr.wikipedia.org/wiki/Chiffrement_par_d%C3%A9calage). \n",
    "\n",
    "Cet objet sera initialisé avec le décalage et aura deux méthodes (encode et decode). \n",
    "\n"
   ]
  },
  {
   "cell_type": "code",
   "execution_count": 26,
   "id": "8368184c",
   "metadata": {},
   "outputs": [],
   "source": [
    "def shift_letter(s, shift):\n",
    "    s = s.upper()\n",
    "    position = (ord(s) - ord('A') + shift)%26\n",
    "    return chr(ord('A') + position)\n",
    "\n",
    "lettres = 'ABCDEFGHIJKLMNOPQRSTUVWXYZ'\n",
    "def shift_letter(s, shift):\n",
    "    s = s.upper()\n",
    "    pos = lettres.index(s)\n",
    "    new_pos = (pos + shift)%26\n",
    "    return lettres[new_pos]"
   ]
  },
  {
   "cell_type": "code",
   "execution_count": null,
   "id": "db74ef07",
   "metadata": {},
   "outputs": [],
   "source": []
  },
  {
   "cell_type": "code",
   "execution_count": 27,
   "id": "0fb47398",
   "metadata": {},
   "outputs": [
    {
     "data": {
      "text/plain": [
       "'LYXTYEB'"
      ]
     },
     "execution_count": 27,
     "metadata": {},
     "output_type": "execute_result"
    }
   ],
   "source": [
    "class Crypto:\n",
    "    def __init__(self, cle):\n",
    "        self._cle = cle\n",
    "        \n",
    "    def encode(self, message):\n",
    "        return ''.join(shift_letter(s, self._cle) for s in message)\n",
    "    \n",
    "    def decode(self, message):\n",
    "        return ''.join(shift_letter(s, -self._cle) for s in message)\n",
    "    \n",
    "    \n",
    "crypt = Crypto(10)\n",
    "\n",
    "crypt.encode('BONJOUR')"
   ]
  },
  {
   "cell_type": "code",
   "execution_count": 28,
   "id": "64ed7cfa",
   "metadata": {},
   "outputs": [
    {
     "data": {
      "text/plain": [
       "'BONJOUR'"
      ]
     },
     "execution_count": 28,
     "metadata": {},
     "output_type": "execute_result"
    }
   ],
   "source": [
    "crypt.decode(crypt.encode('BONJOUR'))"
   ]
  },
  {
   "cell_type": "code",
   "execution_count": null,
   "id": "b6819704",
   "metadata": {},
   "outputs": [],
   "source": []
  }
 ],
 "metadata": {
  "kernelspec": {
   "display_name": "Odeon 3.10",
   "language": "python",
   "name": "odeon310"
  },
  "language_info": {
   "codemirror_mode": {
    "name": "ipython",
    "version": 3
   },
   "file_extension": ".py",
   "mimetype": "text/x-python",
   "name": "python",
   "nbconvert_exporter": "python",
   "pygments_lexer": "ipython3",
   "version": "3.10.12"
  },
  "varInspector": {
   "cols": {
    "lenName": 16,
    "lenType": 16,
    "lenVar": 40
   },
   "kernels_config": {
    "python": {
     "delete_cmd_postfix": "",
     "delete_cmd_prefix": "del ",
     "library": "var_list.py",
     "varRefreshCmd": "print(var_dic_list())"
    },
    "r": {
     "delete_cmd_postfix": ") ",
     "delete_cmd_prefix": "rm(",
     "library": "var_list.r",
     "varRefreshCmd": "cat(var_dic_list()) "
    }
   },
   "types_to_exclude": [
    "module",
    "function",
    "builtin_function_or_method",
    "instance",
    "_Feature"
   ],
   "window_display": false
  }
 },
 "nbformat": 4,
 "nbformat_minor": 5
}
