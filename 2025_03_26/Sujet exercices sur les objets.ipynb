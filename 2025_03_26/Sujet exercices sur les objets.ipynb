{
 "cells": [
  {
   "cell_type": "markdown",
   "id": "2d81d9a2",
   "metadata": {},
   "source": [
    "## Temps\n",
    "\n",
    "1. Définir une classe Python ```Time``` pour enregistrer les heures, minutes et secondes. \n",
    "\n",
    "2. Créer la méthode ``__repr__`` et la méthode ``__str__``. Cette dernière méthode affichera l'heure sous la forme ``hh:mm:ss``. Attention, il faut écrire par exemple ``03:04:15`` et non ``3:4:15``\n",
    "\n",
    "3. Écrire une méthode pour donner la différence en seconde entre deux instants. "
   ]
  },
  {
   "cell_type": "markdown",
   "id": "1e080321",
   "metadata": {},
   "source": [
    "## Carnet d'adresse\n",
    "\n",
    "1. Nous pouvons représenter les données sur une personne dans un programme par une classe Personne, contenant le nom de la personne, son prénom, son numéro de téléphone, et son email. Créer la classe ``Personne`` (avec le ``__init__``, le ``__repr__`` et le ``__str__``)\n",
    "\n",
    "Par exemple:\n",
    "\n",
    "<code>\n",
    "    >>> personne1 = Personne('Dupont', 'Jean', '0299792458', 'jean.dupont@tintin.fr')\n",
    "    >>> print(personne1)\n",
    "    Dupont, Jean -- Telephone:  0299792458 -- Email: \"jean.dupont@tintin.fr\"\n",
    "</code>"
   ]
  },
  {
   "cell_type": "markdown",
   "id": "5031947b",
   "metadata": {},
   "source": [
    "2. Un travailleur est une personne ayant un emploi. Dans un programme, un travailleur est naturellement représenté comme une classe Travailleur dérivée de la classe Personne, parce qu’un travailleur est une personne. La classe Travailleur étend la classe Personne avec des données supplémentaires, par exemple le nom de l’entreprise, le numéro de téléphone professionnel. Mettre à jour la méthode ``__str__``.\n",
    "\n",
    "3. Créer une classe ``CarnetAdresses`` avec ses méthodes ``__init__`` et  ``__repr__``.\n",
    "\n",
    "4. Créer une méthode ``ajouter_contact`` pour ajouter une personne et une méthode ``chercher_contact`` pour rechercher un contact par son nom. "
   ]
  },
  {
   "cell_type": "markdown",
   "id": "8b374e59",
   "metadata": {},
   "source": [
    "# Cryptage/decryptage\n",
    "\n",
    "On va créer un objet simple pour permetre le cryptage decryptage en utilisant la méthode par décalage (https://fr.wikipedia.org/wiki/Chiffrement_par_d%C3%A9calage). \n",
    "\n",
    "Cet objet sera initialisé avec le décalage et aura deux méthodes (encode et decode). \n",
    "\n"
   ]
  }
 ],
 "metadata": {
  "kernelspec": {
   "display_name": "Odeon 3.10",
   "language": "python",
   "name": "odeon310"
  },
  "language_info": {
   "codemirror_mode": {
    "name": "ipython",
    "version": 3
   },
   "file_extension": ".py",
   "mimetype": "text/x-python",
   "name": "python",
   "nbconvert_exporter": "python",
   "pygments_lexer": "ipython3",
   "version": "3.10.12"
  },
  "varInspector": {
   "cols": {
    "lenName": 16,
    "lenType": 16,
    "lenVar": 40
   },
   "kernels_config": {
    "python": {
     "delete_cmd_postfix": "",
     "delete_cmd_prefix": "del ",
     "library": "var_list.py",
     "varRefreshCmd": "print(var_dic_list())"
    },
    "r": {
     "delete_cmd_postfix": ") ",
     "delete_cmd_prefix": "rm(",
     "library": "var_list.r",
     "varRefreshCmd": "cat(var_dic_list()) "
    }
   },
   "types_to_exclude": [
    "module",
    "function",
    "builtin_function_or_method",
    "instance",
    "_Feature"
   ],
   "window_display": false
  }
 },
 "nbformat": 4,
 "nbformat_minor": 5
}
