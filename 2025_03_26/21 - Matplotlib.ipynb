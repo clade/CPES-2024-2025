{
 "cells": [
  {
   "cell_type": "markdown",
   "id": "802e87f5",
   "metadata": {},
   "source": [
    "# Chargement du module"
   ]
  },
  {
   "cell_type": "code",
   "execution_count": null,
   "id": "1b7cde3e",
   "metadata": {},
   "outputs": [],
   "source": []
  },
  {
   "cell_type": "markdown",
   "id": "664c99d4",
   "metadata": {},
   "source": [
    "# Représentation en nuage de points\n",
    "\n",
    "Deux méthodes : fonctions ou objets\n",
    "\n",
    "Dans cet exemple, nous considérons l’évolution de la concentration d’un produit dans le sang (exprimé en mg/L) en fonction du temps (exprimé en heures). Cet exemple est purement fictif.\n",
    "\n",
    "* Nom sur les axes (obligatoire)\n",
    "* Titre (facultatif)"
   ]
  },
  {
   "cell_type": "markdown",
   "id": "ace88500",
   "metadata": {},
   "source": [
    "<img src=\"https://flowingdata.com/wp-content/uploads/2012/06/label-your-axes.png\"/>"
   ]
  },
  {
   "cell_type": "code",
   "execution_count": 1,
   "id": "16738b05",
   "metadata": {},
   "outputs": [],
   "source": [
    "temps = [1, 2, 3, 4, 6, 7, 9]\n",
    "concentration = [5.5, 7.2, 11.8, 13.6, 19.1, 21.7, 29.4]"
   ]
  },
  {
   "cell_type": "code",
   "execution_count": null,
   "id": "cafa667b",
   "metadata": {},
   "outputs": [],
   "source": []
  },
  {
   "cell_type": "markdown",
   "id": "d1020633",
   "metadata": {},
   "source": [
    "# Représentation sous forme de courbe\n",
    "On sait par ailleurs que l’évolution de la concentration du produit en fonction du temps peut-être modélisée par la\n",
    "fonction $f(x) = 2 + 3 x$"
   ]
  },
  {
   "cell_type": "code",
   "execution_count": null,
   "id": "5bfbf4a2",
   "metadata": {},
   "outputs": [],
   "source": []
  },
  {
   "cell_type": "code",
   "execution_count": null,
   "id": "2ec84d91",
   "metadata": {},
   "outputs": [],
   "source": []
  },
  {
   "cell_type": "markdown",
   "id": "36049881",
   "metadata": {},
   "source": [
    "# Représentation en diagramme en bâtons\n",
    "\n",
    "* ax.bar\n",
    "* ax.set_xticks"
   ]
  },
  {
   "cell_type": "code",
   "execution_count": 6,
   "id": "f141a94e",
   "metadata": {},
   "outputs": [],
   "source": [
    "import numpy as np\n",
    "\n",
    "with open('../exos/lafontaine.txt', 'r') as f:\n",
    "    data = f.read()\n",
    "    \n",
    "data = data.lower()\n",
    "\n",
    "lettres = 'abcdefghijklmnopqrstuvwxyz'\n",
    "distribution = []\n",
    "for lettre in lettres:\n",
    "    distribution.append(data.count(lettre))\n",
    "    \n",
    "x = np.arange(len(lettres))    "
   ]
  },
  {
   "cell_type": "code",
   "execution_count": null,
   "id": "2c7738a2",
   "metadata": {},
   "outputs": [],
   "source": []
  }
 ],
 "metadata": {
  "kernelspec": {
   "display_name": "Odeon 3.10",
   "language": "python",
   "name": "odeon310"
  },
  "language_info": {
   "codemirror_mode": {
    "name": "ipython",
    "version": 3
   },
   "file_extension": ".py",
   "mimetype": "text/x-python",
   "name": "python",
   "nbconvert_exporter": "python",
   "pygments_lexer": "ipython3",
   "version": "3.10.12"
  },
  "varInspector": {
   "cols": {
    "lenName": 16,
    "lenType": 16,
    "lenVar": 40
   },
   "kernels_config": {
    "python": {
     "delete_cmd_postfix": "",
     "delete_cmd_prefix": "del ",
     "library": "var_list.py",
     "varRefreshCmd": "print(var_dic_list())"
    },
    "r": {
     "delete_cmd_postfix": ") ",
     "delete_cmd_prefix": "rm(",
     "library": "var_list.r",
     "varRefreshCmd": "cat(var_dic_list()) "
    }
   },
   "types_to_exclude": [
    "module",
    "function",
    "builtin_function_or_method",
    "instance",
    "_Feature"
   ],
   "window_display": false
  }
 },
 "nbformat": 4,
 "nbformat_minor": 5
}
