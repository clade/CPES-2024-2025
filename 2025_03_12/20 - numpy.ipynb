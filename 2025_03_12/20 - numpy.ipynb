{
 "cells": [
  {
   "cell_type": "code",
   "execution_count": 1,
   "id": "79804108",
   "metadata": {},
   "outputs": [],
   "source": [
    "import numpy \n",
    "import numpy as np"
   ]
  },
  {
   "cell_type": "markdown",
   "id": "f9a30522",
   "metadata": {},
   "source": [
    "# Objets de type array\n",
    "\n",
    "Les objets de type array correspondent à des tableaux à une ou plusieurs dimensions et permettent d’effectuer du\n",
    "calcul vectoriel. La fonction array() convertit un conteneur (comme une liste ou un tuple) en un objet de type array.\n",
    "\n",
    "## Fonction array"
   ]
  },
  {
   "cell_type": "code",
   "execution_count": 3,
   "id": "7fd62a56",
   "metadata": {},
   "outputs": [],
   "source": [
    "import numpy as np\n",
    "a = [1, 2, 3]\n",
    "ta = np.array(a)"
   ]
  },
  {
   "cell_type": "code",
   "execution_count": 6,
   "id": "b29dfec3",
   "metadata": {},
   "outputs": [
    {
     "data": {
      "text/plain": [
       "numpy.ndarray"
      ]
     },
     "execution_count": 6,
     "metadata": {},
     "output_type": "execute_result"
    }
   ],
   "source": [
    "type(ta)"
   ]
  },
  {
   "cell_type": "markdown",
   "id": "1b71eaab",
   "metadata": {},
   "source": [
    "Un objet array ne contient que des données homogènes, c’est-à-dire d’un type identique.\n",
    "Il est possible de créer un objet array à partir d’une liste constituée d’entiers et de floats, mais toutes les\n",
    "valeurs seront alors comprises par NumPy comme des floats"
   ]
  },
  {
   "cell_type": "code",
   "execution_count": 11,
   "id": "7da5afe5",
   "metadata": {},
   "outputs": [
    {
     "data": {
      "text/plain": [
       "array(['1', '2.2', '3', 'bonjour'], dtype='<U32')"
      ]
     },
     "execution_count": 11,
     "metadata": {},
     "output_type": "execute_result"
    }
   ],
   "source": [
    "import numpy as np\n",
    "a = [1, 2.2, 3, 'bonjour']\n",
    "ta = np.array(a)\n",
    "\n",
    "ta"
   ]
  },
  {
   "cell_type": "code",
   "execution_count": 13,
   "id": "bf0c46a7",
   "metadata": {},
   "outputs": [
    {
     "data": {
      "text/plain": [
       "array([1. , 2.2, 3. ])"
      ]
     },
     "execution_count": 13,
     "metadata": {},
     "output_type": "execute_result"
    }
   ],
   "source": [
    "import numpy as np\n",
    "a = [1, 2.2, 3]\n",
    "ta = np.array(a)\n",
    "\n",
    "ta"
   ]
  },
  {
   "cell_type": "code",
   "execution_count": 14,
   "id": "c1e115dc",
   "metadata": {},
   "outputs": [
    {
     "data": {
      "text/plain": [
       "dtype('float64')"
      ]
     },
     "execution_count": 14,
     "metadata": {},
     "output_type": "execute_result"
    }
   ],
   "source": [
    "ta.dtype"
   ]
  },
  {
   "cell_type": "code",
   "execution_count": 15,
   "id": "0d0c1172",
   "metadata": {},
   "outputs": [
    {
     "data": {
      "text/plain": [
       "dtype('int64')"
      ]
     },
     "execution_count": 15,
     "metadata": {},
     "output_type": "execute_result"
    }
   ],
   "source": [
    "import numpy as np\n",
    "a = [1, 2, 3]\n",
    "ta = np.array(a)\n",
    "\n",
    "ta.dtype"
   ]
  },
  {
   "cell_type": "code",
   "execution_count": 19,
   "id": "1b420548",
   "metadata": {},
   "outputs": [
    {
     "data": {
      "text/plain": [
       "array([924717970289206433])"
      ]
     },
     "execution_count": 19,
     "metadata": {},
     "output_type": "execute_result"
    }
   ],
   "source": [
    "np.array([3])**456"
   ]
  },
  {
   "cell_type": "markdown",
   "id": "9e91fc81",
   "metadata": {},
   "source": [
    "## Fonction arange\n",
    "\n"
   ]
  },
  {
   "cell_type": "code",
   "execution_count": 23,
   "id": "f6c6b0c2",
   "metadata": {},
   "outputs": [
    {
     "data": {
      "text/plain": [
       "array([99999999, 99999998, 99999997, ...,        3,        2,        1])"
      ]
     },
     "execution_count": 23,
     "metadata": {},
     "output_type": "execute_result"
    }
   ],
   "source": [
    "np.arange(100000000-1, 0, -1)"
   ]
  },
  {
   "cell_type": "markdown",
   "id": "73dd5ec3",
   "metadata": {},
   "source": [
    "## Différence avec les listes ou tuple\n",
    "La différence fondamentale entre un objet array à une dimension et une liste (ou un tuple) est que celui-ci est\n",
    "considéré comme un vecteur. Par conséquent, on peut effectuer des opérations vectorielles élément par élément sur ce type d’objet, ce qui est bien commode lorsqu’on analyse de grandes quantités de données\n",
    "\n",
    "* opérations mathématiques\n",
    "* fonctions mathématiques"
   ]
  },
  {
   "cell_type": "code",
   "execution_count": 31,
   "id": "8ed89cae",
   "metadata": {},
   "outputs": [
    {
     "data": {
      "text/plain": [
       "array([      1, 1048576, 1594323])"
      ]
     },
     "execution_count": 31,
     "metadata": {},
     "output_type": "execute_result"
    }
   ],
   "source": [
    "a = [1, 2, 3]\n",
    "ta = np.array(a)\n",
    "\n",
    "b = [4, 20, 13]\n",
    "tb = np.array(b)\n",
    "\n",
    "ta ** tb"
   ]
  },
  {
   "cell_type": "code",
   "execution_count": 33,
   "id": "b0ed99ab",
   "metadata": {},
   "outputs": [
    {
     "data": {
      "text/plain": [
       "array([0.84147098, 0.90929743, 0.14112001])"
      ]
     },
     "execution_count": 33,
     "metadata": {},
     "output_type": "execute_result"
    }
   ],
   "source": [
    "np.sin(ta)"
   ]
  },
  {
   "cell_type": "code",
   "execution_count": 34,
   "id": "989c6e5b",
   "metadata": {},
   "outputs": [
    {
     "ename": "TypeError",
     "evalue": "only length-1 arrays can be converted to Python scalars",
     "output_type": "error",
     "traceback": [
      "\u001b[0;31m---------------------------------------------------------------------------\u001b[0m",
      "\u001b[0;31mTypeError\u001b[0m                                 Traceback (most recent call last)",
      "Cell \u001b[0;32mIn[34], line 3\u001b[0m\n\u001b[1;32m      1\u001b[0m \u001b[38;5;28;01mimport\u001b[39;00m \u001b[38;5;21;01mmath\u001b[39;00m\n\u001b[0;32m----> 3\u001b[0m \u001b[43mmath\u001b[49m\u001b[38;5;241;43m.\u001b[39;49m\u001b[43msin\u001b[49m\u001b[43m(\u001b[49m\u001b[43mta\u001b[49m\u001b[43m)\u001b[49m\n",
      "\u001b[0;31mTypeError\u001b[0m: only length-1 arrays can be converted to Python scalars"
     ]
    }
   ],
   "source": [
    "import math\n",
    "\n",
    "math.sin(ta)"
   ]
  },
  {
   "cell_type": "code",
   "execution_count": 37,
   "id": "2d1aa9e1",
   "metadata": {},
   "outputs": [
    {
     "data": {
      "text/plain": [
       "array([14,  2,  3])"
      ]
     },
     "execution_count": 37,
     "metadata": {},
     "output_type": "execute_result"
    }
   ],
   "source": [
    "ta[0] = 14.8\n",
    "ta"
   ]
  },
  {
   "cell_type": "code",
   "execution_count": null,
   "id": "e3280ea3",
   "metadata": {},
   "outputs": [],
   "source": []
  },
  {
   "cell_type": "code",
   "execution_count": null,
   "id": "2c066f70",
   "metadata": {},
   "outputs": [],
   "source": []
  },
  {
   "cell_type": "markdown",
   "id": "af95f3be",
   "metadata": {},
   "source": [
    "## Méthodes sur les tableaux"
   ]
  },
  {
   "cell_type": "code",
   "execution_count": 39,
   "id": "88e51b06",
   "metadata": {},
   "outputs": [
    {
     "data": {
      "text/plain": [
       "4"
      ]
     },
     "execution_count": 39,
     "metadata": {},
     "output_type": "execute_result"
    }
   ],
   "source": [
    "b = [4, 20, 13]\n",
    "tb = np.array(b)\n",
    "\n",
    "np.min(tb)\n",
    "tb.min()"
   ]
  },
  {
   "cell_type": "code",
   "execution_count": 41,
   "id": "2bcd531a",
   "metadata": {},
   "outputs": [
    {
     "data": {
      "text/plain": [
       "42.88888888888889"
      ]
     },
     "execution_count": 41,
     "metadata": {},
     "output_type": "execute_result"
    }
   ],
   "source": [
    "tb.mean()\n",
    "tb.std()\n",
    "tb.var()"
   ]
  },
  {
   "cell_type": "code",
   "execution_count": 42,
   "id": "1f881a93",
   "metadata": {},
   "outputs": [
    {
     "data": {
      "text/plain": [
       "1040"
      ]
     },
     "execution_count": 42,
     "metadata": {},
     "output_type": "execute_result"
    }
   ],
   "source": [
    "tb.sum()\n",
    "tb.prod()"
   ]
  },
  {
   "cell_type": "code",
   "execution_count": 43,
   "id": "e0393860",
   "metadata": {},
   "outputs": [
    {
     "data": {
      "text/plain": [
       "array([ 4, 13, 20])"
      ]
     },
     "execution_count": 43,
     "metadata": {},
     "output_type": "execute_result"
    }
   ],
   "source": [
    "tb.sort()\n",
    "tb"
   ]
  },
  {
   "cell_type": "code",
   "execution_count": 44,
   "id": "67627b42",
   "metadata": {},
   "outputs": [
    {
     "data": {
      "text/plain": [
       "array([0, 2, 1])"
      ]
     },
     "execution_count": 44,
     "metadata": {},
     "output_type": "execute_result"
    }
   ],
   "source": [
    "b = [4, 20, 13]\n",
    "tb = np.array(b)\n",
    "\n",
    "tb.argsort()"
   ]
  },
  {
   "cell_type": "markdown",
   "id": "0cd3fde5",
   "metadata": {},
   "source": [
    "## Indices"
   ]
  },
  {
   "cell_type": "code",
   "execution_count": 45,
   "id": "c10f8737",
   "metadata": {},
   "outputs": [
    {
     "data": {
      "text/plain": [
       "array([ 4, 20, 13, 45,  2,  6, 86,  2])"
      ]
     },
     "execution_count": 45,
     "metadata": {},
     "output_type": "execute_result"
    }
   ],
   "source": [
    "b = [4, 20, 13, 45, 2, 6, 86, 2]\n",
    "tb = np.array(b)\n",
    "\n",
    "tb"
   ]
  },
  {
   "cell_type": "code",
   "execution_count": 46,
   "id": "9983b8fb",
   "metadata": {},
   "outputs": [
    {
     "data": {
      "text/plain": [
       "6"
      ]
     },
     "execution_count": 46,
     "metadata": {},
     "output_type": "execute_result"
    }
   ],
   "source": [
    "tb[5]"
   ]
  },
  {
   "cell_type": "code",
   "execution_count": 47,
   "id": "a884a830",
   "metadata": {},
   "outputs": [
    {
     "data": {
      "text/plain": [
       "array([20, 13, 45])"
      ]
     },
     "execution_count": 47,
     "metadata": {},
     "output_type": "execute_result"
    }
   ],
   "source": [
    "tb[1:4]"
   ]
  },
  {
   "cell_type": "code",
   "execution_count": 48,
   "id": "00b89d35",
   "metadata": {},
   "outputs": [
    {
     "data": {
      "text/plain": [
       "array([ 2, 13, 45])"
      ]
     },
     "execution_count": 48,
     "metadata": {},
     "output_type": "execute_result"
    }
   ],
   "source": [
    "indices = np.array([4, 2, 3])\n",
    "tb[indices]"
   ]
  },
  {
   "cell_type": "code",
   "execution_count": null,
   "id": "4dfcec0e",
   "metadata": {},
   "outputs": [],
   "source": []
  },
  {
   "cell_type": "code",
   "execution_count": 49,
   "id": "068a2eec",
   "metadata": {},
   "outputs": [
    {
     "data": {
      "text/plain": [
       "array([ 4, 20, 13, 45])"
      ]
     },
     "execution_count": 49,
     "metadata": {},
     "output_type": "execute_result"
    }
   ],
   "source": [
    "b = [4, 20, 13, 45]\n",
    "tb = np.array(b)\n",
    "\n",
    "tb"
   ]
  },
  {
   "cell_type": "code",
   "execution_count": 50,
   "id": "32ad3121",
   "metadata": {},
   "outputs": [
    {
     "data": {
      "text/plain": [
       "array([20, 45])"
      ]
     },
     "execution_count": 50,
     "metadata": {},
     "output_type": "execute_result"
    }
   ],
   "source": [
    "masque = np.array([False, True, False, True])\n",
    "\n",
    "tb[masque]"
   ]
  },
  {
   "cell_type": "code",
   "execution_count": 51,
   "id": "973e62ba",
   "metadata": {},
   "outputs": [
    {
     "data": {
      "text/plain": [
       "array([False,  True,  True,  True])"
      ]
     },
     "execution_count": 51,
     "metadata": {},
     "output_type": "execute_result"
    }
   ],
   "source": [
    "(tb>10)"
   ]
  },
  {
   "cell_type": "code",
   "execution_count": 55,
   "id": "4f86799f",
   "metadata": {},
   "outputs": [
    {
     "data": {
      "text/plain": [
       "array([20, 13, 45])"
      ]
     },
     "execution_count": 55,
     "metadata": {},
     "output_type": "execute_result"
    }
   ],
   "source": [
    "tb[tb>10]"
   ]
  },
  {
   "cell_type": "code",
   "execution_count": null,
   "id": "ac5859af",
   "metadata": {},
   "outputs": [],
   "source": []
  },
  {
   "cell_type": "code",
   "execution_count": 57,
   "id": "4111ee52",
   "metadata": {},
   "outputs": [
    {
     "data": {
      "text/plain": [
       "array([ True,  True, False,  True])"
      ]
     },
     "execution_count": 57,
     "metadata": {},
     "output_type": "execute_result"
    }
   ],
   "source": [
    "tb != 13"
   ]
  },
  {
   "cell_type": "code",
   "execution_count": 59,
   "id": "8265cd04",
   "metadata": {},
   "outputs": [
    {
     "ename": "IndexError",
     "evalue": "index 14 is out of bounds for axis 0 with size 4",
     "output_type": "error",
     "traceback": [
      "\u001b[0;31m---------------------------------------------------------------------------\u001b[0m",
      "\u001b[0;31mIndexError\u001b[0m                                Traceback (most recent call last)",
      "Cell \u001b[0;32mIn[59], line 1\u001b[0m\n\u001b[0;32m----> 1\u001b[0m \u001b[43mtb\u001b[49m\u001b[43m[\u001b[49m\u001b[43mtb\u001b[49m\u001b[38;5;241;43m+\u001b[39;49m\u001b[38;5;241;43m10\u001b[39;49m\u001b[43m]\u001b[49m\n",
      "\u001b[0;31mIndexError\u001b[0m: index 14 is out of bounds for axis 0 with size 4"
     ]
    }
   ],
   "source": [
    "tb[tb+10]"
   ]
  },
  {
   "cell_type": "code",
   "execution_count": 58,
   "id": "417c15a3",
   "metadata": {},
   "outputs": [
    {
     "data": {
      "text/plain": [
       "array([14, 30, 23, 55])"
      ]
     },
     "execution_count": 58,
     "metadata": {},
     "output_type": "execute_result"
    }
   ],
   "source": [
    "tb+10"
   ]
  },
  {
   "cell_type": "markdown",
   "id": "047ec030",
   "metadata": {},
   "source": [
    "## Fonctions avec des tableaux"
   ]
  },
  {
   "cell_type": "code",
   "execution_count": null,
   "id": "1c5d48a6",
   "metadata": {},
   "outputs": [],
   "source": []
  },
  {
   "cell_type": "code",
   "execution_count": null,
   "id": "94b2260d",
   "metadata": {},
   "outputs": [],
   "source": []
  },
  {
   "cell_type": "markdown",
   "id": "827290b8",
   "metadata": {},
   "source": [
    "## Concaténation d’arrays"
   ]
  },
  {
   "cell_type": "code",
   "execution_count": 32,
   "id": "5802f3ad",
   "metadata": {},
   "outputs": [
    {
     "data": {
      "text/plain": [
       "array([ 1,  2,  3,  4, 20, 13])"
      ]
     },
     "execution_count": 32,
     "metadata": {},
     "output_type": "execute_result"
    }
   ],
   "source": [
    "np.concatenate((ta, tb))"
   ]
  },
  {
   "cell_type": "markdown",
   "id": "13f680b9",
   "metadata": {},
   "source": [
    "# Tableaux multidimensionels\n",
    "\n",
    "* Array et dimensions\n",
    "* Méthodes de calcul sur les arrays et l’argument axis\n",
    "* zéros, ones, full"
   ]
  },
  {
   "cell_type": "code",
   "execution_count": null,
   "id": "2da5153d",
   "metadata": {},
   "outputs": [],
   "source": []
  },
  {
   "cell_type": "markdown",
   "id": "55594e18",
   "metadata": {},
   "source": [
    "## Chargement d’un array depuis un fichier"
   ]
  },
  {
   "cell_type": "code",
   "execution_count": null,
   "id": "acae3150",
   "metadata": {},
   "outputs": [],
   "source": []
  },
  {
   "cell_type": "code",
   "execution_count": null,
   "id": "5e79cfca",
   "metadata": {},
   "outputs": [],
   "source": []
  },
  {
   "cell_type": "markdown",
   "id": "d3a2bf8d",
   "metadata": {},
   "source": [
    "# Masques booléens"
   ]
  },
  {
   "cell_type": "code",
   "execution_count": null,
   "id": "9d2b1e3a",
   "metadata": {},
   "outputs": [],
   "source": []
  },
  {
   "cell_type": "code",
   "execution_count": null,
   "id": "030a3a25",
   "metadata": {},
   "outputs": [],
   "source": []
  },
  {
   "cell_type": "markdown",
   "id": "4efcba6a",
   "metadata": {},
   "source": [
    "# Exercices\n",
    "\n",
    "## Jour le plus chaud\n",
    "\n",
    "Le fichier temperature.dat (https://python.sdv.u-paris.fr/data-files/temperatures.dat) contient un relevé de quatre températures pour chaque jour de la semaine\n",
    "\n",
    "À l’aide du module NumPy, on souhaite déterminer quel est le jour de la semaine le plus chaud. Pour cela nous vous proposons les étapes suivantes :\n",
    "1. Récupérez le nom des jours de la semaine depuis le fichier et stockez-les dans une liste days.\n",
    "2. Récupérez les valeurs de températures depuis le fichier et stockez-les dans un array 2D. La fonction np.loadtxt et son argument usecols vous seront utiles.\n",
    "3. Parcourez chaque ligne de la matrice, calculez la température moyenne de chaque jour puis stockez-la dans une liste mean_temps.\n",
    "4. À l’aide des deux listes days et mean_temps, déterminez et aﬀichez le jour le plus chaud.\n",
    "\n",
    "\n"
   ]
  },
  {
   "cell_type": "code",
   "execution_count": null,
   "id": "3f00c2a5",
   "metadata": {},
   "outputs": [],
   "source": []
  },
  {
   "cell_type": "code",
   "execution_count": null,
   "id": "e750793e",
   "metadata": {},
   "outputs": [],
   "source": []
  },
  {
   "cell_type": "markdown",
   "id": "496856ee",
   "metadata": {},
   "source": [
    "## Calcul Monte-Carlo de la surface d’un disque\n",
    "\n",
    "La fonction np.random.rand permet de créer une distribution uniforme de points entre 0 et 1.\n",
    "\n",
    "* Créer deux tableaux X et Y de de N variables uniforméments réparties entre -1 et 1. Pour cela on utilisera le fait que si a est entre 0 et 1, alors $2a - 1$ est entre -1 et 1.\n",
    "\n",
    "* Créer un tableau R contenant la longueur de chaque rayon.\n",
    "\n",
    "* Créer un tableau de booléen indiquant les points dans un cercle de rayon 1. \n",
    "\n",
    "* Pour calculer le nombre de valeur vraie d'un tableau de booléens, on peut utiliser la fonction sum qui va remplacer les False par 0 et les True par 1. Calculer la proportion de points dans le cercle.\n",
    "\n",
    "* Estimer une valeur de pi à partir de l'estimation de la probabilité d'être dans le cercle en prenant N grand.\n",
    "\n",
    "* De la même façon, évaluer le volume d’une sphère en dimension 13"
   ]
  },
  {
   "cell_type": "code",
   "execution_count": 60,
   "id": "7e328a65",
   "metadata": {},
   "outputs": [
    {
     "data": {
      "text/plain": [
       "array([0.300532  , 0.33887762, 0.13480932, 0.68946887, 0.57944208,\n",
       "       0.64672863, 0.38340429, 0.25091658, 0.39898426, 0.86293429])"
      ]
     },
     "execution_count": 60,
     "metadata": {},
     "output_type": "execute_result"
    }
   ],
   "source": [
    "np.random.rand(10)"
   ]
  },
  {
   "cell_type": "code",
   "execution_count": null,
   "id": "2abc793e",
   "metadata": {},
   "outputs": [],
   "source": []
  },
  {
   "cell_type": "markdown",
   "id": "42b436d7",
   "metadata": {},
   "source": [
    "## Calcul de la moyenne\n",
    "\n",
    "Un tableau numpy contient les notes d’une classe. Chaque ligne correspond à un élève et chaque colone à un examen."
   ]
  },
  {
   "cell_type": "code",
   "execution_count": 3,
   "id": "6e3c7abf",
   "metadata": {},
   "outputs": [],
   "source": [
    "import numpy as np\n",
    "\n",
    "N_eleves = 35\n",
    "N_examens = 3\n",
    "\n",
    "notes = np.random.rand(N_eleves, N_examens)*20"
   ]
  },
  {
   "cell_type": "markdown",
   "id": "2208763b",
   "metadata": {},
   "source": [
    "* Calculer la moyenne de chaque élève. Calculer la moyenne pour chaque examen.\n",
    "* Calculer la moyenne de chaque élève, sachant que les coeficients pour les 3 examens sont de 1, 3 et 2."
   ]
  },
  {
   "cell_type": "code",
   "execution_count": null,
   "id": "4f126796",
   "metadata": {},
   "outputs": [],
   "source": []
  }
 ],
 "metadata": {
  "kernelspec": {
   "display_name": "Odeon 3.10",
   "language": "python",
   "name": "odeon310"
  },
  "language_info": {
   "codemirror_mode": {
    "name": "ipython",
    "version": 3
   },
   "file_extension": ".py",
   "mimetype": "text/x-python",
   "name": "python",
   "nbconvert_exporter": "python",
   "pygments_lexer": "ipython3",
   "version": "3.10.12"
  },
  "varInspector": {
   "cols": {
    "lenName": 16,
    "lenType": 16,
    "lenVar": 40
   },
   "kernels_config": {
    "python": {
     "delete_cmd_postfix": "",
     "delete_cmd_prefix": "del ",
     "library": "var_list.py",
     "varRefreshCmd": "print(var_dic_list())"
    },
    "r": {
     "delete_cmd_postfix": ") ",
     "delete_cmd_prefix": "rm(",
     "library": "var_list.r",
     "varRefreshCmd": "cat(var_dic_list()) "
    }
   },
   "types_to_exclude": [
    "module",
    "function",
    "builtin_function_or_method",
    "instance",
    "_Feature"
   ],
   "window_display": false
  }
 },
 "nbformat": 4,
 "nbformat_minor": 5
}
