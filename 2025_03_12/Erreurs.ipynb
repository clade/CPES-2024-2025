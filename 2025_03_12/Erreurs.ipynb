{
 "cells": [
  {
   "cell_type": "markdown",
   "id": "23a38079",
   "metadata": {},
   "source": [
    "## Créer les erreurs"
   ]
  },
  {
   "cell_type": "code",
   "execution_count": 4,
   "id": "10ea0893",
   "metadata": {},
   "outputs": [],
   "source": [
    "import math\n",
    "\n",
    "def racine(x):\n",
    "    if x>=0:\n",
    "        return math.sqrt(x)\n",
    "    else:\n",
    "        print(\"On ne peut pas calculer la racine d'un nombre négatif\")\n",
    "        \n",
    "def polynome_second_degre(a, b, c):\n",
    "    Delta = b**2 - 4*a*c\n",
    "    return (-b + racine(Delta))/(2*a)"
   ]
  },
  {
   "cell_type": "code",
   "execution_count": 5,
   "id": "a19652d4",
   "metadata": {},
   "outputs": [
    {
     "name": "stdout",
     "output_type": "stream",
     "text": [
      "On ne peut pas calculer la racine d'un nombre négatif\n"
     ]
    },
    {
     "ename": "TypeError",
     "evalue": "unsupported operand type(s) for +: 'int' and 'NoneType'",
     "output_type": "error",
     "traceback": [
      "\u001b[0;31m---------------------------------------------------------------------------\u001b[0m",
      "\u001b[0;31mTypeError\u001b[0m                                 Traceback (most recent call last)",
      "Cell \u001b[0;32mIn[5], line 1\u001b[0m\n\u001b[0;32m----> 1\u001b[0m \u001b[43mpolynome_second_degre\u001b[49m\u001b[43m(\u001b[49m\u001b[38;5;241;43m1\u001b[39;49m\u001b[43m,\u001b[49m\u001b[43m \u001b[49m\u001b[38;5;241;43m0\u001b[39;49m\u001b[43m,\u001b[49m\u001b[43m \u001b[49m\u001b[38;5;241;43m1\u001b[39;49m\u001b[43m)\u001b[49m\n",
      "Cell \u001b[0;32mIn[4], line 11\u001b[0m, in \u001b[0;36mpolynome_second_degre\u001b[0;34m(a, b, c)\u001b[0m\n\u001b[1;32m      9\u001b[0m \u001b[38;5;28;01mdef\u001b[39;00m \u001b[38;5;21mpolynome_second_degre\u001b[39m(a, b, c):\n\u001b[1;32m     10\u001b[0m     Delta \u001b[38;5;241m=\u001b[39m b\u001b[38;5;241m*\u001b[39m\u001b[38;5;241m*\u001b[39m\u001b[38;5;241m2\u001b[39m \u001b[38;5;241m-\u001b[39m \u001b[38;5;241m4\u001b[39m\u001b[38;5;241m*\u001b[39ma\u001b[38;5;241m*\u001b[39mc\n\u001b[0;32m---> 11\u001b[0m     \u001b[38;5;28;01mreturn\u001b[39;00m (\u001b[38;5;241;43m-\u001b[39;49m\u001b[43mb\u001b[49m\u001b[43m \u001b[49m\u001b[38;5;241;43m+\u001b[39;49m\u001b[43m \u001b[49m\u001b[43mracine\u001b[49m\u001b[43m(\u001b[49m\u001b[43mDelta\u001b[49m\u001b[43m)\u001b[49m)\u001b[38;5;241m/\u001b[39m(\u001b[38;5;241m2\u001b[39m\u001b[38;5;241m*\u001b[39ma)\n",
      "\u001b[0;31mTypeError\u001b[0m: unsupported operand type(s) for +: 'int' and 'NoneType'"
     ]
    }
   ],
   "source": [
    "polynome_second_degre(1, 0, 1)"
   ]
  },
  {
   "cell_type": "code",
   "execution_count": 6,
   "id": "78cbdab7",
   "metadata": {},
   "outputs": [],
   "source": [
    "import math\n",
    "\n",
    "def racine(x):\n",
    "    if x>=0:\n",
    "        return math.sqrt(x)\n",
    "    else:\n",
    "        raise Exception(\"On ne peut pas calculer la racine d'un nombre négatif\")\n",
    "        \n",
    "def polynome_second_degre(a, b, c):\n",
    "    Delta = b**2 - 4*a*c\n",
    "    return (-b + racine(Delta))/(2*a)"
   ]
  },
  {
   "cell_type": "code",
   "execution_count": null,
   "id": "57c52390",
   "metadata": {},
   "outputs": [],
   "source": []
  },
  {
   "cell_type": "code",
   "execution_count": null,
   "id": "a2e6f83f",
   "metadata": {},
   "outputs": [],
   "source": []
  },
  {
   "cell_type": "code",
   "execution_count": 7,
   "id": "c23fdb6b",
   "metadata": {},
   "outputs": [
    {
     "ename": "Exception",
     "evalue": "On ne peut pas calculer la racine d'un nombre négatif",
     "output_type": "error",
     "traceback": [
      "\u001b[0;31m---------------------------------------------------------------------------\u001b[0m",
      "\u001b[0;31mException\u001b[0m                                 Traceback (most recent call last)",
      "Cell \u001b[0;32mIn[7], line 1\u001b[0m\n\u001b[0;32m----> 1\u001b[0m \u001b[43mpolynome_second_degre\u001b[49m\u001b[43m(\u001b[49m\u001b[38;5;241;43m1\u001b[39;49m\u001b[43m,\u001b[49m\u001b[43m \u001b[49m\u001b[38;5;241;43m0\u001b[39;49m\u001b[43m,\u001b[49m\u001b[43m \u001b[49m\u001b[38;5;241;43m1\u001b[39;49m\u001b[43m)\u001b[49m\n",
      "Cell \u001b[0;32mIn[6], line 11\u001b[0m, in \u001b[0;36mpolynome_second_degre\u001b[0;34m(a, b, c)\u001b[0m\n\u001b[1;32m      9\u001b[0m \u001b[38;5;28;01mdef\u001b[39;00m \u001b[38;5;21mpolynome_second_degre\u001b[39m(a, b, c):\n\u001b[1;32m     10\u001b[0m     Delta \u001b[38;5;241m=\u001b[39m b\u001b[38;5;241m*\u001b[39m\u001b[38;5;241m*\u001b[39m\u001b[38;5;241m2\u001b[39m \u001b[38;5;241m-\u001b[39m \u001b[38;5;241m4\u001b[39m\u001b[38;5;241m*\u001b[39ma\u001b[38;5;241m*\u001b[39mc\n\u001b[0;32m---> 11\u001b[0m     \u001b[38;5;28;01mreturn\u001b[39;00m (\u001b[38;5;241m-\u001b[39mb \u001b[38;5;241m+\u001b[39m \u001b[43mracine\u001b[49m\u001b[43m(\u001b[49m\u001b[43mDelta\u001b[49m\u001b[43m)\u001b[49m)\u001b[38;5;241m/\u001b[39m(\u001b[38;5;241m2\u001b[39m\u001b[38;5;241m*\u001b[39ma)\n",
      "Cell \u001b[0;32mIn[6], line 7\u001b[0m, in \u001b[0;36mracine\u001b[0;34m(x)\u001b[0m\n\u001b[1;32m      5\u001b[0m     \u001b[38;5;28;01mreturn\u001b[39;00m math\u001b[38;5;241m.\u001b[39msqrt(x)\n\u001b[1;32m      6\u001b[0m \u001b[38;5;28;01melse\u001b[39;00m:\n\u001b[0;32m----> 7\u001b[0m     \u001b[38;5;28;01mraise\u001b[39;00m \u001b[38;5;167;01mException\u001b[39;00m(\u001b[38;5;124m\"\u001b[39m\u001b[38;5;124mOn ne peut pas calculer la racine d\u001b[39m\u001b[38;5;124m'\u001b[39m\u001b[38;5;124mun nombre négatif\u001b[39m\u001b[38;5;124m\"\u001b[39m)\n",
      "\u001b[0;31mException\u001b[0m: On ne peut pas calculer la racine d'un nombre négatif"
     ]
    }
   ],
   "source": [
    "polynome_second_degre(1, 0, 1)"
   ]
  },
  {
   "cell_type": "code",
   "execution_count": null,
   "id": "5c25afd1",
   "metadata": {},
   "outputs": [],
   "source": [
    "import math\n",
    "\n",
    "def racine(x):\n",
    "    if x<0:\n",
    "        raise Exception(\"On ne peut pas calculer la racine d'un nombre négatif\")\n",
    "    return math.sqrt(x)\n",
    "        \n",
    "def polynome_second_degre(a, b, c):\n",
    "    Delta = b**2 - 4*a*c\n",
    "    return (-b + racine(Delta))/(2*a)"
   ]
  },
  {
   "cell_type": "code",
   "execution_count": null,
   "id": "5312c025",
   "metadata": {},
   "outputs": [],
   "source": []
  },
  {
   "cell_type": "markdown",
   "id": "499e23bf",
   "metadata": {},
   "source": [
    "## Filtrer les erreurs\n",
    "\n",
    "try ... except"
   ]
  },
  {
   "cell_type": "code",
   "execution_count": 11,
   "id": "14f1110d",
   "metadata": {},
   "outputs": [
    {
     "name": "stdout",
     "output_type": "stream",
     "text": [
      "\n"
     ]
    }
   ],
   "source": [
    "try:\n",
    "    with open('unfichierquinexistepas') as f:\n",
    "        print(f.read())\n",
    "except Exception:\n",
    "    print(\"\")"
   ]
  },
  {
   "cell_type": "code",
   "execution_count": 21,
   "id": "233767c1",
   "metadata": {},
   "outputs": [],
   "source": [
    "import math\n",
    "\n",
    "def polynome_second_degre(a, b, c):\n",
    "    Delta = b**2 - 4*a*c\n",
    "    try:\n",
    "        return (-b + math.sqrt(Delta))/(2*a)\n",
    "    except ValueError:\n",
    "        raise Exception(\"Ce polynôme n'a pas de racine réelles\")"
   ]
  },
  {
   "cell_type": "code",
   "execution_count": 22,
   "id": "d9161c26",
   "metadata": {},
   "outputs": [
    {
     "ename": "Exception",
     "evalue": "Ce polynôme n'a pas de racine réelles",
     "output_type": "error",
     "traceback": [
      "\u001b[0;31m---------------------------------------------------------------------------\u001b[0m",
      "\u001b[0;31mValueError\u001b[0m                                Traceback (most recent call last)",
      "Cell \u001b[0;32mIn[21], line 6\u001b[0m, in \u001b[0;36mpolynome_second_degre\u001b[0;34m(a, b, c)\u001b[0m\n\u001b[1;32m      5\u001b[0m \u001b[38;5;28;01mtry\u001b[39;00m:\n\u001b[0;32m----> 6\u001b[0m     \u001b[38;5;28;01mreturn\u001b[39;00m (\u001b[38;5;241m-\u001b[39mb \u001b[38;5;241m+\u001b[39m \u001b[43mmath\u001b[49m\u001b[38;5;241;43m.\u001b[39;49m\u001b[43msqrt\u001b[49m\u001b[43m(\u001b[49m\u001b[43mDelta\u001b[49m\u001b[43m)\u001b[49m)\u001b[38;5;241m/\u001b[39m(\u001b[38;5;241m2\u001b[39m\u001b[38;5;241m*\u001b[39ma)\n\u001b[1;32m      7\u001b[0m \u001b[38;5;28;01mexcept\u001b[39;00m \u001b[38;5;167;01mValueError\u001b[39;00m:\n",
      "\u001b[0;31mValueError\u001b[0m: math domain error",
      "\nDuring handling of the above exception, another exception occurred:\n",
      "\u001b[0;31mException\u001b[0m                                 Traceback (most recent call last)",
      "Cell \u001b[0;32mIn[22], line 1\u001b[0m\n\u001b[0;32m----> 1\u001b[0m \u001b[43mpolynome_second_degre\u001b[49m\u001b[43m(\u001b[49m\u001b[38;5;241;43m1\u001b[39;49m\u001b[43m,\u001b[49m\u001b[43m \u001b[49m\u001b[38;5;241;43m0\u001b[39;49m\u001b[43m,\u001b[49m\u001b[43m \u001b[49m\u001b[38;5;241;43m1\u001b[39;49m\u001b[43m)\u001b[49m\n",
      "Cell \u001b[0;32mIn[21], line 8\u001b[0m, in \u001b[0;36mpolynome_second_degre\u001b[0;34m(a, b, c)\u001b[0m\n\u001b[1;32m      6\u001b[0m     \u001b[38;5;28;01mreturn\u001b[39;00m (\u001b[38;5;241m-\u001b[39mb \u001b[38;5;241m+\u001b[39m math\u001b[38;5;241m.\u001b[39msqrt(Delta))\u001b[38;5;241m/\u001b[39m(\u001b[38;5;241m2\u001b[39m\u001b[38;5;241m*\u001b[39ma)\n\u001b[1;32m      7\u001b[0m \u001b[38;5;28;01mexcept\u001b[39;00m \u001b[38;5;167;01mValueError\u001b[39;00m:\n\u001b[0;32m----> 8\u001b[0m     \u001b[38;5;28;01mraise\u001b[39;00m \u001b[38;5;167;01mException\u001b[39;00m(\u001b[38;5;124m\"\u001b[39m\u001b[38;5;124mCe polynôme n\u001b[39m\u001b[38;5;124m'\u001b[39m\u001b[38;5;124ma pas de racine réelles\u001b[39m\u001b[38;5;124m\"\u001b[39m)\n",
      "\u001b[0;31mException\u001b[0m: Ce polynôme n'a pas de racine réelles"
     ]
    }
   ],
   "source": [
    "polynome_second_degre(1, 0, 1)"
   ]
  },
  {
   "cell_type": "code",
   "execution_count": null,
   "id": "51320ed3",
   "metadata": {},
   "outputs": [],
   "source": [
    "def une_autre_fonction():\n",
    "    return polynome_second_degre(1, 0, 1)\n",
    "\n",
    "une_autre_fonction()"
   ]
  },
  {
   "cell_type": "code",
   "execution_count": null,
   "id": "b024fdc9",
   "metadata": {},
   "outputs": [],
   "source": []
  }
 ],
 "metadata": {
  "kernelspec": {
   "display_name": "Odeon 3.10",
   "language": "python",
   "name": "odeon310"
  },
  "language_info": {
   "codemirror_mode": {
    "name": "ipython",
    "version": 3
   },
   "file_extension": ".py",
   "mimetype": "text/x-python",
   "name": "python",
   "nbconvert_exporter": "python",
   "pygments_lexer": "ipython3",
   "version": "3.10.12"
  },
  "varInspector": {
   "cols": {
    "lenName": 16,
    "lenType": 16,
    "lenVar": 40
   },
   "kernels_config": {
    "python": {
     "delete_cmd_postfix": "",
     "delete_cmd_prefix": "del ",
     "library": "var_list.py",
     "varRefreshCmd": "print(var_dic_list())"
    },
    "r": {
     "delete_cmd_postfix": ") ",
     "delete_cmd_prefix": "rm(",
     "library": "var_list.r",
     "varRefreshCmd": "cat(var_dic_list()) "
    }
   },
   "types_to_exclude": [
    "module",
    "function",
    "builtin_function_or_method",
    "instance",
    "_Feature"
   ],
   "window_display": false
  }
 },
 "nbformat": 4,
 "nbformat_minor": 5
}
