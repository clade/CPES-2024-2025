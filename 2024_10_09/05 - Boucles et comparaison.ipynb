{
 "cells": [
  {
   "cell_type": "markdown",
   "id": "369f766c",
   "metadata": {},
   "source": [
    "# Boucles for\n",
    "* principe\n",
    "* indentation\n",
    "* Fonction range()\n",
    "* Nommage de la variable d'itération\n",
    "* fonction enumerate()"
   ]
  },
  {
   "cell_type": "code",
   "execution_count": 10,
   "id": "da98c223",
   "metadata": {},
   "outputs": [
    {
     "name": "stdout",
     "output_type": "stream",
     "text": [
      "girafe\n",
      "girafe\n",
      "tigre\n",
      "tigre\n",
      "singe\n",
      "singe\n",
      "souris\n",
      "souris\n"
     ]
    }
   ],
   "source": [
    "animaux = [\"girafe\", \"tigre\", \"singe\", \"souris\"]\n",
    "\n",
    "for animal in animaux:\n",
    "    print(animal)\n",
    "    print(animal)\n",
    "    \n"
   ]
  },
  {
   "cell_type": "code",
   "execution_count": 9,
   "id": "a5afc799",
   "metadata": {},
   "outputs": [
    {
     "name": "stdout",
     "output_type": "stream",
     "text": [
      "0\n",
      "1\n",
      "2\n",
      "3\n",
      "4\n",
      "5\n",
      "6\n",
      "7\n",
      "8\n",
      "9\n"
     ]
    }
   ],
   "source": [
    "for i in range(10):\n",
    "    print(i)"
   ]
  },
  {
   "cell_type": "code",
   "execution_count": 25,
   "id": "3b0f3568",
   "metadata": {},
   "outputs": [
    {
     "name": "stdout",
     "output_type": "stream",
     "text": [
      "l'animal numero 0 est un(e)     girafe.\n",
      "l'animal numero 1 est un(e)      tigre.\n",
      "l'animal numero 2 est un(e)      singe.\n",
      "l'animal numero 3 est un(e)     souris.\n"
     ]
    }
   ],
   "source": [
    "for i, animal in enumerate(animaux):\n",
    "    print(f\"l'animal numero {i} est un(e) {animal:>10s}.\")"
   ]
  },
  {
   "cell_type": "code",
   "execution_count": 18,
   "id": "d3979b73",
   "metadata": {},
   "outputs": [
    {
     "data": {
      "text/plain": [
       "[(0, 'girafe'), (1, 'tigre'), (2, 'singe'), (3, 'souris')]"
      ]
     },
     "execution_count": 18,
     "metadata": {},
     "output_type": "execute_result"
    }
   ],
   "source": [
    "list(enumerate(animaux))"
   ]
  },
  {
   "cell_type": "markdown",
   "id": "37d926a4",
   "metadata": {},
   "source": [
    "L'animal numero 0 est un(e) girafe\n",
    "L'animal numero 1 est un(e) tigre\n"
   ]
  },
  {
   "cell_type": "markdown",
   "id": "6d40a241",
   "metadata": {},
   "source": [
    "# Aparté sur les comparaisons\n",
    "* Opérateur\n",
    "* Nombre / str\n"
   ]
  },
  {
   "cell_type": "code",
   "execution_count": null,
   "id": "f3e03bcd",
   "metadata": {},
   "outputs": [],
   "source": []
  },
  {
   "cell_type": "markdown",
   "id": "642f5d6c",
   "metadata": {},
   "source": [
    "# Boucles while\n",
    "\n",
    "3 étapes : \n",
    "* Initialisation\n",
    "* Test\n",
    "* Mise à jour"
   ]
  },
  {
   "cell_type": "code",
   "execution_count": 28,
   "id": "ab1eedf0",
   "metadata": {},
   "outputs": [
    {
     "name": "stdout",
     "output_type": "stream",
     "text": [
      "0\n",
      "1\n",
      "2\n",
      "3\n",
      "4\n",
      "5\n",
      "6\n",
      "7\n",
      "8\n",
      "9\n"
     ]
    }
   ],
   "source": [
    "i = 0\n",
    "while i<10:\n",
    "    print(i)\n",
    "    i += 1"
   ]
  },
  {
   "cell_type": "markdown",
   "id": "34853039",
   "metadata": {},
   "source": [
    "# Exercices\n",
    "\n",
    "##  Boucles de base\n",
    "\n",
    "Soit la liste [\"vache\", \"souris\", \"levure\", \"bacterie\"]. Affichez l'ensemble des éléments de cette liste (un élément par ligne) de trois façons différentes (deux méthodes avec for et une avec while).\n",
    "\n",
    "## Boucles et jours de la semaine\n",
    "\n",
    "Constituez une liste semaine contenant les 7 jours de la semaine.\n",
    "\n",
    "Écrivez une série d'instructions affichant les jours de la semaine (en utilisant une boucle for), ainsi qu'une autre série d'instructions affichant les jours du week-end (en utilisant une boucle while).\n",
    "\n",
    "## Triangle\n",
    "\n",
    "Créez un script qui dessine un triangle comme celui-ci :\n",
    "\n",
    "<code>\n",
    "**********\n",
    "*********\n",
    "********\n",
    "*******\n",
    "******\n",
    "*****\n",
    "****\n",
    "***\n",
    "**\n",
    "*\n",
    "</code>"
   ]
  },
  {
   "cell_type": "code",
   "execution_count": 34,
   "id": "2a9d4d79",
   "metadata": {},
   "outputs": [
    {
     "name": "stdout",
     "output_type": "stream",
     "text": [
      "**********\n",
      "*********\n",
      "********\n",
      "*******\n",
      "******\n",
      "*****\n",
      "****\n",
      "***\n",
      "**\n",
      "*\n"
     ]
    }
   ],
   "source": [
    "for i in range(1, 11)[::-1]:\n",
    "    print(i*'*')"
   ]
  },
  {
   "cell_type": "code",
   "execution_count": 37,
   "id": "4a15e8cf",
   "metadata": {},
   "outputs": [
    {
     "name": "stdout",
     "output_type": "stream",
     "text": [
      "**********\n",
      "*********\n",
      "********\n",
      "*******\n",
      "******\n",
      "*****\n",
      "****\n",
      "***\n",
      "**\n",
      "*\n"
     ]
    }
   ],
   "source": [
    "for i in range(10, 0, -1):\n",
    "    print(i*'*')"
   ]
  },
  {
   "cell_type": "code",
   "execution_count": 39,
   "id": "f0500e40",
   "metadata": {},
   "outputs": [
    {
     "name": "stdout",
     "output_type": "stream",
     "text": [
      "**********\n",
      "*********\n",
      "********\n",
      "*******\n",
      "******\n",
      "*****\n",
      "****\n",
      "***\n",
      "**\n",
      "*\n"
     ]
    }
   ],
   "source": [
    "i = 10\n",
    "while i>=1:\n",
    "    print(i*'*')\n",
    "    i -= 1"
   ]
  },
  {
   "cell_type": "code",
   "execution_count": null,
   "id": "69310c12",
   "metadata": {},
   "outputs": [],
   "source": []
  }
 ],
 "metadata": {
  "kernelspec": {
   "display_name": "Odeon 3.10",
   "language": "python",
   "name": "odeon310"
  },
  "language_info": {
   "codemirror_mode": {
    "name": "ipython",
    "version": 3
   },
   "file_extension": ".py",
   "mimetype": "text/x-python",
   "name": "python",
   "nbconvert_exporter": "python",
   "pygments_lexer": "ipython3",
   "version": "3.10.12"
  },
  "varInspector": {
   "cols": {
    "lenName": 16,
    "lenType": 16,
    "lenVar": 40
   },
   "kernels_config": {
    "python": {
     "delete_cmd_postfix": "",
     "delete_cmd_prefix": "del ",
     "library": "var_list.py",
     "varRefreshCmd": "print(var_dic_list())"
    },
    "r": {
     "delete_cmd_postfix": ") ",
     "delete_cmd_prefix": "rm(",
     "library": "var_list.r",
     "varRefreshCmd": "cat(var_dic_list()) "
    }
   },
   "types_to_exclude": [
    "module",
    "function",
    "builtin_function_or_method",
    "instance",
    "_Feature"
   ],
   "window_display": false
  }
 },
 "nbformat": 4,
 "nbformat_minor": 5
}
