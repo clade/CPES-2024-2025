{
 "cells": [
  {
   "cell_type": "markdown",
   "id": "fd198846",
   "metadata": {},
   "source": [
    "# Définition"
   ]
  },
  {
   "cell_type": "code",
   "execution_count": 2,
   "id": "1cd36055",
   "metadata": {},
   "outputs": [],
   "source": [
    "animaux = [\"girafe\", \"tigre\", \"singe\", \"souris\"]"
   ]
  },
  {
   "cell_type": "code",
   "execution_count": 4,
   "id": "f2506814",
   "metadata": {},
   "outputs": [],
   "source": [
    "liste = [\"girafe\", 34, \"singe\"]"
   ]
  },
  {
   "cell_type": "code",
   "execution_count": null,
   "id": "c5fcbb93",
   "metadata": {},
   "outputs": [],
   "source": []
  },
  {
   "cell_type": "code",
   "execution_count": null,
   "id": "31217528",
   "metadata": {},
   "outputs": [],
   "source": []
  },
  {
   "cell_type": "markdown",
   "id": "bfec9269",
   "metadata": {},
   "source": [
    "# Utilisation\n",
    "Indiçage simple"
   ]
  },
  {
   "cell_type": "code",
   "execution_count": 5,
   "id": "adb53ad6",
   "metadata": {},
   "outputs": [
    {
     "data": {
      "text/plain": [
       "'tigre'"
      ]
     },
     "execution_count": 5,
     "metadata": {},
     "output_type": "execute_result"
    }
   ],
   "source": [
    "animaux[1]"
   ]
  },
  {
   "cell_type": "code",
   "execution_count": 6,
   "id": "43f9d4b7",
   "metadata": {},
   "outputs": [
    {
     "ename": "IndexError",
     "evalue": "list index out of range",
     "output_type": "error",
     "traceback": [
      "\u001b[0;31m---------------------------------------------------------------------------\u001b[0m",
      "\u001b[0;31mIndexError\u001b[0m                                Traceback (most recent call last)",
      "Cell \u001b[0;32mIn[6], line 1\u001b[0m\n\u001b[0;32m----> 1\u001b[0m \u001b[43manimaux\u001b[49m\u001b[43m[\u001b[49m\u001b[38;5;241;43m4\u001b[39;49m\u001b[43m]\u001b[49m\n",
      "\u001b[0;31mIndexError\u001b[0m: list index out of range"
     ]
    }
   ],
   "source": [
    "animaux[4]"
   ]
  },
  {
   "cell_type": "code",
   "execution_count": null,
   "id": "ae261c70",
   "metadata": {},
   "outputs": [],
   "source": []
  },
  {
   "cell_type": "markdown",
   "id": "b6208c24",
   "metadata": {},
   "source": [
    "# Opération sur les listes"
   ]
  },
  {
   "cell_type": "code",
   "execution_count": 8,
   "id": "c1b85229",
   "metadata": {},
   "outputs": [
    {
     "data": {
      "text/plain": [
       "['girafe', 'tigre', 'singe', 'souris']"
      ]
     },
     "execution_count": 8,
     "metadata": {},
     "output_type": "execute_result"
    }
   ],
   "source": [
    "ani1 = [\"girafe\", \"tigre\"]\n",
    "ani2 = [\"singe\", \"souris\"]\n",
    "\n",
    "ani1 + ani2"
   ]
  },
  {
   "cell_type": "code",
   "execution_count": 9,
   "id": "d8ede0c5",
   "metadata": {},
   "outputs": [
    {
     "data": {
      "text/plain": [
       "['girafe', 'tigre', 'girafe', 'tigre', 'girafe', 'tigre']"
      ]
     },
     "execution_count": 9,
     "metadata": {},
     "output_type": "execute_result"
    }
   ],
   "source": [
    "ani1 * 3"
   ]
  },
  {
   "cell_type": "code",
   "execution_count": 10,
   "id": "87d19cc2",
   "metadata": {},
   "outputs": [
    {
     "data": {
      "text/plain": [
       "['girafe', 'tigre', 'chien']"
      ]
     },
     "execution_count": 10,
     "metadata": {},
     "output_type": "execute_result"
    }
   ],
   "source": [
    "ani1.append('chien')\n",
    "ani1"
   ]
  },
  {
   "cell_type": "code",
   "execution_count": 11,
   "id": "d976acd6",
   "metadata": {},
   "outputs": [
    {
     "name": "stdout",
     "output_type": "stream",
     "text": [
      "None\n"
     ]
    }
   ],
   "source": [
    "print(ani2.append('chien'))"
   ]
  },
  {
   "cell_type": "markdown",
   "id": "f9ec0410",
   "metadata": {},
   "source": [
    "# Indiçage négatif"
   ]
  },
  {
   "cell_type": "code",
   "execution_count": 18,
   "id": "a93c5e5d",
   "metadata": {},
   "outputs": [
    {
     "data": {
      "text/plain": [
       "'tigre'"
      ]
     },
     "execution_count": 18,
     "metadata": {},
     "output_type": "execute_result"
    }
   ],
   "source": [
    "animaux = [\"girafe\", \"tigre\", \"singe\", \"souris\"]\n",
    "\n",
    "animaux[-3]"
   ]
  },
  {
   "cell_type": "markdown",
   "id": "dad81aa6",
   "metadata": {},
   "source": [
    "# Tranches"
   ]
  },
  {
   "cell_type": "code",
   "execution_count": 19,
   "id": "0776791e",
   "metadata": {},
   "outputs": [
    {
     "data": {
      "text/plain": [
       "['girafe', 'tigre']"
      ]
     },
     "execution_count": 19,
     "metadata": {},
     "output_type": "execute_result"
    }
   ],
   "source": [
    "animaux = [\"girafe\", \"tigre\", \"singe\", \"souris\"]\n",
    "\n",
    "animaux[0:2]"
   ]
  },
  {
   "cell_type": "code",
   "execution_count": 21,
   "id": "474cd210",
   "metadata": {},
   "outputs": [
    {
     "data": {
      "text/plain": [
       "['girafe', 'tigre', 'singe']"
      ]
     },
     "execution_count": 21,
     "metadata": {},
     "output_type": "execute_result"
    }
   ],
   "source": [
    "animaux[:-1]"
   ]
  },
  {
   "cell_type": "code",
   "execution_count": 28,
   "id": "d971989e",
   "metadata": {},
   "outputs": [
    {
     "data": {
      "text/plain": [
       "['singe', 'souris']"
      ]
     },
     "execution_count": 28,
     "metadata": {},
     "output_type": "execute_result"
    }
   ],
   "source": [
    "animaux[-2:]"
   ]
  },
  {
   "cell_type": "code",
   "execution_count": 29,
   "id": "2fc86200",
   "metadata": {},
   "outputs": [
    {
     "data": {
      "text/plain": [
       "['tigre', 'singe', 'souris']"
      ]
     },
     "execution_count": 29,
     "metadata": {},
     "output_type": "execute_result"
    }
   ],
   "source": [
    "animaux[1:]"
   ]
  },
  {
   "cell_type": "code",
   "execution_count": 30,
   "id": "762b13ba",
   "metadata": {},
   "outputs": [
    {
     "data": {
      "text/plain": [
       "['girafe', 'singe']"
      ]
     },
     "execution_count": 30,
     "metadata": {},
     "output_type": "execute_result"
    }
   ],
   "source": [
    "animaux[0:3:2]"
   ]
  },
  {
   "cell_type": "code",
   "execution_count": 36,
   "id": "e104ac39",
   "metadata": {},
   "outputs": [
    {
     "data": {
      "text/plain": [
       "['souris', 'singe', 'tigre', 'girafe']"
      ]
     },
     "execution_count": 36,
     "metadata": {},
     "output_type": "execute_result"
    }
   ],
   "source": [
    "animaux[::-1]"
   ]
  },
  {
   "cell_type": "code",
   "execution_count": null,
   "id": "5a6f237a",
   "metadata": {},
   "outputs": [],
   "source": [
    "# [start:stop:step]"
   ]
  },
  {
   "cell_type": "markdown",
   "id": "cf861349",
   "metadata": {},
   "source": [
    "# Fonction len()"
   ]
  },
  {
   "cell_type": "code",
   "execution_count": 37,
   "id": "627818ac",
   "metadata": {},
   "outputs": [
    {
     "data": {
      "text/plain": [
       "4"
      ]
     },
     "execution_count": 37,
     "metadata": {},
     "output_type": "execute_result"
    }
   ],
   "source": [
    "len(animaux)"
   ]
  },
  {
   "cell_type": "markdown",
   "id": "deb088e3",
   "metadata": {},
   "source": [
    "# Les fonctions range() et list()"
   ]
  },
  {
   "cell_type": "code",
   "execution_count": 39,
   "id": "ef54a68c",
   "metadata": {},
   "outputs": [
    {
     "data": {
      "text/plain": [
       "[0, 1, 2, 3]"
      ]
     },
     "execution_count": 39,
     "metadata": {},
     "output_type": "execute_result"
    }
   ],
   "source": [
    "list(range(4))"
   ]
  },
  {
   "cell_type": "code",
   "execution_count": 41,
   "id": "24c2f878",
   "metadata": {},
   "outputs": [
    {
     "data": {
      "text/plain": [
       "['B', 'o', 'n', ' ', ' ', ' ', ' ', ' ', ' ', ' ', 'j', 'o', 'u', 'r']"
      ]
     },
     "execution_count": 41,
     "metadata": {},
     "output_type": "execute_result"
    }
   ],
   "source": [
    "list('Bon       jour')"
   ]
  },
  {
   "cell_type": "code",
   "execution_count": null,
   "id": "069215f8",
   "metadata": {},
   "outputs": [],
   "source": []
  },
  {
   "cell_type": "code",
   "execution_count": null,
   "id": "bc14681a",
   "metadata": {},
   "outputs": [],
   "source": []
  },
  {
   "cell_type": "markdown",
   "id": "9a2010cf",
   "metadata": {},
   "source": [
    "# Listes de listes"
   ]
  },
  {
   "cell_type": "code",
   "execution_count": 43,
   "id": "81bff074",
   "metadata": {},
   "outputs": [
    {
     "data": {
      "text/plain": [
       "[['girafe', 4], ['tigre', 2], ['singe', 6]]"
      ]
     },
     "execution_count": 43,
     "metadata": {},
     "output_type": "execute_result"
    }
   ],
   "source": [
    "prairie1 = [\"girafe\", 4]\n",
    "prairie2 = [\"tigre\", 2]\n",
    "prairie3 = [\"singe\", 6]\n",
    "\n",
    "savane = [prairie1, prairie2, prairie3]\n",
    "savane"
   ]
  },
  {
   "cell_type": "code",
   "execution_count": 45,
   "id": "4f86493b",
   "metadata": {},
   "outputs": [
    {
     "data": {
      "text/plain": [
       "'tigre'"
      ]
     },
     "execution_count": 45,
     "metadata": {},
     "output_type": "execute_result"
    }
   ],
   "source": [
    "savane[1][0]"
   ]
  },
  {
   "cell_type": "code",
   "execution_count": 46,
   "id": "cc6bde2e",
   "metadata": {},
   "outputs": [
    {
     "data": {
      "text/plain": [
       "4"
      ]
     },
     "execution_count": 46,
     "metadata": {},
     "output_type": "execute_result"
    }
   ],
   "source": [
    "savane[0][1]"
   ]
  },
  {
   "cell_type": "code",
   "execution_count": null,
   "id": "7ed504e6",
   "metadata": {},
   "outputs": [],
   "source": []
  },
  {
   "cell_type": "code",
   "execution_count": 51,
   "id": "2c9f1cbc",
   "metadata": {},
   "outputs": [
    {
     "data": {
      "text/plain": [
       "'tigretigre'"
      ]
     },
     "execution_count": 51,
     "metadata": {},
     "output_type": "execute_result"
    }
   ],
   "source": [
    "animaux = [\"girafe\", \"tigre\", \"singe\", \"souris\"]\n",
    "\n",
    "animaux[1] * 2"
   ]
  },
  {
   "cell_type": "code",
   "execution_count": 54,
   "id": "ffbb816f",
   "metadata": {},
   "outputs": [
    {
     "data": {
      "text/plain": [
       "['tigre', 'tigre']"
      ]
     },
     "execution_count": 54,
     "metadata": {},
     "output_type": "execute_result"
    }
   ],
   "source": [
    "animaux[1:2]*2"
   ]
  },
  {
   "cell_type": "code",
   "execution_count": 55,
   "id": "8e7ba85a",
   "metadata": {},
   "outputs": [
    {
     "data": {
      "text/plain": [
       "'r'"
      ]
     },
     "execution_count": 55,
     "metadata": {},
     "output_type": "execute_result"
    }
   ],
   "source": [
    "s = animaux[1]\n",
    "s[3]"
   ]
  },
  {
   "cell_type": "code",
   "execution_count": 57,
   "id": "f8673fd4",
   "metadata": {},
   "outputs": [
    {
     "data": {
      "text/plain": [
       "'TIGRE'"
      ]
     },
     "execution_count": 57,
     "metadata": {},
     "output_type": "execute_result"
    }
   ],
   "source": [
    "animaux[1].upper()"
   ]
  },
  {
   "cell_type": "markdown",
   "id": "568a52ae",
   "metadata": {},
   "source": [
    "# Minimum, maximum et somme d'une liste"
   ]
  },
  {
   "cell_type": "code",
   "execution_count": 60,
   "id": "1f09e806",
   "metadata": {},
   "outputs": [
    {
     "data": {
      "text/plain": [
       "45"
      ]
     },
     "execution_count": 60,
     "metadata": {},
     "output_type": "execute_result"
    }
   ],
   "source": [
    "liste1 = list(range(10))\n",
    "min(liste1)\n",
    "max(liste1)\n",
    "sum(liste1)"
   ]
  },
  {
   "cell_type": "code",
   "execution_count": 62,
   "id": "57bdad1b",
   "metadata": {},
   "outputs": [
    {
     "data": {
      "text/plain": [
       "[1, 2, 5, 6]"
      ]
     },
     "execution_count": 62,
     "metadata": {},
     "output_type": "execute_result"
    }
   ],
   "source": [
    "liste2 = [2, 5, 6, 1]\n",
    "sorted(liste2)"
   ]
  },
  {
   "cell_type": "code",
   "execution_count": 63,
   "id": "b7e2c367",
   "metadata": {},
   "outputs": [
    {
     "data": {
      "text/plain": [
       "4.5"
      ]
     },
     "execution_count": 63,
     "metadata": {},
     "output_type": "execute_result"
    }
   ],
   "source": [
    "sum(liste1)/len(liste1)"
   ]
  },
  {
   "cell_type": "code",
   "execution_count": 67,
   "id": "756cbd59",
   "metadata": {},
   "outputs": [
    {
     "data": {
      "text/plain": [
       "'girafe'"
      ]
     },
     "execution_count": 67,
     "metadata": {},
     "output_type": "execute_result"
    }
   ],
   "source": [
    "min(animaux)"
   ]
  },
  {
   "cell_type": "code",
   "execution_count": 68,
   "id": "5f5be07f",
   "metadata": {},
   "outputs": [
    {
     "data": {
      "text/plain": [
       "['girafe', 'singe', 'souris', 'tigre']"
      ]
     },
     "execution_count": 68,
     "metadata": {},
     "output_type": "execute_result"
    }
   ],
   "source": [
    "sorted(animaux)"
   ]
  },
  {
   "cell_type": "code",
   "execution_count": 69,
   "id": "9333aec1",
   "metadata": {},
   "outputs": [
    {
     "ename": "TypeError",
     "evalue": "'<' not supported between instances of 'int' and 'str'",
     "output_type": "error",
     "traceback": [
      "\u001b[0;31m---------------------------------------------------------------------------\u001b[0m",
      "\u001b[0;31mTypeError\u001b[0m                                 Traceback (most recent call last)",
      "Cell \u001b[0;32mIn[69], line 1\u001b[0m\n\u001b[0;32m----> 1\u001b[0m \u001b[38;5;28;43mmin\u001b[39;49m\u001b[43m(\u001b[49m\u001b[43m[\u001b[49m\u001b[38;5;124;43m'\u001b[39;49m\u001b[38;5;124;43mbonjour\u001b[39;49m\u001b[38;5;124;43m'\u001b[39;49m\u001b[43m,\u001b[49m\u001b[43m \u001b[49m\u001b[38;5;241;43m2\u001b[39;49m\u001b[43m,\u001b[49m\u001b[43m \u001b[49m\u001b[38;5;241;43m5.6\u001b[39;49m\u001b[43m,\u001b[49m\u001b[43m \u001b[49m\u001b[38;5;241;43m1\u001b[39;49m\u001b[38;5;241;43m+\u001b[39;49m\u001b[38;5;241;43m2\u001b[39;49m\u001b[43mj\u001b[49m\u001b[43m]\u001b[49m\u001b[43m)\u001b[49m\n",
      "\u001b[0;31mTypeError\u001b[0m: '<' not supported between instances of 'int' and 'str'"
     ]
    }
   ],
   "source": [
    "min(['bonjour', 2, 5.6, 1+2j])"
   ]
  },
  {
   "cell_type": "code",
   "execution_count": 70,
   "id": "451c4809",
   "metadata": {},
   "outputs": [
    {
     "ename": "TypeError",
     "evalue": "'<' not supported between instances of 'int' and 'str'",
     "output_type": "error",
     "traceback": [
      "\u001b[0;31m---------------------------------------------------------------------------\u001b[0m",
      "\u001b[0;31mTypeError\u001b[0m                                 Traceback (most recent call last)",
      "Cell \u001b[0;32mIn[70], line 1\u001b[0m\n\u001b[0;32m----> 1\u001b[0m \u001b[38;5;28;43mmin\u001b[39;49m\u001b[43m(\u001b[49m\u001b[43m[\u001b[49m\u001b[38;5;124;43m'\u001b[39;49m\u001b[38;5;124;43m1\u001b[39;49m\u001b[38;5;124;43m'\u001b[39;49m\u001b[43m,\u001b[49m\u001b[43m \u001b[49m\u001b[38;5;241;43m3\u001b[39;49m\u001b[43m]\u001b[49m\u001b[43m)\u001b[49m\n",
      "\u001b[0;31mTypeError\u001b[0m: '<' not supported between instances of 'int' and 'str'"
     ]
    }
   ],
   "source": [
    "min(['1', 3])"
   ]
  },
  {
   "cell_type": "markdown",
   "id": "a7f84923",
   "metadata": {},
   "source": [
    "# Problème avec les \"copies\" de listes"
   ]
  },
  {
   "cell_type": "code",
   "execution_count": 71,
   "id": "032aaf03",
   "metadata": {},
   "outputs": [
    {
     "data": {
      "text/plain": [
       "[0, 1, 89, 3, 4, 5, 6, 7, 8, 9]"
      ]
     },
     "execution_count": 71,
     "metadata": {},
     "output_type": "execute_result"
    }
   ],
   "source": [
    "liste1 = list(range(10))\n",
    "liste2 = liste1\n",
    "\n",
    "liste1[2] = 89\n",
    "liste2"
   ]
  },
  {
   "cell_type": "code",
   "execution_count": 72,
   "id": "1b589e99",
   "metadata": {},
   "outputs": [
    {
     "data": {
      "text/plain": [
       "[0, 1, 2, 3, 4, 5, 6, 7, 8, 9]"
      ]
     },
     "execution_count": 72,
     "metadata": {},
     "output_type": "execute_result"
    }
   ],
   "source": [
    "liste1 = list(range(10))\n",
    "\n",
    "liste2 = []\n",
    "for item in liste1:\n",
    "    liste2.append(item)\n",
    "    \n",
    "\n",
    "liste1[2] = 89\n",
    "liste2"
   ]
  },
  {
   "cell_type": "code",
   "execution_count": 75,
   "id": "054f7f2b",
   "metadata": {},
   "outputs": [
    {
     "data": {
      "text/plain": [
       "[0, 1, 2, 3, 4, 5, 6, 7, 8, 9]"
      ]
     },
     "execution_count": 75,
     "metadata": {},
     "output_type": "execute_result"
    }
   ],
   "source": [
    "liste1 = list(range(10))\n",
    "\n",
    "liste2 = liste1 *1\n",
    "\n",
    "liste1[2] = 89\n",
    "liste2"
   ]
  },
  {
   "cell_type": "code",
   "execution_count": 77,
   "id": "2d1ce57d",
   "metadata": {},
   "outputs": [
    {
     "data": {
      "text/plain": [
       "[0, 1, 2, 3, 4, 5, 6, 7, 8, 9]"
      ]
     },
     "execution_count": 77,
     "metadata": {},
     "output_type": "execute_result"
    }
   ],
   "source": [
    "liste1 = list(range(10))\n",
    "\n",
    "liste2 = list(liste1)\n",
    "liste1[2] = 89\n",
    "liste2"
   ]
  },
  {
   "cell_type": "code",
   "execution_count": 79,
   "id": "6ee9da68",
   "metadata": {},
   "outputs": [
    {
     "data": {
      "text/plain": [
       "[0, 1, 2, 3, 4, 5, 6, 7, 8, 9]"
      ]
     },
     "execution_count": 79,
     "metadata": {},
     "output_type": "execute_result"
    }
   ],
   "source": [
    "liste1 = list(range(10))\n",
    "\n",
    "liste2 = liste1[:]\n",
    "liste1[2] = 89\n",
    "liste2"
   ]
  },
  {
   "cell_type": "code",
   "execution_count": 87,
   "id": "c2f735d1",
   "metadata": {},
   "outputs": [
    {
     "data": {
      "text/plain": [
       "45"
      ]
     },
     "execution_count": 87,
     "metadata": {},
     "output_type": "execute_result"
    }
   ],
   "source": [
    "prairie1 = [\"girafe\", 4]\n",
    "prairie2 = [\"tigre\", 2]\n",
    "prairie3 = [\"singe\", 6]\n",
    "\n",
    "savane1 = [prairie1, prairie2, prairie3]\n",
    "\n",
    "savane2 = list(savane1)\n",
    "\n",
    "savane1[1][1] = 45\n",
    "savane2[1][1]"
   ]
  },
  {
   "cell_type": "code",
   "execution_count": 91,
   "id": "8624bdf0",
   "metadata": {},
   "outputs": [
    {
     "ename": "TypeError",
     "evalue": "'int' object is not iterable",
     "output_type": "error",
     "traceback": [
      "\u001b[0;31m---------------------------------------------------------------------------\u001b[0m",
      "\u001b[0;31mTypeError\u001b[0m                                 Traceback (most recent call last)",
      "Cell \u001b[0;32mIn[91], line 2\u001b[0m\n\u001b[1;32m      1\u001b[0m a \u001b[38;5;241m=\u001b[39m \u001b[38;5;241m1\u001b[39m\n\u001b[0;32m----> 2\u001b[0m \u001b[38;5;28;43mlist\u001b[39;49m\u001b[43m(\u001b[49m\u001b[43ma\u001b[49m\u001b[43m)\u001b[49m\n",
      "\u001b[0;31mTypeError\u001b[0m: 'int' object is not iterable"
     ]
    }
   ],
   "source": [
    "a = 1\n",
    "list(a)"
   ]
  },
  {
   "cell_type": "code",
   "execution_count": 96,
   "id": "47981f0f",
   "metadata": {},
   "outputs": [
    {
     "name": "stdout",
     "output_type": "stream",
     "text": [
      "['B', 'c', 'n', 'j', 'o', 'u', 'r']\n"
     ]
    }
   ],
   "source": [
    "str1 = 'Bonjour'\n",
    "\n",
    "str2 = str1\n",
    "\n",
    "liste1 = list(str1)\n",
    "liste2 = liste1 \n",
    "\n",
    "liste1[1] = 'c'\n",
    "print(liste2)"
   ]
  },
  {
   "cell_type": "code",
   "execution_count": null,
   "id": "2c252ab7",
   "metadata": {},
   "outputs": [],
   "source": []
  },
  {
   "cell_type": "code",
   "execution_count": 88,
   "id": "31c67b22",
   "metadata": {},
   "outputs": [
    {
     "data": {
      "text/plain": [
       "['tigre', 45]"
      ]
     },
     "execution_count": 88,
     "metadata": {},
     "output_type": "execute_result"
    }
   ],
   "source": [
    "prairie2"
   ]
  },
  {
   "cell_type": "code",
   "execution_count": null,
   "id": "1c8cd404",
   "metadata": {},
   "outputs": [],
   "source": []
  },
  {
   "cell_type": "markdown",
   "id": "9e8df9c6",
   "metadata": {},
   "source": [
    "# Note sur le vocabulaire et la syntaxe\n",
    "* méthode"
   ]
  },
  {
   "cell_type": "code",
   "execution_count": 90,
   "id": "91aae5f7",
   "metadata": {},
   "outputs": [
    {
     "data": {
      "text/plain": [
       "['tigre', 45, 4]"
      ]
     },
     "execution_count": 90,
     "metadata": {},
     "output_type": "execute_result"
    }
   ],
   "source": [
    "prairie2.append(4)\n",
    "prairie2"
   ]
  },
  {
   "cell_type": "markdown",
   "id": "786af2f2",
   "metadata": {},
   "source": [
    "# Exercices\n",
    "\n",
    "## Prédire la sortie\n",
    "Soit les trois lignes de code suivantes :\n",
    "\n",
    "```\n",
    "liste1 = list(range(10, 15))\n",
    "var = 0\n",
    "var2 = 10\n",
    "```\n",
    "\n",
    "Prédisez le comportement de chaque instruction ci-dessous, sans les recopier dans un script ni dans l'interpréteur Python :\n",
    "\n",
    "*    ```print(liste1[2])```\n",
    "*    ```print(liste1[var])```\n",
    "*    ```print(liste1[var2])```\n",
    "*    ```print(liste1[\"var\"])```\n",
    "\n",
    "Lorsqu'une instruction produit une erreur, identifiez pourquoi.\n",
    "\n",
    "## Table des multiples de 9\n",
    "\n",
    "Affichez la table des multiples de 9 en une seule commande "
   ]
  },
  {
   "cell_type": "code",
   "execution_count": 97,
   "id": "7a6e42e3",
   "metadata": {},
   "outputs": [],
   "source": [
    "liste1 = list(range(10, 15))\n",
    "var = 0\n",
    "var2 = 10"
   ]
  },
  {
   "cell_type": "code",
   "execution_count": 98,
   "id": "953a0503",
   "metadata": {},
   "outputs": [
    {
     "name": "stdout",
     "output_type": "stream",
     "text": [
      "12\n"
     ]
    }
   ],
   "source": [
    "print(liste1[2])"
   ]
  },
  {
   "cell_type": "code",
   "execution_count": 99,
   "id": "d733f856",
   "metadata": {},
   "outputs": [
    {
     "name": "stdout",
     "output_type": "stream",
     "text": [
      "10\n"
     ]
    }
   ],
   "source": [
    "print(liste1[var])"
   ]
  },
  {
   "cell_type": "code",
   "execution_count": 100,
   "id": "96892a23",
   "metadata": {},
   "outputs": [
    {
     "ename": "IndexError",
     "evalue": "list index out of range",
     "output_type": "error",
     "traceback": [
      "\u001b[0;31m---------------------------------------------------------------------------\u001b[0m",
      "\u001b[0;31mIndexError\u001b[0m                                Traceback (most recent call last)",
      "Cell \u001b[0;32mIn[100], line 1\u001b[0m\n\u001b[0;32m----> 1\u001b[0m \u001b[38;5;28mprint\u001b[39m(\u001b[43mliste1\u001b[49m\u001b[43m[\u001b[49m\u001b[43mvar2\u001b[49m\u001b[43m]\u001b[49m)\n",
      "\u001b[0;31mIndexError\u001b[0m: list index out of range"
     ]
    }
   ],
   "source": [
    "print(liste1[var2])"
   ]
  },
  {
   "cell_type": "code",
   "execution_count": 101,
   "id": "0e9571ed",
   "metadata": {},
   "outputs": [
    {
     "ename": "TypeError",
     "evalue": "list indices must be integers or slices, not str",
     "output_type": "error",
     "traceback": [
      "\u001b[0;31m---------------------------------------------------------------------------\u001b[0m",
      "\u001b[0;31mTypeError\u001b[0m                                 Traceback (most recent call last)",
      "Cell \u001b[0;32mIn[101], line 1\u001b[0m\n\u001b[0;32m----> 1\u001b[0m \u001b[38;5;28mprint\u001b[39m(\u001b[43mliste1\u001b[49m\u001b[43m[\u001b[49m\u001b[38;5;124;43m\"\u001b[39;49m\u001b[38;5;124;43mvar\u001b[39;49m\u001b[38;5;124;43m\"\u001b[39;49m\u001b[43m]\u001b[49m)\n",
      "\u001b[0;31mTypeError\u001b[0m: list indices must be integers or slices, not str"
     ]
    }
   ],
   "source": [
    "print(liste1[\"var\"])"
   ]
  },
  {
   "cell_type": "code",
   "execution_count": 103,
   "id": "70b4ff40",
   "metadata": {},
   "outputs": [
    {
     "data": {
      "text/plain": [
       "[0, 9, 18, 27, 36, 45, 54, 63, 72, 81]"
      ]
     },
     "execution_count": 103,
     "metadata": {},
     "output_type": "execute_result"
    }
   ],
   "source": [
    "[9*i for i in range(10)]"
   ]
  },
  {
   "cell_type": "code",
   "execution_count": 109,
   "id": "058a88c6",
   "metadata": {},
   "outputs": [
    {
     "data": {
      "text/plain": [
       "[0, 9, 18, 27, 36, 45, 54, 63, 72, 81]"
      ]
     },
     "execution_count": 109,
     "metadata": {},
     "output_type": "execute_result"
    }
   ],
   "source": [
    "list(range(90))[::9]"
   ]
  },
  {
   "cell_type": "code",
   "execution_count": null,
   "id": "90a27e45",
   "metadata": {},
   "outputs": [],
   "source": []
  },
  {
   "cell_type": "code",
   "execution_count": null,
   "id": "4a8ad8be",
   "metadata": {},
   "outputs": [],
   "source": []
  },
  {
   "cell_type": "code",
   "execution_count": null,
   "id": "9c7c0571",
   "metadata": {},
   "outputs": [],
   "source": []
  },
  {
   "cell_type": "code",
   "execution_count": null,
   "id": "3a97fd87",
   "metadata": {},
   "outputs": [],
   "source": []
  },
  {
   "cell_type": "code",
   "execution_count": null,
   "id": "8b90f425",
   "metadata": {},
   "outputs": [],
   "source": []
  },
  {
   "cell_type": "code",
   "execution_count": null,
   "id": "82349f3d",
   "metadata": {},
   "outputs": [],
   "source": []
  },
  {
   "cell_type": "code",
   "execution_count": null,
   "id": "ff277f7a",
   "metadata": {},
   "outputs": [],
   "source": []
  },
  {
   "cell_type": "code",
   "execution_count": null,
   "id": "fda972d0",
   "metadata": {},
   "outputs": [],
   "source": []
  },
  {
   "cell_type": "code",
   "execution_count": null,
   "id": "51148aaf",
   "metadata": {},
   "outputs": [],
   "source": []
  }
 ],
 "metadata": {
  "kernelspec": {
   "display_name": "Odeon 3.10",
   "language": "python",
   "name": "odeon310"
  },
  "language_info": {
   "codemirror_mode": {
    "name": "ipython",
    "version": 3
   },
   "file_extension": ".py",
   "mimetype": "text/x-python",
   "name": "python",
   "nbconvert_exporter": "python",
   "pygments_lexer": "ipython3",
   "version": "3.10.12"
  },
  "varInspector": {
   "cols": {
    "lenName": 16,
    "lenType": 16,
    "lenVar": 40
   },
   "kernels_config": {
    "python": {
     "delete_cmd_postfix": "",
     "delete_cmd_prefix": "del ",
     "library": "var_list.py",
     "varRefreshCmd": "print(var_dic_list())"
    },
    "r": {
     "delete_cmd_postfix": ") ",
     "delete_cmd_prefix": "rm(",
     "library": "var_list.r",
     "varRefreshCmd": "cat(var_dic_list()) "
    }
   },
   "types_to_exclude": [
    "module",
    "function",
    "builtin_function_or_method",
    "instance",
    "_Feature"
   ],
   "window_display": false
  }
 },
 "nbformat": 4,
 "nbformat_minor": 5
}
