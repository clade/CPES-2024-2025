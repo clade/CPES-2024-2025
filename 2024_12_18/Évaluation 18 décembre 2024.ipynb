{
 "cells": [
  {
   "cell_type": "markdown",
   "id": "b5f90824",
   "metadata": {},
   "source": [
    "# Liste\n",
    "Créer une liste contenant tous les nombres strictement inférieurs à 200 qui sont des multiples de 5 sans être des multiples de 3. "
   ]
  },
  {
   "cell_type": "code",
   "execution_count": 1,
   "id": "e63b20e0",
   "metadata": {},
   "outputs": [
    {
     "name": "stdout",
     "output_type": "stream",
     "text": [
      "[5, 10, 20, 25, 35, 40, 50, 55, 65, 70, 80, 85, 95, 100, 110, 115, 125, 130, 140, 145, 155, 160, 170, 175, 185, 190]\n"
     ]
    }
   ],
   "source": [
    "# Question 12\n",
    "result = []\n",
    "\n",
    "for i in range(0, 200, 5):\n",
    "    if i%3 != 0:\n",
    "        result.append(i)\n",
    "print(result)"
   ]
  },
  {
   "cell_type": "markdown",
   "id": "08fa9274",
   "metadata": {},
   "source": [
    "# Taille en pouce"
   ]
  },
  {
   "cell_type": "code",
   "execution_count": 3,
   "id": "01a42466",
   "metadata": {},
   "outputs": [
    {
     "data": {
      "text/plain": [
       "70"
      ]
     },
     "execution_count": 3,
     "metadata": {},
     "output_type": "execute_result"
    }
   ],
   "source": [
    "# Question 13\n",
    "\n",
    "def taille_en_pouce(h):\n",
    "    return int(round(h/2.54))\n",
    "\n",
    "taille_en_pouce(178)"
   ]
  },
  {
   "cell_type": "code",
   "execution_count": 5,
   "id": "bbb0fac7",
   "metadata": {},
   "outputs": [
    {
     "data": {
      "text/plain": [
       "70"
      ]
     },
     "execution_count": 5,
     "metadata": {},
     "output_type": "execute_result"
    }
   ],
   "source": [
    "# Question 14\n",
    "def taille_pied_pouce(h):\n",
    "    h_in_pouce = taille_en_pouce(h)\n",
    "    return h_in_pouce//12, h_in_pouce%12\n",
    "\n",
    "taille_en_pouce(178)"
   ]
  },
  {
   "cell_type": "code",
   "execution_count": null,
   "id": "75208cbb",
   "metadata": {},
   "outputs": [],
   "source": []
  },
  {
   "cell_type": "markdown",
   "id": "8c0cd753",
   "metadata": {},
   "source": [
    "# Matchs de poule\n",
    "\n"
   ]
  },
  {
   "cell_type": "code",
   "execution_count": 6,
   "id": "8f80cdcb",
   "metadata": {},
   "outputs": [],
   "source": [
    "groupeD = {('Danemark', 'Tunisie') : (0 , 0 ) ,\n",
    "     ('France', 'Australie') : (4 , 1 ) ,\n",
    "     ('Tunisie', 'Australie') : (0 , 1 ) ,\n",
    "     ('France', 'Danemark') : (2 , 1 ) ,\n",
    "     ('Australie', 'Danemark') : (1 , 0 ) ,\n",
    "     ('Tunisie', 'France') : (1 , 0 ) }"
   ]
  },
  {
   "cell_type": "code",
   "execution_count": 7,
   "id": "107bac10",
   "metadata": {},
   "outputs": [
    {
     "data": {
      "text/plain": [
       "6"
      ]
     },
     "execution_count": 7,
     "metadata": {},
     "output_type": "execute_result"
    }
   ],
   "source": [
    "# Question 15\n",
    "len(groupeD)"
   ]
  },
  {
   "cell_type": "code",
   "execution_count": 8,
   "id": "212e9b98",
   "metadata": {},
   "outputs": [
    {
     "name": "stdout",
     "output_type": "stream",
     "text": [
      "Danemark et Tunisie font match nul 0 partout.\n",
      "France bat Australie par 4 à 1.\n",
      "Australie bat Tunisie par 1 à 0.\n",
      "France bat Danemark par 2 à 1.\n",
      "Australie bat Danemark par 1 à 0.\n",
      "Tunisie bat France par 1 à 0.\n"
     ]
    }
   ],
   "source": [
    "# Question 16\n",
    "for key, val in groupeD.items():\n",
    "    if val[0]>val[1]:\n",
    "        print(f'{key[0]} bat {key[1]} par {val[0]} à {val[1]}.')\n",
    "    elif val[0]==val[1]:\n",
    "        print(f'{key[0]} et {key[1]} font match nul {val[0]} partout.')\n",
    "    else:\n",
    "        print(f'{key[1]} bat {key[0]} par {val[1]} à {val[0]}.')"
   ]
  },
  {
   "cell_type": "code",
   "execution_count": 9,
   "id": "cb90628e",
   "metadata": {},
   "outputs": [],
   "source": [
    "# Question 17\n",
    "with open('groupeD.txt', 'w') as f:\n",
    "    for key, val in groupeD.items():\n",
    "        if val[0]>val[1]:\n",
    "            f.write(f'{key[0]} bat {key[1]} par {val[0]} à {val[1]}.\\n')\n",
    "        elif val[0]==val[1]:\n",
    "            f.write(f'{key[0]} et {key[1]} font match nul {val[0]} partout.\\n')\n",
    "        else:\n",
    "            f.write(f'{key[1]} bat {key[0]} par {val[1]} à {val[0]}.\\n')"
   ]
  },
  {
   "cell_type": "code",
   "execution_count": 10,
   "id": "f9bf844e",
   "metadata": {},
   "outputs": [
    {
     "name": "stdout",
     "output_type": "stream",
     "text": [
      "['Danemark', 'Tunisie', 'France', 'Australie']\n"
     ]
    }
   ],
   "source": [
    "# Question 18\n",
    "liste_equipe = ['France', 'Danemark', 'Tunisie', 'Australie']\n",
    "\n",
    "liste_equipe_bis = []\n",
    "for protagonistes in groupeD.keys():\n",
    "    equipe1, equipe2 = protagonistes\n",
    "    if equipe1 not in liste_equipe_bis:\n",
    "        liste_equipe_bis.append(equipe1)\n",
    "    if equipe2 not in liste_equipe_bis:\n",
    "        liste_equipe_bis.append(equipe2)\n",
    "print(liste_equipe_bis)"
   ]
  },
  {
   "cell_type": "code",
   "execution_count": 11,
   "id": "d09bc41a",
   "metadata": {},
   "outputs": [
    {
     "data": {
      "text/plain": [
       "2"
      ]
     },
     "execution_count": 11,
     "metadata": {},
     "output_type": "execute_result"
    }
   ],
   "source": [
    "# Question 20\n",
    "\n",
    "def nombre_victoires(pays, groupe):\n",
    "    res = 0\n",
    "    for key, val in groupe.items():\n",
    "        if key[0]==pays and val[0]>val[1]:\n",
    "            res += 1\n",
    "        if key[1]==pays and val[1]>val[0]:\n",
    "            res += 1\n",
    "    return res\n",
    "\n",
    "nombre_victoires('France', groupeD)"
   ]
  },
  {
   "cell_type": "code",
   "execution_count": 13,
   "id": "d8a33bdb",
   "metadata": {},
   "outputs": [
    {
     "data": {
      "text/plain": [
       "0"
      ]
     },
     "execution_count": 13,
     "metadata": {},
     "output_type": "execute_result"
    }
   ],
   "source": [
    "# Question 21\n",
    "\n",
    "def nombre_defaites(pays, groupe):\n",
    "    res = 0\n",
    "    for key, val in groupe.items():\n",
    "        if key[0]==pays and val[1]>val[0]:\n",
    "            res += 1\n",
    "        if key[1]==pays and val[0]>val[1]:\n",
    "            res += 1\n",
    "    return res\n",
    "\n",
    "\n",
    "def nombre_nuls(pays, groupe):\n",
    "    res = 0\n",
    "    for key, val in groupe.items():\n",
    "        if key[0]==pays and val[1]==val[0]:\n",
    "            res += 1\n",
    "        if key[1]==pays and val[0]==val[1]:\n",
    "            res += 1\n",
    "    return res\n",
    "\n",
    "nombre_defaites('France', groupeD)\n",
    "nombre_nuls('France', groupeD)"
   ]
  },
  {
   "cell_type": "code",
   "execution_count": 17,
   "id": "9c4615fa",
   "metadata": {},
   "outputs": [],
   "source": [
    "# Question 22\n",
    "def but_pour_et_contre_et_diff(pays, groupe):\n",
    "    pour = 0\n",
    "    contre = 0\n",
    "    for key, val in groupe.items():\n",
    "        if key[0]==pays:\n",
    "            pour += val[0]\n",
    "            contre += val[1]\n",
    "        if key[1]==pays:\n",
    "            pour += val[1]\n",
    "            contre += val[0]\n",
    "    return pour, contre, pour - contre\n",
    "\n"
   ]
  },
  {
   "cell_type": "code",
   "execution_count": 18,
   "id": "e2597d12",
   "metadata": {},
   "outputs": [
    {
     "data": {
      "text/plain": [
       "{'France': {'G': 2, 'P': 1, 'N': 0, 'BP': 6, 'BC': 3, 'Diff': 3},\n",
       " 'Danemark': {'G': 0, 'P': 2, 'N': 1, 'BP': 1, 'BC': 3, 'Diff': -2},\n",
       " 'Tunisie': {'G': 1, 'P': 1, 'N': 1, 'BP': 1, 'BC': 1, 'Diff': 0},\n",
       " 'Australie': {'G': 2, 'P': 1, 'N': 0, 'BP': 3, 'BC': 4, 'Diff': -1}}"
      ]
     },
     "execution_count": 18,
     "metadata": {},
     "output_type": "execute_result"
    }
   ],
   "source": [
    "# Question 23\n",
    "\n",
    "resultat = {}\n",
    "for pays in liste_equipe:\n",
    "    ligne = {'G':nombre_victoires(pays, groupeD),\n",
    "             'P':nombre_defaites(pays, groupeD),\n",
    "             'N':nombre_nuls(pays, groupeD)}\n",
    "    BP, BC, diff = but_pour_et_contre_et_diff(pays, groupeD)\n",
    "    ligne['BP'] = BP\n",
    "    ligne['BC'] = BC\n",
    "    ligne['Diff'] = diff\n",
    "    resultat[pays] = ligne\n",
    "    \n",
    "resultat\n",
    "    "
   ]
  },
  {
   "cell_type": "code",
   "execution_count": 20,
   "id": "fb4796d8",
   "metadata": {},
   "outputs": [
    {
     "name": "stdout",
     "output_type": "stream",
     "text": [
      "équipe     || Pts || G | P | N || BP | BC |  D |\n",
      "------------------------------------------------\n",
      "France     ||  6  || 2 | 1 | 0 ||  6 |  3 |  3 |\n",
      "Danemark   ||  1  || 0 | 2 | 1 ||  1 |  3 | -2 |\n",
      "Tunisie    ||  4  || 1 | 1 | 1 ||  1 |  1 |  0 |\n",
      "Australie  ||  6  || 2 | 1 | 0 ||  3 |  4 | -1 |\n"
     ]
    }
   ],
   "source": [
    "# Question 24\n",
    "print(f\"{'équipe':<10} || Pts || G | P | N || BP | BC |  D |\")\n",
    "print('------------------------------------------------')\n",
    "for pays in liste_equipe:\n",
    "    res = resultat[pays]\n",
    "    pts = res['G']*3 + res['N']\n",
    "    G = res['G']\n",
    "    P = res['P']\n",
    "    N = res['N']\n",
    "    BP = res['BP']\n",
    "    BC = res['BC']\n",
    "    D = res['Diff']\n",
    "    print(f\"{pays:<10} ||  {pts}  || {G} | {P} | {N} || {BP:>2} | {BC:>2} | {D:>2} |\")"
   ]
  },
  {
   "cell_type": "code",
   "execution_count": 23,
   "id": "44b843b6",
   "metadata": {},
   "outputs": [
    {
     "data": {
      "text/plain": [
       "['France', 'Australie', 'Tunisie', 'Danemark']"
      ]
     },
     "execution_count": 23,
     "metadata": {},
     "output_type": "execute_result"
    }
   ],
   "source": [
    "# Question 25\n",
    "\n",
    "def value(pays):\n",
    "    \"\"\" Classement des pays\n",
    "    \n",
    "    Renvoie un tuple contenant l'opposé des points, de la diff de buts et\n",
    "    des buts pour. \n",
    "    \n",
    "    L'ordre croissant des ses tuples correspondra aux classements \n",
    "    des équipes\n",
    "    \"\"\"\n",
    "    res = resultat[pays]\n",
    "    pts = res['G']*3 + res['N']\n",
    "    return (-pts, -res['Diff'], -res['BP'])\n",
    "\n",
    "sorted(liste_equipe, key=value)"
   ]
  },
  {
   "cell_type": "code",
   "execution_count": null,
   "id": "2086aa30",
   "metadata": {},
   "outputs": [],
   "source": []
  }
 ],
 "metadata": {
  "kernelspec": {
   "display_name": "Odeon 3.10",
   "language": "python",
   "name": "odeon310"
  },
  "language_info": {
   "codemirror_mode": {
    "name": "ipython",
    "version": 3
   },
   "file_extension": ".py",
   "mimetype": "text/x-python",
   "name": "python",
   "nbconvert_exporter": "python",
   "pygments_lexer": "ipython3",
   "version": "3.10.12"
  },
  "varInspector": {
   "cols": {
    "lenName": 16,
    "lenType": 16,
    "lenVar": 40
   },
   "kernels_config": {
    "python": {
     "delete_cmd_postfix": "",
     "delete_cmd_prefix": "del ",
     "library": "var_list.py",
     "varRefreshCmd": "print(var_dic_list())"
    },
    "r": {
     "delete_cmd_postfix": ") ",
     "delete_cmd_prefix": "rm(",
     "library": "var_list.r",
     "varRefreshCmd": "cat(var_dic_list()) "
    }
   },
   "types_to_exclude": [
    "module",
    "function",
    "builtin_function_or_method",
    "instance",
    "_Feature"
   ],
   "window_display": false
  }
 },
 "nbformat": 4,
 "nbformat_minor": 5
}
