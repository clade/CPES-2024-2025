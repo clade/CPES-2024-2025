{
 "cells": [
  {
   "cell_type": "markdown",
   "id": "2d81d9a2",
   "metadata": {},
   "source": [
    "## Temps\n",
    "\n",
    "1. Définir une classe Python ```Time``` pour enregistrer les heures, minutes et secondes. \n",
    "\n",
    "2. Créer la méthode ``__repr__`` et la méthode ``__str__``. Cette dernière méthode affichera l'heure sous la forme ``hh:mm:ss``. Attention, il faut écrire par exemple ``03:04:15`` et non ``3:4:15``\n",
    "\n",
    "3. Écrire une méthode pour donner la différence en seconde entre deux instants. "
   ]
  },
  {
   "cell_type": "code",
   "execution_count": 9,
   "id": "b56eb199",
   "metadata": {},
   "outputs": [],
   "source": [
    "class Time :\n",
    "    def __init__(self, hours, minutes, seconds):\n",
    "        self.hours = hours\n",
    "        self.minutes = minutes\n",
    "        self.seconds = seconds\n",
    "    def __repr__(self):\n",
    "        return f'Time({self.hours}, {self.minutes}, {self.seconds})'\n",
    "    def __str__(self):\n",
    "        return f'{self.hours:02d}:{self.minutes:02d}:{self.seconds:02d}'\n",
    "    def to_seconds(self):\n",
    "        return self.hours * 3600 + self.minutes * 60 + self.seconds\n",
    "    def __sub__(self, other):\n",
    "        return self.to_seconds() - other.to_seconds()\n",
    "        \n",
    "    \n",
    "def difference(t1, t2):\n",
    "    return t1.to_seconds() - t2.to_seconds()\n",
    "       "
   ]
  },
  {
   "cell_type": "code",
   "execution_count": 10,
   "id": "7dfeb5dd",
   "metadata": {},
   "outputs": [
    {
     "name": "stdout",
     "output_type": "stream",
     "text": [
      "03:04:15\n"
     ]
    },
    {
     "data": {
      "text/plain": [
       "61"
      ]
     },
     "execution_count": 10,
     "metadata": {},
     "output_type": "execute_result"
    }
   ],
   "source": [
    "temps = Time(3,4,15)\n",
    "temps\n",
    "print(temps)\n",
    "\n",
    "difference(Time(3,4,15), Time(3,3,14))\n",
    "Time(3,4,15) - Time(3,3,14)\n"
   ]
  },
  {
   "cell_type": "markdown",
   "id": "1e080321",
   "metadata": {},
   "source": [
    "## Carnet d'adresse\n",
    "\n",
    "1. Nous pouvons représenter les données sur une personne dans un programme par une classe Personne, contenant le nom de la personne, son prénom, son numéro de téléphone, et son email. Créer la classe ``Personne`` (avec le ``__init__``, le ``__repr__`` et le ``__str__``)\n",
    "\n",
    "Par exemple:\n",
    "\n",
    "<code>\n",
    "    >>> personne1 = Personne('Dupont', 'Jean', '0299792458', 'jean.dupont@tintin.fr')\n",
    "    >>> print(personne1)\n",
    "    Dupont, Jean -- Telephone:  0299792458 -- Email: \"jean.dupont@tintin.fr\"\n",
    "</code>"
   ]
  },
  {
   "cell_type": "markdown",
   "id": "5031947b",
   "metadata": {},
   "source": [
    "2. Un travailleur est une personne ayant un emploi. Dans un programme, un travailleur est naturellement représenté comme une classe Travailleur dérivée de la classe Personne, parce qu’un travailleur est une personne. La classe Travailleur étend la classe Personne avec des données supplémentaires, par exemple le nom de l’entreprise, le numéro de téléphone professionnel. Mettre à jour la méthode ``__str__``.\n",
    "\n",
    "3. Créer une classe ``CarnetAdresses`` avec ses méthodes ``__init__`` et  ``__repr__``.\n",
    "\n",
    "4. Créer une méthode ``ajouter_contact`` pour ajouter une personne et une méthode ``chercher_contact`` pour rechercher un contact par son nom. "
   ]
  },
  {
   "cell_type": "code",
   "execution_count": 21,
   "id": "e93e3283",
   "metadata": {},
   "outputs": [],
   "source": [
    "class Personne:\n",
    "    def __init__(self, nom, prenom, telephone, mail):\n",
    "        self.nom = nom\n",
    "        self.prenom = prenom\n",
    "        self.telephone = telephone\n",
    "        self.mail = mail\n",
    "    \n",
    "    def __repr__(self):\n",
    "        return f'Personne({self.nom!r}, {self.prenom!r}, {self.telephone!r}, {self.mail!r})'\n",
    "    \n",
    "    def __str__(self):\n",
    "        return f'{self.nom}, {self.prenom} -- Telephone : {self.telephone} -- Email : {self.mail}'\n",
    "    \n",
    "class Travailleur(Personne):\n",
    "    def __init__(self, nom, prenom, telephone, mail, entreprise, tel_pro):\n",
    "        Personne.__init__(self, nom, prenom, telephone, mail)\n",
    "        self.entreprise = entreprise\n",
    "        self.tel_pro = tel_pro\n",
    "    def __str__(self):\n",
    "        return Personne.__str__(self) + f' -- Entreprise : {self.entreprise} -- Telephone professionnel : {self.tel_pro}'\n",
    "    \n",
    "class CarnetAdresse:\n",
    "    def __init__(self, liste_personne):\n",
    "        self.liste_personne = liste_personne\n",
    "        \n",
    "    def __repr__(self):\n",
    "        return f'CarnetAdresse({self.liste_personne!r})'\n",
    "        \n",
    "    def ajoute(self, personne):\n",
    "        if not isinstance(personne, Personne):\n",
    "            raise Exception(\"L'objet n'est pas de la classe Personne.\")\n",
    "        self.liste_personne.append(personne)\n",
    "        \n",
    "    def chercher_contact(self, nom):\n",
    "        for personne in self.liste_personne:\n",
    "            if personne.nom == nom:\n",
    "                return personne\n",
    "        raise Exception (f\"La personne {nom} n'est pas dans le carnet.\")\n",
    "        "
   ]
  },
  {
   "cell_type": "code",
   "execution_count": 22,
   "id": "9686aa4e",
   "metadata": {},
   "outputs": [
    {
     "name": "stdout",
     "output_type": "stream",
     "text": [
      "d'Alembert, Paul -- Telephone : 0607080901 -- Email : paul.dupont@gmail.com -- Entreprise : Dior -- Telephone professionnel : 01020030405\n"
     ]
    }
   ],
   "source": [
    "p1 = Personne(\"d'Alembert\", 'Paul', '0607080901', 'paul.dupont@gmail.com')\n",
    "travailleur = Travailleur(\"d'Alembert\", 'Paul', '0607080901', 'paul.dupont@gmail.com', 'Dior', '01020030405')\n",
    "print(travailleur)\n"
   ]
  },
  {
   "cell_type": "code",
   "execution_count": 24,
   "id": "3956ba78",
   "metadata": {},
   "outputs": [
    {
     "ename": "Exception",
     "evalue": "La personne Non n'est pas dans le carnet.",
     "output_type": "error",
     "traceback": [
      "\u001b[0;31m---------------------------------------------------------------------------\u001b[0m",
      "\u001b[0;31mException\u001b[0m                                 Traceback (most recent call last)",
      "Cell \u001b[0;32mIn[24], line 6\u001b[0m\n\u001b[1;32m      4\u001b[0m carnet\u001b[38;5;241m.\u001b[39majoute(travailleur)\n\u001b[1;32m      5\u001b[0m carnet\u001b[38;5;241m.\u001b[39mchercher_contact(\u001b[38;5;124m\"\u001b[39m\u001b[38;5;124md\u001b[39m\u001b[38;5;124m'\u001b[39m\u001b[38;5;124mAlembert\u001b[39m\u001b[38;5;124m\"\u001b[39m)\n\u001b[0;32m----> 6\u001b[0m \u001b[43mcarnet\u001b[49m\u001b[38;5;241;43m.\u001b[39;49m\u001b[43mchercher_contact\u001b[49m\u001b[43m(\u001b[49m\u001b[38;5;124;43m\"\u001b[39;49m\u001b[38;5;124;43mNon\u001b[39;49m\u001b[38;5;124;43m\"\u001b[39;49m\u001b[43m)\u001b[49m\n",
      "Cell \u001b[0;32mIn[21], line 38\u001b[0m, in \u001b[0;36mCarnetAdresse.chercher_contact\u001b[0;34m(self, nom)\u001b[0m\n\u001b[1;32m     36\u001b[0m     \u001b[38;5;28;01mif\u001b[39;00m personne\u001b[38;5;241m.\u001b[39mnom \u001b[38;5;241m==\u001b[39m nom:\n\u001b[1;32m     37\u001b[0m         \u001b[38;5;28;01mreturn\u001b[39;00m personne\n\u001b[0;32m---> 38\u001b[0m \u001b[38;5;28;01mraise\u001b[39;00m \u001b[38;5;167;01mException\u001b[39;00m (\u001b[38;5;124mf\u001b[39m\u001b[38;5;124m\"\u001b[39m\u001b[38;5;124mLa personne \u001b[39m\u001b[38;5;132;01m{\u001b[39;00mnom\u001b[38;5;132;01m}\u001b[39;00m\u001b[38;5;124m n\u001b[39m\u001b[38;5;124m'\u001b[39m\u001b[38;5;124mest pas dans le carnet.\u001b[39m\u001b[38;5;124m\"\u001b[39m)\n",
      "\u001b[0;31mException\u001b[0m: La personne Non n'est pas dans le carnet."
     ]
    }
   ],
   "source": [
    "carnet = CarnetAdresse([])\n",
    "carnet.ajoute(p1)\n",
    "carnet\n",
    "carnet.ajoute(travailleur)\n",
    "carnet.chercher_contact(\"d'Alembert\")\n",
    "carnet.chercher_contact(\"Non\")"
   ]
  },
  {
   "cell_type": "code",
   "execution_count": 20,
   "id": "db4ec37e",
   "metadata": {},
   "outputs": [
    {
     "data": {
      "text/plain": [
       "CarnetAdresse([Personne(\"d'Alembert\", 'Paul', '0607080901', 'paul.dupont@gmail.com'), Personne(\"d'Alembert\", 'Paul', '0607080901', 'paul.dupont@gmail.com')])"
      ]
     },
     "execution_count": 20,
     "metadata": {},
     "output_type": "execute_result"
    }
   ],
   "source": [
    "CarnetAdresse([Personne(\"d'Alembert\", 'Paul', '0607080901', 'paul.dupont@gmail.com'), Personne(\"d'Alembert\", 'Paul', '0607080901', 'paul.dupont@gmail.com')])"
   ]
  },
  {
   "cell_type": "markdown",
   "id": "8b374e59",
   "metadata": {},
   "source": [
    "# Cryptage/decryptage\n",
    "\n",
    "On va créer un objet simple pour permetre le cryptage decryptage en utilisant la méthode par décalage (https://fr.wikipedia.org/wiki/Chiffrement_par_d%C3%A9calage). \n",
    "\n",
    "Cet objet sera initialisé avec le décalage et aura deux méthodes (encode et decode). \n",
    "\n"
   ]
  }
 ],
 "metadata": {
  "kernelspec": {
   "display_name": "Odeon 3.10",
   "language": "python",
   "name": "odeon310"
  },
  "language_info": {
   "codemirror_mode": {
    "name": "ipython",
    "version": 3
   },
   "file_extension": ".py",
   "mimetype": "text/x-python",
   "name": "python",
   "nbconvert_exporter": "python",
   "pygments_lexer": "ipython3",
   "version": "3.10.12"
  },
  "varInspector": {
   "cols": {
    "lenName": 16,
    "lenType": 16,
    "lenVar": 40
   },
   "kernels_config": {
    "python": {
     "delete_cmd_postfix": "",
     "delete_cmd_prefix": "del ",
     "library": "var_list.py",
     "varRefreshCmd": "print(var_dic_list())"
    },
    "r": {
     "delete_cmd_postfix": ") ",
     "delete_cmd_prefix": "rm(",
     "library": "var_list.r",
     "varRefreshCmd": "cat(var_dic_list()) "
    }
   },
   "types_to_exclude": [
    "module",
    "function",
    "builtin_function_or_method",
    "instance",
    "_Feature"
   ],
   "window_display": false
  }
 },
 "nbformat": 4,
 "nbformat_minor": 5
}
