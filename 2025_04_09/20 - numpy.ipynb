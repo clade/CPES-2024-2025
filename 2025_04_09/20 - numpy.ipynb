{
 "cells": [
  {
   "cell_type": "code",
   "execution_count": 4,
   "id": "79804108",
   "metadata": {},
   "outputs": [],
   "source": [
    "import numpy \n",
    "import numpy as np"
   ]
  },
  {
   "cell_type": "markdown",
   "id": "f9a30522",
   "metadata": {},
   "source": [
    "# Objets de type array\n",
    "\n",
    "Les objets de type array correspondent à des tableaux à une ou plusieurs dimensions et permettent d’effectuer du\n",
    "calcul vectoriel. La fonction array() convertit un conteneur (comme une liste ou un tuple) en un objet de type array.\n",
    "\n",
    "## Fonction array"
   ]
  },
  {
   "cell_type": "code",
   "execution_count": 5,
   "id": "7fd62a56",
   "metadata": {},
   "outputs": [],
   "source": [
    "import numpy as np\n",
    "a = [1, 2, 3]\n",
    "ta = np.array(a)"
   ]
  },
  {
   "cell_type": "code",
   "execution_count": 6,
   "id": "b29dfec3",
   "metadata": {},
   "outputs": [
    {
     "data": {
      "text/plain": [
       "numpy.ndarray"
      ]
     },
     "execution_count": 6,
     "metadata": {},
     "output_type": "execute_result"
    }
   ],
   "source": [
    "type(ta)"
   ]
  },
  {
   "cell_type": "markdown",
   "id": "1b71eaab",
   "metadata": {},
   "source": [
    "Un objet array ne contient que des données homogènes, c’est-à-dire d’un type identique.\n",
    "Il est possible de créer un objet array à partir d’une liste constituée d’entiers et de floats, mais toutes les\n",
    "valeurs seront alors comprises par NumPy comme des floats"
   ]
  },
  {
   "cell_type": "code",
   "execution_count": 7,
   "id": "7da5afe5",
   "metadata": {},
   "outputs": [
    {
     "data": {
      "text/plain": [
       "array(['1', '2.2', '3', 'bonjour'], dtype='<U32')"
      ]
     },
     "execution_count": 7,
     "metadata": {},
     "output_type": "execute_result"
    }
   ],
   "source": [
    "import numpy as np\n",
    "a = [1, 2.2, 3, 'bonjour']\n",
    "ta = np.array(a)\n",
    "\n",
    "ta"
   ]
  },
  {
   "cell_type": "code",
   "execution_count": 8,
   "id": "bf0c46a7",
   "metadata": {},
   "outputs": [
    {
     "data": {
      "text/plain": [
       "array([1. , 2.2, 3. ])"
      ]
     },
     "execution_count": 8,
     "metadata": {},
     "output_type": "execute_result"
    }
   ],
   "source": [
    "import numpy as np\n",
    "a = [1, 2.2, 3]\n",
    "ta = np.array(a)\n",
    "\n",
    "ta"
   ]
  },
  {
   "cell_type": "code",
   "execution_count": 9,
   "id": "c1e115dc",
   "metadata": {},
   "outputs": [
    {
     "data": {
      "text/plain": [
       "dtype('float64')"
      ]
     },
     "execution_count": 9,
     "metadata": {},
     "output_type": "execute_result"
    }
   ],
   "source": [
    "ta.dtype"
   ]
  },
  {
   "cell_type": "code",
   "execution_count": 10,
   "id": "0d0c1172",
   "metadata": {},
   "outputs": [
    {
     "data": {
      "text/plain": [
       "dtype('int64')"
      ]
     },
     "execution_count": 10,
     "metadata": {},
     "output_type": "execute_result"
    }
   ],
   "source": [
    "import numpy as np\n",
    "a = [1, 2, 3]\n",
    "ta = np.array(a)\n",
    "\n",
    "ta.dtype"
   ]
  },
  {
   "cell_type": "code",
   "execution_count": 11,
   "id": "1b420548",
   "metadata": {},
   "outputs": [
    {
     "data": {
      "text/plain": [
       "array([924717970289206433])"
      ]
     },
     "execution_count": 11,
     "metadata": {},
     "output_type": "execute_result"
    }
   ],
   "source": [
    "np.array([3])**456"
   ]
  },
  {
   "cell_type": "markdown",
   "id": "9e91fc81",
   "metadata": {},
   "source": [
    "## Fonction arange\n",
    "\n"
   ]
  },
  {
   "cell_type": "code",
   "execution_count": 12,
   "id": "f6c6b0c2",
   "metadata": {},
   "outputs": [
    {
     "data": {
      "text/plain": [
       "array([99999999, 99999998, 99999997, ...,        3,        2,        1])"
      ]
     },
     "execution_count": 12,
     "metadata": {},
     "output_type": "execute_result"
    }
   ],
   "source": [
    "np.arange(100000000-1, 0, -1)"
   ]
  },
  {
   "cell_type": "markdown",
   "id": "73dd5ec3",
   "metadata": {},
   "source": [
    "## Différence avec les listes ou tuple\n",
    "La différence fondamentale entre un objet array à une dimension et une liste (ou un tuple) est que celui-ci est\n",
    "considéré comme un vecteur. Par conséquent, on peut effectuer des opérations vectorielles élément par élément sur ce type d’objet, ce qui est bien commode lorsqu’on analyse de grandes quantités de données\n",
    "\n",
    "* opérations mathématiques\n",
    "* fonctions mathématiques"
   ]
  },
  {
   "cell_type": "code",
   "execution_count": 13,
   "id": "8ed89cae",
   "metadata": {},
   "outputs": [
    {
     "data": {
      "text/plain": [
       "array([      1, 1048576, 1594323])"
      ]
     },
     "execution_count": 13,
     "metadata": {},
     "output_type": "execute_result"
    }
   ],
   "source": [
    "a = [1, 2, 3]\n",
    "ta = np.array(a)\n",
    "\n",
    "b = [4, 20, 13]\n",
    "tb = np.array(b)\n",
    "\n",
    "ta ** tb"
   ]
  },
  {
   "cell_type": "code",
   "execution_count": 14,
   "id": "b0ed99ab",
   "metadata": {},
   "outputs": [
    {
     "data": {
      "text/plain": [
       "array([0.84147098, 0.90929743, 0.14112001])"
      ]
     },
     "execution_count": 14,
     "metadata": {},
     "output_type": "execute_result"
    }
   ],
   "source": [
    "np.sin(ta)"
   ]
  },
  {
   "cell_type": "code",
   "execution_count": 15,
   "id": "989c6e5b",
   "metadata": {},
   "outputs": [
    {
     "ename": "TypeError",
     "evalue": "only length-1 arrays can be converted to Python scalars",
     "output_type": "error",
     "traceback": [
      "\u001b[0;31m---------------------------------------------------------------------------\u001b[0m",
      "\u001b[0;31mTypeError\u001b[0m                                 Traceback (most recent call last)",
      "Cell \u001b[0;32mIn[15], line 3\u001b[0m\n\u001b[1;32m      1\u001b[0m \u001b[38;5;28;01mimport\u001b[39;00m \u001b[38;5;21;01mmath\u001b[39;00m\n\u001b[0;32m----> 3\u001b[0m \u001b[43mmath\u001b[49m\u001b[38;5;241;43m.\u001b[39;49m\u001b[43msin\u001b[49m\u001b[43m(\u001b[49m\u001b[43mta\u001b[49m\u001b[43m)\u001b[49m\n",
      "\u001b[0;31mTypeError\u001b[0m: only length-1 arrays can be converted to Python scalars"
     ]
    }
   ],
   "source": [
    "import math\n",
    "\n",
    "math.sin(ta)"
   ]
  },
  {
   "cell_type": "code",
   "execution_count": 16,
   "id": "2d1aa9e1",
   "metadata": {},
   "outputs": [
    {
     "data": {
      "text/plain": [
       "array([14,  2,  3])"
      ]
     },
     "execution_count": 16,
     "metadata": {},
     "output_type": "execute_result"
    }
   ],
   "source": [
    "ta[0] = 14.8\n",
    "ta"
   ]
  },
  {
   "cell_type": "code",
   "execution_count": null,
   "id": "e3280ea3",
   "metadata": {},
   "outputs": [],
   "source": []
  },
  {
   "cell_type": "code",
   "execution_count": null,
   "id": "2c066f70",
   "metadata": {},
   "outputs": [],
   "source": []
  },
  {
   "cell_type": "markdown",
   "id": "af95f3be",
   "metadata": {},
   "source": [
    "## Méthodes sur les tableaux\n",
    "\n",
    "* np.min, np.max, np.sum, \n",
    "* np.mean, np.var (variance), np.std (standard deviation/ ecart type)"
   ]
  },
  {
   "cell_type": "code",
   "execution_count": 17,
   "id": "88e51b06",
   "metadata": {},
   "outputs": [
    {
     "data": {
      "text/plain": [
       "4"
      ]
     },
     "execution_count": 17,
     "metadata": {},
     "output_type": "execute_result"
    }
   ],
   "source": [
    "b = [4, 20, 13]\n",
    "tb = np.array(b)\n",
    "\n",
    "np.min(tb)\n",
    "tb.min()"
   ]
  },
  {
   "cell_type": "code",
   "execution_count": 18,
   "id": "2bcd531a",
   "metadata": {},
   "outputs": [
    {
     "data": {
      "text/plain": [
       "42.88888888888889"
      ]
     },
     "execution_count": 18,
     "metadata": {},
     "output_type": "execute_result"
    }
   ],
   "source": [
    "tb.mean()\n",
    "tb.std()\n",
    "tb.var()"
   ]
  },
  {
   "cell_type": "code",
   "execution_count": 19,
   "id": "1f881a93",
   "metadata": {},
   "outputs": [
    {
     "data": {
      "text/plain": [
       "1040"
      ]
     },
     "execution_count": 19,
     "metadata": {},
     "output_type": "execute_result"
    }
   ],
   "source": [
    "tb.sum()\n",
    "tb.prod()"
   ]
  },
  {
   "cell_type": "code",
   "execution_count": 20,
   "id": "e0393860",
   "metadata": {},
   "outputs": [
    {
     "data": {
      "text/plain": [
       "array([ 4, 13, 20])"
      ]
     },
     "execution_count": 20,
     "metadata": {},
     "output_type": "execute_result"
    }
   ],
   "source": [
    "tb.sort()\n",
    "tb"
   ]
  },
  {
   "cell_type": "code",
   "execution_count": 21,
   "id": "67627b42",
   "metadata": {},
   "outputs": [
    {
     "data": {
      "text/plain": [
       "array([0, 2, 1])"
      ]
     },
     "execution_count": 21,
     "metadata": {},
     "output_type": "execute_result"
    }
   ],
   "source": [
    "b = [4, 20, 13]\n",
    "tb = np.array(b)\n",
    "\n",
    "tb.argsort()"
   ]
  },
  {
   "cell_type": "markdown",
   "id": "0cd3fde5",
   "metadata": {},
   "source": [
    "## Indices\n",
    "\n",
    "* Comme les listes : entiers ou slice (tranche) avec start:stop:step\n",
    "* Tableau d'entiers\n",
    "* Tableau booléen"
   ]
  },
  {
   "cell_type": "code",
   "execution_count": 22,
   "id": "c10f8737",
   "metadata": {},
   "outputs": [
    {
     "data": {
      "text/plain": [
       "array([ 4, 20, 13, 45,  2,  6, 86,  2])"
      ]
     },
     "execution_count": 22,
     "metadata": {},
     "output_type": "execute_result"
    }
   ],
   "source": [
    "b = [4, 20, 13, 45, 2, 6, 86, 2]\n",
    "tb = np.array(b)\n",
    "\n",
    "tb"
   ]
  },
  {
   "cell_type": "code",
   "execution_count": 23,
   "id": "9983b8fb",
   "metadata": {},
   "outputs": [
    {
     "data": {
      "text/plain": [
       "6"
      ]
     },
     "execution_count": 23,
     "metadata": {},
     "output_type": "execute_result"
    }
   ],
   "source": [
    "tb[5]"
   ]
  },
  {
   "cell_type": "code",
   "execution_count": 24,
   "id": "a884a830",
   "metadata": {},
   "outputs": [
    {
     "data": {
      "text/plain": [
       "array([20, 13, 45])"
      ]
     },
     "execution_count": 24,
     "metadata": {},
     "output_type": "execute_result"
    }
   ],
   "source": [
    "tb[1:4]"
   ]
  },
  {
   "cell_type": "code",
   "execution_count": 25,
   "id": "00b89d35",
   "metadata": {},
   "outputs": [
    {
     "data": {
      "text/plain": [
       "array([ 2, 13, 45])"
      ]
     },
     "execution_count": 25,
     "metadata": {},
     "output_type": "execute_result"
    }
   ],
   "source": [
    "indices = np.array([4, 2, 3])\n",
    "tb[indices]"
   ]
  },
  {
   "cell_type": "code",
   "execution_count": null,
   "id": "4dfcec0e",
   "metadata": {},
   "outputs": [],
   "source": []
  },
  {
   "cell_type": "code",
   "execution_count": 26,
   "id": "068a2eec",
   "metadata": {},
   "outputs": [
    {
     "data": {
      "text/plain": [
       "array([ 4, 20, 13, 45])"
      ]
     },
     "execution_count": 26,
     "metadata": {},
     "output_type": "execute_result"
    }
   ],
   "source": [
    "b = [4, 20, 13, 45]\n",
    "tb = np.array(b)\n",
    "\n",
    "tb"
   ]
  },
  {
   "cell_type": "code",
   "execution_count": 27,
   "id": "32ad3121",
   "metadata": {},
   "outputs": [
    {
     "data": {
      "text/plain": [
       "array([20, 45])"
      ]
     },
     "execution_count": 27,
     "metadata": {},
     "output_type": "execute_result"
    }
   ],
   "source": [
    "masque = np.array([False, True, False, True])\n",
    "\n",
    "tb[masque]"
   ]
  },
  {
   "cell_type": "code",
   "execution_count": 28,
   "id": "973e62ba",
   "metadata": {},
   "outputs": [
    {
     "data": {
      "text/plain": [
       "array([False,  True,  True,  True])"
      ]
     },
     "execution_count": 28,
     "metadata": {},
     "output_type": "execute_result"
    }
   ],
   "source": [
    "(tb>10)"
   ]
  },
  {
   "cell_type": "code",
   "execution_count": 29,
   "id": "4f86799f",
   "metadata": {},
   "outputs": [
    {
     "data": {
      "text/plain": [
       "array([20, 13, 45])"
      ]
     },
     "execution_count": 29,
     "metadata": {},
     "output_type": "execute_result"
    }
   ],
   "source": [
    "tb[tb>10]"
   ]
  },
  {
   "cell_type": "code",
   "execution_count": null,
   "id": "ac5859af",
   "metadata": {},
   "outputs": [],
   "source": []
  },
  {
   "cell_type": "code",
   "execution_count": 30,
   "id": "4111ee52",
   "metadata": {},
   "outputs": [
    {
     "data": {
      "text/plain": [
       "array([ True,  True, False,  True])"
      ]
     },
     "execution_count": 30,
     "metadata": {},
     "output_type": "execute_result"
    }
   ],
   "source": [
    "tb != 13"
   ]
  },
  {
   "cell_type": "code",
   "execution_count": 31,
   "id": "8265cd04",
   "metadata": {},
   "outputs": [
    {
     "ename": "IndexError",
     "evalue": "index 14 is out of bounds for axis 0 with size 4",
     "output_type": "error",
     "traceback": [
      "\u001b[0;31m---------------------------------------------------------------------------\u001b[0m",
      "\u001b[0;31mIndexError\u001b[0m                                Traceback (most recent call last)",
      "Cell \u001b[0;32mIn[31], line 1\u001b[0m\n\u001b[0;32m----> 1\u001b[0m \u001b[43mtb\u001b[49m\u001b[43m[\u001b[49m\u001b[43mtb\u001b[49m\u001b[38;5;241;43m+\u001b[39;49m\u001b[38;5;241;43m10\u001b[39;49m\u001b[43m]\u001b[49m\n",
      "\u001b[0;31mIndexError\u001b[0m: index 14 is out of bounds for axis 0 with size 4"
     ]
    }
   ],
   "source": []
  },
  {
   "cell_type": "code",
   "execution_count": 32,
   "id": "417c15a3",
   "metadata": {},
   "outputs": [
    {
     "data": {
      "text/plain": [
       "array([14, 30, 23, 55])"
      ]
     },
     "execution_count": 32,
     "metadata": {},
     "output_type": "execute_result"
    }
   ],
   "source": [
    "tb+10"
   ]
  },
  {
   "cell_type": "markdown",
   "id": "047ec030",
   "metadata": {},
   "source": [
    "## Fonctions avec des tableaux\n",
    "\n",
    "* En général, pas de problèmes\n",
    "* si cela ne fonctionne pas à cause d'un if : soit un masque soit np.vectorize\n",
    "\n",
    "\n",
    "Opération sur les tableaux de booleens : & (and),| (or) , ~ (not)\n",
    "\n",
    "Il n'est pas possible d'utiliser if sur un tableau ni and ou or. "
   ]
  },
  {
   "cell_type": "code",
   "execution_count": 102,
   "id": "1c5d48a6",
   "metadata": {},
   "outputs": [
    {
     "data": {
      "text/plain": [
       "array([0.00386592, 0.03470859, 0.18002174, 0.53940751, 0.93371212,\n",
       "       0.93371212, 0.53940751, 0.18002174, 0.03470859, 0.00386592])"
      ]
     },
     "execution_count": 102,
     "metadata": {},
     "output_type": "execute_result"
    }
   ],
   "source": [
    "# Tout fonctionne\n",
    "def gaussienne(x, sigma):\n",
    "    return np.exp(-x**2/(2*sigma**2))\n",
    "\n",
    "sigma = 0.3\n",
    "x = np.linspace(-1, 1, 10)\n",
    "\n",
    "gaussienne(x, sigma)\n"
   ]
  },
  {
   "cell_type": "code",
   "execution_count": 37,
   "id": "4444e0b8",
   "metadata": {},
   "outputs": [
    {
     "data": {
      "text/plain": [
       "3"
      ]
     },
     "execution_count": 37,
     "metadata": {},
     "output_type": "execute_result"
    }
   ],
   "source": [
    "def my_abs(x):\n",
    "    if x>=0:\n",
    "        return x\n",
    "    else:\n",
    "        return -x\n",
    "    \n",
    "my_abs(-3)"
   ]
  },
  {
   "cell_type": "code",
   "execution_count": 38,
   "id": "94b2260d",
   "metadata": {},
   "outputs": [
    {
     "ename": "ValueError",
     "evalue": "The truth value of an array with more than one element is ambiguous. Use a.any() or a.all()",
     "output_type": "error",
     "traceback": [
      "\u001b[0;31m---------------------------------------------------------------------------\u001b[0m",
      "\u001b[0;31mValueError\u001b[0m                                Traceback (most recent call last)",
      "Cell \u001b[0;32mIn[38], line 1\u001b[0m\n\u001b[0;32m----> 1\u001b[0m \u001b[43mmy_abs\u001b[49m\u001b[43m(\u001b[49m\u001b[43mx\u001b[49m\u001b[43m)\u001b[49m\n",
      "Cell \u001b[0;32mIn[37], line 2\u001b[0m, in \u001b[0;36mmy_abs\u001b[0;34m(x)\u001b[0m\n\u001b[1;32m      1\u001b[0m \u001b[38;5;28;01mdef\u001b[39;00m \u001b[38;5;21mmy_abs\u001b[39m(x):\n\u001b[0;32m----> 2\u001b[0m     \u001b[38;5;28;01mif\u001b[39;00m x\u001b[38;5;241m>\u001b[39m\u001b[38;5;241m=\u001b[39m\u001b[38;5;241m0\u001b[39m:\n\u001b[1;32m      3\u001b[0m         \u001b[38;5;28;01mreturn\u001b[39;00m x\n\u001b[1;32m      4\u001b[0m     \u001b[38;5;28;01melse\u001b[39;00m:\n",
      "\u001b[0;31mValueError\u001b[0m: The truth value of an array with more than one element is ambiguous. Use a.any() or a.all()"
     ]
    }
   ],
   "source": [
    "my_abs(x)"
   ]
  },
  {
   "cell_type": "code",
   "execution_count": 39,
   "id": "ad6b8bb9",
   "metadata": {},
   "outputs": [],
   "source": [
    "def my_abs(x):\n",
    "    out = x.copy()\n",
    "    out[x<0] = -x[x<0]\n",
    "    return out"
   ]
  },
  {
   "cell_type": "code",
   "execution_count": 40,
   "id": "e8d40501",
   "metadata": {},
   "outputs": [
    {
     "data": {
      "text/plain": [
       "array([1.        , 0.77777778, 0.55555556, 0.33333333, 0.11111111,\n",
       "       0.11111111, 0.33333333, 0.55555556, 0.77777778, 1.        ])"
      ]
     },
     "execution_count": 40,
     "metadata": {},
     "output_type": "execute_result"
    }
   ],
   "source": [
    "my_abs(x)"
   ]
  },
  {
   "cell_type": "code",
   "execution_count": 44,
   "id": "75b14e92",
   "metadata": {},
   "outputs": [
    {
     "data": {
      "text/plain": [
       "array([1.        , 0.77777778, 0.55555556, 0.33333333, 0.11111111,\n",
       "       0.11111111, 0.33333333, 0.55555556, 0.77777778, 1.        ])"
      ]
     },
     "execution_count": 44,
     "metadata": {},
     "output_type": "execute_result"
    }
   ],
   "source": [
    "def my_abs(tx):\n",
    "    out = np.zeros(len(tx))\n",
    "    for i, x in enumerate(tx):\n",
    "        if x>0:\n",
    "            out[i] = x\n",
    "        else:\n",
    "            out[i] = -x\n",
    "    return out\n",
    "\n",
    "my_abs(x)"
   ]
  },
  {
   "cell_type": "code",
   "execution_count": 42,
   "id": "98c029e3",
   "metadata": {},
   "outputs": [
    {
     "data": {
      "text/plain": [
       "array([0.11111111, 0.33333333, 0.55555556, 0.77777778, 1.        ])"
      ]
     },
     "execution_count": 42,
     "metadata": {},
     "output_type": "execute_result"
    }
   ],
   "source": [
    "x[x>0]"
   ]
  },
  {
   "cell_type": "code",
   "execution_count": 46,
   "id": "8a236a0a",
   "metadata": {},
   "outputs": [],
   "source": [
    "def my_abs_nombre(x):\n",
    "    if x>=0:\n",
    "        return x\n",
    "    else:\n",
    "        return -x\n",
    "    \n",
    "my_abs_tableau = np.vectorize(my_abs_nombre)"
   ]
  },
  {
   "cell_type": "code",
   "execution_count": 47,
   "id": "51956bb3",
   "metadata": {},
   "outputs": [
    {
     "data": {
      "text/plain": [
       "array([1.        , 0.77777778, 0.55555556, 0.33333333, 0.11111111,\n",
       "       0.11111111, 0.33333333, 0.55555556, 0.77777778, 1.        ])"
      ]
     },
     "execution_count": 47,
     "metadata": {},
     "output_type": "execute_result"
    }
   ],
   "source": [
    "my_abs_tableau(x)"
   ]
  },
  {
   "cell_type": "code",
   "execution_count": 52,
   "id": "ca717d64",
   "metadata": {},
   "outputs": [
    {
     "data": {
      "text/plain": [
       "array([False, False, False, False, False,  True,  True, False, False,\n",
       "       False])"
      ]
     },
     "execution_count": 52,
     "metadata": {},
     "output_type": "execute_result"
    }
   ],
   "source": [
    "#if x>0 and x<0.5:\n",
    "masque = (x>0) & (x<0.5)    \n",
    "masque"
   ]
  },
  {
   "cell_type": "code",
   "execution_count": 61,
   "id": "f338726a",
   "metadata": {},
   "outputs": [
    {
     "data": {
      "text/plain": [
       "array([ True,  True,  True,  True,  True, False, False,  True,  True,\n",
       "        True])"
      ]
     },
     "execution_count": 61,
     "metadata": {},
     "output_type": "execute_result"
    }
   ],
   "source": [
    "(x<0) | (x>.5)"
   ]
  },
  {
   "cell_type": "code",
   "execution_count": 62,
   "id": "8d91e5a0",
   "metadata": {},
   "outputs": [
    {
     "data": {
      "text/plain": [
       "array([False, False, False, False, False,  True,  True,  True,  True,\n",
       "        True])"
      ]
     },
     "execution_count": 62,
     "metadata": {},
     "output_type": "execute_result"
    }
   ],
   "source": [
    "~(x<0)"
   ]
  },
  {
   "cell_type": "code",
   "execution_count": null,
   "id": "3a42c4a2",
   "metadata": {},
   "outputs": [],
   "source": []
  },
  {
   "cell_type": "code",
   "execution_count": null,
   "id": "df77d3d9",
   "metadata": {},
   "outputs": [],
   "source": [
    "cond1 = True\n",
    "cond2 = False\n",
    "# cond1 and cond2\n",
    "if cond1:\n",
    "    return cond2\n",
    "else:\n",
    "    return False"
   ]
  },
  {
   "cell_type": "code",
   "execution_count": 60,
   "id": "225205ed",
   "metadata": {},
   "outputs": [
    {
     "ename": "ValueError",
     "evalue": "math domain error",
     "output_type": "error",
     "traceback": [
      "\u001b[0;31m---------------------------------------------------------------------------\u001b[0m",
      "\u001b[0;31mValueError\u001b[0m                                Traceback (most recent call last)",
      "Cell \u001b[0;32mIn[60], line 5\u001b[0m\n\u001b[1;32m      1\u001b[0m \u001b[38;5;28;01mimport\u001b[39;00m \u001b[38;5;21;01mmath\u001b[39;00m\n\u001b[1;32m      3\u001b[0m y \u001b[38;5;241m=\u001b[39m \u001b[38;5;241m-\u001b[39m\u001b[38;5;241m1\u001b[39m\n\u001b[0;32m----> 5\u001b[0m \u001b[38;5;28;01mif\u001b[39;00m (y\u001b[38;5;241m>\u001b[39m\u001b[38;5;241m0\u001b[39m)  \u001b[38;5;241m&\u001b[39m (\u001b[43mmath\u001b[49m\u001b[38;5;241;43m.\u001b[39;49m\u001b[43msqrt\u001b[49m\u001b[43m(\u001b[49m\u001b[43my\u001b[49m\u001b[43m)\u001b[49m\u001b[38;5;241m>\u001b[39m\u001b[38;5;241m2\u001b[39m):\n\u001b[1;32m      6\u001b[0m     \u001b[38;5;28mprint\u001b[39m(\u001b[38;5;124m'\u001b[39m\u001b[38;5;124mBonjour\u001b[39m\u001b[38;5;124m'\u001b[39m)\n",
      "\u001b[0;31mValueError\u001b[0m: math domain error"
     ]
    }
   ],
   "source": [
    "import math\n",
    "\n",
    "y = -1\n",
    "\n",
    "if (y>0)  & (math.sqrt(y)>2):\n",
    "    print('Bonjour')\n"
   ]
  },
  {
   "cell_type": "code",
   "execution_count": 59,
   "id": "4d01167f",
   "metadata": {},
   "outputs": [],
   "source": [
    "math.sqrt(2)"
   ]
  },
  {
   "cell_type": "markdown",
   "id": "827290b8",
   "metadata": {},
   "source": [
    "## Concaténation d’arrays\n",
    "\n",
    "np.concatenate((t1, t2, ...])"
   ]
  },
  {
   "cell_type": "code",
   "execution_count": 63,
   "id": "5802f3ad",
   "metadata": {},
   "outputs": [
    {
     "data": {
      "text/plain": [
       "array([14,  2,  3,  4, 20, 13, 45])"
      ]
     },
     "execution_count": 63,
     "metadata": {},
     "output_type": "execute_result"
    }
   ],
   "source": [
    "np.concatenate((ta, tb))"
   ]
  },
  {
   "cell_type": "markdown",
   "id": "13f680b9",
   "metadata": {},
   "source": [
    "# Tableaux multidimensionels\n",
    "\n",
    "* fonction np.array\n",
    "* a.shape dimensions\n",
    "* Méthodes de calcul sur les arrays et l’argument axis (a.mean(axis=...))\n",
    "* np.zeros, np.ones, np.full"
   ]
  },
  {
   "cell_type": "code",
   "execution_count": 103,
   "id": "52e0b78c",
   "metadata": {},
   "outputs": [
    {
     "data": {
      "text/plain": [
       "5"
      ]
     },
     "execution_count": 103,
     "metadata": {},
     "output_type": "execute_result"
    }
   ],
   "source": [
    "l = [[1, 4, 6], [3, 5, 9], [3, 6, 8], [11, 56, 78]]\n",
    "l[1][1]"
   ]
  },
  {
   "cell_type": "code",
   "execution_count": 104,
   "id": "371bf461",
   "metadata": {},
   "outputs": [
    {
     "data": {
      "text/plain": [
       "array([[ 1,  4,  6],\n",
       "       [ 3,  5,  9],\n",
       "       [ 3,  6,  8],\n",
       "       [11, 56, 78]])"
      ]
     },
     "execution_count": 104,
     "metadata": {},
     "output_type": "execute_result"
    }
   ],
   "source": [
    "a = np.array(l)\n",
    "a"
   ]
  },
  {
   "cell_type": "code",
   "execution_count": 105,
   "id": "2da5153d",
   "metadata": {},
   "outputs": [
    {
     "data": {
      "text/plain": [
       "5"
      ]
     },
     "execution_count": 105,
     "metadata": {},
     "output_type": "execute_result"
    }
   ],
   "source": [
    "a[1, 1]"
   ]
  },
  {
   "cell_type": "code",
   "execution_count": 106,
   "id": "8492fb41",
   "metadata": {},
   "outputs": [
    {
     "data": {
      "text/plain": [
       "array([[4, 6],\n",
       "       [5, 9]])"
      ]
     },
     "execution_count": 106,
     "metadata": {},
     "output_type": "execute_result"
    }
   ],
   "source": [
    "a[0:2, 1:3]"
   ]
  },
  {
   "cell_type": "code",
   "execution_count": 107,
   "id": "53bdc9aa",
   "metadata": {},
   "outputs": [
    {
     "data": {
      "text/plain": [
       "array([[4, 6],\n",
       "       [5, 9]])"
      ]
     },
     "execution_count": 107,
     "metadata": {},
     "output_type": "execute_result"
    }
   ],
   "source": [
    "a[:2, 1:]"
   ]
  },
  {
   "cell_type": "code",
   "execution_count": 108,
   "id": "641af0e8",
   "metadata": {},
   "outputs": [
    {
     "name": "stdout",
     "output_type": "stream",
     "text": [
      "4\n",
      "6\n",
      "5\n",
      "9\n"
     ]
    }
   ],
   "source": [
    "for i in range(0, 2):\n",
    "    for j in range(1, 3):\n",
    "        print(a[i, j])"
   ]
  },
  {
   "cell_type": "code",
   "execution_count": 109,
   "id": "995ebafb",
   "metadata": {},
   "outputs": [
    {
     "data": {
      "text/plain": [
       "array([ 4,  5,  6, 56])"
      ]
     },
     "execution_count": 109,
     "metadata": {},
     "output_type": "execute_result"
    }
   ],
   "source": [
    "a[:, 1] # extraire un colonne"
   ]
  },
  {
   "cell_type": "code",
   "execution_count": null,
   "id": "873ed325",
   "metadata": {},
   "outputs": [],
   "source": []
  },
  {
   "cell_type": "code",
   "execution_count": 110,
   "id": "e393eb05",
   "metadata": {},
   "outputs": [
    {
     "data": {
      "text/plain": [
       "(4, 3)"
      ]
     },
     "execution_count": 110,
     "metadata": {},
     "output_type": "execute_result"
    }
   ],
   "source": [
    "a.shape"
   ]
  },
  {
   "cell_type": "code",
   "execution_count": 111,
   "id": "a9854dd0",
   "metadata": {},
   "outputs": [
    {
     "data": {
      "text/plain": [
       "array([[ 1,  4,  6],\n",
       "       [ 3,  5,  9],\n",
       "       [ 3,  6,  8],\n",
       "       [11, 56, 78]])"
      ]
     },
     "execution_count": 111,
     "metadata": {},
     "output_type": "execute_result"
    }
   ],
   "source": [
    "a"
   ]
  },
  {
   "cell_type": "code",
   "execution_count": 112,
   "id": "efc0ed90",
   "metadata": {},
   "outputs": [
    {
     "data": {
      "text/plain": [
       "array([ 4.5 , 17.75, 25.25])"
      ]
     },
     "execution_count": 112,
     "metadata": {},
     "output_type": "execute_result"
    }
   ],
   "source": [
    "a.mean(axis=0) # moyenne des colonnes"
   ]
  },
  {
   "cell_type": "code",
   "execution_count": 113,
   "id": "60c7a4a5",
   "metadata": {},
   "outputs": [
    {
     "data": {
      "text/plain": [
       "array([ 3.66666667,  5.66666667,  5.66666667, 48.33333333])"
      ]
     },
     "execution_count": 113,
     "metadata": {},
     "output_type": "execute_result"
    }
   ],
   "source": [
    "a.mean(axis=1) # moyenne des lignes"
   ]
  },
  {
   "cell_type": "code",
   "execution_count": null,
   "id": "cdc34eac",
   "metadata": {},
   "outputs": [],
   "source": []
  },
  {
   "cell_type": "markdown",
   "id": "115d9400",
   "metadata": {},
   "source": [
    "## Créer un tableau\n",
    "\n",
    "* np.array\n",
    "* np.zeros, np.ones\n",
    "* np.arange\n",
    "* np.linspace\n",
    "* np.random.rand, np.random.randint, np.random.normal\n",
    "\n",
    "A partir d'un tableau : \n",
    "* operations binaire (+, *, ...)\n",
    "* .copy()\n",
    "* fonction mathématiques : np.sin, ...\n"
   ]
  },
  {
   "cell_type": "code",
   "execution_count": 87,
   "id": "8098a7de",
   "metadata": {},
   "outputs": [
    {
     "data": {
      "text/plain": [
       "array([[0., 0., 0., 0., 0.],\n",
       "       [0., 0., 0., 0., 0.],\n",
       "       [0., 0., 0., 0., 0.]])"
      ]
     },
     "execution_count": 87,
     "metadata": {},
     "output_type": "execute_result"
    }
   ],
   "source": [
    "np.zeros((3, 5))"
   ]
  },
  {
   "cell_type": "code",
   "execution_count": 88,
   "id": "ff1671ff",
   "metadata": {},
   "outputs": [
    {
     "data": {
      "text/plain": [
       "array([[1., 1., 1., 1., 1.],\n",
       "       [1., 1., 1., 1., 1.],\n",
       "       [1., 1., 1., 1., 1.]])"
      ]
     },
     "execution_count": 88,
     "metadata": {},
     "output_type": "execute_result"
    }
   ],
   "source": [
    "np.ones((3, 5))"
   ]
  },
  {
   "cell_type": "code",
   "execution_count": 89,
   "id": "580455ea",
   "metadata": {},
   "outputs": [
    {
     "data": {
      "text/plain": [
       "array([0.28700458, 0.68622182, 0.26150458, 0.93015563])"
      ]
     },
     "execution_count": 89,
     "metadata": {},
     "output_type": "execute_result"
    }
   ],
   "source": [
    "np.random.rand(4)"
   ]
  },
  {
   "cell_type": "markdown",
   "id": "55594e18",
   "metadata": {},
   "source": [
    "## Chargement d’un array depuis un fichier"
   ]
  },
  {
   "cell_type": "code",
   "execution_count": 91,
   "id": "acae3150",
   "metadata": {},
   "outputs": [],
   "source": [
    "np.savetxt('fichier.txt', a)"
   ]
  },
  {
   "cell_type": "code",
   "execution_count": 94,
   "id": "5e79cfca",
   "metadata": {},
   "outputs": [
    {
     "name": "stderr",
     "output_type": "stream",
     "text": [
      "/tmp/ipykernel_2997982/1163599025.py:1: DeprecationWarning: loadtxt(): Parsing an integer via a float is deprecated.  To avoid this warning, you can:\n",
      "    * make sure the original data is stored as integers.\n",
      "    * use the `converters=` keyword argument.  If you only use\n",
      "      NumPy 1.23 or later, `converters=float` will normally work.\n",
      "    * Use `np.loadtxt(...).astype(np.int64)` parsing the file as\n",
      "      floating point and then convert it.  (On all NumPy versions.)\n",
      "  (Deprecated NumPy 1.23)\n",
      "  np.loadtxt('fichier.txt', dtype=int)\n"
     ]
    },
    {
     "data": {
      "text/plain": [
       "array([[ 1,  4,  6],\n",
       "       [ 3,  5,  9],\n",
       "       [ 3,  6,  8],\n",
       "       [11, 56, 78]])"
      ]
     },
     "execution_count": 94,
     "metadata": {},
     "output_type": "execute_result"
    }
   ],
   "source": [
    "np.loadtxt('fichier.txt', dtype=int)"
   ]
  },
  {
   "cell_type": "code",
   "execution_count": 93,
   "id": "7d69655b",
   "metadata": {},
   "outputs": [],
   "source": [
    "np.loadtxt?"
   ]
  },
  {
   "cell_type": "markdown",
   "id": "d3a2bf8d",
   "metadata": {},
   "source": [
    "# Masques booléens\n"
   ]
  },
  {
   "cell_type": "code",
   "execution_count": null,
   "id": "9d2b1e3a",
   "metadata": {},
   "outputs": [],
   "source": []
  },
  {
   "cell_type": "code",
   "execution_count": null,
   "id": "030a3a25",
   "metadata": {},
   "outputs": [],
   "source": []
  },
  {
   "cell_type": "markdown",
   "id": "285cc11b",
   "metadata": {},
   "source": [
    "# Algèbre linéaire\n",
    "\n",
    "* @ pour la multiplication de matrices\n",
    "* np.dot pour le produit scalaire\n",
    "* np.linalg.inv, np.linalg.det, ... pour le opérations usuelles sur les matrices\n",
    "\n"
   ]
  },
  {
   "cell_type": "code",
   "execution_count": 95,
   "id": "4322f69d",
   "metadata": {},
   "outputs": [
    {
     "data": {
      "text/plain": [
       "array([[ 1,  4,  6],\n",
       "       [ 3,  5,  9],\n",
       "       [ 3,  6,  8],\n",
       "       [11, 56, 78]])"
      ]
     },
     "execution_count": 95,
     "metadata": {},
     "output_type": "execute_result"
    }
   ],
   "source": [
    "a"
   ]
  },
  {
   "cell_type": "code",
   "execution_count": 97,
   "id": "4cf32374",
   "metadata": {},
   "outputs": [
    {
     "data": {
      "text/plain": [
       "array([[[1, 5],\n",
       "        [6, 7],\n",
       "        [1, 3]]])"
      ]
     },
     "execution_count": 97,
     "metadata": {},
     "output_type": "execute_result"
    }
   ],
   "source": [
    "b = np.array([[[1, 5], [6, 7], [1, 3]]])\n",
    "b"
   ]
  },
  {
   "cell_type": "code",
   "execution_count": 98,
   "id": "a250d5eb",
   "metadata": {},
   "outputs": [
    {
     "data": {
      "text/plain": [
       "array([[[ 31,  51],\n",
       "        [ 42,  77],\n",
       "        [ 47,  81],\n",
       "        [425, 681]]])"
      ]
     },
     "execution_count": 98,
     "metadata": {},
     "output_type": "execute_result"
    }
   ],
   "source": [
    "a@b # __matmul__"
   ]
  },
  {
   "cell_type": "code",
   "execution_count": 99,
   "id": "00b20251",
   "metadata": {},
   "outputs": [
    {
     "data": {
      "text/plain": [
       "1.526482653251751"
      ]
     },
     "execution_count": 99,
     "metadata": {},
     "output_type": "execute_result"
    }
   ],
   "source": [
    "ta = np.random.rand(5)\n",
    "tb = np.random.rand(5)\n",
    "np.dot(ta, tb)"
   ]
  },
  {
   "cell_type": "code",
   "execution_count": 100,
   "id": "2b09de26",
   "metadata": {},
   "outputs": [
    {
     "data": {
      "text/plain": [
       "array([[[-0.30434783,  0.2173913 ],\n",
       "        [ 0.26086957, -0.04347826]]])"
      ]
     },
     "execution_count": 100,
     "metadata": {},
     "output_type": "execute_result"
    }
   ],
   "source": [
    "c = np.array([[[1, 5], [6, 7]]])\n",
    "np.linalg.inv(c)"
   ]
  },
  {
   "cell_type": "code",
   "execution_count": 101,
   "id": "9c31e401",
   "metadata": {},
   "outputs": [
    {
     "data": {
      "text/plain": [
       "array([-23.])"
      ]
     },
     "execution_count": 101,
     "metadata": {},
     "output_type": "execute_result"
    }
   ],
   "source": [
    "np.linalg.det(c)"
   ]
  },
  {
   "cell_type": "markdown",
   "id": "4efcba6a",
   "metadata": {},
   "source": [
    "# Exercices\n",
    "\n",
    "## Jour le plus chaud\n",
    "\n",
    "Le fichier temperature.dat (https://python.sdv.u-paris.fr/data-files/temperatures.dat) contient un relevé de quatre températures pour chaque jour de la semaine\n",
    "\n",
    "À l’aide du module NumPy, on souhaite déterminer quel est le jour de la semaine le plus chaud. Pour cela nous vous proposons les étapes suivantes :\n",
    "1. Récupérez le nom des jours de la semaine depuis le fichier et stockez-les dans une liste days.\n",
    "2. Récupérez les valeurs de températures depuis le fichier et stockez-les dans un array 2D. La fonction np.loadtxt et son argument usecols vous seront utiles.\n",
    "3. Parcourez chaque ligne de la matrice, calculez la température moyenne de chaque jour puis stockez-la dans une liste mean_temps.\n",
    "4. À l’aide des deux listes days et mean_temps, déterminez et aﬀichez le jour le plus chaud.\n",
    "\n",
    "\n"
   ]
  },
  {
   "cell_type": "code",
   "execution_count": null,
   "id": "3f00c2a5",
   "metadata": {},
   "outputs": [],
   "source": []
  },
  {
   "cell_type": "code",
   "execution_count": null,
   "id": "e750793e",
   "metadata": {},
   "outputs": [],
   "source": []
  },
  {
   "cell_type": "markdown",
   "id": "496856ee",
   "metadata": {},
   "source": [
    "## Calcul Monte-Carlo de la surface d’un disque\n",
    "\n",
    "La fonction np.random.rand permet de créer une distribution uniforme de points entre 0 et 1.\n",
    "\n",
    "* Créer deux tableaux X et Y de de N variables uniforméments réparties entre -1 et 1. Pour cela on utilisera le fait que si a est entre 0 et 1, alors $2a - 1$ est entre -1 et 1.\n",
    "\n",
    "* Créer un tableau R contenant la longueur de chaque rayon.\n",
    "\n",
    "* Créer un tableau de booléen indiquant les points dans un cercle de rayon 1. \n",
    "\n",
    "* Pour calculer le nombre de valeur vraie d'un tableau de booléens, on peut utiliser la fonction sum qui va remplacer les False par 0 et les True par 1. Calculer la proportion de points dans le cercle.\n",
    "\n",
    "* Estimer une valeur de pi à partir de l'estimation de la probabilité d'être dans le cercle en prenant N grand.\n",
    "\n",
    "* De la même façon, évaluer le volume d’une sphère en dimension 13"
   ]
  },
  {
   "cell_type": "code",
   "execution_count": 60,
   "id": "7e328a65",
   "metadata": {},
   "outputs": [
    {
     "data": {
      "text/plain": [
       "array([0.300532  , 0.33887762, 0.13480932, 0.68946887, 0.57944208,\n",
       "       0.64672863, 0.38340429, 0.25091658, 0.39898426, 0.86293429])"
      ]
     },
     "execution_count": 60,
     "metadata": {},
     "output_type": "execute_result"
    }
   ],
   "source": [
    "np.random.rand(10)"
   ]
  },
  {
   "cell_type": "code",
   "execution_count": 13,
   "id": "2abc793e",
   "metadata": {},
   "outputs": [
    {
     "name": "stdout",
     "output_type": "stream",
     "text": [
      "759\n",
      "3.036\n"
     ]
    },
    {
     "data": {
      "image/png": "[encoded data removed]",
      "text/plain": [
       "<Figure size 640x480 with 1 Axes>"
      ]
     },
     "metadata": {},
     "output_type": "display_data"
    }
   ],
   "source": [
    "N = 1000\n",
    "X = np.random.rand(N) * 2 - 1\n",
    "Y = np.random.rand(N) * 2 - 1\n",
    "import matplotlib.pyplot as plt\n",
    "R = np.sqrt(X**2 + Y**2)\n",
    "masque = R<=1\n",
    "\n",
    "print(np.sum(masque))\n",
    "print(np.sum(masque)/ N * 4)\n",
    "\n",
    "\n",
    "\n",
    "\n",
    "\n",
    "plt.scatter(X, Y)\n",
    "plt.scatter(X[masque], Y[masque])\n",
    "plt.gca().set_aspect('equal')"
   ]
  },
  {
   "cell_type": "code",
   "execution_count": 15,
   "id": "2a8b764b",
   "metadata": {},
   "outputs": [
    {
     "name": "stdout",
     "output_type": "stream",
     "text": [
      "78532451\n",
      "3.14129804\n"
     ]
    }
   ],
   "source": [
    "N = 100000000\n",
    "X = np.random.rand(N) * 2 - 1\n",
    "Y = np.random.rand(N) * 2 - 1\n",
    "import matplotlib.pyplot as plt\n",
    "R = np.sqrt(X**2 + Y**2)\n",
    "masque = R<=1\n",
    "\n",
    "print(np.sum(masque))\n",
    "print(np.sum(masque)/ N * 4)"
   ]
  },
  {
   "cell_type": "markdown",
   "id": "42b436d7",
   "metadata": {},
   "source": [
    "## Calcul de la moyenne\n",
    "\n",
    "Un tableau numpy contient les notes d’une classe. Chaque ligne correspond à un élève et chaque colone à un examen."
   ]
  },
  {
   "cell_type": "code",
   "execution_count": 3,
   "id": "6e3c7abf",
   "metadata": {},
   "outputs": [],
   "source": [
    "import numpy as np\n",
    "\n",
    "N_eleves = 35\n",
    "N_examens = 3\n",
    "\n",
    "notes = np.random.rand(N_eleves, N_examens)*20"
   ]
  },
  {
   "cell_type": "markdown",
   "id": "2208763b",
   "metadata": {},
   "source": [
    "* Calculer la moyenne de chaque élève. Calculer la moyenne pour chaque examen.\n",
    "* Calculer la moyenne de chaque élève, sachant que les coeficients pour les 3 examens sont de 1, 3 et 2."
   ]
  },
  {
   "cell_type": "code",
   "execution_count": null,
   "id": "4f126796",
   "metadata": {},
   "outputs": [],
   "source": []
  }
 ],
 "metadata": {
  "kernelspec": {
   "display_name": "Odeon 3.10",
   "language": "python",
   "name": "odeon310"
  },
  "language_info": {
   "codemirror_mode": {
    "name": "ipython",
    "version": 3
   },
   "file_extension": ".py",
   "mimetype": "text/x-python",
   "name": "python",
   "nbconvert_exporter": "python",
   "pygments_lexer": "ipython3",
   "version": "3.10.12"
  },
  "varInspector": {
   "cols": {
    "lenName": 16,
    "lenType": 16,
    "lenVar": 40
   },
   "kernels_config": {
    "python": {
     "delete_cmd_postfix": "",
     "delete_cmd_prefix": "del ",
     "library": "var_list.py",
     "varRefreshCmd": "print(var_dic_list())"
    },
    "r": {
     "delete_cmd_postfix": ") ",
     "delete_cmd_prefix": "rm(",
     "library": "var_list.r",
     "varRefreshCmd": "cat(var_dic_list()) "
    }
   },
   "types_to_exclude": [
    "module",
    "function",
    "builtin_function_or_method",
    "instance",
    "_Feature"
   ],
   "window_display": false
  }
 },
 "nbformat": 4,
 "nbformat_minor": 5
}
